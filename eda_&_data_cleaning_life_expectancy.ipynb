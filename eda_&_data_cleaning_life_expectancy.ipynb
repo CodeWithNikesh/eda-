{
  "nbformat": 4,
  "nbformat_minor": 0,
  "metadata": {
    "colab": {
      "private_outputs": true,
      "provenance": [],
      "authorship_tag": "ABX9TyOxHaGCjydyO/WBLoWby+xI",
      "include_colab_link": true
    },
    "kernelspec": {
      "name": "python3",
      "display_name": "Python 3"
    },
    "language_info": {
      "name": "python"
    }
  },
  "cells": [
    {
      "cell_type": "markdown",
      "metadata": {
        "id": "view-in-github",
        "colab_type": "text"
      },
      "source": [
        "<a href=\"https://colab.research.google.com/github/nikesh11xx/eda-/blob/main/eda_%26_data_cleaning_life_expectancy.ipynb\" target=\"_parent\"><img src=\"https://colab.research.google.com/assets/colab-badge.svg\" alt=\"Open In Colab\"/></a>"
      ]
    },
    {
      "cell_type": "markdown",
      "source": [
        "## import neccessary library"
      ],
      "metadata": {
        "id": "Xd3bkNFzxzZJ"
      }
    },
    {
      "cell_type": "code",
      "execution_count": null,
      "metadata": {
        "id": "-thl0j_PwDCw"
      },
      "outputs": [],
      "source": [
        "import numpy as np\n",
        "import pandas as pd\n",
        "\n",
        "import matplotlib.pyplot as plt\n",
        "import seaborn as sns\n"
      ]
    },
    {
      "cell_type": "markdown",
      "source": [
        "##Loading dataset"
      ],
      "metadata": {
        "id": "YIw4twaPyJ31"
      }
    },
    {
      "cell_type": "code",
      "source": [
        "df = pd.read_csv('/content/Life Expectancy Data.csv')"
      ],
      "metadata": {
        "id": "oeZrmwJ6yMxH"
      },
      "execution_count": null,
      "outputs": []
    },
    {
      "cell_type": "code",
      "source": [
        "# head\n",
        "df.head(5)"
      ],
      "metadata": {
        "id": "Rn2YNCDpyRGN"
      },
      "execution_count": null,
      "outputs": []
    },
    {
      "cell_type": "code",
      "source": [
        "# tail\n",
        "df.tail(5)"
      ],
      "metadata": {
        "id": "gkwZ9mlyyWWx"
      },
      "execution_count": null,
      "outputs": []
    },
    {
      "cell_type": "code",
      "source": [
        "# sample\n",
        "df.sample(5)"
      ],
      "metadata": {
        "id": "UMaZEwkpyaK6"
      },
      "execution_count": null,
      "outputs": []
    },
    {
      "cell_type": "markdown",
      "source": [
        "## sanity check of data"
      ],
      "metadata": {
        "id": "EpDBSBOyyhjm"
      }
    },
    {
      "cell_type": "code",
      "source": [
        "r,c = df.shape\n",
        "print(f'There are {r} rows and {c} columns')"
      ],
      "metadata": {
        "id": "gDr3L1oLyk5H"
      },
      "execution_count": null,
      "outputs": []
    },
    {
      "cell_type": "code",
      "source": [
        "# info\n",
        "df.info()"
      ],
      "metadata": {
        "id": "KaevrKApzKWf"
      },
      "execution_count": null,
      "outputs": []
    },
    {
      "cell_type": "code",
      "source": [
        "# remove the extra space in the begning and in the end of the columns name\n",
        "\n",
        "df.columns = df.columns.str.strip()\n"
      ],
      "metadata": {
        "id": "pHwZpmcEaCzJ"
      },
      "execution_count": null,
      "outputs": []
    },
    {
      "cell_type": "code",
      "source": [
        "df.dtypes"
      ],
      "metadata": {
        "id": "iXzIMYRw3wf2"
      },
      "execution_count": null,
      "outputs": []
    },
    {
      "cell_type": "code",
      "source": [
        "# find missing values\n",
        "df.isnull().sum()"
      ],
      "metadata": {
        "id": "DRIlhO7hzbg7"
      },
      "execution_count": null,
      "outputs": []
    },
    {
      "cell_type": "code",
      "source": [
        "df.isnull().sum()/df.shape[0]*100"
      ],
      "metadata": {
        "id": "8cqwQedYz5u7"
      },
      "execution_count": null,
      "outputs": []
    },
    {
      "cell_type": "code",
      "source": [
        "# duplicates\n",
        "df.duplicated().sum()"
      ],
      "metadata": {
        "id": "Fmf_nvx00uNM"
      },
      "execution_count": null,
      "outputs": []
    },
    {
      "cell_type": "code",
      "source": [
        "# identifying\n",
        "\n",
        "for i in df.select_dtypes(include='object').columns:\n",
        "  print(df[i].value_counts())\n",
        "  print('-'*30)"
      ],
      "metadata": {
        "id": "mH3iod3hANjK"
      },
      "execution_count": null,
      "outputs": []
    },
    {
      "cell_type": "markdown",
      "source": [
        "## Exploratory Data Analysis (EDA)"
      ],
      "metadata": {
        "id": "RGTVPGxJBb4A"
      }
    },
    {
      "cell_type": "code",
      "source": [
        "# describe\n",
        "df.describe()"
      ],
      "metadata": {
        "id": "C3nE1bgHBimI"
      },
      "execution_count": null,
      "outputs": []
    },
    {
      "cell_type": "code",
      "source": [
        "# objects\n",
        "df.describe(include='object')"
      ],
      "metadata": {
        "id": "X0g5T43_B6z7"
      },
      "execution_count": null,
      "outputs": []
    },
    {
      "cell_type": "code",
      "source": [
        "#  histogram to understand the distribution\n",
        "plt.figure(figsize=(5,4))\n",
        "for i in df.select_dtypes(include=np.number).columns:\n",
        "  sns.histplot(data=df,x=i)\n",
        "  plt.title(f'histogram of {i}')\n",
        "  plt.show()"
      ],
      "metadata": {
        "id": "ofAG6Jt5CEjb"
      },
      "execution_count": null,
      "outputs": []
    },
    {
      "cell_type": "code",
      "source": [
        "# boxplot to identify outliers\n",
        "plt.figure(figsize=(4,4))\n",
        "for i in df.select_dtypes(include=np.number).columns:\n",
        "  sns.boxplot(data=df,x=i)\n",
        "  plt.title(f'boxplot of {i}')\n",
        "  plt.show()"
      ],
      "metadata": {
        "id": "W0QCxSooFLST"
      },
      "execution_count": null,
      "outputs": []
    },
    {
      "cell_type": "markdown",
      "source": [
        "conclusion\n",
        "\n",
        "  -\n",
        "\n",
        "* **Life expectancy:** The distribution of life expectancy is roughly normal, with a slight skew towards the lower values. There are no significant outliers.\n",
        "* **Adult Mortality:** The distribution of adult mortality is skewed towards the lower values, with a long tail towards the higher values. There are a few outliers at the higher end of the distribution.\n",
        "* **infant deaths:** The distribution of infant deaths is skewed towards the lower values, with a long tail towards the higher values. There are a few outliers at the higher end of the distribution.\n",
        "* **Alcohol:** The distribution of alcohol consumption is skewed towards the lower values, with a long tail towards the higher values. There are a few outliers at the higher end of the distribution.\n",
        "* **percentage expenditure:** The distribution of percentage expenditure is skewed towards the lower values, with a long tail towards the higher values. There are a few outliers at the higher end of the distribution.\n",
        "* **Hepatitis B:** The distribution of hepatitis B immunization coverage is roughly normal, with a slight skew towards the lower values. There are no significant outliers.\n",
        "* **Measles:** The distribution of measles immunization coverage is roughly normal, with a slight skew towards the lower values. There are no significant outliers.\n",
        "* **BMI:** The distribution of BMI is roughly normal, with a slight skew towards the higher values. There are a few outliers at the higher end of the distribution.\n",
        "* **under-five deaths:** The distribution of under-five deaths is skewed towards the lower values, with a long tail towards the higher values. There are a few outliers at the higher end of the distribution.\n",
        "* **Polio:** The distribution of polio immunization coverage is roughly normal, with a slight skew towards the lower values. There are no significant outliers.\n",
        "* **Total expenditure:** The distribution of total expenditure is skewed towards the lower values, with a long tail towards the higher values. There are a few outliers at the higher end of the distribution.\n",
        "* **Diphtheria:** The distribution of diphtheria immunization coverage is roughly normal, with a slight skew towards the lower values. There are no significant outliers.\n",
        "* **HIV/AIDS:** The distribution of HIV/AIDS prevalence is skewed towards the lower values, with a long tail towards the higher values. There are a few outliers at the higher end of the distribution.\n",
        "* **GDP:** The distribution of GDP is skewed towards the lower values, with a long tail towards the higher values. There are a few outliers at the higher end of the distribution.\n",
        "* **Population:** The distribution of population is skewed towards the lower values, with a long tail towards the higher values. There are a few outliers at the higher end of the distribution.\n",
        "* **thinness  1-19 years:** The distribution of thinness among 1-19 year olds is skewed towards the lower values, with a long tail towards the higher values. There are a few outliers at the higher end of the distribution.\n",
        "* **thinness 5-9 years:** The distribution of thinness among 5-9 year olds is skewed towards the lower values, with a long tail towards the higher values. There are a few outliers at the higher end of the distribution."
      ],
      "metadata": {
        "id": "-I_4_-_AObuc"
      }
    },
    {
      "cell_type": "markdown",
      "source": [
        "scatterplot\n",
        "  - to understand the relationship"
      ],
      "metadata": {
        "id": "zkaxeS5UChqZ"
      }
    },
    {
      "cell_type": "code",
      "source": [
        "for i in ['Year', 'Adult Mortality', 'infant deaths',\n",
        "       'Alcohol', 'percentage expenditure', 'Hepatitis B', 'Measles', 'BMI',\n",
        "       'under-five deaths', 'Polio', 'Total expenditure', 'Diphtheria',\n",
        "       'HIV/AIDS', 'GDP', 'Population', 'thinness  1-19 years',\n",
        "       'thinness 5-9 years', 'Income composition of resources', 'Schooling']:\n",
        "       sns.scatterplot(data = df,x=i , y='Life expectancy')\n",
        "       plt.title(f'relationship between life expectancy and {i} columns')\n",
        "       plt.show()"
      ],
      "metadata": {
        "id": "7NqGRRjbJ6IM"
      },
      "execution_count": null,
      "outputs": []
    },
    {
      "cell_type": "markdown",
      "source": [
        "conclusion\n",
        "\n",
        "\n",
        "**Year:**\n",
        "\n",
        "- There is a positive correlation between year and life expectancy.\n",
        "- Life expectancy has increased over time.\n",
        "\n",
        "**Adult Mortality:**\n",
        "\n",
        "- There is a negative correlation between adult mortality and life expectancy.\n",
        "- Countries with higher adult mortality rates tend to have lower life expectancies.\n",
        "\n",
        "**Infant Deaths:**\n",
        "\n",
        "- There is a negative correlation between infant deaths and life expectancy.\n",
        "- Countries with higher infant mortality rates tend to have lower life expectancies.\n",
        "\n",
        "**Alcohol:**\n",
        "\n",
        "- There is a positive correlation between alcohol consumption and life expectancy.\n",
        "- Countries with higher alcohol consumption rates tend to have higher life expectancies.\n",
        "\n",
        "**Percentage Expenditure:**\n",
        "\n",
        "- There is a positive correlation between percentage expenditure on health and life expectancy.\n",
        "- Countries that spend more on health care tend to have higher life expectancies.\n",
        "\n",
        "**Hepatitis B:**\n",
        "\n",
        "- There is a positive correlation between Hepatitis B immunization rates and life expectancy.\n",
        "- Countries with higher Hepatitis B immunization rates tend to have higher life expectancies.\n",
        "\n",
        "**Measles:**\n",
        "\n",
        "- There is a negative correlation between measles incidence rates and life expectancy.\n",
        "- Countries with higher measles incidence rates tend to have lower life expectancies.\n",
        "\n",
        "**BMI:**\n",
        "\n",
        "- There is a positive correlation between BMI and life expectancy.\n",
        "- Countries with higher BMI rates tend to have higher life expectancies.\n",
        "\n",
        "**Under-Five Deaths:**\n",
        "\n",
        "- There is a negative correlation between under-five mortality rates and life expectancy.\n",
        "- Countries with higher under-five mortality rates tend to have lower life expectancies.\n",
        "\n",
        "**Polio:**\n",
        "\n",
        "- There is a positive correlation between polio immunization rates and life expectancy.\n",
        "- Countries with higher polio immunization rates tend to have higher life expectancies.\n",
        "\n",
        "**Total Expenditure:**\n",
        "\n",
        "- There is a positive correlation between total health expenditure and life expectancy.\n",
        "- Countries that spend more on health care tend to have higher life expectancies.\n",
        "\n",
        "**Diphtheria:**\n",
        "\n",
        "- There is a positive correlation between diphtheria immunization rates and life expectancy.\n",
        "- Countries with higher diphtheria immunization rates tend to have higher life expectancies.\n",
        "\n",
        "**HIV/AIDS:**\n",
        "\n",
        "- There is a negative correlation between HIV/AIDS prevalence and life expectancy.\n",
        "- Countries with higher HIV/AIDS prevalence rates tend to have lower life expectancies.\n",
        "\n",
        "**GDP:**\n",
        "\n",
        "- There is a positive correlation between GDP per capita and life expectancy.\n",
        "- Countries with higher GDP per capita tend to have higher life expectancies.\n",
        "\n",
        "**Population:**\n",
        "\n",
        "- There is a negative correlation between population size and life expectancy.\n",
        "- Countries with larger populations tend to have lower life expectancies.\n",
        "\n",
        "**Thinness 1-19 Years:**\n",
        "\n",
        "- There is a negative correlation between the prevalence of thinness among children aged 1-19 and life expectancy.\n",
        "- Countries with higher rates of thinness among children tend to have lower life expectancies.\n",
        "\n",
        "**Thinness 5-9 Years:**\n",
        "\n",
        "- There is a negative correlation between the prevalence of thinness among children aged 5-9 and life expectancy.\n",
        "- Countries with higher rates of thinness among children tend to have lower life expectancies.\n",
        "\n",
        "**Income Composition of Resources:**\n",
        "\n",
        "- There is a positive correlation between the income composition of resources and life expectancy.\n",
        "- Countries with a higher proportion of income from non-agricultural sources tend to have higher life expectancies.\n",
        "\n",
        "**Schooling:**\n",
        "\n",
        "- There is a positive correlation between the average years of schooling and life expectancy.\n",
        "- Countries with higher levels of education tend to have higher life expectancies."
      ],
      "metadata": {
        "id": "cV-gUo46MSuP"
      }
    },
    {
      "cell_type": "code",
      "source": [
        "# extract numerical columns and make new dataframe with it\n",
        "# select only numerical columns\n",
        "df_num = df.select_dtypes(include=np.number)\n",
        "\n",
        "\n"
      ],
      "metadata": {
        "id": "5OqHDuCwcHfE"
      },
      "execution_count": null,
      "outputs": []
    },
    {
      "cell_type": "code",
      "source": [
        "# corellation between life expectancy columns to all numerical columns\n",
        "\n",
        "corr_matrix = df_num.corr()\n",
        "print(corr_matrix['Life expectancy'].sort_values(ascending=False))\n"
      ],
      "metadata": {
        "id": "2bv_YAQWbjys"
      },
      "execution_count": null,
      "outputs": []
    },
    {
      "cell_type": "code",
      "source": [
        "# correlation with heatmapto  interpret the relation and multicolliniarity\n",
        "df.select_dtypes(include=np.number).corr()"
      ],
      "metadata": {
        "id": "VGQDleQNMIYL"
      },
      "execution_count": null,
      "outputs": []
    },
    {
      "cell_type": "code",
      "source": [
        "s = df.select_dtypes(include='number').corr()"
      ],
      "metadata": {
        "id": "uQ78f1t2N3Mh"
      },
      "execution_count": null,
      "outputs": []
    },
    {
      "cell_type": "code",
      "source": [
        "plt.figure(figsize=(15,15))\n",
        "sns.heatmap(s,annot=True)"
      ],
      "metadata": {
        "id": "GffvcTkHNCqZ"
      },
      "execution_count": null,
      "outputs": []
    },
    {
      "cell_type": "markdown",
      "source": [
        "##missing value treatment"
      ],
      "metadata": {
        "id": "tzz_LLy_QWkB"
      }
    },
    {
      "cell_type": "code",
      "source": [
        "for i in ['BMI','Polio','Income composition of resources']:\n",
        "  df[i].fillna(df[i].median(),inplace=True)"
      ],
      "metadata": {
        "id": "6tmjIAKeX8wU"
      },
      "execution_count": null,
      "outputs": []
    },
    {
      "cell_type": "code",
      "source": [
        "from sklearn.impute import KNNImputer\n",
        "impute= KNNImputer()"
      ],
      "metadata": {
        "id": "d4iFKpQGdaOV"
      },
      "execution_count": null,
      "outputs": []
    },
    {
      "cell_type": "code",
      "source": [
        "for i in df.select_dtypes(include=np.number).columns:\n",
        "  df[i] = impute.fit_transform(df[[i]])"
      ],
      "metadata": {
        "id": "XiMBsd3ndxb8"
      },
      "execution_count": null,
      "outputs": []
    },
    {
      "cell_type": "code",
      "source": [
        "df.isnull().sum()"
      ],
      "metadata": {
        "id": "iyhtNYi9QVRw"
      },
      "execution_count": null,
      "outputs": []
    },
    {
      "cell_type": "markdown",
      "source": [
        "##outlier treatments"
      ],
      "metadata": {
        "id": "gB5G60k6ebUK"
      }
    },
    {
      "cell_type": "code",
      "source": [
        "# prompt: write a function to remove outlier for for continous columns\n",
        "\n",
        "def remove_outlier(df, col_list):\n",
        "  for col in col_list:\n",
        "    Q1 = df[col].quantile(0.25)\n",
        "    Q3 = df[col].quantile(0.75)\n",
        "    IQR = Q3 - Q1\n",
        "    lower_bound = Q1 - (1.5 * IQR)\n",
        "    upper_bound = Q3 + (1.5 * IQR)\n",
        "    df = df[(df[col] >= lower_bound) & (df[col] <= upper_bound)]\n",
        "  return df\n"
      ],
      "metadata": {
        "id": "rmE6PRwVe1ca"
      },
      "execution_count": null,
      "outputs": []
    },
    {
      "cell_type": "code",
      "source": [
        "def remove_outlier(col):\n",
        "  q1,q3 = np.percentile(col,[25,75])\n",
        "  iqr = q3-q1\n",
        "  lw = q1 - 1.5 *iqr\n",
        "  uw = q3 +1.5 *iqr\n",
        "  return lw,uw\n"
      ],
      "metadata": {
        "id": "WyVg1HwuQ4oi"
      },
      "execution_count": null,
      "outputs": []
    },
    {
      "cell_type": "code",
      "source": [
        "remove_outlier(df['GDP'])"
      ],
      "metadata": {
        "id": "qWxBw8rIf7DI"
      },
      "execution_count": null,
      "outputs": []
    },
    {
      "cell_type": "code",
      "source": [
        "for i in ['GDP','Total expenditure','thinness  1-19 years',\n",
        "       'thinness 5-9 years']:\n",
        "       lw,uw = remove_outlier(df[i])\n",
        "       df[i] = np.where(df[i] < lw,lw,df[i])\n",
        "       df[i] =np.where(df[i]> uw,uw,df[i])\n"
      ],
      "metadata": {
        "id": "mp0qDPIMgNKs"
      },
      "execution_count": null,
      "outputs": []
    },
    {
      "cell_type": "code",
      "source": [
        "for i in ['GDP','Total expenditure','thinness  1-19 years',\n",
        "       'thinness 5-9 years']:\n",
        "       sns.boxplot(df[i])\n",
        "       plt.show()"
      ],
      "metadata": {
        "id": "Bj_wcWz3gcoO"
      },
      "execution_count": null,
      "outputs": []
    },
    {
      "cell_type": "markdown",
      "source": [
        "## encoding of data"
      ],
      "metadata": {
        "id": "_liPVEqCiPWb"
      }
    }
  ]
}