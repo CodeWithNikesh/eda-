{
  "nbformat": 4,
  "nbformat_minor": 0,
  "metadata": {
    "colab": {
      "private_outputs": true,
      "provenance": [],
      "authorship_tag": "ABX9TyNnQBth3RItSLYre0+N3JQv",
      "include_colab_link": true
    },
    "kernelspec": {
      "name": "python3",
      "display_name": "Python 3"
    },
    "language_info": {
      "name": "python"
    }
  },
  "cells": [
    {
      "cell_type": "markdown",
      "metadata": {
        "id": "view-in-github",
        "colab_type": "text"
      },
      "source": [
        "<a href=\"https://colab.research.google.com/github/nikesh11xx/eda-/blob/main/movie_recomander_system.ipynb\" target=\"_parent\"><img src=\"https://colab.research.google.com/assets/colab-badge.svg\" alt=\"Open In Colab\"/></a>"
      ]
    },
    {
      "cell_type": "code",
      "execution_count": null,
      "metadata": {
        "id": "BaVR09HtUnR6"
      },
      "outputs": [],
      "source": [
        "import numpy as np\n",
        "import pandas as pd\n",
        "import matplotlib.pyplot as plt\n",
        "import seaborn as sns"
      ]
    },
    {
      "cell_type": "code",
      "source": [
        "#  loading dataset\n",
        "movies = pd.read_csv('/content/tmdb_5000_movies.csv')\n",
        "credit = pd.read_csv('/content/tmdb_5000_credits.csv')"
      ],
      "metadata": {
        "id": "iTJLE4N7QEqv"
      },
      "execution_count": null,
      "outputs": []
    },
    {
      "cell_type": "markdown",
      "source": [
        "#Basic information from the credit and movie dataset\n"
      ],
      "metadata": {
        "id": "GZaQnsETSmYw"
      }
    },
    {
      "cell_type": "code",
      "source": [
        "movies.head(1)"
      ],
      "metadata": {
        "id": "h-y-5laLR5Dy"
      },
      "execution_count": null,
      "outputs": []
    },
    {
      "cell_type": "code",
      "source": [
        "movies.shape"
      ],
      "metadata": {
        "id": "SpGl4GV8U_qe"
      },
      "execution_count": null,
      "outputs": []
    },
    {
      "cell_type": "code",
      "source": [
        "credit.shape"
      ],
      "metadata": {
        "id": "IpIge_EOVEpf"
      },
      "execution_count": null,
      "outputs": []
    },
    {
      "cell_type": "code",
      "source": [
        "credit.head(1)"
      ],
      "metadata": {
        "id": "fhU0uzNDSvu4"
      },
      "execution_count": null,
      "outputs": []
    },
    {
      "cell_type": "code",
      "source": [
        "credit['cast'].values\n",
        "#"
      ],
      "metadata": {
        "id": "Zs4D4P1vS4b-"
      },
      "execution_count": null,
      "outputs": []
    },
    {
      "cell_type": "markdown",
      "source": [
        "# processing data"
      ],
      "metadata": {
        "id": "xAQh1hsiUj8-"
      }
    },
    {
      "cell_type": "code",
      "source": [
        "# joing both data set\n",
        "movies = movies.merge(credit,on = 'title')"
      ],
      "metadata": {
        "id": "0sqN0L2qUo_m"
      },
      "execution_count": null,
      "outputs": []
    },
    {
      "cell_type": "code",
      "source": [
        "movies.shape"
      ],
      "metadata": {
        "id": "W1Jv8aLYVTQI"
      },
      "execution_count": null,
      "outputs": []
    },
    {
      "cell_type": "code",
      "source": [
        "movies.info()"
      ],
      "metadata": {
        "id": "v1cWaKphV5dr"
      },
      "execution_count": null,
      "outputs": []
    },
    {
      "cell_type": "code",
      "source": [
        "# creating a list of columns\n",
        "# genres\n",
        "# id\n",
        "# keywords\n",
        "# title\n",
        "# overview\n",
        "# cast\n",
        "# crew"
      ],
      "metadata": {
        "id": "6nvLY1DhVs1S"
      },
      "execution_count": null,
      "outputs": []
    },
    {
      "cell_type": "code",
      "source": [
        "# extracting only a required columns\n",
        "\n",
        "movies = movies[['genres','id','keywords','title','overview','cast','crew']]"
      ],
      "metadata": {
        "id": "eVXHwk1BZ7Z_"
      },
      "execution_count": null,
      "outputs": []
    },
    {
      "cell_type": "markdown",
      "source": [
        "cheking null and duplicates value\n",
        "\n",
        "- 3 values are null in overview columns\n",
        "- there is zero duplicate values in dataset"
      ],
      "metadata": {
        "id": "lwDGsKJ6atOF"
      }
    },
    {
      "cell_type": "code",
      "source": [
        "# cheking null/missing values\n",
        "missing_values = movies.isnull().sum()\n",
        "duplicate = movies.duplicated().sum()\n",
        "print(missing_values)\n",
        "print('')\n",
        "print(f'There are {duplicate} duplicate values in dataset')"
      ],
      "metadata": {
        "id": "Lk4YFTVJapxf"
      },
      "execution_count": null,
      "outputs": []
    },
    {
      "cell_type": "code",
      "source": [
        "# removing all null value from dataset\n",
        "movies.dropna(inplace=True)"
      ],
      "metadata": {
        "id": "AJKyGLUfdSri"
      },
      "execution_count": null,
      "outputs": []
    },
    {
      "cell_type": "code",
      "source": [
        "# re-checking missing values\n",
        "movies.isnull().sum()"
      ],
      "metadata": {
        "id": "zL-7-okhdj3o"
      },
      "execution_count": null,
      "outputs": []
    },
    {
      "cell_type": "code",
      "source": [
        "movies.iloc[0].genres\n",
        "# its a list of dict\n",
        "# values are inside a dict and dict are inside a list and list is inside a string\n"
      ],
      "metadata": {
        "id": "EetA9whNd84p"
      },
      "execution_count": null,
      "outputs": []
    },
    {
      "cell_type": "code",
      "source": [
        "# importing a module ast to remove string\n",
        "import ast\n",
        "# creating a helper function\n",
        "\n",
        "def convert(obj):\n",
        "  l = []\n",
        "  for i in ast.literal_eval(obj):\n",
        "    l.append(i['name'])\n",
        "  return l"
      ],
      "metadata": {
        "id": "nByYamU2fIrv"
      },
      "execution_count": null,
      "outputs": []
    },
    {
      "cell_type": "code",
      "source": [
        "movies['genres'] = movies['genres'].apply(convert)"
      ],
      "metadata": {
        "id": "zYZeIKlIg0Le"
      },
      "execution_count": null,
      "outputs": []
    },
    {
      "cell_type": "code",
      "source": [
        "movies['keywords'] = movies['keywords'].apply(convert)"
      ],
      "metadata": {
        "id": "758XGBgOhKyd"
      },
      "execution_count": null,
      "outputs": []
    },
    {
      "cell_type": "code",
      "source": [
        "# creating a helper function to extract actors name\n",
        "\n",
        "def cast_name(obj):\n",
        "  l = []\n",
        "  count = 1\n",
        "  for i in ast.literal_eval(obj):\n",
        "    if count != 5:\n",
        "      l.append(i['name'])\n",
        "      count +=1\n",
        "    else:\n",
        "      break\n",
        "  return l"
      ],
      "metadata": {
        "id": "csrK3ewLiYzQ"
      },
      "execution_count": null,
      "outputs": []
    },
    {
      "cell_type": "code",
      "source": [
        "movies['cast'] = movies['cast'].apply(cast_name)"
      ],
      "metadata": {
        "id": "r6IOuPCXjMUb"
      },
      "execution_count": null,
      "outputs": []
    },
    {
      "cell_type": "code",
      "source": [
        "# creating a helper function to extract director name\n",
        "\n",
        "def director_name(obj):\n",
        "  l = []\n",
        "  for i in ast.literal_eval(obj):\n",
        "    if i['job']=='Director':\n",
        "\n",
        "      l.append(i['name'])\n",
        "      break\n",
        "  return l"
      ],
      "metadata": {
        "id": "3tSmPpuFkR9O"
      },
      "execution_count": null,
      "outputs": []
    },
    {
      "cell_type": "code",
      "source": [
        "movies['crew'] = movies['crew'].apply(director_name)"
      ],
      "metadata": {
        "id": "qOutiZ5ElQCK"
      },
      "execution_count": null,
      "outputs": []
    },
    {
      "cell_type": "code",
      "source": [
        "# converting overview columns to list\n",
        "movies['overview'] = movies['overview'].apply(lambda x:x.split())"
      ],
      "metadata": {
        "id": "vLtX7m9fmIxF"
      },
      "execution_count": null,
      "outputs": []
    },
    {
      "cell_type": "code",
      "source": [
        "# removing space between the words in genres,keywords,crew,cast columns\n",
        "movies['genres'] = movies['genres'].apply(lambda x:[i.replace(' ','')for i in x])\n",
        "movies['cast'] = movies['cast'].apply(lambda x:[i.replace(' ','') for i in x])\n",
        "movies['keywords'] = movies['keywords'].apply(lambda x:[i.replace(' ','') for i in x])\n",
        "movies['crew'] = movies['crew'].apply(lambda x:[i.replace(' ','')for i  in x])"
      ],
      "metadata": {
        "id": "vlIx0mE5ouUS"
      },
      "execution_count": null,
      "outputs": []
    },
    {
      "cell_type": "code",
      "source": [
        "movies.head()"
      ],
      "metadata": {
        "id": "TkK21YXrpUFY"
      },
      "execution_count": null,
      "outputs": []
    },
    {
      "cell_type": "code",
      "source": [
        "# creatinng a new columns name tag  by merging cast,crew,keywords,overview\n",
        "movies['tags'] = movies['overview'] + movies['cast'] + movies['crew'] + movies['keywords'] + movies['genres']"
      ],
      "metadata": {
        "id": "rBC9oWkovRlh"
      },
      "execution_count": null,
      "outputs": []
    },
    {
      "cell_type": "code",
      "source": [
        "movies['tags']"
      ],
      "metadata": {
        "id": "aAmiscsOv2BZ"
      },
      "execution_count": null,
      "outputs": []
    },
    {
      "cell_type": "code",
      "source": [
        "movies.head(1)"
      ],
      "metadata": {
        "id": "wZzb1rO14liM"
      },
      "execution_count": null,
      "outputs": []
    },
    {
      "cell_type": "code",
      "source": [
        "# creating new dataframe\n",
        "new_df = movies[['id','title','tags']]\n"
      ],
      "metadata": {
        "id": "6wTsP8FM37_q"
      },
      "execution_count": null,
      "outputs": []
    },
    {
      "cell_type": "code",
      "source": [
        "new_df['tags'] = new_df['tags'].apply(lambda x:' '.join(x))"
      ],
      "metadata": {
        "id": "3h4Fe4Wk6goJ"
      },
      "execution_count": null,
      "outputs": []
    },
    {
      "cell_type": "code",
      "source": [
        "new_df"
      ],
      "metadata": {
        "id": "DTnYEo878Ijg"
      },
      "execution_count": null,
      "outputs": []
    },
    {
      "cell_type": "code",
      "source": [
        "# converting the values of  tags columns into lower case\n",
        "\n",
        "new_df['tags'] = new_df['tags'].apply(lambda x:x.lower())"
      ],
      "metadata": {
        "id": "M0GUXEZw9SIk"
      },
      "execution_count": null,
      "outputs": []
    },
    {
      "cell_type": "code",
      "source": [
        "new_df"
      ],
      "metadata": {
        "id": "KjWCMWBD-Nz9"
      },
      "execution_count": null,
      "outputs": []
    },
    {
      "cell_type": "code",
      "source": [
        "from sklearn.feature_extraction.text import CountVectorizer\n",
        "cv = CountVectorizer(max_features=5000,stop_words='english')"
      ],
      "metadata": {
        "id": "Ch5XEQsfEHfk"
      },
      "execution_count": null,
      "outputs": []
    },
    {
      "cell_type": "code",
      "source": [
        "vectors = cv.fit_transform(new_df['tags']).toarray()"
      ],
      "metadata": {
        "id": "xkL2o62CLcmM"
      },
      "execution_count": null,
      "outputs": []
    },
    {
      "cell_type": "code",
      "source": [
        "vectors"
      ],
      "metadata": {
        "id": "gTMkO5W8Lp-B"
      },
      "execution_count": null,
      "outputs": []
    },
    {
      "cell_type": "code",
      "source": [
        "cv.get_feature_names_out()"
      ],
      "metadata": {
        "id": "-bSurYNvMH2Q"
      },
      "execution_count": null,
      "outputs": []
    },
    {
      "cell_type": "code",
      "source": [
        "import nltk\n",
        "from nltk.stem.porter import PorterStemmer\n",
        "ps = PorterStemmer()\n"
      ],
      "metadata": {
        "id": "blAcYlrIZ91a"
      },
      "execution_count": null,
      "outputs": []
    },
    {
      "cell_type": "code",
      "source": [
        "def stem(text):\n",
        "  y =[]\n",
        "  for i in text.split():\n",
        "    y.append(ps.stem(i))\n",
        "\n",
        "  return \" \".join(y)\n"
      ],
      "metadata": {
        "id": "xKUwlQXpaVo4"
      },
      "execution_count": null,
      "outputs": []
    },
    {
      "cell_type": "code",
      "source": [
        "new_df['tags'] = new_df['tags'].apply(stem)"
      ],
      "metadata": {
        "id": "SRSUKsWvbXL-"
      },
      "execution_count": null,
      "outputs": []
    },
    {
      "cell_type": "code",
      "source": [
        "from sklearn.metrics.pairwise import cosine_similarity"
      ],
      "metadata": {
        "id": "yMgJucsIcQFv"
      },
      "execution_count": null,
      "outputs": []
    },
    {
      "cell_type": "code",
      "source": [
        "similarity_dist = cosine_similarity(vectors)"
      ],
      "metadata": {
        "id": "cN3obUvWdhix"
      },
      "execution_count": null,
      "outputs": []
    },
    {
      "cell_type": "code",
      "source": [
        "# sorting similiarity value without loosing index\n",
        "sorted(list(enumerate(similarity_dist[0])),reverse=True,key=lambda x:x[1])[1:6]"
      ],
      "metadata": {
        "id": "msWRBd-Sd7OK"
      },
      "execution_count": null,
      "outputs": []
    },
    {
      "cell_type": "code",
      "source": [
        "def recomend(movies):\n",
        "  movie_index = new_df[new_df['title']==movies].index[0]\n",
        "  distances = similarity_dist[movie_index]\n",
        "  movies_list = sorted(list(enumerate(distances)),reverse=True,key=lambda x:x[1])[1:6]\n",
        "\n",
        "  for i in movies_list:\n",
        "    print(new_df.iloc[i[0]].title)\n",
        "\n",
        "\n"
      ],
      "metadata": {
        "id": "SdwjuL_geHbt"
      },
      "execution_count": null,
      "outputs": []
    },
    {
      "cell_type": "code",
      "source": [
        "recomend('The Avengers')"
      ],
      "metadata": {
        "id": "TZLx80Eplo4x"
      },
      "execution_count": null,
      "outputs": []
    },
    {
      "cell_type": "code",
      "source": [
        "import pickle\n"
      ],
      "metadata": {
        "id": "d9s9FZZslz63"
      },
      "execution_count": null,
      "outputs": []
    },
    {
      "cell_type": "code",
      "source": [
        "pickle.dump(new_df.to_dict(),open('movies_dict.pkl','wb'))"
      ],
      "metadata": {
        "id": "alOQj2Wquxvs"
      },
      "execution_count": null,
      "outputs": []
    }
  ]
}