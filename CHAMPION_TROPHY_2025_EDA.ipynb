{
  "cells": [
    {
      "cell_type": "markdown",
      "metadata": {
        "id": "vncDsAP0Gaoa"
      },
      "source": [
        "# **Project Name**    - Champion Trophy 2025 eda\n",
        "\n"
      ]
    },
    {
      "cell_type": "markdown",
      "metadata": {
        "id": "beRrZCGUAJYm"
      },
      "source": [
        "##### **Project Type**    - EDA\n",
        "##### **Contribution**    - Individual\n",
        "##### **Nikesh singh -**\n"
      ]
    },
    {
      "cell_type": "markdown",
      "metadata": {
        "id": "FJNUwmbgGyua"
      },
      "source": [
        "# **Project Summary -**"
      ]
    },
    {
      "cell_type": "markdown",
      "metadata": {
        "id": "F6v_1wHtG2nS"
      },
      "source": [
        "This project explores a dataset comprising 7,352 cricket match records, covering multiple seasons, teams, and venues. The analysis is structured around the following key aspects:\n",
        "\n",
        "Tournament Phases & Matches Played\n",
        "\n",
        "The tournament was played in four distinct phases: (List of phases).\n",
        "The number of matches played in each phase was analyzed, highlighting the most competitive stages of the tournament.\n",
        "Batting Performance Analysis\n",
        "\n",
        "The total runs scored by each batsman were calculated to identify the highest run-scorers.\n",
        "The average runs per match were analyzed to determine batting consistency, ranking players based on performance.\n",
        "The batsmen who played the most deliveries were identified, indicating the most reliable and enduring players at the crease.\n",
        "Bowling Performance Analysis\n",
        "\n",
        "The bowlers who delivered the most overs were examined, showcasing the most utilized bowlers in the tournament.\n",
        "The total wickets taken by each bowler were analyzed to rank the most effective wicket-takers.\n",
        "Match Venue Analysis\n",
        "\n",
        "The top 5 venues where most matches were played were identified, highlighting popular grounds that hosted the highest number of games.\n",
        "Through these analyses, key trends were observed in terms of team performance, batting stability, and bowling efficiency."
      ]
    },
    {
      "cell_type": "markdown",
      "metadata": {
        "id": "w6K7xa23Elo4"
      },
      "source": [
        "# **GitHub Link -**"
      ]
    },
    {
      "cell_type": "markdown",
      "metadata": {
        "id": "h1o69JH3Eqqn"
      },
      "source": [
        "Provide your GitHub Link here."
      ]
    },
    {
      "cell_type": "markdown",
      "metadata": {
        "id": "yQaldy8SH6Dl"
      },
      "source": [
        "# **Problem Statement**\n",
        "The objective of this project is to analyze historical cricket match data to uncover key insights into team performance, player contributions, and match trends. By examining various aspects such as match phases, batting and bowling statistics, and venue preferences, this study aims to identify the top-performing players, most impactful bowlers, and critical match venues. The findings will provide valuable insights for teams, analysts, and cricket enthusiasts to make data-driven decisions and enhance game strategies."
      ]
    },
    {
      "cell_type": "markdown",
      "metadata": {
        "id": "DpeJGUA3kjGy"
      },
      "source": [
        "**Write Problem Statement Here.**"
      ]
    },
    {
      "cell_type": "markdown",
      "metadata": {
        "id": "O_i_v8NEhb9l"
      },
      "source": [
        "# ***Let's Begin !***"
      ]
    },
    {
      "cell_type": "markdown",
      "metadata": {
        "id": "HhfV-JJviCcP"
      },
      "source": [
        "## ***1. Know Your Data***"
      ]
    },
    {
      "cell_type": "markdown",
      "metadata": {
        "id": "Y3lxredqlCYt"
      },
      "source": [
        "### Import Libraries"
      ]
    },
    {
      "cell_type": "code",
      "execution_count": null,
      "metadata": {
        "id": "M8Vqi-pPk-HR"
      },
      "outputs": [],
      "source": [
        "# Import Libraries\n",
        "\n",
        "import pandas as pd\n",
        "import numpy as np\n",
        "import seaborn as sns\n",
        "import matplotlib.pyplot as plt\n"
      ]
    },
    {
      "cell_type": "markdown",
      "metadata": {
        "id": "3RnN4peoiCZX"
      },
      "source": [
        "### Dataset Loading"
      ]
    },
    {
      "cell_type": "code",
      "execution_count": null,
      "metadata": {
        "id": "4CkvbW_SlZ_R"
      },
      "outputs": [],
      "source": [
        "# Load Dataset\n",
        "df = pd.read_csv('/content/ct_2025_deliveries.csv')\n"
      ]
    },
    {
      "cell_type": "markdown",
      "metadata": {
        "id": "x71ZqKXriCWQ"
      },
      "source": [
        "### Dataset First View"
      ]
    },
    {
      "cell_type": "code",
      "execution_count": null,
      "metadata": {
        "id": "LWNFOSvLl09H"
      },
      "outputs": [],
      "source": [
        "# Dataset First Look\n",
        "\n",
        "df.head(5)"
      ]
    },
    {
      "cell_type": "markdown",
      "metadata": {
        "id": "7hBIi_osiCS2"
      },
      "source": [
        "### Dataset Rows & Columns count"
      ]
    },
    {
      "cell_type": "code",
      "execution_count": null,
      "metadata": {
        "id": "Kllu7SJgmLij"
      },
      "outputs": [],
      "source": [
        "# Dataset Rows & Columns count\n",
        "df.shape"
      ]
    },
    {
      "cell_type": "markdown",
      "metadata": {
        "id": "JlHwYmJAmNHm"
      },
      "source": [
        "### Dataset Information"
      ]
    },
    {
      "cell_type": "code",
      "execution_count": null,
      "metadata": {
        "id": "e9hRXRi6meOf"
      },
      "outputs": [],
      "source": [
        "# Dataset Info\n",
        "df.info()"
      ]
    },
    {
      "cell_type": "markdown",
      "metadata": {
        "id": "35m5QtbWiB9F"
      },
      "source": [
        "#### Duplicate Values"
      ]
    },
    {
      "cell_type": "code",
      "execution_count": null,
      "metadata": {
        "id": "1sLdpKYkmox0"
      },
      "outputs": [],
      "source": [
        "# Dataset Duplicate Value Count\n",
        "df.duplicated().sum()"
      ]
    },
    {
      "cell_type": "markdown",
      "metadata": {
        "id": "PoPl-ycgm1ru"
      },
      "source": [
        "#### Missing Values/Null Values"
      ]
    },
    {
      "cell_type": "code",
      "execution_count": null,
      "metadata": {
        "id": "GgHWkxvamxVg"
      },
      "outputs": [],
      "source": [
        "# Missing Values/Null Values Count\n",
        "df.isna().sum()"
      ]
    },
    {
      "cell_type": "markdown",
      "source": [
        "## Brief info & conclusion\n",
        "\n"
      ],
      "metadata": {
        "id": "lwPo8xmgT6zO"
      }
    },
    {
      "cell_type": "markdown",
      "source": [
        "1. match_id (int64)\n",
        "  - Unique identifier for each match.\n",
        "  - No missing values.\n",
        "- Suggested data type: int32 (to save memory).\n",
        "2. season (int64)\n",
        "  - Represents the year in which the match was played.\n",
        "  - No missing values.\n",
        "  - Unique values likely range from 2008 to 2025.\n",
        "- Suggested data type: category (since seasons are limited).\n",
        "3. phase (object)\n",
        "  - Represents the stage of the tournament (e.g., \"Group Stage\", \"Playoffs\", \"Final\").\n",
        "  - No missing values.\n",
        "  - Limited unique values.\n",
        "- Suggested data type: category (efficient for categorical variables).\n",
        "4. match_no (int64)\n",
        "  - The match number within the tournament.\n",
        "  - No missing values.\n",
        "- Suggested data type: int16 (as match numbers are small values).\n",
        "5. date (object)\n",
        "  - Represents the date on which the match was played.\n",
        "  - No missing values.\n",
        "- Suggested data type: datetime64 (to enable date-based operations).\n",
        "6. venue (object)\n",
        "  - The stadium where the match was played.\n",
        "  - No missing values.\n",
        "  - Contains repeated values (same venues used multiple times).\n",
        "- Suggested data type: category (for memory efficiency).\n",
        "7. batting_team (object)\n",
        "  - Name of the batting team.\n",
        "  - No missing values.\n",
        "  - Limited unique values (likely 8–10 teams).\n",
        "- Suggested data type: category.\n",
        "8. bowling_team (object)\n",
        "  - Name of the bowling team.\n",
        "  - No missing values.\n",
        "  - Limited unique values (same as batting_team).\n",
        "- Suggested data type: category.\n",
        "9. innings (float64)\n",
        "  - Represents the inning number (1, 2, sometimes 3 or 4 in Test matches).\n",
        "  - No missing values.\n",
        "- Always whole numbers, so it should be converted to int8 instead of float64.\n",
        "10. over (float64)\n",
        "  - Represents the current over in decimal format (e.g., 1.2 means 1 over and 2 balls).\n",
        "  - No missing values.\n",
        "- Suggested data type: float16 (as it requires less memory).\n",
        "11. striker (object)\n",
        "  - Name of the batsman on strike.\n",
        "  - No missing values.\n",
        "  - Repeated player names.\n",
        "- Suggested data type: category.\n",
        "12. bowler (object)\n",
        "  - Name of the bowler.\n",
        "  - No missing values.\n",
        "  - Repeated player names.\n",
        "- Suggested data type: category.\n",
        "13. runs_of_bat (int64)\n",
        "  - Runs scored by the batsman on a particular ball.\n",
        "  - No missing values.\n",
        "- Suggested data type: int8 (since values are small).\n",
        "14. extras (int64)\n",
        "  - Extra runs (wide, no-ball, byes, leg byes).\n",
        "  - No missing values.\n",
        "- Suggested data type: int8.\n",
        "15. wide (int64)\n",
        "  - Number of wides bowled in that delivery.\n",
        "  - Mostly 0, with 1 for wide deliveries.\n",
        "- Suggested data type: int8.\n",
        "16. legbyes (int64)\n",
        "  - Number of leg-byes scored on that ball.\n",
        "  - Mostly 0, with small values (1-4).\n",
        "- Suggested data type: int8.\n",
        "17. byes (int64)\n",
        "  - Number of byes scored.\n",
        "  - Mostly 0, with small values.\n",
        "- Suggested data type: int8.\n",
        "18. noballs (int64)\n",
        "  - Number of no-balls in that delivery.\n",
        "  - Mostly 0, with 1 for no-ball deliveries.\n",
        "- Suggested data type: int8.\n",
        "19. wicket_type (object)\n",
        "  - Describes how the batsman was dismissed (e.g., \"Bowled\", \"Caught\", \"Run Out\").\n",
        "  - Many missing values (190 non-null out of 7352).\n",
        "- Suggested data type: category (limited unique values).\n",
        "20. player_dismissed (object)\n",
        "  - Name of the player who got out.\n",
        "  - Many missing values (190 non-null out of 7352).\n",
        "- Suggested data type: category (repeated player names).\n",
        "21. fielder (object)\n",
        "  - Name of the fielder involved in a dismissal (if applicable).\n",
        "  - Many missing values (141 non-null out of 7352).\n"
      ],
      "metadata": {
        "id": "wflg8NP6UEOH"
      }
    },
    {
      "cell_type": "markdown",
      "source": [
        "## eda"
      ],
      "metadata": {
        "id": "oaoj4ejxaUQC"
      }
    },
    {
      "cell_type": "markdown",
      "source": [
        "#### team name participate in tournament"
      ],
      "metadata": {
        "id": "he6t6iDgb7nw"
      }
    },
    {
      "cell_type": "code",
      "source": [
        "\n",
        "team_participated = ', '.join([i for i in df['batting_team'].unique()])\n",
        "print(f'Team which participated in 2025 champion trophy  are : {team_participated}')"
      ],
      "metadata": {
        "id": "eeNHxjx5QY3x"
      },
      "execution_count": null,
      "outputs": []
    },
    {
      "cell_type": "markdown",
      "source": [
        "### Vanue where matches played"
      ],
      "metadata": {
        "id": "oKs5HKynd8yM"
      }
    },
    {
      "cell_type": "code",
      "source": [
        "for i in [i for i in df['venue'].unique()]:\n",
        "  print(i)"
      ],
      "metadata": {
        "id": "0uJo97h9QY0s"
      },
      "execution_count": null,
      "outputs": []
    },
    {
      "cell_type": "markdown",
      "source": [
        "### the different phases of the tournament"
      ],
      "metadata": {
        "id": "vThHaMfit7rB"
      }
    },
    {
      "cell_type": "code",
      "source": [
        "print('Tournament played in 4 phases :',', '.join([i for i in df['phase'].unique()]))"
      ],
      "metadata": {
        "id": "QJdAa4uht9qC"
      },
      "execution_count": null,
      "outputs": []
    },
    {
      "cell_type": "markdown",
      "source": [
        "### How many matches were played in each phase?"
      ],
      "metadata": {
        "id": "imEo86xNubiN"
      }
    },
    {
      "cell_type": "code",
      "source": [
        "\n",
        "\n",
        "matches_per_phase = df.groupby('phase')['match_id'].nunique()\n",
        "matches_per_phase.reset_index(name='matches')\n"
      ],
      "metadata": {
        "id": "Mt1DGU1gt9mg"
      },
      "execution_count": null,
      "outputs": []
    },
    {
      "cell_type": "markdown",
      "source": [
        "### Total runs scored by each player?"
      ],
      "metadata": {
        "id": "1K2wdLgk2b6v"
      }
    },
    {
      "cell_type": "code",
      "source": [
        "batsman_total_runs = df.groupby('striker')['runs_of_bat'].sum().reset_index()\n",
        "batsman_total_runs.columns=(['Batsman','Total runs'])\n",
        "\n",
        "batsman_total_runs.sort_values(by='Total runs',ascending=False,inplace=True)\n",
        "batsman_total_runs\n",
        "\n",
        "\n"
      ],
      "metadata": {
        "id": "ieaJBJHgO1kd"
      },
      "execution_count": null,
      "outputs": []
    },
    {
      "cell_type": "code",
      "source": [
        "# visual\n",
        "sns.barplot(x=batsman_total_runs['Total runs'].head(10),y=batsman_total_runs['Batsman'].head(10),palette='winter')\n",
        "plt.show()"
      ],
      "metadata": {
        "id": "URffKGAH-myJ"
      },
      "execution_count": null,
      "outputs": []
    },
    {
      "cell_type": "markdown",
      "source": [
        "### average runs scored by  each batsmans"
      ],
      "metadata": {
        "id": "tbK2gpjh79u5"
      }
    },
    {
      "cell_type": "code",
      "source": [
        "\n",
        "batsman_stats = df.groupby(\"striker\").agg(\n",
        "    total_runs=(\"runs_of_bat\", \"sum\"),\n",
        "    matches_played=(\"match_id\", \"nunique\")\n",
        ")\n",
        "\n",
        "\n",
        "batsman_stats[\"average_run\"] = batsman_stats[\"total_runs\"] / batsman_stats[\"matches_played\"]\n",
        "\n",
        "\n",
        "batsman_stats = batsman_stats.reset_index().rename(columns={\"striker\": \"batsman\"})\n",
        "\n",
        "\n",
        "\n",
        "\n",
        "batsman_stats[\"average_run\"] = batsman_stats[\"average_run\"].round(2)\n",
        "\n",
        "\n",
        "top_batsmen = batsman_stats\n",
        "\n",
        "\n",
        "top_batsmen = top_batsmen.sort_values(by=\"average_run\", ascending=False)\n",
        "\n",
        "\n",
        "plt.figure(figsize=(10, 6))\n",
        "plt.barh(top_batsmen[\"batsman\"].head(10), top_batsmen[\"average_run\"].head(10), color=\"skyblue\")\n",
        "\n",
        "# Set labels and title\n",
        "plt.ylabel(\"Batsman\")  # Keep batsman on the Y-axis for horizontal bar chart\n",
        "plt.xlabel(\"Average Runs per Match\")\n",
        "plt.title(\"Bottom 10 Batsmen by Average Runs \")\n",
        "\n",
        "\n",
        "plt.show()\n"
      ],
      "metadata": {
        "id": "HKhq0a55mJuN"
      },
      "execution_count": null,
      "outputs": []
    },
    {
      "cell_type": "markdown",
      "source": [
        "### venues where  matches were played?"
      ],
      "metadata": {
        "id": "WmQbgcc52_Ke"
      }
    },
    {
      "cell_type": "code",
      "source": [
        "top_5_venue = df.groupby('venue')['match_id'].nunique().sort_values(ascending=False).reset_index()\n",
        "top_5_venue.columns=(['venue','match_played'])\n",
        "\n",
        "sns.barplot(y=top_5_venue['venue'],x=top_5_venue['match_played'],color='skyblue')"
      ],
      "metadata": {
        "id": "RtE9iidit9ge"
      },
      "execution_count": null,
      "outputs": []
    },
    {
      "cell_type": "markdown",
      "source": [
        "### the batsman who has played the most deliveries"
      ],
      "metadata": {
        "id": "OaNeYmka4x2n"
      }
    },
    {
      "cell_type": "code",
      "source": [
        "\n",
        "batsman_deliveries = df.groupby('striker').size().reset_index(name='deliveries_faced')\n",
        "\n",
        "\n",
        "batsman_deliveries = batsman_deliveries.sort_values(by='deliveries_faced', ascending=False)\n",
        "\n",
        "batsman_deliveries"
      ],
      "metadata": {
        "id": "racS69r9n1cw"
      },
      "execution_count": null,
      "outputs": []
    },
    {
      "cell_type": "code",
      "source": [
        "# visual presentation\n",
        "plt.figure(figsize=(8, 5))\n",
        "sns.barplot(x=batsman_deliveries['striker'].head(10),\n",
        "            y=batsman_deliveries['deliveries_faced'].head(10),\n",
        "            palette=\"Blues_r\")\n",
        "\n",
        "\n",
        "plt.xlabel(\"Batsman\")\n",
        "plt.ylabel(\"Total Deliveries Faced\")\n",
        "plt.title(\"Top 5 Batsmen Who Faced the Most Deliveries\")\n",
        "\n",
        "\n",
        "plt.xticks(rotation=45, ha=\"right\")\n",
        "\n",
        "\n",
        "plt.show()"
      ],
      "metadata": {
        "id": "noSSYiY8t9db"
      },
      "execution_count": null,
      "outputs": []
    },
    {
      "cell_type": "markdown",
      "source": [
        "###  Which batsman has scored most"
      ],
      "metadata": {
        "id": "aRiha-YV7LTx"
      }
    },
    {
      "cell_type": "code",
      "source": [
        "batsman_deliveries = df.groupby('striker')['runs_of_bat'].sum().sort_values(ascending=False).reset_index()\n",
        "batsman_deliveries\n",
        "\n"
      ],
      "metadata": {
        "id": "1fI06q_st9aC"
      },
      "execution_count": null,
      "outputs": []
    },
    {
      "cell_type": "code",
      "source": [
        "# visual presentation\n",
        "\n",
        "sns.barplot(x=batsman_deliveries['runs_of_bat'].head(10),y=batsman_deliveries['striker'].head(10))"
      ],
      "metadata": {
        "id": "g8UrHlhKAdii"
      },
      "execution_count": null,
      "outputs": []
    },
    {
      "cell_type": "markdown",
      "source": [
        "### Which bowler has bowled the most deliveries?\n",
        "\n"
      ],
      "metadata": {
        "id": "C7AxJUX-7T5m"
      }
    },
    {
      "cell_type": "code",
      "source": [
        "most_deliver_bowler = df.groupby('bowler')['over'].count().sort_values(ascending=False).reset_index()\n",
        "most_deliver_bowler"
      ],
      "metadata": {
        "id": "h6J5MWn3t9XK"
      },
      "execution_count": null,
      "outputs": []
    },
    {
      "cell_type": "code",
      "source": [
        "# visual presentation\n",
        "sns.barplot(x=most_deliver_bowler['over'].head(10),y=most_deliver_bowler['bowler'].head(10))"
      ],
      "metadata": {
        "id": "smIrewssA3OR"
      },
      "execution_count": null,
      "outputs": []
    },
    {
      "cell_type": "markdown",
      "source": [
        "### Bowler total wicket"
      ],
      "metadata": {
        "id": "AYQYu-Tg4xCU"
      }
    },
    {
      "cell_type": "code",
      "source": [
        "\n",
        "\n",
        "bowler_wicket_record =  df.groupby('bowler')['wicket_type'].count().sort_values(ascending=False).reset_index()\n",
        "bowler_wicket_record.columns = (['Bowler','Wicket'])"
      ],
      "metadata": {
        "id": "Ad0k9tjt7RbP"
      },
      "execution_count": null,
      "outputs": []
    },
    {
      "cell_type": "code",
      "source": [
        "sns.barplot(x=bowler_wicket_record['Wicket'].head(10),y=bowler_wicket_record['Bowler'].head(10))\n",
        "plt.title('Bowler Performance: Total Wickets Taken')"
      ],
      "metadata": {
        "id": "ePkNT3MwBzzF"
      },
      "execution_count": null,
      "outputs": []
    },
    {
      "cell_type": "markdown",
      "source": [
        "### which bowler give most runs"
      ],
      "metadata": {
        "id": "t_zPd-4iUDFf"
      }
    },
    {
      "cell_type": "code",
      "source": [
        "bowler_give_runs =  df.groupby('bowler')['runs_of_bat'].sum().sort_values(ascending=False).reset_index()\n",
        "bowler_give_runs .columns=(['Bowler','Runs given by bowler'])\n",
        "bowler_give_runs"
      ],
      "metadata": {
        "id": "T-CS-GyM7RYd"
      },
      "execution_count": null,
      "outputs": []
    },
    {
      "cell_type": "code",
      "source": [
        "# visual present\n",
        "sns.barplot(x=bowler_give_runs['Runs given by bowler'].head(10),y=bowler_give_runs['Bowler'].head(10),color='lightgreen')\n",
        "plt.title(\"Bowlers Who Conceded the Most Runs\")"
      ],
      "metadata": {
        "id": "zIIdb_GsDnQW"
      },
      "execution_count": null,
      "outputs": []
    },
    {
      "cell_type": "markdown",
      "source": [
        "###  How consistently do batsmen score runs across matches"
      ],
      "metadata": {
        "id": "jgo39RdW-LQH"
      }
    },
    {
      "cell_type": "code",
      "source": [
        "batsman_average_score = ((df.groupby('striker')['runs_of_bat'].sum())/ (df.groupby('striker')['match_id'].nunique())).reset_index()\n",
        "batsman_average_score.columns=(['Batsman','Avg_score'])\n",
        "batsman_average_score = batsman_average_score.sort_values(by='Avg_score',ascending=False)\n",
        "batsman_average_score"
      ],
      "metadata": {
        "id": "MKbgBrBG7RU_"
      },
      "execution_count": null,
      "outputs": []
    },
    {
      "cell_type": "code",
      "source": [
        "# visual presentation\n",
        "sns.barplot(y=batsman_average_score['Batsman'].head(10),x=batsman_average_score['Avg_score'].head(10))\n",
        "plt.title('Batsmen Performance: Average Runs Per Match')"
      ],
      "metadata": {
        "id": "sl63g67aGDWa"
      },
      "execution_count": null,
      "outputs": []
    },
    {
      "cell_type": "markdown",
      "source": [
        "### team which give more extra"
      ],
      "metadata": {
        "id": "tLYQHj1saMiz"
      }
    },
    {
      "cell_type": "code",
      "source": [
        "dd = df.groupby('bowling_team')['extras'].sum().sort_values(ascending=False).reset_index('bowling_team')\n",
        "sns.barplot(y='extras',x='bowling_team',data=dd)\n",
        "\n",
        "plt.title('Which bowling team conceded the most extra runs')"
      ],
      "metadata": {
        "id": "KqZYwq9-SFz8"
      },
      "execution_count": null,
      "outputs": []
    },
    {
      "cell_type": "markdown",
      "source": [
        "### Which bowler conceded the most extra runs"
      ],
      "metadata": {
        "id": "HwWBQQipdF3A"
      }
    },
    {
      "cell_type": "code",
      "source": [
        "bowler_give_extra = df.groupby('bowler')['extras'].sum().reset_index().sort_values(by='extras',ascending=False)\n",
        "bowler_give_extra\n"
      ],
      "metadata": {
        "id": "9nvD9HsrSFwi"
      },
      "execution_count": null,
      "outputs": []
    },
    {
      "cell_type": "code",
      "source": [
        "# visual presentation\n",
        "sns.barplot(x=bowler_give_extra['extras'].head(10),y=bowler_give_extra['bowler'].head(10),palette='summer')\n",
        "plt.title(\"Top Extra-Conceding Bowlers in the Tournament\")"
      ],
      "metadata": {
        "id": "18KVY2xSH39U"
      },
      "execution_count": null,
      "outputs": []
    },
    {
      "cell_type": "markdown",
      "source": [
        "### \"Who are the most effective bowlers in the first 10 overs\""
      ],
      "metadata": {
        "id": "9HyNLbN-IbFk"
      }
    },
    {
      "cell_type": "code",
      "source": [
        "top_10_wicket_taker_in_1st_10_over = df[df['over'] <= 10].groupby('bowler')['wicket_type'].count().reset_index().sort_values(by='wicket_type',ascending=False)\n",
        "\n",
        "top_10_wicket_taker_in_1st_10_over"
      ],
      "metadata": {
        "id": "76Q7KljVSFsg"
      },
      "execution_count": null,
      "outputs": []
    },
    {
      "cell_type": "code",
      "source": [
        "# visual presentation\n",
        "sns.barplot(y=top_10_wicket_taker_in_1st_10_over['bowler'].head(10),x=top_10_wicket_taker_in_1st_10_over['wicket_type'].head(10))\n",
        "plt.title(\"Top Wicket-Takers in the First 10 Overs\")"
      ],
      "metadata": {
        "id": "iL05-TPHKKCE"
      },
      "execution_count": null,
      "outputs": []
    },
    {
      "cell_type": "markdown",
      "source": [
        "### top 10 wicket taker in last 10 over"
      ],
      "metadata": {
        "id": "a8LaRTGWdaLm"
      }
    },
    {
      "cell_type": "code",
      "source": [
        "top_10_wicket_taker_in_last_10_over = df[df['over'] >=40].groupby('bowler')['wicket_type'].count().reset_index().sort_values(by='wicket_type',ascending=False)\n",
        "top_10_wicket_taker_in_last_10_over"
      ],
      "metadata": {
        "id": "VjV5Pw8wdZio"
      },
      "execution_count": null,
      "outputs": []
    },
    {
      "cell_type": "code",
      "source": [
        "# visual presentation\n",
        "sns.barplot(x=top_10_wicket_taker_in_last_10_over['wicket_type'].head(10),y=top_10_wicket_taker_in_1st_10_over['bowler'].head(10),palette='summer')\n",
        "plt.title(\"Top Wicket-Takers in last 10 Overs\")"
      ],
      "metadata": {
        "id": "tmdxm9LTI_dR"
      },
      "execution_count": null,
      "outputs": []
    },
    {
      "cell_type": "code",
      "source": [
        "xxx = pd.DataFrame(df.groupby(['batting_team','bowling_team','match_no'])[['runs_of_bat','wide','legbyes', 'byes', 'noballs','extras']].sum())\n",
        "xxx.reset_index(inplace=True)\n",
        "xxx = xxx[xxx['runs_of_bat']!=0]\n",
        "xxx['total_runs'] = xxx['runs_of_bat'] \t+ xxx['extras']\n",
        "xxx"
      ],
      "metadata": {
        "id": "5DbJ6hRFSFoW"
      },
      "execution_count": null,
      "outputs": []
    },
    {
      "cell_type": "code",
      "source": [
        "# Group by 'batting_team', 'bowling_team', and 'match_no'\n",
        "grouped_df = df.groupby(['batting_team', 'bowling_team', 'match_no']).sum(numeric_only=True).reset_index()\n",
        "\n",
        "# Calculate 'total_runs' by summing the relevant columns\n",
        "grouped_df['total_runs'] = grouped_df[['runs_of_bat', 'wide', 'legbyes', 'byes', 'noballs', 'extras']].sum(axis=1)\n",
        "\n",
        "# Filter out rows where 'runs_of_bat' is zero\n",
        "result_df = grouped_df[grouped_df['runs_of_bat'] != 0]\n",
        "\n",
        "result_df"
      ],
      "metadata": {
        "id": "YvZzVrvvotck"
      },
      "execution_count": null,
      "outputs": []
    },
    {
      "cell_type": "markdown",
      "source": [
        "### Which bowler has the highest number of dot balls bowled?"
      ],
      "metadata": {
        "id": "8Mr-5BtkG3Zc"
      }
    },
    {
      "cell_type": "code",
      "source": [
        "dot_ball_df = df[df['runs_of_bat']==0]\n",
        "\n",
        "total_dot_ball = dot_ball_df.groupby('bowler')['runs_of_bat'].count().reset_index()\n",
        "\n",
        "# dot_ball_over = round(((dot_ball_df.groupby('bowler')['runs_of_bat'].count().reset_index().iloc[:,1])/6 ))\n",
        "\n",
        "total_over = round(((df.groupby('bowler')['match_id'].count())/6).reset_index().iloc[:,1])\n",
        "\n",
        "total_4 = df[df['runs_of_bat'] == 4].groupby('bowler')['match_id'].count().reset_index().iloc[:,1]\n",
        "total_6 = df[df['runs_of_bat'] == 6].groupby('bowler')['match_id'].count().reset_index().iloc[:,1]\n",
        "\n",
        "total_wicket = df[df['wicket_type'].notna()].groupby('bowler')['match_id'].count().reset_index().iloc[:,1]\n",
        "\n",
        "total_runs = df.groupby('bowler')['runs_of_bat'].sum().reset_index().iloc[:,1]\n",
        "\n",
        "bowler_dot_ball_and_over = pd.concat([total_dot_ball,total_over,total_runs,total_wicket,total_4,total_6],axis=1)\n",
        "bowler_dot_ball_and_over.columns = (['bowler','total_dot_over','total_over','total_runs','total_wicket','total_4','total_6'])\n",
        "\n",
        "\n",
        "bowler_dot_ball_and_over.sort_values(by='total_wicket',ascending=False).head(5)\n",
        "\n",
        "\n"
      ],
      "metadata": {
        "id": "YT4nx3mBcpF4"
      },
      "execution_count": null,
      "outputs": []
    },
    {
      "cell_type": "markdown",
      "source": [
        "### \"Which bowlers have delivered the most dot overs compared to total overs"
      ],
      "metadata": {
        "id": "_lexkQ08LUul"
      }
    },
    {
      "cell_type": "code",
      "source": [
        "# sns.scatterplot(y=bowler_dot_ball_and_over['total_dot_over'],x=bowler_dot_ball_and_over['total_over'])\n",
        "\n",
        "plt.figure(figsize=(25,10))\n",
        "sns.scatterplot(y=bowler_dot_ball_and_over['total_dot_over'],\n",
        "                x=bowler_dot_ball_and_over['total_over'])\n",
        "\n",
        "plt.axhline(y=100, color='red', linestyle='--', linewidth=2, label=\"Horizontal Line (y=100)\")\n",
        "\n",
        "# Plot a vertical line at x = 30\n",
        "plt.axvline(x=30, color='red', linestyle='-.', linewidth=2, label=\"Vertical Line (x=30)\")\n",
        "\n",
        "\n",
        "\n",
        "# Annotate each point with the bowler's name\n",
        "for i in range(len(bowler_dot_ball_and_over)):\n",
        "    plt.text(bowler_dot_ball_and_over['total_over'].iloc[i],\n",
        "             bowler_dot_ball_and_over['total_dot_over'].iloc[i],\n",
        "             bowler_dot_ball_and_over['bowler'].iloc[i],\n",
        "             fontsize=12, ha='right', va='bottom')\n",
        "\n",
        "# Show plot\n",
        "plt.xlabel(\"Total Overs\")\n",
        "plt.ylabel(\"Total Dot Overs\")\n",
        "plt.title(\"Bowler Performance Scatter Plot\")\n",
        "plt.show()"
      ],
      "metadata": {
        "id": "gswoARwKiZEm"
      },
      "execution_count": null,
      "outputs": []
    },
    {
      "cell_type": "code",
      "source": [],
      "metadata": {
        "id": "fyt1T5M6p82X"
      },
      "execution_count": null,
      "outputs": []
    },
    {
      "cell_type": "markdown",
      "source": [
        "### Which bowlers have been attacked the most with fours"
      ],
      "metadata": {
        "id": "eEsolLsOhKmt"
      }
    },
    {
      "cell_type": "code",
      "source": [
        "bowler_who_bitten_most_four = bowler_dot_ball_and_over.sort_values(by='total_4',ascending=False).head(10)\n",
        "\n",
        "sns.barplot(x=bowler_who_bitten_most_four['total_4'],y=bowler_who_bitten_most_four['bowler'])"
      ],
      "metadata": {
        "id": "gtdxiTdef5iv"
      },
      "execution_count": null,
      "outputs": []
    },
    {
      "cell_type": "markdown",
      "source": [
        "### Which bowlers have been attacked the most with six"
      ],
      "metadata": {
        "id": "3Sc994VuhUMj"
      }
    },
    {
      "cell_type": "code",
      "source": [
        "bowler_who_bitten_most_six = bowler_dot_ball_and_over.sort_values(by='total_6',ascending=False).head(10)\n",
        "\n",
        "sns.barplot(x=bowler_who_bitten_most_six['total_6'],y=bowler_who_bitten_most_six['bowler'])"
      ],
      "metadata": {
        "id": "3tWsQgQshZ8h"
      },
      "execution_count": null,
      "outputs": []
    },
    {
      "cell_type": "markdown",
      "source": [
        "### Bowler which give most dot over"
      ],
      "metadata": {
        "id": "I54R_1zLhv7j"
      }
    },
    {
      "cell_type": "code",
      "source": [
        "total_dot_over_by_bowler = bowler_dot_ball_and_over.sort_values(by='total_dot_over',ascending=False).head(10)\n",
        "\n",
        "sns.barplot(x=total_dot_over_by_bowler['total_dot_over'],y=total_dot_over_by_bowler['bowler'])"
      ],
      "metadata": {
        "id": "ZdCUvZl4hvXX"
      },
      "execution_count": null,
      "outputs": []
    },
    {
      "cell_type": "markdown",
      "source": [],
      "metadata": {
        "id": "kFi1_oPmhu-C"
      }
    },
    {
      "cell_type": "markdown",
      "source": [
        "### most wicket taker in starting 10 over"
      ],
      "metadata": {
        "id": "mrB_PvCkXtKa"
      }
    },
    {
      "cell_type": "code",
      "source": [
        "\n",
        "\n",
        "def count_wickets_in_specific_over(df, start_over=1, end_over=50):\n",
        "    \"\"\"\n",
        "    Counts the number of wickets taken by each bowler within a specified range of overs.\n",
        "\n",
        "    Parameters:\n",
        "    df (DataFrame): Input DataFrame containing at least 'over', 'wicket_type', 'bowler', and 'match_id' columns.\n",
        "    start_over (int): The starting over number (inclusive). Default is 1.\n",
        "    end_over (int): The ending over number (inclusive). Default is 50.\n",
        "\n",
        "    Returns:\n",
        "    DataFrame: A DataFrame with columns 'Bowler' and 'Wickets', sorted by 'Wickets' in descending order.\n",
        "    \"\"\"\n",
        "    # Validate input parameters\n",
        "    if not isinstance(df, pd.DataFrame):\n",
        "        raise TypeError(\"The input data must be a pandas DataFrame.\")\n",
        "    if not all(column in df.columns for column in ['over', 'wicket_type', 'bowler', 'match_id']):\n",
        "        raise ValueError(\"The DataFrame must contain 'over', 'wicket_type', 'bowler', and 'match_id' columns.\")\n",
        "    if not (isinstance(start_over, int) and isinstance(end_over, int)):\n",
        "        raise TypeError(\"Start and end overs must be integers.\")\n",
        "    if start_over < 0 or end_over < 0:\n",
        "        raise ValueError(\"Over numbers must be non-negative.\")\n",
        "    if start_over > end_over:\n",
        "        raise ValueError(\"Start over must be less than or equal to end over.\")\n",
        "\n",
        "    # Filter deliveries within the specified over range where a wicket was taken\n",
        "    filtered_df = df[(df['over'] >= start_over) & (df['over'] <= end_over) & (df['wicket_type'].notnull())]\n",
        "\n",
        "    # Group by 'bowler' and count the number of wickets\n",
        "    wicket_counts = filtered_df.groupby('bowler')['match_id'].count().reset_index()\n",
        "\n",
        "    # Rename columns for clarity\n",
        "    wicket_counts.columns = ['Bowler', 'Wickets']\n",
        "\n",
        "    # Sort the DataFrame by 'Wickets' in descending order\n",
        "    sorted_wicket_counts = wicket_counts.sort_values(by='Wickets', ascending=False).reset_index(drop=True)\n",
        "\n",
        "    return sorted_wicket_counts\n",
        "\n",
        "# count_wickets_in_specific_over(df, start_over=10, end_over=30)"
      ],
      "metadata": {
        "id": "lHypO4_VsvGX"
      },
      "execution_count": null,
      "outputs": []
    },
    {
      "cell_type": "code",
      "source": [
        "def count_wickets_in_specific_over(df, start_over=1, end_over=50):\n",
        "\n",
        "  filter_data = df[(df['over'] >= start_over) & (df['over'] <= end_over) & (df['wicket_type'].notna())].copy()\n",
        "  wicket_count = filter_data.groupby('bowler')['match_id'].count().reset_index()\n",
        "  wicket_count.columns = ['Bowler','wickets']\n",
        "  sort_wicket = wicket_count.sort_values(by='wickets',ascending=False)\n",
        "  return sort_wicket\n",
        "\n",
        "count_wickets_in_specific_over(df, start_over=20, end_over=40)\n",
        "\n"
      ],
      "metadata": {
        "id": "jX1npjGE7lyg"
      },
      "execution_count": null,
      "outputs": []
    },
    {
      "cell_type": "markdown",
      "source": [
        "### Which batsman has the highest number of ducks (zero runs) in the tournament?"
      ],
      "metadata": {
        "id": "V4xUQW7R6C0U"
      }
    },
    {
      "cell_type": "code",
      "source": [
        "import pandas as pd\n",
        "\n",
        "# Dictionary containing team-wise players\n",
        "teams = {\n",
        "    \"India\": [\n",
        "        \"Rohit Sharma\", \"Shubman Gill\", \"Virat Kohli\", \"Shreyas Iyer\", \"KL Rahul\",\n",
        "        \"Rishabh Pant\", \"Hardik Pandya\", \"Axar Patel\", \"Washington Sundar\", \"Kuldeep Yadav\",\n",
        "        \"Harshit Rana\", \"Mohammed Shami\", \"Arshdeep Singh\", \"Ravindra Jadeja\",\n",
        "        \"Varun Chakaravarthy\"\n",
        "    ],\n",
        "    \"Pakistan\": [\n",
        "        \"Babar Azam\", \"Mohammad Rizwan\", \"Shaheen Afridi\", \"Fakhar Zaman\", \"Shadab Khan\",\n",
        "        \"Imam-ul-Haq\", \"Haris Rauf\", \"Hasan Ali\", \"Mohammad Nawaz\", \"Usman Qadir\",\n",
        "        \"Haider Ali\", \"Asif Ali\", \"Iftikhar Ahmed\", \"Naseem Shah\", \"Mohammad Wasim Jr.\"\n",
        "    ],\n",
        "    \"Bangladesh\": [\n",
        "        \"Shakib Al Hasan\", \"Tamim Iqbal\", \"Liton Das\", \"Mushfiqur Rahim\", \"Mahmudullah\",\n",
        "        \"Afif Hossain\", \"Mehidy Hasan Miraz\", \"Taskin Ahmed\", \"Mustafizur Rahman\",\n",
        "        \"Shoriful Islam\", \"Nasum Ahmed\", \"Towhid Hridoy\", \"Yasir Ali\", \"Ebadot Hossain\",\n",
        "        \"Najmul Hossain Shanto\"\n",
        "    ],\n",
        "    \"New Zealand\": [\n",
        "        \"Kane Williamson\", \"Devon Conway\", \"Tom Latham\", \"Will Young\", \"Daryl Mitchell\",\n",
        "        \"Glenn Phillips\", \"James Neesham\", \"Mitchell Santner\", \"Ish Sodhi\", \"Tim Southee\",\n",
        "        \"Trent Boult\", \"Lockie Ferguson\", \"Matt Henry\", \"Mark Chapman\", \"Finn Allen\"\n",
        "    ],\n",
        "    \"Australia\": [\n",
        "        \"Steve Smith\", \"David Warner\", \"Marnus Labuschagne\", \"Glenn Maxwell\",\n",
        "        \"Alex Carey\", \"Marcus Stoinis\", \"Mitchell Marsh\", \"Pat Cummins\", \"Josh Hazlewood\",\n",
        "        \"Adam Zampa\", \"Sean Abbott\", \"Spencer Johnson\", \"Ben Dwarshuis\",\n",
        "        \"Jake Fraser-McGurk\", \"Tanveer Sangha\"\n",
        "    ],\n",
        "    \"England\": [\n",
        "        \"Jos Buttler\", \"Jonny Bairstow\", \"Joe Root\", \"Ben Stokes\", \"Moeen Ali\",\n",
        "        \"Sam Curran\", \"Chris Woakes\", \"Jofra Archer\", \"Adil Rashid\", \"Mark Wood\",\n",
        "        \"Dawid Malan\", \"Liam Livingstone\", \"Harry Brook\", \"Reece Topley\", \"Jason Roy\"\n",
        "    ],\n",
        "    \"South Africa\": [\n",
        "        \"Temba Bavuma\", \"Quinton de Kock\", \"Rassie van der Dussen\", \"Aiden Markram\",\n",
        "        \"David Miller\", \"Heinrich Klaasen\", \"Marco Jansen\", \"Kagiso Rabada\",\n",
        "        \"Anrich Nortje\", \"Lungi Ngidi\", \"Keshav Maharaj\", \"Tabraiz Shamsi\",\n",
        "        \"Reeza Hendricks\", \"Andile Phehlukwayo\", \"Gerald Coetzee\"\n",
        "    ],\n",
        "    \"Afghanistan\": [\n",
        "        \"Hashmatullah Shahidi\", \"Rahmanullah Gurbaz\", \"Ibrahim Zadran\", \"Najibullah Zadran\",\n",
        "        \"Mohammad Nabi\", \"Rashid Khan\", \"Mujeeb Ur Rahman\", \"Fazalhaq Farooqi\",\n",
        "        \"Naveen-ul-Haq\", \"Azmatullah Omarzai\", \"Gulbadin Naib\", \"Sharafuddin Ashraf\",\n",
        "        \"Usman Ghani\", \"Qais Ahmad\", \"Karim Janat\"\n",
        "    ]\n",
        "}\n",
        "\n",
        "# Convert dictionary to DataFrame with lowercase names\n",
        "player_df = pd.DataFrame({k: pd.Series([name.lower() for name in v]) for k, v in teams.items()})\n",
        "\n",
        "# Display the DataFrame\n",
        "player_df\n"
      ],
      "metadata": {
        "id": "4Utk7n4S7lsn"
      },
      "execution_count": null,
      "outputs": []
    },
    {
      "cell_type": "code",
      "source": [
        "average_run_per_match = (df.groupby('striker')['runs_of_bat'].sum())/(df.groupby('striker')['match_id'].nunique())\n",
        "match_played = df.groupby('striker')['match_id'].nunique()\n",
        "total_run = df.groupby('striker')['runs_of_bat'].sum()\n",
        "total_ball = df.groupby('striker')['over'].count()\n",
        "strike_rate = (total_run/total_ball)*100\n",
        "\n",
        "\n",
        "batsman_stats = pd.concat([average_run_per_match,strike_rate,match_played,total_run,total_ball],axis=1)\n",
        "batsman_stats.columns = ['average_run_per_match','strike_rate','match_played','total_runs','total_ball']\n",
        "\n",
        "\n",
        "batsman_statss = batsman_stats.reset_index().sort_values(by=['total_runs','average_run_per_match','match_played'],ascending=False)\n",
        "\n",
        "batsman_statss"
      ],
      "metadata": {
        "id": "WA4IJDhM7RPd"
      },
      "execution_count": null,
      "outputs": []
    },
    {
      "cell_type": "code",
      "source": [
        "\n",
        "plt.figure(figsize=(18,10))\n",
        "# Scatter plot\n",
        "sns.scatterplot(y=batsman_statss['strike_rate'], x=batsman_statss['total_runs'])\n",
        "\n",
        "# Plot horizontal and vertical lines\n",
        "plt.axhline(y=100, color='red', linestyle='--', linewidth=2, label=\"Horizontal Line (y=100)\")\n",
        "plt.axvline(x=100, color='red', linestyle='-.', linewidth=2, label=\"Vertical Line (x=100)\")\n",
        "\n",
        "for i in range(len(batsman_statss)):\n",
        "        plt.text(batsman_statss['total_runs'].iloc[i],  # X-coordinate\n",
        "                 batsman_statss['strike_rate'].iloc[i], # Y-coordinate\n",
        "                 batsman_statss['striker'].iloc[i],     # Text label\n",
        "                 fontsize=8, ha='right', va='bottom', color='red')\n",
        "# Labels and title\n",
        "plt.xlabel(\"Total Runs\")\n",
        "plt.ylabel(\"Strike Rate\")\n",
        "plt.title(\"Batsman Performance Scatter Plot\")\n",
        "plt.legend()\n",
        "\n",
        "# Show plot\n",
        "plt.show()\n"
      ],
      "metadata": {
        "id": "PvApHYoF7RL9"
      },
      "execution_count": null,
      "outputs": []
    },
    {
      "cell_type": "markdown",
      "metadata": {
        "id": "Fjb1IsQkh3yE"
      },
      "source": [
        "Write the conclusion here."
      ]
    }
  ],
  "metadata": {
    "colab": {
      "collapsed_sections": [
        "vncDsAP0Gaoa",
        "FJNUwmbgGyua",
        "w6K7xa23Elo4",
        "yQaldy8SH6Dl",
        "mDgbUHAGgjLW",
        "HhfV-JJviCcP",
        "Y3lxredqlCYt",
        "3RnN4peoiCZX",
        "x71ZqKXriCWQ",
        "7hBIi_osiCS2",
        "JlHwYmJAmNHm",
        "35m5QtbWiB9F",
        "PoPl-ycgm1ru",
        "H0kj-8xxnORC",
        "nA9Y7ga8ng1Z",
        "PBTbrJXOngz2",
        "u3PMJOP6ngxN",
        "dauF4eBmngu3",
        "bKJF3rekwFvQ",
        "MSa1f5Uengrz",
        "GF8Ens_Soomf",
        "0wOQAZs5pc--",
        "K5QZ13OEpz2H",
        "lQ7QKXXCp7Bj",
        "448CDAPjqfQr",
        "KSlN3yHqYklG",
        "t6dVpIINYklI",
        "ijmpgYnKYklI",
        "-JiQyfWJYklI",
        "EM7whBJCYoAo",
        "fge-S5ZAYoAp",
        "85gYPyotYoAp",
        "RoGjAbkUYoAp",
        "4Of9eVA-YrdM",
        "iky9q4vBYrdO",
        "F6T5p64dYrdO",
        "y-Ehk30pYrdP",
        "bamQiAODYuh1",
        "QHF8YVU7Yuh3",
        "GwzvFGzlYuh3",
        "qYpmQ266Yuh3",
        "OH-pJp9IphqM",
        "bbFf2-_FphqN",
        "_ouA3fa0phqN",
        "Seke61FWphqN",
        "PIIx-8_IphqN",
        "t27r6nlMphqO",
        "r2jJGEOYphqO",
        "b0JNsNcRphqO",
        "BZR9WyysphqO",
        "jj7wYXLtphqO",
        "eZrbJ2SmphqO",
        "rFu4xreNphqO",
        "YJ55k-q6phqO",
        "gCFgpxoyphqP",
        "OVtJsKN_phqQ",
        "lssrdh5qphqQ",
        "U2RJ9gkRphqQ",
        "1M8mcRywphqQ",
        "tgIPom80phqQ",
        "JMzcOPDDphqR",
        "x-EpHcCOp1ci",
        "X_VqEhTip1ck",
        "8zGJKyg5p1ck",
        "PVzmfK_Ep1ck",
        "n3dbpmDWp1ck",
        "ylSl6qgtp1ck",
        "ZWILFDl5p1ck",
        "M7G43BXep1ck",
        "Ag9LCva-p1cl",
        "E6MkPsBcp1cl",
        "2cELzS2fp1cl",
        "3MPXvC8up1cl",
        "NC_X3p0fY2L0",
        "UV0SzAkaZNRQ",
        "YPEH6qLeZNRQ",
        "q29F0dvdveiT",
        "EXh0U9oCveiU",
        "22aHeOlLveiV",
        "g-ATYxFrGrvw",
        "Yfr_Vlr8HBkt",
        "8yEUt7NnHlrM",
        "tEA2Xm5dHt1r",
        "I79__PHVH19G",
        "Ou-I18pAyIpj",
        "fF3858GYyt-u",
        "4_0_7-oCpUZd",
        "hwyV_J3ipUZe",
        "3yB-zSqbpUZe",
        "dEUvejAfpUZe",
        "Fd15vwWVpUZf",
        "bn_IUdTipZyH",
        "49K5P_iCpZyH",
        "Nff-vKELpZyI",
        "kLW572S8pZyI",
        "dWbDXHzopZyI",
        "yLjJCtPM0KBk",
        "xiyOF9F70UgQ",
        "7wuGOrhz0itI",
        "id1riN9m0vUs",
        "578E2V7j08f6",
        "89xtkJwZ18nB",
        "67NQN5KX2AMe",
        "Iwf50b-R2tYG",
        "GMQiZwjn3iu7",
        "WVIkgGqN3qsr",
        "XkPnILGE3zoT",
        "Hlsf0x5436Go",
        "mT9DMSJo4nBL",
        "c49ITxTc407N",
        "OeJFEK0N496M",
        "9ExmJH0g5HBk",
        "cJNqERVU536h",
        "k5UmGsbsOxih",
        "T0VqWOYE6DLQ",
        "qBMux9mC6MCf",
        "-oLEiFgy-5Pf",
        "C74aWNz2AliB",
        "2DejudWSA-a0",
        "pEMng2IbBLp7",
        "rAdphbQ9Bhjc",
        "TNVZ9zx19K6k",
        "nqoHp30x9hH9",
        "rMDnDkt2B6du",
        "yiiVWRdJDDil",
        "1UUpS68QDMuG",
        "kexQrXU-DjzY",
        "T5CmagL3EC8N",
        "BhH2vgX9EjGr",
        "qjKvONjwE8ra",
        "P1XJ9OREExlT",
        "VFOzZv6IFROw",
        "TIqpNgepFxVj",
        "VfCC591jGiD4",
        "OB4l2ZhMeS1U",
        "ArJBuiUVfxKd",
        "4qY1EAkEfxKe",
        "PiV4Ypx8fxKe",
        "TfvqoZmBfxKf",
        "dJ2tPlVmpsJ0",
        "JWYfwnehpsJ1",
        "-jK_YjpMpsJ2",
        "HAih1iBOpsJ2",
        "zVGeBEFhpsJ2",
        "bmKjuQ-FpsJ3",
        "Fze-IPXLpx6K",
        "7AN1z2sKpx6M",
        "9PIHJqyupx6M",
        "_-qAgymDpx6N",
        "Z-hykwinpx6N",
        "h_CCil-SKHpo",
        "cBFFvTBNJzUa",
        "HvGl1hHyA_VK",
        "EyNgTHvd2WFk",
        "KH5McJBi2d8v",
        "iW_Lq9qf2h6X",
        "-Kee-DAl2viO",
        "gCX9965dhzqZ",
        "gIfDvo9L0UH2"
      ],
      "private_outputs": true,
      "provenance": []
    },
    "kernelspec": {
      "display_name": "Python 3",
      "name": "python3"
    },
    "language_info": {
      "codemirror_mode": {
        "name": "ipython",
        "version": 3
      },
      "file_extension": ".py",
      "mimetype": "text/x-python",
      "name": "python",
      "nbconvert_exporter": "python",
      "pygments_lexer": "ipython3",
      "version": "3.13.0"
    }
  },
  "nbformat": 4,
  "nbformat_minor": 0
}