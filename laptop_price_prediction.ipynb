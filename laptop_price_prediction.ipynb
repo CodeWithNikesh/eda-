{
  "nbformat": 4,
  "nbformat_minor": 0,
  "metadata": {
    "colab": {
      "private_outputs": true,
      "provenance": [],
      "authorship_tag": "ABX9TyMZqpxfEt5NiHvzlKI7rq9N",
      "include_colab_link": true
    },
    "kernelspec": {
      "name": "python3",
      "display_name": "Python 3"
    },
    "language_info": {
      "name": "python"
    }
  },
  "cells": [
    {
      "cell_type": "markdown",
      "metadata": {
        "id": "view-in-github",
        "colab_type": "text"
      },
      "source": [
        "<a href=\"https://colab.research.google.com/github/nikesh11xx/eda-/blob/main/laptop_price_prediction.ipynb\" target=\"_parent\"><img src=\"https://colab.research.google.com/assets/colab-badge.svg\" alt=\"Open In Colab\"/></a>"
      ]
    },
    {
      "cell_type": "code",
      "execution_count": null,
      "metadata": {
        "id": "lJe_GZLwVcb_"
      },
      "outputs": [],
      "source": [
        "import numpy as np\n",
        "import pandas as pd\n",
        "import matplotlib.pyplot as plt\n",
        "import seaborn as sns\n"
      ]
    },
    {
      "cell_type": "code",
      "source": [
        "df = pd.read_csv('/content/laptop_data.csv',encoding='latin-1')"
      ],
      "metadata": {
        "id": "27jsz192WIfi"
      },
      "execution_count": null,
      "outputs": []
    },
    {
      "cell_type": "code",
      "source": [
        "df.shape"
      ],
      "metadata": {
        "id": "TrS_VShKWOXv"
      },
      "execution_count": null,
      "outputs": []
    },
    {
      "cell_type": "code",
      "source": [
        "df.info()"
      ],
      "metadata": {
        "id": "PF9Vmn0_aL0F"
      },
      "execution_count": null,
      "outputs": []
    },
    {
      "cell_type": "code",
      "source": [
        "df.duplicated().sum()"
      ],
      "metadata": {
        "id": "7lDY_UvKaV4y"
      },
      "execution_count": null,
      "outputs": []
    },
    {
      "cell_type": "code",
      "source": [
        "df.isnull().sum()"
      ],
      "metadata": {
        "id": "EPmu5mEdaaYG"
      },
      "execution_count": null,
      "outputs": []
    },
    {
      "cell_type": "code",
      "source": [
        "df.drop(columns=['Unnamed: 0'],inplace=True)"
      ],
      "metadata": {
        "id": "QJoHV19haeoR"
      },
      "execution_count": null,
      "outputs": []
    },
    {
      "cell_type": "code",
      "source": [
        "df['Ram'] = df['Ram'].str.replace('GB','')\n",
        "df['Weight'] = df['Weight'].str.replace('kg','')"
      ],
      "metadata": {
        "id": "haOzIZjVa3cv"
      },
      "execution_count": null,
      "outputs": []
    },
    {
      "cell_type": "code",
      "source": [
        "df['Ram'] = df['Ram'].astype('int32')\n",
        "df['Weight'] = df['Weight'].astype('float32')"
      ],
      "metadata": {
        "id": "_dtEitHXbgMk"
      },
      "execution_count": null,
      "outputs": []
    },
    {
      "cell_type": "code",
      "source": [
        "df.info()"
      ],
      "metadata": {
        "id": "JZxU2pjXcKJd"
      },
      "execution_count": null,
      "outputs": []
    },
    {
      "cell_type": "code",
      "source": [
        "sns.distplot(df['Price'])"
      ],
      "metadata": {
        "id": "HIMGT5TUcPby"
      },
      "execution_count": null,
      "outputs": []
    },
    {
      "cell_type": "code",
      "source": [
        "df['Company'].value_counts().plot(kind='bar')"
      ],
      "metadata": {
        "id": "oiYTIh_0cmmv"
      },
      "execution_count": null,
      "outputs": []
    },
    {
      "cell_type": "code",
      "source": [
        "sns.barplot(x=df['Company'],y=df['Price'])\n",
        "plt.xticks(rotation=90)\n",
        "plt.show()"
      ],
      "metadata": {
        "id": "64Al5vMgdKut"
      },
      "execution_count": null,
      "outputs": []
    },
    {
      "cell_type": "code",
      "source": [
        "df['TypeName'].value_counts().plot(kind='bar')"
      ],
      "metadata": {
        "id": "oq-_vVLkd9Nx"
      },
      "execution_count": null,
      "outputs": []
    },
    {
      "cell_type": "code",
      "source": [
        "sns.barplot(x=df['TypeName'],y=df['Price'])\n",
        "plt.xticks(rotation=90)\n",
        "plt.show()"
      ],
      "metadata": {
        "id": "IxtXwT3QeJG9"
      },
      "execution_count": null,
      "outputs": []
    },
    {
      "cell_type": "code",
      "source": [
        "sns.distplot(df['Inches'])"
      ],
      "metadata": {
        "id": "lV_W8nJjfJDj"
      },
      "execution_count": null,
      "outputs": []
    },
    {
      "cell_type": "code",
      "source": [
        "sns.scatterplot(x=df['Inches'],y=df['Price'])"
      ],
      "metadata": {
        "id": "XY_TTwjOnBBw"
      },
      "execution_count": null,
      "outputs": []
    },
    {
      "cell_type": "code",
      "source": [],
      "metadata": {
        "id": "Z1Hc8yFgqxtT"
      },
      "execution_count": null,
      "outputs": []
    },
    {
      "cell_type": "code",
      "source": [
        "df['Touchscreen'] = df['ScreenResolution'].apply(lambda x:1 if 'Touchscreen' in x else 0)"
      ],
      "metadata": {
        "id": "em4NdAjbt0O_"
      },
      "execution_count": null,
      "outputs": []
    },
    {
      "cell_type": "code",
      "source": [
        "df['Touchscreen'].value_counts().plot(kind='bar')"
      ],
      "metadata": {
        "id": "ZVW7LoE5Gz3L"
      },
      "execution_count": null,
      "outputs": []
    },
    {
      "cell_type": "code",
      "source": [
        "sns.barplot(x=df['Touchscreen'],y=df['Price'])"
      ],
      "metadata": {
        "id": "MOZT4N5XwBE_"
      },
      "execution_count": null,
      "outputs": []
    },
    {
      "cell_type": "code",
      "source": [
        "df['Ips']= df['ScreenResolution'].apply(lambda x: 1 if 'IPS' in x else 0)"
      ],
      "metadata": {
        "id": "tZfbibnPwOmK"
      },
      "execution_count": null,
      "outputs": []
    },
    {
      "cell_type": "code",
      "source": [
        "df['Ips'].value_counts().plot(kind='bar')"
      ],
      "metadata": {
        "id": "OHdqPQKqwpHN"
      },
      "execution_count": null,
      "outputs": []
    },
    {
      "cell_type": "code",
      "source": [
        "sns.barplot(x=df['Ips'],y=df['Price'])"
      ],
      "metadata": {
        "id": "D0_h3ZDkw2YE"
      },
      "execution_count": null,
      "outputs": []
    },
    {
      "cell_type": "code",
      "source": [
        "new = df['ScreenResolution'].str.split('x',n=1,expand=True)"
      ],
      "metadata": {
        "id": "uejoUlh8xHPs"
      },
      "execution_count": null,
      "outputs": []
    },
    {
      "cell_type": "code",
      "source": [
        "df['X_res'] = new[0]\n",
        "df['Y_res'] = new[1]"
      ],
      "metadata": {
        "id": "6KOYNV7Cx0GP"
      },
      "execution_count": null,
      "outputs": []
    },
    {
      "cell_type": "code",
      "source": [
        "df.head()"
      ],
      "metadata": {
        "id": "c40B6RJxyGGE"
      },
      "execution_count": null,
      "outputs": []
    },
    {
      "cell_type": "code",
      "source": [
        "df['X_res'] = df['X_res'].str.replace(',','').str.findall(r'(\\d+\\.?\\d+)').apply(lambda x:x[0])"
      ],
      "metadata": {
        "id": "ud_tFQfqy063"
      },
      "execution_count": null,
      "outputs": []
    },
    {
      "cell_type": "code",
      "source": [
        "df.info()"
      ],
      "metadata": {
        "id": "DKrJgH49z1zG"
      },
      "execution_count": null,
      "outputs": []
    },
    {
      "cell_type": "code",
      "source": [
        "df['X_res'] = df['X_res'].astype('int32')\n",
        "df['Y_res'] = df['Y_res'].astype('int32')"
      ],
      "metadata": {
        "id": "Df0DCp8f0DKw"
      },
      "execution_count": null,
      "outputs": []
    },
    {
      "cell_type": "code",
      "source": [
        "df.corr()['Price']"
      ],
      "metadata": {
        "id": "Wwj2gMql0WoT"
      },
      "execution_count": null,
      "outputs": []
    },
    {
      "cell_type": "code",
      "source": [
        "df['Ppi'] = (((df['X_res']**2) + (df['Y_res']**2))**0.5/df['Inches']).astype('float')"
      ],
      "metadata": {
        "id": "lxXQRg5d1JOj"
      },
      "execution_count": null,
      "outputs": []
    },
    {
      "cell_type": "code",
      "source": [
        "df.corr()['Price']"
      ],
      "metadata": {
        "id": "G11wj8iK6BEM"
      },
      "execution_count": null,
      "outputs": []
    },
    {
      "cell_type": "code",
      "source": [
        "df.drop(columns=['ScreenResolution'], inplace=True)"
      ],
      "metadata": {
        "id": "XEdR7SHe-cbI"
      },
      "execution_count": null,
      "outputs": []
    },
    {
      "cell_type": "code",
      "source": [
        "df.drop(columns=['Inches','X_res','Y_res'], inplace=True)"
      ],
      "metadata": {
        "id": "kPZct_Hd-oR_"
      },
      "execution_count": null,
      "outputs": []
    },
    {
      "cell_type": "code",
      "source": [
        "df['Cpu name'] = df['Cpu'].apply(lambda x:' '.join(x.split()[0:3]))"
      ],
      "metadata": {
        "id": "Rsh83VsQ-4iv"
      },
      "execution_count": null,
      "outputs": []
    },
    {
      "cell_type": "code",
      "source": [
        "def fetch_processor(text):\n",
        "  if text =='Intel Core i7' or text=='Intel Core i5' or text=='Intel Core i3':\n",
        "    return text\n",
        "  else:\n",
        "    if text.split()[0]=='Intel':\n",
        "      return 'Other Intel Processor'\n",
        "    else:\n",
        "      return 'AMD Processor'"
      ],
      "metadata": {
        "id": "xtoiGITI_pjn"
      },
      "execution_count": null,
      "outputs": []
    },
    {
      "cell_type": "code",
      "source": [
        "df['Cpu brand']= df['Cpu name'].apply(fetch_processor)"
      ],
      "metadata": {
        "id": "s7KSYTaRAyfJ"
      },
      "execution_count": null,
      "outputs": []
    },
    {
      "cell_type": "code",
      "source": [
        "df.head()"
      ],
      "metadata": {
        "id": "KFLc6JV9A_nM"
      },
      "execution_count": null,
      "outputs": []
    },
    {
      "cell_type": "code",
      "source": [
        "df['Cpu brand'].value_counts().plot(kind='bar')"
      ],
      "metadata": {
        "id": "pEorfVayBsil"
      },
      "execution_count": null,
      "outputs": []
    },
    {
      "cell_type": "code",
      "source": [
        "sns.barplot(x=df['Cpu brand'],y=df['Price'])\n",
        "plt.xticks(rotation=90)\n",
        "plt.show()"
      ],
      "metadata": {
        "id": "1jyZ2Jz_Fr0T"
      },
      "execution_count": null,
      "outputs": []
    },
    {
      "cell_type": "code",
      "source": [
        "df.drop(columns=['Cpu','Cpu name'],inplace=True)"
      ],
      "metadata": {
        "id": "gOste7LHGNif"
      },
      "execution_count": null,
      "outputs": []
    },
    {
      "cell_type": "code",
      "source": [
        "df.info()"
      ],
      "metadata": {
        "id": "dv36cBkIGdEu"
      },
      "execution_count": null,
      "outputs": []
    },
    {
      "cell_type": "code",
      "source": [
        "df['Ram'].value_counts().plot(kind='bar')"
      ],
      "metadata": {
        "id": "TDz5klhwGj7O"
      },
      "execution_count": null,
      "outputs": []
    },
    {
      "cell_type": "code",
      "source": [
        "sns.barplot(x=df['Ram'],y=df['Price'])\n",
        "plt.xticks(rotation=90)\n",
        "plt.show()"
      ],
      "metadata": {
        "id": "QWBRFTFvGubj"
      },
      "execution_count": null,
      "outputs": []
    },
    {
      "cell_type": "code",
      "source": [],
      "metadata": {
        "id": "ovRItfc3RHZt"
      },
      "execution_count": null,
      "outputs": []
    },
    {
      "cell_type": "code",
      "source": [
        "df['Memory'] = df['Memory'].astype(str).replace('\\.0','',regex=True)\n",
        "df['Memory'] = df['Memory'].str.replace('GB','')\n",
        "df['Memory'] = df['Memory'].str.replace('TB','000')\n",
        "new = df['Memory'].str.split('+', n=1,expand=True)\n",
        "\n",
        "df['first']=new[0]\n",
        "df['first']= df['first'].str.strip()\n",
        "\n",
        "df['second']= new[1]\n",
        "\n",
        "df['Layer1HDD'] = df['first'].apply(lambda x:1 if 'HDD' in x else 0)\n",
        "df['Layer1SSD']=df['first'].apply(lambda x:1 if 'SSD' in x else 0)\n",
        "df['Layer1Hybrid'] = df['first'].apply(lambda x:1 if 'Hybrid' else 0)\n",
        "df['Layer1Flash_Storage']= df['first'].apply(lambda x : 1 if 'Flash Storage' in x else 0)\n",
        "\n",
        "\n",
        "df['first']= df['first'].str.replace(r'\\D','')\n",
        "df['second'].fillna('0',inplace=True)\n",
        "\n",
        "\n",
        "df['Layer2HDD']=df['second'].apply(lambda  x:1 if 'HDD' in x else 0)\n",
        "df['Layer2SSD']=df['second'].apply(lambda  x:1 if 'SSD' in x else 0)\n",
        "df['Layer2Hybrid']=df['second'].apply(lambda  x:1 if 'Hybrid' in x else 0)\n",
        "df['Layer2Flash_Storage']=df['second'].apply(lambda  x:1 if 'Flash Storage' in x else 0)\n",
        "\n",
        "df['second']= df['second'].str.replace(r'\\D', '')\n",
        "\n",
        "df['first']= df['first'].astype(int)\n",
        "df['second'] = df['second'].astype(int)\n",
        "\n",
        "df['HDD']=(df['first']*df['Layer1HDD']+df['second']*df['Layer2HDD'])\n",
        "df['SSD']=(df['first']*df['Layer1SSD']+df['second']*df['Layer2SSD'])\n",
        "df['Hybrid']=(df['first']*df['Layer1Hybrid']+df['second']*df['Layer2Hybrid'])\n",
        "df['Flash_Storage']=(df['first']*df['Layer1Flash_Storage']+df['second']*df['Layer2Flash_Storage'])\n",
        "\n",
        "df.drop(columns=['first','second','Layer1HDD','Layer1SSD','Layer1Hybrid','Layer1Flash_Storage','Layer2HDD','Layer2SSD','Layer2Hybrid','Layer2Flash_Storage'],inplace=True)"
      ],
      "metadata": {
        "id": "RfX8cX8K_ZLo"
      },
      "execution_count": null,
      "outputs": []
    },
    {
      "cell_type": "code",
      "source": [
        "df.head(5)"
      ],
      "metadata": {
        "id": "tJqLcsjOGGix"
      },
      "execution_count": null,
      "outputs": []
    },
    {
      "cell_type": "code",
      "source": [
        "df.drop(columns=['Memory'],inplace = True)"
      ],
      "metadata": {
        "id": "CTuD2pDLGXIy"
      },
      "execution_count": null,
      "outputs": []
    },
    {
      "cell_type": "code",
      "source": [
        "df.corr()['Price']"
      ],
      "metadata": {
        "id": "Qehlb0DIGgUh"
      },
      "execution_count": null,
      "outputs": []
    },
    {
      "cell_type": "code",
      "source": [
        "df.drop(columns=['Hybrid','Flash_Storage'],inplace=True)"
      ],
      "metadata": {
        "id": "SHeWwgWEG9LR"
      },
      "execution_count": null,
      "outputs": []
    },
    {
      "cell_type": "code",
      "source": [
        "df['Gpu'].value_counts()"
      ],
      "metadata": {
        "id": "sb5Asv63HM4L"
      },
      "execution_count": null,
      "outputs": []
    },
    {
      "cell_type": "code",
      "source": [
        "df['Gpu brand'] = df['Gpu'].apply(lambda x: x.split()[0])"
      ],
      "metadata": {
        "id": "kFUPT9eHHsXu"
      },
      "execution_count": null,
      "outputs": []
    },
    {
      "cell_type": "code",
      "source": [
        "df=df[df['Gpu brand'] !='ARM']\n"
      ],
      "metadata": {
        "id": "ohlF0DZIH7lC"
      },
      "execution_count": null,
      "outputs": []
    },
    {
      "cell_type": "code",
      "source": [
        "df.drop(columns=['Gpu'],inplace= True)"
      ],
      "metadata": {
        "id": "KexM8yLPJAWd"
      },
      "execution_count": null,
      "outputs": []
    },
    {
      "cell_type": "code",
      "source": [
        "sns.barplot(x=df['Gpu brand'],y=df['Price'])"
      ],
      "metadata": {
        "id": "xzz8Feh-IizH"
      },
      "execution_count": null,
      "outputs": []
    },
    {
      "cell_type": "code",
      "source": [
        "df['OpSys'].value_counts()"
      ],
      "metadata": {
        "id": "2dJVw1weJIFB"
      },
      "execution_count": null,
      "outputs": []
    },
    {
      "cell_type": "code",
      "source": [
        "sns.barplot(x=df['OpSys'],y=df['Price'])\n",
        "plt.xticks(rotation=90)"
      ],
      "metadata": {
        "id": "COk3aBKJJY8U"
      },
      "execution_count": null,
      "outputs": []
    },
    {
      "cell_type": "code",
      "source": [
        "def cat_os(inp):\n",
        "  if inp =='Windows 10' or inp == 'Windows 7' or inp == 'Windows 10 S':\n",
        "    return 'Windows'\n",
        "  elif inp == 'macOS' or inp =='Mac OS X':\n",
        "    return 'Mac'\n",
        "  else:\n",
        "    return 'Others/No Os/Linux'"
      ],
      "metadata": {
        "id": "M8rIXufSJoZN"
      },
      "execution_count": null,
      "outputs": []
    },
    {
      "cell_type": "code",
      "source": [
        "df['os']= df['OpSys'].apply(cat_os)"
      ],
      "metadata": {
        "id": "CncETscgKYYD"
      },
      "execution_count": null,
      "outputs": []
    },
    {
      "cell_type": "code",
      "source": [
        "df.drop(columns=['OpSys'],inplace=True)"
      ],
      "metadata": {
        "id": "UwdMb1zJKmGN"
      },
      "execution_count": null,
      "outputs": []
    },
    {
      "cell_type": "code",
      "source": [
        "sns.barplot(x=df['os'],y=df['Price'])"
      ],
      "metadata": {
        "id": "gxCFiTNMK7o4"
      },
      "execution_count": null,
      "outputs": []
    },
    {
      "cell_type": "code",
      "source": [
        "sns.distplot(df['Weight'])"
      ],
      "metadata": {
        "id": "nsbo3_01LJn1"
      },
      "execution_count": null,
      "outputs": []
    },
    {
      "cell_type": "code",
      "source": [
        "sns.scatterplot(x=df['Weight'],y=df['Price'])"
      ],
      "metadata": {
        "id": "Aoi33Qk5LP2-"
      },
      "execution_count": null,
      "outputs": []
    },
    {
      "cell_type": "code",
      "source": [
        "df.corr()['Price']"
      ],
      "metadata": {
        "id": "xa_T9gWvLY62"
      },
      "execution_count": null,
      "outputs": []
    },
    {
      "cell_type": "code",
      "source": [
        "sns.heatmap(df.corr())"
      ],
      "metadata": {
        "id": "FN1oV_wNLex6"
      },
      "execution_count": null,
      "outputs": []
    },
    {
      "cell_type": "code",
      "source": [
        "sns.distplot(np.log(df['Price']))"
      ],
      "metadata": {
        "id": "cmLMdIN8L0aj"
      },
      "execution_count": null,
      "outputs": []
    },
    {
      "cell_type": "code",
      "source": [
        "X=df.drop(columns=['Price'])\n",
        "y = np.log(df['Price'])"
      ],
      "metadata": {
        "id": "ZZgdNt4-MLuG"
      },
      "execution_count": null,
      "outputs": []
    },
    {
      "cell_type": "code",
      "source": [
        "from sklearn.model_selection import train_test_split\n",
        "\n",
        "X_train,X_test,y_train,y_test =train_test_split(X,y,test_size=0.15,random_state=2)"
      ],
      "metadata": {
        "id": "EvFi4a2SMhVZ"
      },
      "execution_count": null,
      "outputs": []
    },
    {
      "cell_type": "code",
      "source": [
        "from sklearn.compose import ColumnTransformer\n",
        "from sklearn.pipeline import Pipeline\n",
        "from sklearn.metrics import r2_score,mean_absolute_error\n",
        "from sklearn.preprocessing import OneHotEncoder\n",
        "from sklearn.compose import ColumnTransformer\n",
        "from sklearn.pipeline import Pipeline\n",
        "from sklearn.preprocessing import OneHotEncoder\n",
        "from sklearn.linear_model import LinearRegression\n",
        "from sklearn.metrics import r2_score, mean_absolute_error\n",
        "\n",
        "from sklearn.linear_model import LinearRegression,Ridge,Lasso\n",
        "from sklearn.neighbors import KNeighborsRegressor\n",
        "from sklearn.tree import DecisionTreeRegressor\n",
        "from sklearn.ensemble import RandomForestRegressor,GradientBoostingClassifier,AdaBoostRegressor,ExtraTreesRegressor\n",
        "from sklearn.svm import SVR\n",
        "from xgboost import XGBRegressor\n",
        "\n",
        "from sklearn.compose import ColumnTransformer\n",
        "from sklearn.pipeline import Pipeline\n",
        "from sklearn.preprocessing import OneHotEncoder\n",
        "from sklearn.linear_model import LinearRegression\n",
        "from sklearn.metrics import r2_score, mean_absolute_error"
      ],
      "metadata": {
        "id": "l5M8Lvc4MhOx"
      },
      "execution_count": null,
      "outputs": []
    },
    {
      "cell_type": "code",
      "source": [
        "from sklearn.compose import ColumnTransformer\n",
        "from sklearn.pipeline import Pipeline\n",
        "from sklearn.preprocessing import OneHotEncoder\n",
        "from sklearn.linear_model import LinearRegression\n",
        "from sklearn.metrics import r2_score, mean_absolute_error\n",
        "\n",
        "# Assuming X_train, y_train, X_test, and y_test are defined elsewhere in your code\n",
        "\n",
        "# Correct the 'drop' parameter to 'drop='first'' instead of 'drop='First''\n",
        "step1 = ColumnTransformer(transformers=[\n",
        "    ('col_tnf', OneHotEncoder(sparse=False, drop='first'), [0, 1, 7, 10, 11])\n",
        "], remainder='passthrough')\n",
        "\n",
        "step2 = LinearRegression()\n",
        "pipe = Pipeline([\n",
        "    ('step1', step1),\n",
        "    ('step2', step2)\n",
        "])\n",
        "\n",
        "pipe.fit(X_train, y_train)\n",
        "\n",
        "y_pred = pipe.predict(X_test)\n",
        "print('R2 score ', r2_score(y_test, y_pred))\n",
        "print('MAE', mean_absolute_error(y_test, y_pred))\n"
      ],
      "metadata": {
        "id": "rR_tIuhkUEVS"
      },
      "execution_count": null,
      "outputs": []
    },
    {
      "cell_type": "markdown",
      "source": [
        "Ridge Regression"
      ],
      "metadata": {
        "id": "DHD-TwOaYlhf"
      }
    },
    {
      "cell_type": "code",
      "source": [
        "step1= ColumnTransformer(transformers=[\n",
        "    ('col_tnf',OneHotEncoder(sparse=False,drop='first'),[0,1,7,10,11])\n",
        "],remainder='passthrough')\n",
        "\n",
        "step2= Ridge(alpha=10)\n",
        "pipe = Pipeline([\n",
        "    ('step1',step1),\n",
        "    ('step2',step2)\n",
        "])\n",
        "\n",
        "pipe.fit(X_train,y_train)\n",
        "\n",
        "y_pred= pipe.predict(X_test)\n",
        "\n",
        "print('R2 score ', r2_score(y_test, y_pred))\n",
        "print('MAE', mean_absolute_error(y_test, y_pred))"
      ],
      "metadata": {
        "id": "uTpa42baUjDD"
      },
      "execution_count": null,
      "outputs": []
    },
    {
      "cell_type": "markdown",
      "source": [
        "Lasso Regression"
      ],
      "metadata": {
        "id": "dOFuezhib7oR"
      }
    },
    {
      "cell_type": "code",
      "source": [
        "# Assuming X_train, y_train, X_test, and y_test are defined elsewhere in your code\n",
        "\n",
        "step1 = ColumnTransformer(transformers=[\n",
        "    ('Col_tnf', OneHotEncoder(sparse=False, drop='first'), [0, 1, 7, 10, 11])\n",
        "], remainder='passthrough')\n",
        "\n",
        "step2 = Lasso(alpha=0.001)\n",
        "\n",
        "pipe = Pipeline([\n",
        "    ('step1', step1),\n",
        "    ('step2', step2)\n",
        "])\n",
        "\n",
        "# Use X_train and y_train for fitting\n",
        "pipe.fit(X_train, y_train)\n",
        "\n",
        "# Use X_test for predictions\n",
        "y_pred = pipe.predict(X_test)\n",
        "\n",
        "print('R2 score ', r2_score(y_test, y_pred))\n",
        "print('MAE', mean_absolute_error(y_test, y_pred))"
      ],
      "metadata": {
        "id": "od6GDAGyd7TX"
      },
      "execution_count": null,
      "outputs": []
    },
    {
      "cell_type": "markdown",
      "source": [
        "KNN"
      ],
      "metadata": {
        "id": "dXtyclMVeCYi"
      }
    },
    {
      "cell_type": "code",
      "source": [
        "step1 = ColumnTransformer(transformers=[\n",
        "    ('Col_tnf',OneHotEncoder(sparse=False,drop='first'),[0,1,7,10,11])\n",
        "],remainder='passthrough')\n",
        "\n",
        "step2= KNeighborsRegressor(n_neighbors=3)\n",
        "pipe = Pipeline([\n",
        "    ('step1',step1),\n",
        "    ('step2',step2)\n",
        "])\n",
        "# Use X_train and y_train for fitting\n",
        "pipe.fit(X_train, y_train)\n",
        "\n",
        "# Use X_test for predictions\n",
        "y_pred = pipe.predict(X_test)\n",
        "\n",
        "print('R2 score ', r2_score(y_test, y_pred))\n",
        "print('MAE', mean_absolute_error(y_test, y_pred))"
      ],
      "metadata": {
        "id": "u0q6m7z0eIfy"
      },
      "execution_count": null,
      "outputs": []
    },
    {
      "cell_type": "markdown",
      "source": [
        "Decision tree"
      ],
      "metadata": {
        "id": "RaFiwJDDgWEz"
      }
    },
    {
      "cell_type": "code",
      "source": [
        "step1 = ColumnTransformer(transformers=[\n",
        "    ('Col_tnf',OneHotEncoder(sparse=False,drop='first'),[0,1,7,10,11])\n",
        "],remainder='passthrough')\n",
        "\n",
        "step2= DecisionTreeRegressor(max_depth=8)\n",
        "pipe = Pipeline([\n",
        "    ('step1',step1),\n",
        "    ('step2',step2)\n",
        "])\n",
        "# Use X_train and y_train for fitting\n",
        "pipe.fit(X_train, y_train)\n",
        "\n",
        "# Use X_test for predictions\n",
        "y_pred = pipe.predict(X_test)\n",
        "\n",
        "print('R2 score ', r2_score(y_test, y_pred))\n",
        "print('MAE', mean_absolute_error(y_test, y_pred))"
      ],
      "metadata": {
        "id": "-r-326KggHKh"
      },
      "execution_count": null,
      "outputs": []
    },
    {
      "cell_type": "markdown",
      "source": [
        "random forest"
      ],
      "metadata": {
        "id": "xlKqsmIYga_8"
      }
    },
    {
      "cell_type": "code",
      "source": [
        "step1 = ColumnTransformer(transformers=[\n",
        "    ('Col_tnf',OneHotEncoder(sparse=False,drop='first'),[0,1,7,10,11])\n",
        "],remainder='passthrough')\n",
        "\n",
        "step2= RandomForestRegressor(n_estimators=100,\n",
        "                             random_state=3,\n",
        "                             max_samples=0.5,\n",
        "                             max_features=0.75,\n",
        "                             max_depth=15)\n",
        "pipe = Pipeline([\n",
        "    ('step1',step1),\n",
        "    ('step2',step2)\n",
        "])\n",
        "# Use X_train and y_train for fitting\n",
        "pipe.fit(X_train, y_train)\n",
        "\n",
        "# Use X_test for predictions\n",
        "y_pred = pipe.predict(X_test)\n",
        "\n",
        "print('R2 score ', r2_score(y_test, y_pred))\n",
        "print('MAE', mean_absolute_error(y_test, y_pred))"
      ],
      "metadata": {
        "id": "BtiRytxiggnE"
      },
      "execution_count": null,
      "outputs": []
    },
    {
      "cell_type": "markdown",
      "source": [],
      "metadata": {
        "id": "3t2qUWoug6gX"
      }
    },
    {
      "cell_type": "code",
      "source": [
        "from sklearn.compose import ColumnTransformer\n",
        "from sklearn.preprocessing import OneHotEncoder\n",
        "from sklearn.ensemble import ExtraTreesRegressor\n",
        "from sklearn.pipeline import Pipeline\n",
        "from sklearn.metrics import r2_score, mean_absolute_error\n",
        "\n",
        "\n",
        "from sklearn.compose import ColumnTransformer\n",
        "from sklearn.preprocessing import OneHotEncoder\n",
        "from sklearn.ensemble import ExtraTreesRegressor\n",
        "from sklearn.pipeline import Pipeline\n",
        "from sklearn.metrics import r2_score, mean_absolute_error\n",
        "\n",
        "# Assuming X_train, y_train, X_test, and y_test are defined elsewhere in your code\n",
        "\n",
        "step1 = ColumnTransformer(transformers=[\n",
        "    ('Col_tnf', OneHotEncoder(sparse=False, drop='first'), [0, 1, 7, 10, 11])\n",
        "], remainder='passthrough')\n",
        "\n",
        "step2 = ExtraTreesRegressor(n_estimators=100,\n",
        "                             random_state=3,\n",
        "                             max_samples=None,\n",
        "                             max_features=0.75,\n",
        "                             max_depth=15)\n",
        "\n",
        "pipe = Pipeline([\n",
        "    ('step1', step1),\n",
        "    ('step2', step2)\n",
        "])\n",
        "\n",
        "# Use X_train and y_train for fitting\n",
        "pipe.fit(X_train, y_train)\n",
        "\n",
        "# Use X_test for predictions\n",
        "y_pred = pipe.predict(X_test)\n",
        "\n",
        "print('R2 score ', r2_score(y_test, y_pred))\n",
        "print('MAE', mean_absolute_error(y_test, y_pred))\n"
      ],
      "metadata": {
        "id": "TQZWrVvPg56K"
      },
      "execution_count": null,
      "outputs": []
    },
    {
      "cell_type": "markdown",
      "source": [
        "AdaBoost"
      ],
      "metadata": {
        "id": "-HyD__Dnib5T"
      }
    },
    {
      "cell_type": "code",
      "source": [
        "# Assuming X_train, y_train, X_test, and y_test are defined elsewhere in your code\n",
        "\n",
        "step1 = ColumnTransformer(transformers=[\n",
        "    ('Col_tnf', OneHotEncoder(sparse=False, drop='first'), [0, 1, 7, 10, 11])\n",
        "], remainder='passthrough')\n",
        "\n",
        "step2 = AdaBoostRegressor(n_estimators=15,learning_rate=1.0)\n",
        "\n",
        "pipe = Pipeline([\n",
        "    ('step1', step1),\n",
        "    ('step2', step2)\n",
        "])\n",
        "\n",
        "# Use X_train and y_train for fitting\n",
        "pipe.fit(X_train, y_train)\n",
        "\n",
        "# Use X_test for predictions\n",
        "y_pred = pipe.predict(X_test)\n",
        "\n",
        "print('R2 score ', r2_score(y_test, y_pred))\n",
        "print('MAE', mean_absolute_error(y_test, y_pred))"
      ],
      "metadata": {
        "id": "OZ7n3PFjiduL"
      },
      "execution_count": null,
      "outputs": []
    },
    {
      "cell_type": "markdown",
      "source": [],
      "metadata": {
        "id": "X_VQinrkixk4"
      }
    },
    {
      "cell_type": "code",
      "source": [
        "from sklearn.compose import ColumnTransformer\n",
        "from sklearn.preprocessing import OneHotEncoder\n",
        "from sklearn.ensemble import ExtraTreesRegressor, GradientBoostingRegressor\n",
        "from sklearn.pipeline import Pipeline\n",
        "from sklearn.metrics import r2_score, mean_absolute_error\n",
        "\n",
        "# Assuming X_train, y_train, X_test, and y_test are defined elsewhere in your code\n",
        "\n",
        "step1 = ColumnTransformer(transformers=[\n",
        "    ('Col_tnf', OneHotEncoder(sparse=False, drop='first'), [0, 1, 7, 10, 11])\n",
        "], remainder='passthrough')\n",
        "\n",
        "step2 = GradientBoostingRegressor(n_estimators=500)  # Import GradientBoostingRegressor\n",
        "\n",
        "pipe = Pipeline([\n",
        "    ('step1', step1),\n",
        "    ('step2', step2)\n",
        "])\n",
        "\n",
        "# Use X_train and y_train for fitting\n",
        "pipe.fit(X_train, y_train)\n",
        "\n",
        "# Use X_test for predictions\n",
        "y_pred = pipe.predict(X_test)\n",
        "\n",
        "print('R2 score ', r2_score(y_test, y_pred))\n",
        "print('MAE', mean_absolute_error(y_test, y_pred))\n"
      ],
      "metadata": {
        "id": "JHEQTNV4iyN2"
      },
      "execution_count": null,
      "outputs": []
    },
    {
      "cell_type": "markdown",
      "source": [
        "Voting Regressor"
      ],
      "metadata": {
        "id": "eY5a6lvWkb7R"
      }
    },
    {
      "cell_type": "code",
      "source": [
        "from sklearn.ensemble import RandomForestRegressor, GradientBoostingRegressor, ExtraTreesRegressor, VotingRegressor\n",
        "from sklearn.compose import ColumnTransformer\n",
        "from sklearn.pipeline import Pipeline\n",
        "from sklearn.preprocessing import OneHotEncoder\n",
        "from sklearn.metrics import r2_score, mean_absolute_error\n",
        "from xgboost import XGBRegressor\n",
        "from sklearn.linear_model import LinearRegression\n",
        "\n",
        "# Assuming X_train, y_train, X_test, and y_test are defined elsewhere in your code\n",
        "\n",
        "step1 = ColumnTransformer(transformers=[\n",
        "    ('Col_tnf', OneHotEncoder(sparse=False, drop='first'), [0, 1, 7, 10, 11])\n",
        "], remainder='passthrough')\n",
        "\n",
        "rf = RandomForestRegressor(n_estimators=350,\n",
        "                           random_state=3,\n",
        "                           max_samples=0.5,\n",
        "                           max_features=0.75,\n",
        "                           max_depth=15)\n",
        "\n",
        "gbdt = GradientBoostingRegressor(n_estimators=100,\n",
        "                                 max_features=0.5)\n",
        "\n",
        "xgb = XGBRegressor(n_estimators=25, learning_rate=0.3, max_depth=5)\n",
        "\n",
        "\n",
        "\n",
        "et = ExtraTreesRegressor(n_estimators=100,\n",
        "                         random_state=3,\n",
        "                         max_samples=None,  # Fix the typo here\n",
        "                         max_features=0.75,\n",
        "                         max_depth=10)\n",
        "\n",
        "# Fix the syntax for the VotingRegressor\n",
        "step2 = VotingRegressor([('rf', rf), ('gbdt', gbdt), ('xgb', xgb), ('et', et)], weights=[5, 1, 1, 1])\n",
        "\n",
        "pipe = Pipeline([\n",
        "    ('step1', step1),\n",
        "    ('step2', step2)\n",
        "])\n",
        "\n",
        "pipe.fit(X_train, y_train)\n",
        "\n",
        "y_pred = pipe.predict(X_test)\n",
        "\n",
        "print('R2 score', r2_score(y_test, y_pred))\n",
        "print('MAE', mean_absolute_error(y_test, y_pred))\n"
      ],
      "metadata": {
        "id": "rKGCz2GwkIh7"
      },
      "execution_count": null,
      "outputs": []
    },
    {
      "cell_type": "code",
      "source": [
        "# exporting the model\n",
        "\n",
        "import pickle\n",
        "pickle.dump(df,open('df.pkl','wb'))\n",
        "pickle.dump(pipe,open('pipe.pkl','wb'))"
      ],
      "metadata": {
        "id": "3qjD0hzrphXI"
      },
      "execution_count": null,
      "outputs": []
    },
    {
      "cell_type": "code",
      "source": [
        "!pip install streamlit"
      ],
      "metadata": {
        "id": "CsHJoO3pqOQ3"
      },
      "execution_count": null,
      "outputs": []
    },
    {
      "cell_type": "code",
      "source": [
        "import streamlit as st\n",
        "import pickle\n",
        "\n",
        "pipe = pickle.load(open('pipe.pkl','rb'))\n",
        "df = pickle.load(open('df.pkl','rb'))\n",
        "st.title('Laptop Price Predictor')\n",
        "\n",
        "# brand\n",
        "company = st.selectbox('Brand',df['Company'].unique())\n",
        "\n",
        "# type of laptop\n",
        "types = st.selectbox('Type',df['TypeName'].unique())\n",
        "\n",
        "# ram\n",
        "types = st.selectbox('RAM(in GB)',[1,2,6,8,12,16,24,32,64])\n",
        "\n",
        "# weight\n",
        "weight = st.number_input('weight of the laptop')\n",
        "\n",
        "# touchscreen\n",
        "touchscreen =st.selectbox('Touchscreen',['No','Yes'])\n",
        "\n",
        "# ips\n",
        "ips =st.selectbox('IPS',['No','Yes'])\n",
        "\n",
        "# screen size\n",
        "screen_size = st.number_input('Screen Size')\n",
        "\n",
        "# resolution\n",
        "resolution = st.selectbox('Screen Resolution',['1920x11080','1366x768',\n",
        "                                               '1600x900','3840x2160','3200x1800','2560x1600',\n",
        "                                               '2560x1440','2304x1440'])\n",
        "\n",
        "# cpu\n",
        "cpu = st.selectbox('CPU',df['Cpu brand'].unique())\n",
        "\n",
        "# ppi\n",
        "hdd = st.selectbox('HDD(in GB)',[0,128,256,512,1024,2048])\n",
        "\n",
        "# ssd\n",
        "ssd = st.selectbox('SSD(in GB)',[0,8,128,256,512,1024])\n",
        "\n",
        "# gpu\n",
        "gpu = st.selectbox('OS',df['Gpu brand'].unique())\n",
        "\n",
        "# os\n",
        "os = st.selectbox('OS',df['os'].unique())\n",
        "\n",
        "if st.button('Predict Price'):\n",
        "  # query\n",
        "\n",
        "  X_res= int(resolution.split('x')[0])\n",
        "  Y_res = int(resolution.split('x')[1])\n",
        "\n",
        "  ppi = ((X_res**2) + (Y_res**2))**0.5/screen_size\n",
        "\n",
        "\n",
        "  if touchscreen == 'Yes':\n",
        "    touchscreen = 1\n",
        "  else:\n",
        "    touchscreen = 0\n",
        "  query = np.array([company,type,weight,touchscreen,ips,ppi,cpu,hdd,ssd,gpu,os])\n",
        "\n",
        "  query = query.reshape(1,12)\n",
        "  st.title('The predicted price of this configuration' + str(int(np.exp(pipe.predict(query)[0]))))"
      ],
      "metadata": {
        "id": "1OBUByDOqjF0"
      },
      "execution_count": null,
      "outputs": []
    }
  ]
}