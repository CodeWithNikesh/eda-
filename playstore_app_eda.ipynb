{
  "nbformat": 4,
  "nbformat_minor": 0,
  "metadata": {
    "colab": {
      "private_outputs": true,
      "provenance": [],
      "collapsed_sections": [
        "FJNUwmbgGyua",
        "w6K7xa23Elo4",
        "mDgbUHAGgjLW",
        "uJqKM1EWcua9",
        "98-DnCPClZjw",
        "grDbwO7tbqvn",
        "MSa1f5Uengrz",
        "K5QZ13OEpz2H",
        "lQ7QKXXCp7Bj",
        "448CDAPjqfQr",
        "t6dVpIINYklI",
        "ijmpgYnKYklI",
        "-JiQyfWJYklI",
        "fge-S5ZAYoAp",
        "85gYPyotYoAp",
        "RoGjAbkUYoAp",
        "iky9q4vBYrdO",
        "F6T5p64dYrdO",
        "y-Ehk30pYrdP",
        "QHF8YVU7Yuh3",
        "GwzvFGzlYuh3",
        "qYpmQ266Yuh3",
        "bbFf2-_FphqN",
        "_ouA3fa0phqN",
        "Seke61FWphqN",
        "t27r6nlMphqO",
        "r2jJGEOYphqO",
        "b0JNsNcRphqO",
        "jj7wYXLtphqO",
        "eZrbJ2SmphqO",
        "rFu4xreNphqO",
        "gCFgpxoyphqP",
        "OVtJsKN_phqQ",
        "lssrdh5qphqQ",
        "1M8mcRywphqQ",
        "tgIPom80phqQ",
        "JMzcOPDDphqR",
        "x-EpHcCOp1ci",
        "X_VqEhTip1ck",
        "8zGJKyg5p1ck",
        "PVzmfK_Ep1ck",
        "n3dbpmDWp1ck",
        "ylSl6qgtp1ck",
        "ZWILFDl5p1ck",
        "M7G43BXep1ck",
        "Ag9LCva-p1cl",
        "E6MkPsBcp1cl",
        "2cELzS2fp1cl",
        "3MPXvC8up1cl",
        "NC_X3p0fY2L0",
        "UV0SzAkaZNRQ",
        "YPEH6qLeZNRQ",
        "q29F0dvdveiT",
        "EXh0U9oCveiU",
        "22aHeOlLveiV",
        "JcMwzZxoAimU",
        "8G2x9gOozGDZ",
        "gCX9965dhzqZ",
        "gIfDvo9L0UH2"
      ],
      "include_colab_link": true
    },
    "kernelspec": {
      "name": "python3",
      "display_name": "Python 3"
    },
    "language_info": {
      "name": "python"
    }
  },
  "cells": [
    {
      "cell_type": "markdown",
      "metadata": {
        "id": "view-in-github",
        "colab_type": "text"
      },
      "source": [
        "<a href=\"https://colab.research.google.com/github/nikesh11xx/eda-/blob/main/playstore_app_eda.ipynb\" target=\"_parent\"><img src=\"https://colab.research.google.com/assets/colab-badge.svg\" alt=\"Open In Colab\"/></a>"
      ]
    },
    {
      "cell_type": "markdown",
      "source": [
        "# **Project Name**    - Playstore App EDA\n",
        "\n",
        "---\n",
        "\n",
        "\n",
        "\n"
      ],
      "metadata": {
        "id": "vncDsAP0Gaoa"
      }
    },
    {
      "cell_type": "markdown",
      "source": [
        "##### **Project Type**    - EDA\n",
        "\n"
      ],
      "metadata": {
        "id": "beRrZCGUAJYm"
      }
    },
    {
      "cell_type": "markdown",
      "source": [
        "# **Project Summary -**"
      ],
      "metadata": {
        "id": "FJNUwmbgGyua"
      }
    },
    {
      "cell_type": "markdown",
      "source": [
        "\n",
        "\n",
        "**Playstore App Dataset Summary**\n",
        "\n",
        "The Playstore app dataset is a comprehensive collection of over 10,000 Android applications available on the Google Play Store. It provides valuable insights into the app ecosystem, including app categories, ratings, reviews, and installation counts.\n",
        "\n",
        "**Key Findings:**\n",
        "\n",
        "* **App Categories:** The dataset covers a wide range of app categories, including games, productivity tools, social networking apps, and more.\n",
        "* **Ratings and Reviews:** The dataset includes both user ratings and review text for each app, providing valuable feedback on app quality and user experience.\n",
        "* **Installation Counts:** The dataset provides information on the number of times each app has been installed, indicating its popularity among users.\n",
        "* **App Size and Price:** The dataset includes data on app size and price, providing insights into the resource requirements and monetization strategies of different apps.\n",
        "\n",
        "**Data Analysis and Visualization:**\n",
        "\n",
        "The dataset can be analyzed using various techniques to uncover valuable insights about the Playstore app ecosystem. Data visualization tools can be used to explore app categories, ratings, and installation counts over time. Sentiment analysis can be performed on app reviews to gauge user sentiment towards specific apps or categories.\n",
        "\n",
        "*\n",
        "The Playstore app dataset has several potential applications, including:\n",
        "\n",
        "* **App Recommendation:** The dataset can be used to build recommendation systems that suggest apps to users based on their preferences and past behavior.\n",
        "* **App Market Analysis:** The dataset can be used to analyze trends and patterns in the app market, identifying emerging categories and popular app features.\n",
        "* **App Optimization:** The dataset can be used to identify areas for improvement in existing apps, such as improving ratings, increasing installations, or optimizing app size.\n",
        "\n"
      ],
      "metadata": {
        "id": "F6v_1wHtG2nS"
      }
    },
    {
      "cell_type": "markdown",
      "source": [
        "# **GitHub Link -**"
      ],
      "metadata": {
        "id": "w6K7xa23Elo4"
      }
    },
    {
      "cell_type": "markdown",
      "source": [
        "Provide your GitHub Link here."
      ],
      "metadata": {
        "id": "h1o69JH3Eqqn"
      }
    },
    {
      "cell_type": "markdown",
      "source": [
        "# **Problem Statement**\n"
      ],
      "metadata": {
        "id": "yQaldy8SH6Dl"
      }
    },
    {
      "cell_type": "markdown",
      "source": [
        "\n",
        "**Problem Statement:**\n",
        "\n",
        "Given the Playstore app dataset, the goal of this project is to analyze and understand the characteristics and trends of Android applications on the Google Play Store. The analysis should focus on identifying insights that can be used to improve app recommendations, optimize app market strategies, and enhance existing apps.\n",
        "\n",
        "**Specific objectives include:**\n",
        "\n",
        "* Identifying the most popular app categories and their growth over time.\n",
        "* Analyzing user ratings and reviews to understand user sentiment towards different apps and categories.\n",
        "* Investigating the relationship between app size, price, and installation counts.\n",
        "* Exploring patterns and trends in app releases and updates.\n",
        "* Identifying potential opportunities for app developers and publishers.\n",
        "\n",
        "**The project aims to provide valuable insights that can be used to:**\n",
        "\n",
        "* Improve the user experience and satisfaction with Playstore apps.\n",
        "* Optimize app recommendations and discovery mechanisms.\n",
        "* Inform app developers and publishers about market trends and user preferences.\n",
        "* Drive innovation and growth in the Android app ecosystem.\n"
      ],
      "metadata": {
        "id": "DpeJGUA3kjGy"
      }
    },
    {
      "cell_type": "markdown",
      "source": [
        "# ***Let's Begin !***"
      ],
      "metadata": {
        "id": "O_i_v8NEhb9l"
      }
    },
    {
      "cell_type": "markdown",
      "source": [
        "## ***1. Know Your Data***"
      ],
      "metadata": {
        "id": "HhfV-JJviCcP"
      }
    },
    {
      "cell_type": "markdown",
      "source": [
        "### Import Libraries"
      ],
      "metadata": {
        "id": "Y3lxredqlCYt"
      }
    },
    {
      "cell_type": "code",
      "source": [
        "# Import Libraries\n",
        "import numpy as np\n",
        "import pandas as pd\n",
        "import matplotlib.pyplot as plt\n",
        "import seaborn as sns\n",
        "import warnings\n",
        "warnings.filterwarnings('ignore')"
      ],
      "metadata": {
        "id": "M8Vqi-pPk-HR"
      },
      "execution_count": null,
      "outputs": []
    },
    {
      "cell_type": "markdown",
      "source": [
        "### Dataset Loading"
      ],
      "metadata": {
        "id": "3RnN4peoiCZX"
      }
    },
    {
      "cell_type": "code",
      "source": [
        "# Load Dataset\n",
        "from google.colab import drive\n",
        "drive.mount('/content/drive')"
      ],
      "metadata": {
        "id": "4CkvbW_SlZ_R"
      },
      "execution_count": null,
      "outputs": []
    },
    {
      "cell_type": "code",
      "source": [
        "df = pd.read_csv('/content/drive/MyDrive/csv data/playstore app  dataset/Play Store Data (2).csv')\n",
        "df_review = pd.read_csv('/content/drive/MyDrive/csv data/playstore app  dataset/User Reviews (2).csv')"
      ],
      "metadata": {
        "id": "LEHCJFE9hQjq"
      },
      "execution_count": null,
      "outputs": []
    },
    {
      "cell_type": "code",
      "source": [
        "#  set option to  be maximum for rows and columns\n",
        "pd.set_option('display.max_columns',None)\n",
        "pd.set_option('display.max_columns',None)"
      ],
      "metadata": {
        "id": "T79rGsa1_JN9"
      },
      "execution_count": null,
      "outputs": []
    },
    {
      "cell_type": "markdown",
      "source": [
        "### Dataset First View"
      ],
      "metadata": {
        "id": "x71ZqKXriCWQ"
      }
    },
    {
      "cell_type": "code",
      "source": [
        "# Dataset First Look\n",
        "df.head(5)"
      ],
      "metadata": {
        "id": "LWNFOSvLl09H"
      },
      "execution_count": null,
      "outputs": []
    },
    {
      "cell_type": "code",
      "source": [
        "df_review.sample(5)"
      ],
      "metadata": {
        "id": "lq_u6xQLnUr6"
      },
      "execution_count": null,
      "outputs": []
    },
    {
      "cell_type": "markdown",
      "source": [
        "### Dataset Rows & Columns count"
      ],
      "metadata": {
        "id": "7hBIi_osiCS2"
      }
    },
    {
      "cell_type": "code",
      "source": [
        "# Dataset Rows & Columns count\n",
        "\n",
        "print(f'The total no of rows {df.shape[0]} \\nThe total no of columns {df.shape[1]}')"
      ],
      "metadata": {
        "id": "Kllu7SJgmLij"
      },
      "execution_count": null,
      "outputs": []
    },
    {
      "cell_type": "markdown",
      "source": [],
      "metadata": {
        "id": "cXuuaORBADMp"
      }
    },
    {
      "cell_type": "markdown",
      "source": [
        "### Dataset Information"
      ],
      "metadata": {
        "id": "JlHwYmJAmNHm"
      }
    },
    {
      "cell_type": "code",
      "source": [
        "# Dataset Info\n",
        "df.info()"
      ],
      "metadata": {
        "id": "e9hRXRi6meOf"
      },
      "execution_count": null,
      "outputs": []
    },
    {
      "cell_type": "markdown",
      "source": [
        "#### Duplicate Values"
      ],
      "metadata": {
        "id": "35m5QtbWiB9F"
      }
    },
    {
      "cell_type": "code",
      "source": [
        "# Dataset Duplicate Value Count\n",
        "df.duplicated().sum()"
      ],
      "metadata": {
        "id": "1sLdpKYkmox0"
      },
      "execution_count": null,
      "outputs": []
    },
    {
      "cell_type": "markdown",
      "source": [
        "#### Missing Values/Null Values"
      ],
      "metadata": {
        "id": "PoPl-ycgm1ru"
      }
    },
    {
      "cell_type": "code",
      "source": [
        "# Missing Values/Null Values Count\n",
        "print(f'Missing values in all columns \\n\\n{df.isnull().sum()}')\n",
        "print('*' * 50)\n",
        "print(f'Missing value in percentage \\n\\n{(df.isnull().sum()/len(df))*100}')"
      ],
      "metadata": {
        "id": "GgHWkxvamxVg"
      },
      "execution_count": null,
      "outputs": []
    },
    {
      "cell_type": "code",
      "source": [
        "# Visualizing the missing values\n",
        "plt.figure(figsize=(6,4))\n",
        "sns.heatmap(df.isnull(),cmap='viridis',cbar=False,yticklabels=False)\n",
        "plt.title('Missing Values Heatmap')"
      ],
      "metadata": {
        "id": "3q5wnI3om9sJ"
      },
      "execution_count": null,
      "outputs": []
    },
    {
      "cell_type": "markdown",
      "source": [
        "### What did you know about your dataset?"
      ],
      "metadata": {
        "id": "H0kj-8xxnORC"
      }
    },
    {
      "cell_type": "markdown",
      "source": [
        "In rating columns 1474 values are missing\n",
        "in current ver 8 values and android ver 3 values are missing are missing\n"
      ],
      "metadata": {
        "id": "gfoNAAC-nUe_"
      }
    },
    {
      "cell_type": "markdown",
      "source": [
        "## ***2. Understanding Your Variables***"
      ],
      "metadata": {
        "id": "nA9Y7ga8ng1Z"
      }
    },
    {
      "cell_type": "code",
      "source": [
        "# Dataset Columns\n",
        "print(df.columns)"
      ],
      "metadata": {
        "id": "j7xfkqrt5Ag5"
      },
      "execution_count": null,
      "outputs": []
    },
    {
      "cell_type": "code",
      "source": [
        "# Dataset Describe\n",
        "df.describe(include='all')"
      ],
      "metadata": {
        "id": "DnOaZdaE5Q5t"
      },
      "execution_count": null,
      "outputs": []
    },
    {
      "cell_type": "markdown",
      "source": [
        "### Variables Description"
      ],
      "metadata": {
        "id": "PBTbrJXOngz2"
      }
    },
    {
      "cell_type": "markdown",
      "source": [
        "# **Column Name** | **Data Type** | **Description**\n",
        "\n",
        "- App : object : Name of the app\n",
        "- Category : object : Category of the app\n",
        "- Rating : float : Overall rating of the app\n",
        "- Reviews : int : Number of reviews for the app\n",
        "- Size : object : Size of the app\n",
        "- Installs : object : Number of times the app has been installed\n",
        "- Type : object : Type of the app (Free, Paid, etc.)\n",
        "- Price : object : Price of the app\n",
        "- Content Rating : object : Content rating of the app\n",
        "- Genres : object : Genres of the app\n",
        "- Last Updated : object : Date when the app was last updated\n",
        "- Current Ver : object : Current version of the app\n",
        "- Android Ver : object : Minimum Android version required to install the appAnswer Here"
      ],
      "metadata": {
        "id": "aJV4KIxSnxay"
      }
    },
    {
      "cell_type": "markdown",
      "source": [
        "## 3. ***Data Wrangling***"
      ],
      "metadata": {
        "id": "dauF4eBmngu3"
      }
    },
    {
      "cell_type": "markdown",
      "source": [
        "### Data Wrangling Code"
      ],
      "metadata": {
        "id": "bKJF3rekwFvQ"
      }
    },
    {
      "cell_type": "code",
      "source": [
        "df.head(1)"
      ],
      "metadata": {
        "id": "wk-9a2fpoLcV"
      },
      "execution_count": null,
      "outputs": []
    },
    {
      "cell_type": "markdown",
      "source": [
        "## handeling Size columns"
      ],
      "metadata": {
        "id": "TKBvo4IKeL93"
      }
    },
    {
      "cell_type": "code",
      "source": [
        "df['Size'].unique()"
      ],
      "metadata": {
        "id": "tCuKMOG5SRjn"
      },
      "execution_count": null,
      "outputs": []
    },
    {
      "cell_type": "code",
      "source": [
        "df['Size'].isnull().sum()"
      ],
      "metadata": {
        "id": "o7ppGKIBTb3o"
      },
      "execution_count": null,
      "outputs": []
    },
    {
      "cell_type": "markdown",
      "source": [
        "###Observation:\n",
        "three types of unique values are in size columns\n",
        "1. M\n",
        "2. k\n",
        "3. 'Veries with device'\n",
        "- No  missing values in size columns"
      ],
      "metadata": {
        "id": "9WaWDBXBTDXc"
      }
    },
    {
      "cell_type": "markdown",
      "source": [
        "verify the number of  values and 3 different kinds of values"
      ],
      "metadata": {
        "id": "W57CLVcEUccZ"
      }
    },
    {
      "cell_type": "code",
      "source": [
        "def cnt_vl(lst):\n",
        "  count_M = 0\n",
        "  count_k =0\n",
        "  count_Varies_with_device = 0\n",
        "  for i in lst:\n",
        "    if 'M'in i:\n",
        "      count_M +=1\n",
        "    elif 'k' in i:\n",
        "      count_k +=1\n",
        "    else:\n",
        "      count_Varies_with_device +=1\n",
        "  return f'count_M is {count_M}, count_k is {count_k}, count_Varies_with_device is {count_Varies_with_device}'\n",
        "\n",
        "cnt_vl(df['Size'])"
      ],
      "metadata": {
        "id": "XCEgeW9PTC17"
      },
      "execution_count": null,
      "outputs": []
    },
    {
      "cell_type": "markdown",
      "source": [
        "converting the whole size column into bytes"
      ],
      "metadata": {
        "id": "lJYJsY7qaQ9r"
      }
    },
    {
      "cell_type": "code",
      "source": [
        "# creating a helper function\n",
        "def convert_size(size):\n",
        "  if isinstance(size,str):\n",
        "    if 'M'in size:\n",
        "      return float(size.replace('M','')) * 1024 * 1024\n",
        "    elif 'k' in size:\n",
        "      return float(size.replace('k',''))* 1024\n",
        "    else:\n",
        "      return np.nan\n",
        "  return size\n",
        "\n"
      ],
      "metadata": {
        "id": "FQ6Qdq6baJfR"
      },
      "execution_count": null,
      "outputs": []
    },
    {
      "cell_type": "code",
      "source": [
        "df['Size']"
      ],
      "metadata": {
        "id": "sqgnPqKhdzZb"
      },
      "execution_count": null,
      "outputs": []
    },
    {
      "cell_type": "code",
      "source": [
        "df['Size'] = df['Size'].apply(convert_size)"
      ],
      "metadata": {
        "id": "oBMgW9GCd2oV"
      },
      "execution_count": null,
      "outputs": []
    },
    {
      "cell_type": "code",
      "source": [
        "df['Size']"
      ],
      "metadata": {
        "id": "ZKDBNwJ_d7uM"
      },
      "execution_count": null,
      "outputs": []
    },
    {
      "cell_type": "code",
      "source": [
        "# changing size column name size to size_in_bytes\n",
        "\n",
        "df.rename(columns={'Size':'Size_in_bytes'},inplace=True)"
      ],
      "metadata": {
        "id": "FVZ3EpwPeV5w"
      },
      "execution_count": null,
      "outputs": []
    },
    {
      "cell_type": "code",
      "source": [
        "df['Size_in_Mb'] = df['Size_in_bytes'].apply(lambda x: x/(1024*1024))"
      ],
      "metadata": {
        "id": "CIYkIs4Efhfb"
      },
      "execution_count": null,
      "outputs": []
    },
    {
      "cell_type": "code",
      "source": [
        "# df['Size_in_kb'] = df['Size_in_bytes'].apply(lambda x :x/(1024))"
      ],
      "metadata": {
        "id": "oUH7CsQHfhbo"
      },
      "execution_count": null,
      "outputs": []
    },
    {
      "cell_type": "code",
      "source": [
        "df.head(1)"
      ],
      "metadata": {
        "id": "cjngkqxseyMe"
      },
      "execution_count": null,
      "outputs": []
    },
    {
      "cell_type": "markdown",
      "source": [
        "## Install columns\n",
        "-  Removing + sign\n",
        "- remove , sign\n",
        "- convert the datatype of column into int"
      ],
      "metadata": {
        "id": "JZZOPlIIgHn1"
      }
    },
    {
      "cell_type": "code",
      "source": [
        "df['Installs'].unique()"
      ],
      "metadata": {
        "id": "Q_3J79SUeyEV"
      },
      "execution_count": null,
      "outputs": []
    },
    {
      "cell_type": "code",
      "source": [
        "df['Installs'].value_counts()"
      ],
      "metadata": {
        "id": "-zB-nbxQgXK-"
      },
      "execution_count": null,
      "outputs": []
    },
    {
      "cell_type": "code",
      "source": [
        "df['Installs'].isnull().sum()"
      ],
      "metadata": {
        "id": "LM2XJBN0gqgG"
      },
      "execution_count": null,
      "outputs": []
    },
    {
      "cell_type": "code",
      "source": [
        "df['Installs'] = df['Installs'].replace('Free','1,000+')"
      ],
      "metadata": {
        "id": "FqiekZFTgxpj"
      },
      "execution_count": null,
      "outputs": []
    },
    {
      "cell_type": "code",
      "source": [
        "df['Installs'].value_counts()"
      ],
      "metadata": {
        "id": "-TwvrH6hi_FU"
      },
      "execution_count": null,
      "outputs": []
    },
    {
      "cell_type": "code",
      "source": [
        "# creating a helper  function to remove + and , sign and convert the data into int\n",
        "\n",
        "def convert_in_int(value):\n",
        "  '''this function remove + and , sign\n",
        "  and also convert data type into int\n",
        "  '''\n",
        "\n",
        "  value = value.replace('+','').replace(',','')\n",
        "  # converting to integer\n",
        "  return int(value)"
      ],
      "metadata": {
        "id": "rHAgRgtXjFuu"
      },
      "execution_count": null,
      "outputs": []
    },
    {
      "cell_type": "code",
      "source": [
        "# calling the function\n",
        "\n",
        "df['Installs'] = df['Installs'].apply(convert_in_int)"
      ],
      "metadata": {
        "id": "eo7nk5w3lfDv"
      },
      "execution_count": null,
      "outputs": []
    },
    {
      "cell_type": "code",
      "source": [
        "df['Installs']"
      ],
      "metadata": {
        "id": "3TyC1Ch6lrxd"
      },
      "execution_count": null,
      "outputs": []
    },
    {
      "cell_type": "code",
      "source": [
        "# same change we can do by using lambda funtion\n",
        "\n",
        "df['Installs'] = df['Installs'].apply(lambda x : x.replace('+','') if '+' in str(x) else x)\n",
        "df['Installs'] = df['Installs'].apply(lambda x : x.replace(',','') if ',' in str(x) else x)\n",
        "df['Installs'] = df['Installs'].apply(lambda x : int(x))"
      ],
      "metadata": {
        "id": "Zo_Tf2XKlzyy"
      },
      "execution_count": null,
      "outputs": []
    },
    {
      "cell_type": "code",
      "source": [
        "# making a new column called 'Install_category' which will  have the category of installs\n",
        "bins = [-1,0,10,1000,10000,100000,1000000,10000000,10000000000]\n",
        "labels = ['no','Very low','Low','Moderate','More than moderate','High','Very High','Top Notch']\n",
        "df['Install_category'] = pd.cut(df['Installs'],bins=bins,labels=labels)"
      ],
      "metadata": {
        "id": "zg0NT12EADap"
      },
      "execution_count": null,
      "outputs": []
    },
    {
      "cell_type": "code",
      "source": [
        "df['Install_category'].value_counts()"
      ],
      "metadata": {
        "id": "o2jaWFffCK0h"
      },
      "execution_count": null,
      "outputs": []
    },
    {
      "cell_type": "markdown",
      "source": [
        "## price columns"
      ],
      "metadata": {
        "id": "-DEfIiUMnHkj"
      }
    },
    {
      "cell_type": "code",
      "source": [
        "df['Price'].dtype"
      ],
      "metadata": {
        "id": "DMNUWjeOrkge"
      },
      "execution_count": null,
      "outputs": []
    },
    {
      "cell_type": "code",
      "source": [
        "df['Price'].value_counts()"
      ],
      "metadata": {
        "id": "CXElAoOCnLZb"
      },
      "execution_count": null,
      "outputs": []
    },
    {
      "cell_type": "code",
      "source": [
        "count_with_dollar = len([i for i in df['Price'] if i.startswith('$')])\n",
        "count_without_dollar = len([i for i  in df['Price'] if  not i.startswith('$')])\n",
        "print('start with $ ',count_with_dollar)\n",
        "print('start without $ ', count_without_dollar)"
      ],
      "metadata": {
        "id": "wvyWLMakqCbw"
      },
      "execution_count": null,
      "outputs": []
    },
    {
      "cell_type": "markdown",
      "source": [
        "###Observation\n",
        "- we have to remove $ sign from 800 rows\n",
        "- also we have to change the datatype of the Price columns objects to Float"
      ],
      "metadata": {
        "id": "05rTv0CnrW9D"
      }
    },
    {
      "cell_type": "code",
      "source": [
        "# removing the $ sign from the price column\n",
        "df['Price'] = df['Price'].apply(lambda x : x.replace('$','')if '$' in str(x) else x)"
      ],
      "metadata": {
        "id": "IKQ6-dWHrWiX"
      },
      "execution_count": null,
      "outputs": []
    },
    {
      "cell_type": "code",
      "source": [
        "# removing the row which has the value 'Everyone' in pricee columns\n",
        "df.drop(df[df['Price']=='Everyone'].index,inplace=True)\n"
      ],
      "metadata": {
        "id": "pYeqA1XKuJ1F"
      },
      "execution_count": null,
      "outputs": []
    },
    {
      "cell_type": "code",
      "source": [
        "df['Price'].unique()"
      ],
      "metadata": {
        "id": "q4s4ndDtt2lw"
      },
      "execution_count": null,
      "outputs": []
    },
    {
      "cell_type": "code",
      "source": [
        "# changing the data type in to float\n",
        "df['Price'] = df['Price'].apply(lambda x : float(x))"
      ],
      "metadata": {
        "id": "0MKriMtytkGi"
      },
      "execution_count": null,
      "outputs": []
    },
    {
      "cell_type": "code",
      "source": [
        "df['Price']"
      ],
      "metadata": {
        "id": "jaNl2SLY52Fp"
      },
      "execution_count": null,
      "outputs": []
    },
    {
      "cell_type": "markdown",
      "source": [
        "##Handling Reviews columns"
      ],
      "metadata": {
        "id": "CTXLHS1oK-Bd"
      }
    },
    {
      "cell_type": "code",
      "source": [
        "df['Reviews'].dtype"
      ],
      "metadata": {
        "id": "fMQ1VE3jKTiT"
      },
      "execution_count": null,
      "outputs": []
    },
    {
      "cell_type": "code",
      "source": [
        "# converting the datatype of Reviews columns object to  int\n",
        "df['Reviews']= df['Reviews'].astype(int)"
      ],
      "metadata": {
        "id": "bfuzv8yqLtwY"
      },
      "execution_count": null,
      "outputs": []
    },
    {
      "cell_type": "markdown",
      "source": [
        "##Last Updated  columns"
      ],
      "metadata": {
        "id": "kG9E0HDEjJEs"
      }
    },
    {
      "cell_type": "code",
      "source": [
        "print(df['Last Updated'])\n",
        "df['Last Updated'] = pd.to_datetime(df['Last Updated'])"
      ],
      "metadata": {
        "id": "KN_JgAIHjP2K"
      },
      "execution_count": null,
      "outputs": []
    },
    {
      "cell_type": "markdown",
      "source": [
        "Creating year and month from 'Last Updated' column\n"
      ],
      "metadata": {
        "id": "FWLoCLku36vU"
      }
    },
    {
      "cell_type": "code",
      "source": [
        "df['year'] = df['Last Updated'].dt.year\n",
        "df['month'] = df['Last Updated'].dt.month"
      ],
      "metadata": {
        "id": "1fvJOAr_35aT"
      },
      "execution_count": null,
      "outputs": []
    },
    {
      "cell_type": "markdown",
      "source": [],
      "metadata": {
        "id": "QP7cFHbbjI-F"
      }
    },
    {
      "cell_type": "markdown",
      "source": [
        "##checkinng missing values after changing in columns"
      ],
      "metadata": {
        "id": "uJqKM1EWcua9"
      }
    },
    {
      "cell_type": "code",
      "source": [
        "df.isnull().sum()"
      ],
      "metadata": {
        "id": "JWFRlj2_mKxE"
      },
      "execution_count": null,
      "outputs": []
    },
    {
      "cell_type": "code",
      "source": [
        "print(f'missing value in dataset \\n\\n{(df.isnull().sum()/len(df))*100}')\n"
      ],
      "metadata": {
        "id": "x7gCuHbWev95"
      },
      "execution_count": null,
      "outputs": []
    },
    {
      "cell_type": "code",
      "source": [
        "# ploting heatmap for missing value visualation\n",
        "plt.figure(figsize=(6,4))\n",
        "sns.heatmap(df.isnull(),cmap='viridis',yticklabels=False,cbar=False)"
      ],
      "metadata": {
        "id": "gEbp7dpacB1p"
      },
      "execution_count": null,
      "outputs": []
    },
    {
      "cell_type": "markdown",
      "source": [
        "###Observation:-\n",
        "- Rating columns has"
      ],
      "metadata": {
        "id": "qhRm9IuFupgM"
      }
    },
    {
      "cell_type": "markdown",
      "source": [
        "###Observation:\n",
        "- Rating columns has 1474 missing values which is 13.59 % of the total missing values in the columns\n",
        "- Size_in_bytes columns has 1695 missing values which is 15.63% of the total missing values in the columns\n",
        "- current ver columns has 8 missing values which is 0.07% of the total missing values in the columns\n",
        "-  Android ver columns has 2 mising values whic is 0.01% of the total missing values in the columns"
      ],
      "metadata": {
        "id": "S0n7ew1umgBG"
      }
    },
    {
      "cell_type": "markdown",
      "source": [
        "## Dealing with missing value"
      ],
      "metadata": {
        "id": "98-DnCPClZjw"
      }
    },
    {
      "cell_type": "markdown",
      "source": [
        "finding the corellation between rating and the installation columns"
      ],
      "metadata": {
        "id": "2-vP10Vjva5b"
      }
    },
    {
      "cell_type": "code",
      "source": [
        "# makes a correlation matrix of number columns\n",
        "plt.figure(figsize=(6,4))\n",
        "numeric_cols = [i for i in df.columns if df[i].dtype == 'int64' or df[i].dtype == 'float64']\n",
        "\n",
        "corr = df[numeric_cols].corr()\n",
        "sns.heatmap(corr,annot=True,cmap='viridis')"
      ],
      "metadata": {
        "id": "aDCRLMDLvalr"
      },
      "execution_count": null,
      "outputs": []
    },
    {
      "cell_type": "code",
      "source": [
        "df[numeric_cols].corr()"
      ],
      "metadata": {
        "id": "JeITEwQAlfmZ"
      },
      "execution_count": null,
      "outputs": []
    },
    {
      "cell_type": "markdown",
      "source": [
        "### Observation:\n",
        "- rating column depend on installs columns because if some app has 0 installation we can not fill rating null value with median or mode"
      ],
      "metadata": {
        "id": "OSoixTLAwEqG"
      }
    },
    {
      "cell_type": "code",
      "source": [
        "df.isnull().sum()"
      ],
      "metadata": {
        "id": "bk_g1aRyxcAC"
      },
      "execution_count": null,
      "outputs": []
    },
    {
      "cell_type": "code",
      "source": [
        "df.dropna(subset=['Type','Current Ver','Android Ver'],inplace= True)"
      ],
      "metadata": {
        "id": "WgV-S8uMwDyW"
      },
      "execution_count": null,
      "outputs": []
    },
    {
      "cell_type": "code",
      "source": [
        "df.isnull().sum()"
      ],
      "metadata": {
        "id": "NInckRAux2Ad"
      },
      "execution_count": null,
      "outputs": []
    },
    {
      "cell_type": "markdown",
      "source": [
        "- we have remove 11 rows having null values in the Current Ver, Android Ver,Category columns"
      ],
      "metadata": {
        "id": "KfmQkOZQyE5E"
      }
    },
    {
      "cell_type": "markdown",
      "source": [
        "### Observations:\n",
        "- Only Rating and Size_in_bytes  columns are left with missing values\n",
        "- Rating columns is directly linked with the Installs columns\n",
        "- in Size columns we alredy know about 'Varies with device' values which have converted into null values, we do not need to impute at the moment, as every app has different size and nobody can predict that as nearly as possible"
      ],
      "metadata": {
        "id": "g1EUtyhazwx9"
      }
    },
    {
      "cell_type": "code",
      "source": [
        "df.columns"
      ],
      "metadata": {
        "id": "BWPV6HEHyEl2"
      },
      "execution_count": null,
      "outputs": []
    },
    {
      "cell_type": "code",
      "source": [
        "# using grupby function to find the trend of Rating in each Installs_category\n",
        "df.groupby('Install_category')['Rating'].describe()"
      ],
      "metadata": {
        "id": "gQ1A8vk6D223"
      },
      "execution_count": null,
      "outputs": []
    },
    {
      "cell_type": "code",
      "source": [
        "df['Install_category'].loc[df['Rating'].isnull()].value_counts()"
      ],
      "metadata": {
        "id": "m_izRK-uIKwb"
      },
      "execution_count": null,
      "outputs": []
    },
    {
      "cell_type": "code",
      "source": [
        "# df[df['Rating'].isnull()].groupby('Install_category').size()\n"
      ],
      "metadata": {
        "id": "KVSlPgFLIwXD"
      },
      "execution_count": null,
      "outputs": []
    },
    {
      "cell_type": "code",
      "source": [
        "# ploting boxplot of Rating in each Install_category\n",
        "plt.figure(figsize=(12,6))\n",
        "sns.boxplot(y=df['Rating'],x=df['Install_category'],hue=df['Install_category'])"
      ],
      "metadata": {
        "id": "ZtUF32ksJi3O"
      },
      "execution_count": null,
      "outputs": []
    },
    {
      "cell_type": "markdown",
      "source": [
        "### Observation:\n",
        "- The rating is increasing with an increase in the number of installations\n",
        "- For the 'Top Notch' category, the median rating is around 4.5\n",
        "- For the 'No' category, the median rating is around 4.0\n",
        "- For the 'Very low' category, the median rating is around 4.1\n",
        "- For the 'Low' category, the median rating is around 4.2\n",
        "- For the 'Moderate' category, the median rating is around 4.3\n",
        "- For the 'More than moderate' category, the median rating is around 4.4\n",
        "- For the 'High' category, the median rating is around 4.4\n",
        "- For the 'Very High' category, the median rating is around 4.5\n",
        "- The rating is not normally distributed in any of the categories\n",
        "- There are outliers in all categories\n",
        "- The rating is skewed to the right in all categories\n",
        "- The rating is positively correlated with the number of installations\n",
        "- The rating is not affected by the number of installations for the 'Top Notch' category\n",
        "- The rating is affected by the number of installations for the 'No' category\n",
        "- The rating is affected by the number of installations for the 'Very low' category\n",
        "- The rating is affected by the number of installations for the 'Low' category\n",
        "- The rating is affected by the number of installations for the 'Moderate' category\n",
        "- The rating is affected by the number of installations for the 'More than moderate' category\n",
        "- The rating is affected by the number of installations for the 'High' category\n",
        "- The rating is affected by the number of installations for the 'Very High' category\n",
        "- The rating is affected by the number of installations for the 'No' category\n",
        "- The rating is affected by the number of installations for the 'Very low' category\n",
        "- The rating is affected by the number of installations for the 'Low' category\n",
        "- The rating is affected by the number of installations for the 'Moderate' category\n",
        "- The rating is affected by the number of installations for the 'More than moderate' category\n",
        "- The rating is affected by the number of installations for the 'High' category\n",
        "- The rating is affected by the number of installations for the 'Very High' category"
      ],
      "metadata": {
        "id": "ZW3mxHsnVxo3"
      }
    },
    {
      "cell_type": "code",
      "source": [
        "# Acalculate the mean for  columns  'Rating\n",
        "\n",
        "df.groupby(['Install_category'])['Rating'].mean()\n"
      ],
      "metadata": {
        "id": "vHgzn4HhQ0eN"
      },
      "execution_count": null,
      "outputs": []
    },
    {
      "cell_type": "code",
      "source": [
        "df['Install_category'].loc[df['Rating'].isnull()].value_counts()"
      ],
      "metadata": {
        "id": "kHMTv2DUSsLL"
      },
      "execution_count": null,
      "outputs": []
    },
    {
      "cell_type": "code",
      "source": [
        "# Calculate the mean rating for each category\n",
        "mean_rating_by_category = df.groupby(['Install_category'])['Rating'].mean()\n",
        "\n",
        "# Fill missing values in 'Rating' column with the mean rating for each category\n",
        "df['Rating'].fillna(df['Install_category'].map(mean_rating_by_category), inplace=True)\n"
      ],
      "metadata": {
        "id": "0MH9GZJtSkRv"
      },
      "execution_count": null,
      "outputs": []
    },
    {
      "cell_type": "code",
      "source": [
        "df['Install_category'].loc[df['Rating'].isnull()].value_counts()"
      ],
      "metadata": {
        "id": "X-rMDxHeTta1"
      },
      "execution_count": null,
      "outputs": []
    },
    {
      "cell_type": "code",
      "source": [
        "m = df[df['Rating'].isnull()].index\n",
        "df.loc[m,'Rating']= df['Rating'].mean()"
      ],
      "metadata": {
        "id": "sKGOC46XV4Tp"
      },
      "execution_count": null,
      "outputs": []
    },
    {
      "cell_type": "markdown",
      "source": [
        "##checking duplicate"
      ],
      "metadata": {
        "id": "grDbwO7tbqvn"
      }
    },
    {
      "cell_type": "code",
      "source": [
        "df.duplicated().sum()"
      ],
      "metadata": {
        "id": "yaJWAOmqbum_"
      },
      "execution_count": null,
      "outputs": []
    },
    {
      "cell_type": "code",
      "source": [
        "# removing the duplicates\n",
        "df.drop_duplicates(inplace=True)"
      ],
      "metadata": {
        "id": "zY40EXpCb80p"
      },
      "execution_count": null,
      "outputs": []
    },
    {
      "cell_type": "code",
      "source": [
        "df.duplicated().sum()"
      ],
      "metadata": {
        "id": "MYM8obygcJaL"
      },
      "execution_count": null,
      "outputs": []
    },
    {
      "cell_type": "code",
      "source": [
        "df.shape"
      ],
      "metadata": {
        "id": "7-M1ymugcO_C"
      },
      "execution_count": null,
      "outputs": []
    },
    {
      "cell_type": "markdown",
      "source": [
        "\n",
        "### What all manipulations have you done and insights you found?"
      ],
      "metadata": {
        "id": "MSa1f5Uengrz"
      }
    },
    {
      "cell_type": "markdown",
      "source": [
        "Answer Here."
      ],
      "metadata": {
        "id": "LbyXE7I1olp8"
      }
    },
    {
      "cell_type": "markdown",
      "source": [
        "## ***4. Data Vizualization, Storytelling & Experimenting with charts : Understand the relationships between variables***"
      ],
      "metadata": {
        "id": "GF8Ens_Soomf"
      }
    },
    {
      "cell_type": "markdown",
      "source": [
        "#### Chart - 1"
      ],
      "metadata": {
        "id": "0wOQAZs5pc--"
      }
    },
    {
      "cell_type": "code",
      "source": [
        "\n",
        "# This bar plot displays the top 10 app categories based on the count of apps.\n",
        "x=df['Category'].value_counts().nlargest(10)\n",
        "# Create a bar plot using seaborn\n",
        "sns.barplot(y=x.index,x=x.values,palette='winter')\n",
        "# Add text labels to each bar indicating the count of each category\n",
        "for i in range(len(x)):\n",
        "   # Place the count text at the corresponding position on the bar\n",
        "  plt.text(x.values[i],i,str(x.values[i]),va='center',ha='left')"
      ],
      "metadata": {
        "id": "7v_ESjsspbW7"
      },
      "execution_count": null,
      "outputs": []
    },
    {
      "cell_type": "markdown",
      "source": [
        "##### What is/are the insight(s) found from the chart?"
      ],
      "metadata": {
        "id": "lQ7QKXXCp7Bj"
      }
    },
    {
      "cell_type": "markdown",
      "source": [
        "-  Family category has the highest number of the count which is 1938\n",
        "- Game category has the 2nd highest number of count which is 1121\n",
        "- Tools category has the 3rd highest number of count which is 841"
      ],
      "metadata": {
        "id": "C_j1G7yiqdRP"
      }
    },
    {
      "cell_type": "markdown",
      "source": [
        "#### Chart - 2"
      ],
      "metadata": {
        "id": "KSlN3yHqYklG"
      }
    },
    {
      "cell_type": "code",
      "source": [
        "\n",
        "\n",
        "# Filter the DataFrame to include only rows where the 'Type' column is 'Paid'\n",
        "paid_df = df[df['Type'] == 'Paid']\n",
        "\n",
        "# Group the filtered DataFrame by 'Category' and calculate the mean of the 'Price' column for each group\n",
        "mean_price_by_category = paid_df.groupby('Category')['Price'].mean().sort_values()\n",
        "\n",
        "# Plotting\n",
        "plt.figure(figsize=(10, 10))  # Adjust figure size if needed\n",
        "mean_price_by_category.plot(kind='barh', color='lightgreen')\n",
        "\n",
        "# Adding labels and title\n",
        "plt.xlabel('Average Price')\n",
        "plt.ylabel('Category')\n",
        "plt.title('Average Price of Paid Items by Category')\n",
        "\n",
        "# Add value labels on each bar\n",
        "for index, value in enumerate(mean_price_by_category):\n",
        "    plt.text(value, index, str(round(value, 2)))\n",
        "\n",
        "# Display the plot\n",
        "plt.show()\n",
        "\n"
      ],
      "metadata": {
        "id": "ha3SexgAcJ72"
      },
      "execution_count": null,
      "outputs": []
    },
    {
      "cell_type": "markdown",
      "source": [
        "##### What is/are the insight(s) found from the chart?"
      ],
      "metadata": {
        "id": "ijmpgYnKYklI"
      }
    },
    {
      "cell_type": "markdown",
      "source": [
        "- The average price of a Finance app is  170.64\n",
        "- The average price of a Lifestyle app is 124.26\n",
        "- The average price of a Events app is 109.99"
      ],
      "metadata": {
        "id": "PSx9atu2YklI"
      }
    },
    {
      "cell_type": "markdown",
      "source": [
        "#### Chart - 3"
      ],
      "metadata": {
        "id": "EM7whBJCYoAo"
      }
    },
    {
      "cell_type": "code",
      "source": [
        "# Chart - 3 visualization code\n",
        "# the top 10 categories with the highest summed ratings\n",
        "top_rating = df.groupby(df['Category'])['Rating'].sum().sort_values(ascending=False).nlargest(10)\n",
        "\n",
        "# Create a bar plot using seaborn\n",
        "ax = sns.barplot(x=top_rating.values, y=top_rating.index, palette='Set1')\n",
        "\n",
        "# Adding labels and title\n",
        "plt.xlabel('Summed Ratings')  # X-axis label\n",
        "plt.ylabel('Category')  # Y-axis label\n",
        "plt.title('Top 10 Categories by Summed Ratings')  # Title\n",
        "\n",
        "# Add labels on the bars\n",
        "for i, v in enumerate(top_rating.values):\n",
        "    ax.text(v + 0.1, i, str(round(v, 2)), color='black', va='center')  # Adjust the position and color of labels\n",
        "\n",
        "# Display the plot\n",
        "plt.show()\n",
        "\n"
      ],
      "metadata": {
        "id": "t6GMdE67YoAp"
      },
      "execution_count": null,
      "outputs": []
    },
    {
      "cell_type": "markdown",
      "source": [
        "#####  What is/are the insight(s) found from the chart?"
      ],
      "metadata": {
        "id": "85gYPyotYoAp"
      }
    },
    {
      "cell_type": "markdown",
      "source": [
        "- Family category has the highest summed rating which is 8147.64\n",
        "- Game category has the 2nd highest summed rating which is 4800.04\n",
        "- Tools category has the 3rd highest summed rating which is 3432.11"
      ],
      "metadata": {
        "id": "4jstXR6OYoAp"
      }
    },
    {
      "cell_type": "markdown",
      "source": [
        "#### Chart - 4"
      ],
      "metadata": {
        "id": "4Of9eVA-YrdM"
      }
    },
    {
      "cell_type": "code",
      "source": [
        "# Chart - 4 visualization code\n",
        "# ploting the rating distribution\n",
        "plt.figure(figsize=(8,4))\n",
        "sns.distplot(df['Rating'],color='blue')"
      ],
      "metadata": {
        "id": "irlUoxc8YrdO"
      },
      "execution_count": null,
      "outputs": []
    },
    {
      "cell_type": "markdown",
      "source": [
        "##### 2. What is/are the insight(s) found from the chart?"
      ],
      "metadata": {
        "id": "F6T5p64dYrdO"
      }
    },
    {
      "cell_type": "markdown",
      "source": [
        "- there are maximum rating in the range between 3.8 to 4.7\n",
        "- some how there is some app whose rate is 1"
      ],
      "metadata": {
        "id": "Xx8WAJvtYrdO"
      }
    },
    {
      "cell_type": "markdown",
      "source": [
        "#### Chart - 5"
      ],
      "metadata": {
        "id": "bamQiAODYuh1"
      }
    },
    {
      "cell_type": "code",
      "source": [
        "# Chart - 5 visualization code\n",
        "import matplotlib.pyplot as plt\n",
        "\n",
        "# countig the number of paid and free app\n",
        "type_counts = df['Type'].value_counts()\n",
        "\n",
        "# Plotting the pie chart\n",
        "plt.figure(figsize=(10, 6))\n",
        "explode = [0.1] * len(type_counts)  # Explode slices for emphasis, adjust as needed\n",
        "plt.pie(type_counts, labels=type_counts.index, autopct='%1.1f%%', startangle=140, explode=explode, shadow=True, pctdistance=0.85)\n",
        "plt.axis('equal')  # Equal aspect ratio ensures that pie is drawn as a circle.\n",
        "plt.title('Distribution of Types')\n",
        "plt.show()\n"
      ],
      "metadata": {
        "id": "TIJwrbroYuh3"
      },
      "execution_count": null,
      "outputs": []
    },
    {
      "cell_type": "markdown",
      "source": [
        "##### 2. What is/are the insight(s) found from the chart?"
      ],
      "metadata": {
        "id": "GwzvFGzlYuh3"
      }
    },
    {
      "cell_type": "markdown",
      "source": [
        "- There are 7.4 % app are paid and 92.6 % app are free"
      ],
      "metadata": {
        "id": "uyqkiB8YYuh3"
      }
    },
    {
      "cell_type": "markdown",
      "source": [
        "#### Chart - 6"
      ],
      "metadata": {
        "id": "OH-pJp9IphqM"
      }
    },
    {
      "cell_type": "code",
      "source": [
        "# Chart - 6 visualization code\n",
        "paid_app = df[df['Type']=='Paid']\n",
        "# calculating the average price of paid apps\n",
        "average_price = paid_app['Price'].mean()\n",
        "print(f'The average price of a paid app is {average_price}')"
      ],
      "metadata": {
        "id": "kuRf4wtuphqN"
      },
      "execution_count": null,
      "outputs": []
    },
    {
      "cell_type": "code",
      "source": [
        "# Counting the occurrences of each category in the 'Content Rating'\n",
        "cn = df['Content Rating'].value_counts().sort_values(ascending=False)\n",
        "sns.barplot(x = cn.values,y=cn.index,palette='viridis')\n",
        "\n",
        "# adding count labels on top of each bar\n",
        "for i in range(len(cn)):\n",
        "  plt.text(cn.values[i],i,str(cn.values[i]),va='center',ha='left')\n",
        "\n",
        "plt.xticks(rotation=45)\n",
        "plt.show()"
      ],
      "metadata": {
        "id": "Md4QlPwipeGn"
      },
      "execution_count": null,
      "outputs": []
    },
    {
      "cell_type": "markdown",
      "source": [
        "##### 2. What is/are the insight(s) found from the chart?"
      ],
      "metadata": {
        "id": "_ouA3fa0phqN"
      }
    },
    {
      "cell_type": "markdown",
      "source": [
        "Answer Here"
      ],
      "metadata": {
        "id": "VECbqPI7phqN"
      }
    },
    {
      "cell_type": "markdown",
      "source": [
        "#### Chart - 7"
      ],
      "metadata": {
        "id": "PIIx-8_IphqN"
      }
    },
    {
      "cell_type": "code",
      "source": [
        "# Chart - 7 visualization code\n",
        "# Get the counts of the top 10 genres\n",
        "gn = df['Genres'].value_counts().head(10)\n",
        "\n",
        "# Plotting the horizontal bar plot\n",
        "plt.figure(figsize=(10, 6))\n",
        "sns.barplot(x=gn.values, y=gn.index, palette='winter')\n",
        "\n",
        "# Adding count labels on the right side of each bar\n",
        "for i in range(len(gn)):\n",
        "    plt.text(gn.values[i], i, str(gn.values[i]), ha='left', va='center')\n",
        "\n",
        "plt.xlabel('Count')\n",
        "plt.ylabel('Genres')\n",
        "plt.title('Top 10 Genres')\n",
        "plt.show()\n"
      ],
      "metadata": {
        "id": "lqAIGUfyphqO"
      },
      "execution_count": null,
      "outputs": []
    },
    {
      "cell_type": "markdown",
      "source": [
        "##### 2. What is/are the insight(s) found from the chart?"
      ],
      "metadata": {
        "id": "r2jJGEOYphqO"
      }
    },
    {
      "cell_type": "markdown",
      "source": [
        "On the basis if the genres\n",
        "- tools app has the highest number of count which is 840\n",
        "- Entertainment app has the 2nd highest number of count which is 587\n",
        "- Education app has the 3rd highest number of count which is 526"
      ],
      "metadata": {
        "id": "Po6ZPi4hphqO"
      }
    },
    {
      "cell_type": "markdown",
      "source": [
        "#### Chart - 8"
      ],
      "metadata": {
        "id": "BZR9WyysphqO"
      }
    },
    {
      "cell_type": "code",
      "source": [
        "df.pivot_table(index='year', columns='month', aggfunc='size', fill_value=0)\n"
      ],
      "metadata": {
        "id": "5sM-9uBlAdNr"
      },
      "execution_count": null,
      "outputs": []
    },
    {
      "cell_type": "code",
      "source": [
        "# Chart - 8 visualization code\n",
        "plt.figure(figsize=(10,3))\n",
        "over_time = df.groupby(['year','month']).size()\n",
        "over_time.plot(color='red', linestyle='-')\n",
        "plt.title('Trend of App Updates Over Time')\n",
        "plt.xlabel('Year-Month')\n",
        "plt.ylabel('Number of Updates')\n",
        "plt.xticks(rotation=45)\n",
        "plt.grid(True)\n",
        "plt.show()"
      ],
      "metadata": {
        "id": "TdPTWpAVphqO"
      },
      "execution_count": null,
      "outputs": []
    },
    {
      "cell_type": "markdown",
      "source": [
        "##### 1. Why did you pick the specific chart?"
      ],
      "metadata": {
        "id": "jj7wYXLtphqO"
      }
    },
    {
      "cell_type": "markdown",
      "source": [
        "- The Number of updates Gradually increases from the 2018"
      ],
      "metadata": {
        "id": "Ob8u6rCTphqO"
      }
    },
    {
      "cell_type": "markdown",
      "source": [
        "#### Chart - 9"
      ],
      "metadata": {
        "id": "YJ55k-q6phqO"
      }
    },
    {
      "cell_type": "code",
      "source": [
        "# Chart - 9 visualization code\n",
        "\n",
        "# plotting a boxplot to show the distribution of ratings for each category\n",
        "\n",
        "fig,axes = plt.subplots(nrows=len(df['Category'].unique()),figsize=(8,4*len(df['Category'].unique())))\n",
        "\n",
        "# Iterate through each category and create a distplot\n",
        "for i , category in enumerate(df['Category'].unique()):\n",
        "  sns.distplot(df[df['Category']==category]['Rating'].dropna(),kde=True,ax=axes[i])\n",
        "  axes[i].set_title(f'Distribution of Ratings for {category}')\n",
        "  axes[i].set_xlabel('Rating')\n",
        "  axes[i].set_ylabel('Density')\n",
        "\n",
        "plt.tight_layout()\n",
        "plt.show()"
      ],
      "metadata": {
        "id": "B2aS4O1ophqO"
      },
      "execution_count": null,
      "outputs": []
    },
    {
      "cell_type": "code",
      "source": [
        "# Create a FacetGrid for each category\n",
        "g = sns.FacetGrid(df, col=\"Category\", col_wrap=2, height=3, aspect=1.5)\n",
        "\n",
        "# Map a distplot of Ratings for each category\n",
        "g.map(sns.histplot, \"Rating\", kde=True)\n",
        "\n",
        "# Set titles\n",
        "g.set_titles(\"Distribution of Ratings for {col_name}\")\n",
        "\n",
        "plt.show()"
      ],
      "metadata": {
        "id": "t1KNRbaYBTsB"
      },
      "execution_count": null,
      "outputs": []
    },
    {
      "cell_type": "markdown",
      "source": [
        "Answer Here."
      ],
      "metadata": {
        "id": "TVxDimi2phqP"
      }
    },
    {
      "cell_type": "markdown",
      "source": [
        "##### 2. What is/are the insight(s) found from the chart?"
      ],
      "metadata": {
        "id": "OVtJsKN_phqQ"
      }
    },
    {
      "cell_type": "markdown",
      "source": [
        "Answer Here"
      ],
      "metadata": {
        "id": "ngGi97qjphqQ"
      }
    },
    {
      "cell_type": "markdown",
      "source": [
        "Answer Here"
      ],
      "metadata": {
        "id": "tBpY5ekJphqQ"
      }
    },
    {
      "cell_type": "markdown",
      "source": [
        "#### Chart - 10"
      ],
      "metadata": {
        "id": "U2RJ9gkRphqQ"
      }
    },
    {
      "cell_type": "code",
      "source": [
        "# Chart - 10 visualization code\n",
        "\n",
        "\n",
        "# Create the barplot\n",
        "plt.figure(figsize=(8, 6))\n",
        "sns.barplot(x=df['Type'], y=df['Installs'], estimator=len, ci=None,palette='Set1')\n",
        "\n",
        "# Add labels on top of the bars\n",
        "for index, value in enumerate(df.groupby('Type').size()):\n",
        "    plt.text(index, value + 100, f'{value}', ha='center')\n",
        "\n",
        "plt.xlabel('App Type')\n",
        "plt.ylabel('Number of Apps')\n",
        "plt.title('Number of Apps by App Type')\n",
        "plt.show()\n"
      ],
      "metadata": {
        "id": "GM7a4YP4phqQ"
      },
      "execution_count": null,
      "outputs": []
    },
    {
      "cell_type": "markdown",
      "source": [
        "- There are 9584 app are free and 762 are paid"
      ],
      "metadata": {
        "id": "8agQvks0phqQ"
      }
    },
    {
      "cell_type": "markdown",
      "source": [
        "#### Chart - 11"
      ],
      "metadata": {
        "id": "x-EpHcCOp1ci"
      }
    },
    {
      "cell_type": "code",
      "source": [
        "# Chart - 11 visualization code\n",
        "plt.figure(figsize=(12,8))\n",
        "sns.barplot(x=df['Install_category'],y=df['Size_in_Mb'])\n",
        "\n"
      ],
      "metadata": {
        "id": "mAQTIvtqp1cj"
      },
      "execution_count": null,
      "outputs": []
    },
    {
      "cell_type": "markdown",
      "source": [
        "in Top Notch category the size of app is highest"
      ],
      "metadata": {
        "id": "-vsMzt_np1ck"
      }
    },
    {
      "cell_type": "markdown",
      "source": [
        "#### Chart - 12"
      ],
      "metadata": {
        "id": "n3dbpmDWp1ck"
      }
    },
    {
      "cell_type": "code",
      "source": [
        "# Chart - 12 visualization code\n",
        "# which content rating is more popular in install\n",
        "\n",
        "# Create the barplot\n",
        "plt.figure(figsize=(12, 8))\n",
        "sns.barplot(x=df['Content Rating'], y=df['Installs'], estimator=len)\n",
        "\n",
        "# Add labels on the bars with the count of apps in each content rating\n",
        "for i, value in enumerate(df['Content Rating'].value_counts()):\n",
        "    plt.text(i, value, f'{value}', ha='center', va='bottom')\n",
        "\n",
        "# Set labels and title\n",
        "plt.xlabel('Content Rating')\n",
        "plt.ylabel('Number of Apps')\n",
        "plt.title('Number of Apps by Content Rating')\n",
        "\n",
        "plt.show()\n",
        "\n"
      ],
      "metadata": {
        "id": "bwevp1tKp1ck"
      },
      "execution_count": null,
      "outputs": []
    },
    {
      "cell_type": "markdown",
      "source": [
        "- Everyone type app are the highest number of install which is 8372"
      ],
      "metadata": {
        "id": "m2xqNkiQp1ck"
      }
    },
    {
      "cell_type": "markdown",
      "source": [
        "#### Chart - 13"
      ],
      "metadata": {
        "id": "Ag9LCva-p1cl"
      }
    },
    {
      "cell_type": "code",
      "source": [],
      "metadata": {
        "id": "EUfxeq9-p1cl"
      },
      "execution_count": null,
      "outputs": []
    },
    {
      "cell_type": "code",
      "source": [
        "# Chart - 13 visualization code\n",
        "category_counts = df['Category'].loc[df['Content Rating']=='Everyone'].value_counts()\n",
        "\n",
        "plt.figure(figsize=(12,4))\n",
        "# Plotting the counts in a line plot\n",
        "category_counts.plot(kind='line')\n",
        "\n",
        "# Adding title and labels\n",
        "plt.title('Category Counts for Content Rating: Everyone')\n",
        "plt.xlabel('Category')\n",
        "plt.ylabel('Count')\n",
        "\n",
        "# Display the plot\n",
        "plt.show()\n"
      ],
      "metadata": {
        "id": "yectaesgEnKc"
      },
      "execution_count": null,
      "outputs": []
    },
    {
      "cell_type": "markdown",
      "source": [
        "Answer Here."
      ],
      "metadata": {
        "id": "V22bRsFWp1cl"
      }
    },
    {
      "cell_type": "markdown",
      "source": [
        "#### Chart - 14 - Correlation Heatmap"
      ],
      "metadata": {
        "id": "NC_X3p0fY2L0"
      }
    },
    {
      "cell_type": "code",
      "source": [
        "# Correlation Heatmap visualization code\n",
        "plt.figure(figsize=(6,4))\n",
        "numeric_cols = [i for i in df.columns if df[i].dtype == 'int64' or df[i].dtype == 'float64']\n",
        "\n",
        "corr = df[numeric_cols].corr()\n",
        "sns.heatmap(corr,annot=True,cmap='viridis')"
      ],
      "metadata": {
        "id": "xyC9zolEZNRQ"
      },
      "execution_count": null,
      "outputs": []
    },
    {
      "cell_type": "markdown",
      "source": [
        "#**Key Observations:**\n",
        "\n",
        "- There is a strong positive correlation between 'Rating' and 'Reviews', indicating that apps with higher ratings tend to have more reviews.\n",
        "- There is a moderate positive correlation between 'Installs' and 'Reviews', suggesting that apps with more installations tend to have more reviews.\n",
        "- There is a weak positive correlation between 'Price' and 'Installs', indicating that apps with higher prices tend to have more installations.\n",
        "- There is a weak negative correlation between 'Size_in_Mb' and 'Installs', suggesting that apps with larger sizes tend to have fewer installations.\n",
        "- There is a weak positive correlation between 'Year' and 'Rating', indicating that apps released in recent years tend to have higher ratings.\n"
      ],
      "metadata": {
        "id": "bfSqtnDqZNRR"
      }
    },
    {
      "cell_type": "markdown",
      "source": [
        "#### Chart - 15 - Pair Plot"
      ],
      "metadata": {
        "id": "q29F0dvdveiT"
      }
    },
    {
      "cell_type": "code",
      "source": [
        "# Pair Plot visualization code\n",
        "# Drop non-numeric columns if necessary\n",
        "numeric_df = df.select_dtypes(include=['float64', 'int64'])\n",
        "\n",
        "# Plotting pairplot\n",
        "sns.pairplot(numeric_df)\n",
        "plt.show()\n"
      ],
      "metadata": {
        "id": "o58-TEIhveiU"
      },
      "execution_count": null,
      "outputs": []
    },
    {
      "cell_type": "markdown",
      "source": [
        "17. Wordcloud"
      ],
      "metadata": {
        "id": "xxt0vg53RvGu"
      }
    },
    {
      "cell_type": "code",
      "source": [
        "from wordcloud import WordCloud\n",
        "text = \" \".join(df['App'].values)\n",
        "wordcloud = WordCloud(max_font_size=150, max_words=100, background_color=\"white\")\n",
        "wordcloud.generate(text)\n",
        "plt.figure(figsize=(12,8))\n",
        "plt.imshow(wordcloud, interpolation=\"bilinear\")\n",
        "plt.axis(\"off\")\n",
        "plt.show()\n"
      ],
      "metadata": {
        "id": "4QslhEZQRbte"
      },
      "execution_count": null,
      "outputs": []
    },
    {
      "cell_type": "markdown",
      "source": [
        "## **5. Solution to Business Objective**"
      ],
      "metadata": {
        "id": "JcMwzZxoAimU"
      }
    },
    {
      "cell_type": "markdown",
      "source": [
        "#### What do you suggest the client to achieve Business Objective ?\n",
        "Explain Briefly."
      ],
      "metadata": {
        "id": "8G2x9gOozGDZ"
      }
    },
    {
      "cell_type": "markdown",
      "source": [
        "\n",
        "\n",
        "- **Focus on user reviews and ratings:**\n",
        "    - Encourage users to leave reviews and ratings by providing incentives or making the process easier.\n",
        "    - Monitor and respond to reviews promptly, especially negative ones.\n",
        "    - Use reviews and ratings to identify areas for improvement in your app.\n",
        "- **Optimize app size:**\n",
        "    - Keep app size as small as possible to improve installation rates.\n",
        "    - Consider offering a \"lite\" version of your app for devices with limited storage.\n",
        "- **Target the right audience:**\n",
        "    - Use app store optimization (ASO) to ensure your app is visible to relevant users.\n",
        "    - Consider running targeted advertising campaigns to reach your ideal customers.\n",
        "- **Offer a compelling value proposition:**\n",
        "    - Highlight the unique features and benefits of your app.\n",
        "    - Consider offering a free trial or freemium model to attract new users.\n",
        "- **Monitor and track key metrics:**\n",
        "    - Track key metrics such as installs, reviews, and ratings to measure your app's performance.\n",
        "    - Use this data to make informed decisions about how to improve your app and marketing strategy."
      ],
      "metadata": {
        "id": "pASKb0qOza21"
      }
    },
    {
      "cell_type": "markdown",
      "source": [
        "# **Conclusion**"
      ],
      "metadata": {
        "id": "gCX9965dhzqZ"
      }
    },
    {
      "cell_type": "markdown",
      "source": [
        "\n",
        "\n",
        "In conclusion, the analysis of the app store data provided valuable insights into the factors that influence app success. By understanding the key trends and correlations, we can make informed decisions to improve app quality, increase visibility, and ultimately drive more installs and revenue.\n",
        "\n",
        "The findings highlight the importance of user reviews and ratings, app size optimization, targeting the right audience, offering a compelling value proposition, and continuously monitoring and tracking key metrics. By leveraging these insights, app developers and marketers can significantly improve their chances of success in the competitive app market.\n",
        "\n",
        "By implementing the recommended strategies, we can enhance the overall user experience, attract and retain a larger user base, and ultimately achieve the desired business objectives."
      ],
      "metadata": {
        "id": "Fjb1IsQkh3yE"
      }
    },
    {
      "cell_type": "markdown",
      "source": [
        "### ***Nikesh singh !!!***"
      ],
      "metadata": {
        "id": "gIfDvo9L0UH2"
      }
    }
  ]
}