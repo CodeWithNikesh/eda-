{
  "cells": [
    {
      "cell_type": "markdown",
      "metadata": {
        "id": "view-in-github",
        "colab_type": "text"
      },
      "source": [
        "<a href=\"https://colab.research.google.com/github/CodeWithNikesh/eda-/blob/main/Data_science_job_analysis_2024.ipynb\" target=\"_parent\"><img src=\"https://colab.research.google.com/assets/colab-badge.svg\" alt=\"Open In Colab\"/></a>"
      ]
    },
    {
      "cell_type": "markdown",
      "metadata": {
        "id": "vncDsAP0Gaoa"
      },
      "source": [
        "# **Project Name**    - SalaryPulse 2024: Decoding Employment, Experience & Earnings\n",
        "\n"
      ]
    },
    {
      "cell_type": "markdown",
      "metadata": {
        "id": "beRrZCGUAJYm"
      },
      "source": [
        "##### **Project Type**    - EDA\n",
        "##### **Contribution**    - Nikesh Kumar Singh"
      ]
    },
    {
      "cell_type": "markdown",
      "metadata": {
        "id": "FJNUwmbgGyua"
      },
      "source": [
        "# **Project Summary -**"
      ]
    },
    {
      "cell_type": "markdown",
      "metadata": {
        "id": "F6v_1wHtG2nS"
      },
      "source": [
        "### **Project Summary: HR Intelligence – Analyzing Global Data Science Salaries (2024)**\n",
        "\n",
        "This project focuses on uncovering complex insights into global compensation trends within the data science industry using the **Data Science Salary 2024** dataset. The dataset includes detailed salary and HR-related information such as job roles, experience levels, work models, compensation types, geographical locations, and company characteristics.\n",
        "\n",
        "The primary objective of this project is to assist HR professionals, recruiters, and decision-makers in understanding how various workforce dimensions—such as seniority, employment structures, and workplace flexibility—impact salary patterns across different organizational and geographic settings.\n",
        "\n",
        "A total of **100 highly challenging, HR-specific data analysis questions** were created and addressed using Python. Libraries such as **Pandas**, **NumPy**, **Matplotlib**, and **Seaborn** were employed to explore patterns, detect anomalies, and generate deep HR insights. These questions covered a broad spectrum, including identifying which company size pays interns the most, calculating salary elasticity across experience levels, and analyzing salary percentiles across nations.\n",
        "\n",
        "---\n",
        "\n",
        "### **Techniques Used**\n",
        "\n",
        "To deepen interpretability and generate actionable outcomes, the project incorporated:\n",
        "\n",
        "- Correlation matrices  \n",
        "- Percentile-based ranking  \n",
        "- Outlier detection and treatment  \n",
        "- Boxplots and distribution visualization  \n",
        "- Comparative salary gap analysis  \n",
        "\n",
        "---\n",
        "\n",
        "### **Outcome**\n",
        "\n",
        "The project provides robust, data-driven insights into salary trends within the global data science workforce. These insights serve as a strategic tool for HR teams and leadership to:\n",
        "\n",
        "- Benchmark fair and competitive salaries  \n",
        "- Design equitable compensation frameworks  \n",
        "- Build informed hiring and promotion strategies  \n",
        "- Evaluate remote work policies  \n",
        "- Improve global talent acquisition initiatives  \n",
        "\n",
        "By bridging analytics with real-world HR decision-making, this project transforms salary data into powerful intelligence that supports transparency, fairness, and strategic workforce planning.\n"
      ]
    },
    {
      "cell_type": "markdown",
      "metadata": {
        "id": "w6K7xa23Elo4"
      },
      "source": [
        "# **GitHub Link -**"
      ]
    },
    {
      "cell_type": "markdown",
      "metadata": {
        "id": "h1o69JH3Eqqn"
      },
      "source": [
        "Provide your GitHub Link here."
      ]
    },
    {
      "cell_type": "markdown",
      "metadata": {
        "id": "O_i_v8NEhb9l"
      },
      "source": [
        "# ***Let's Begin !***"
      ]
    },
    {
      "cell_type": "markdown",
      "metadata": {
        "id": "HhfV-JJviCcP"
      },
      "source": [
        "## ***1. Know Your Data***"
      ]
    },
    {
      "cell_type": "markdown",
      "metadata": {
        "id": "Y3lxredqlCYt"
      },
      "source": [
        "### Import Libraries"
      ]
    },
    {
      "cell_type": "code",
      "execution_count": null,
      "metadata": {
        "id": "M8Vqi-pPk-HR"
      },
      "outputs": [],
      "source": [
        "# Import Libraries\n",
        "\n",
        "import pandas as pd\n",
        "import numpy as np\n",
        "import matplotlib.pyplot as plt\n",
        "import seaborn as sns\n",
        "import warnings\n",
        "warnings.filterwarnings(\"ignore\", category=FutureWarning)\n"
      ]
    },
    {
      "cell_type": "markdown",
      "metadata": {
        "id": "3RnN4peoiCZX"
      },
      "source": [
        "### Dataset Loading"
      ]
    },
    {
      "cell_type": "code",
      "execution_count": null,
      "metadata": {
        "id": "4CkvbW_SlZ_R"
      },
      "outputs": [],
      "source": [
        "from google.colab import drive\n",
        "drive.mount('/content/drive')\n",
        "\n",
        "# Load Dataset\n",
        "df = pd.read_csv('/content/drive/MyDrive/almabetter project/data_science_salaries.csv')\n"
      ]
    },
    {
      "cell_type": "markdown",
      "metadata": {
        "id": "x71ZqKXriCWQ"
      },
      "source": [
        "### Dataset First View"
      ]
    },
    {
      "cell_type": "code",
      "execution_count": null,
      "metadata": {
        "id": "LWNFOSvLl09H"
      },
      "outputs": [],
      "source": [
        "# Dataset First Look\n",
        "\n",
        "df.head(5)"
      ]
    },
    {
      "cell_type": "markdown",
      "metadata": {
        "id": "7hBIi_osiCS2"
      },
      "source": [
        "### Dataset Rows & Columns count"
      ]
    },
    {
      "cell_type": "code",
      "execution_count": null,
      "metadata": {
        "id": "Kllu7SJgmLij"
      },
      "outputs": [],
      "source": [
        "# Dataset Rows & Columns count\n",
        "df.shape"
      ]
    },
    {
      "cell_type": "markdown",
      "metadata": {
        "id": "JlHwYmJAmNHm"
      },
      "source": [
        "### Dataset Information"
      ]
    },
    {
      "cell_type": "code",
      "execution_count": null,
      "metadata": {
        "id": "e9hRXRi6meOf"
      },
      "outputs": [],
      "source": [
        "# Dataset Info\n",
        "df.info()"
      ]
    },
    {
      "cell_type": "markdown",
      "metadata": {
        "id": "35m5QtbWiB9F"
      },
      "source": [
        "#### Duplicate Values"
      ]
    },
    {
      "cell_type": "code",
      "execution_count": null,
      "metadata": {
        "id": "1sLdpKYkmox0"
      },
      "outputs": [],
      "source": [
        "# Dataset Duplicate Value Count\n",
        "df.duplicated().sum()"
      ]
    },
    {
      "cell_type": "code",
      "source": [
        "# dublicate colums\n",
        "dublicate_columns = df.T.duplicated()\n",
        "df.columns[dublicate_columns].to_list()"
      ],
      "metadata": {
        "id": "8njfW-6WKetb"
      },
      "execution_count": null,
      "outputs": []
    },
    {
      "cell_type": "markdown",
      "metadata": {
        "id": "PoPl-ycgm1ru"
      },
      "source": [
        "#### Missing Values/Null Values"
      ]
    },
    {
      "cell_type": "code",
      "execution_count": null,
      "metadata": {
        "id": "GgHWkxvamxVg"
      },
      "outputs": [],
      "source": [
        "# Missing Values/Null Values Count\n",
        "df.isna().sum()"
      ]
    },
    {
      "cell_type": "code",
      "execution_count": null,
      "metadata": {
        "id": "3q5wnI3om9sJ"
      },
      "outputs": [],
      "source": [
        "# Visualizing the missing values"
      ]
    },
    {
      "cell_type": "markdown",
      "metadata": {
        "id": "H0kj-8xxnORC"
      },
      "source": [
        "## **What did you know about your dataset**"
      ]
    },
    {
      "cell_type": "markdown",
      "metadata": {
        "id": "gfoNAAC-nUe_"
      },
      "source": [
        "##  Dataset Health Summary\n",
        "\n",
        "### 1. Shape of the Dataset\n",
        "- The dataset contains **6,599 rows** and **11 columns**.\n",
        "- This indicates a moderately sized dataset suitable for deep analysis.\n",
        "\n",
        "### 2. Missing Values\n",
        "-  There are **no missing values** in any of the columns.\n",
        "-  The dataset is **complete** and requires **no null handling**.\n",
        "\n",
        "### 3. Duplicate Rows\n",
        "-  `df.duplicated().sum()` returns **0**.\n",
        "-  There are **no duplicate rows**, ensuring data **uniqueness**.\n",
        "\n",
        "### 4. Duplicate Columns\n",
        "-  `df.T.duplicated()` returns an **empty list**.\n",
        "-  All columns are **distinct** with **no redundant information**.\n",
        "\n",
        "### 5. Memory Usage\n",
        "- The dataset consumes approximately **567.2 KB** of memory.\n",
        "- It is **efficient** and suitable for processing in most environments.\n",
        "\n",
        "---\n",
        "\n",
        "##  Final Conclusion\n",
        "\n",
        "  The dataset is **clean, complete, and well-structured**, with:\n",
        " - No missing values  \n",
        " - No duplicate rows  \n",
        " - No duplicate columns  \n",
        "\n",
        "\n"
      ]
    },
    {
      "cell_type": "markdown",
      "metadata": {
        "id": "nA9Y7ga8ng1Z"
      },
      "source": [
        "## ***2. Understanding Your Variables***"
      ]
    },
    {
      "cell_type": "code",
      "execution_count": null,
      "metadata": {
        "id": "f-3C0uazHivR"
      },
      "outputs": [],
      "source": [
        "objects = df.select_dtypes(include=['object']).columns.to_list()\n",
        "int_flot = df.select_dtypes(include=['int','float']).columns.to_list()\n",
        "print(len(objects))\n",
        "print(len(int_flot))\n"
      ]
    },
    {
      "cell_type": "code",
      "execution_count": null,
      "metadata": {
        "id": "j7xfkqrt5Ag5"
      },
      "outputs": [],
      "source": [
        "# Dataset Columns\n",
        "df.dtypes"
      ]
    },
    {
      "cell_type": "code",
      "execution_count": null,
      "metadata": {
        "id": "DnOaZdaE5Q5t"
      },
      "outputs": [],
      "source": [
        "# Dataset Describe\n",
        "df.describe()"
      ]
    },
    {
      "cell_type": "markdown",
      "metadata": {
        "id": "PBTbrJXOngz2"
      },
      "source": [
        "### Variables Description"
      ]
    },
    {
      "cell_type": "markdown",
      "metadata": {
        "id": "aJV4KIxSnxay"
      },
      "source": [
        "## 🧾 Column Descriptions\n",
        "\n",
        "### 1. **job_title** *(object)*\n",
        "Represents the job role or designation of the employee (e.g., Data Scientist, Machine Learning Engineer, Data Analyst).\n",
        "\n",
        "### 2. **experience_level** *(object)*\n",
        "Specifies the employee’s experience level, commonly using codes such as:\n",
        "- EN: Entry-level\n",
        "- MI: Mid-level\n",
        "- SE: Senior-level\n",
        "- EX: Executive-level\n",
        "\n",
        "### 3. **employment_type** *(object)*\n",
        "Indicates the type of employment contract, such as:\n",
        "- FT: Full-time\n",
        "- PT: Part-time\n",
        "- CT: Contract\n",
        "- FL: Freelance\n",
        "\n",
        "### 4. **work_models** *(object)*\n",
        "Describes the working arrangement of the employee:\n",
        "- Remote\n",
        "- In-office\n",
        "- Hybrid\n",
        "\n",
        "### 5. **work_year** *(int64)*\n",
        "The calendar year in which the employee's salary and employment data were recorded (e.g., 2020, 2021, 2022, 2023, 2024).\n",
        "\n",
        "### 6. **employee_residence** *(object)*\n",
        "Shows the country or region where the employee resides or works from.\n",
        "\n",
        "### 7. **salary** *(int64)*\n",
        "The total gross annual salary of the employee in the original currency (before conversion).\n",
        "\n",
        "### 8. **salary_currency** *(object)*\n",
        "Denotes the currency in which the original salary was paid (e.g., USD, EUR, INR).\n",
        "\n",
        "### 9. **salary_in_usd** *(int64)*\n",
        "The employee's salary converted into US Dollars (USD), used for standard comparison across regions.\n",
        "\n",
        "### 10. **company_location** *(object)*\n",
        "Specifies the country or region where the employing company is based or headquartered.\n",
        "\n",
        "### 11. **company_size** *(object)*\n",
        "Categorizes the size of the company:\n",
        "- S: Small (1–50 employees)\n",
        "- M: Medium (51–250 employees)\n",
        "- L: Large (250+ employees)\n"
      ]
    },
    {
      "cell_type": "markdown",
      "metadata": {
        "id": "u3PMJOP6ngxN"
      },
      "source": [
        "### Check Unique Values for each variable."
      ]
    },
    {
      "cell_type": "code",
      "execution_count": null,
      "metadata": {
        "id": "zms12Yq5n-jE"
      },
      "outputs": [],
      "source": [
        "# Check Unique Values for each variable.\n",
        "for i in objects:\n",
        "    print(df[i].value_counts())\n",
        "    print('*' *50)\n"
      ]
    },
    {
      "cell_type": "markdown",
      "metadata": {
        "id": "dauF4eBmngu3"
      },
      "source": [
        "## 3. ***Data Wrangling***"
      ]
    },
    {
      "cell_type": "markdown",
      "metadata": {
        "id": "bKJF3rekwFvQ"
      },
      "source": [
        "### Data Wrangling Code"
      ]
    },
    {
      "cell_type": "code",
      "execution_count": null,
      "metadata": {
        "id": "wk-9a2fpoLcV"
      },
      "outputs": [],
      "source": [
        "# Write your code to make your dataset analysis ready.\n",
        "\n",
        "# df['work_year'] = pd.to_datetime(df['work_year'].astype('str'),format=\"%Y\").dt.year\n",
        "# df['work_year']"
      ]
    },
    {
      "cell_type": "markdown",
      "metadata": {
        "id": "LbyXE7I1olp8"
      },
      "source": [
        "Converts the work_year column from integers to datetime64 format using the %Y year"
      ]
    },
    {
      "cell_type": "markdown",
      "source": [
        "## ***Basic Analysis***"
      ],
      "metadata": {
        "id": "HQ79-_rPQIAV"
      }
    },
    {
      "cell_type": "markdown",
      "source": [
        "### average salary in USD per job title"
      ],
      "metadata": {
        "id": "D2CGs0sVQTiW"
      }
    },
    {
      "cell_type": "code",
      "source": [
        "def job_title_average_salary(\n",
        "                            df,\n",
        "                            year_range:tuple=None,\n",
        "                            specific_year: int = None,\n",
        "                            agg_func: str='mean'\n",
        "                          ) -> pd.DataFrame:\n",
        "    '''\n",
        "    Description:\n",
        "    ------------\n",
        "    Calculate the average salary in USD for each job title.\n",
        "\n",
        "    Filters can be applied using either a specific year or a year range.\n",
        "\n",
        "    Parameters:\n",
        "    -----------\n",
        "    df : pd.DataFrame\n",
        "        Input DataFrame containing salary and job information.\n",
        "    year_range : tuple, optional\n",
        "        A tuple (start_year, end_year) to filter data inclusively between those years.\n",
        "        Example: year_range=(2020, 2024)\n",
        "    specific_year : int, optional\n",
        "        A specific year to filter data for that exact year.\n",
        "    '''\n",
        "    filter_data = df.copy(deep=True)\n",
        "  # Apply range filters\n",
        "    if year_range is not None:\n",
        "      start_year,end_year = year_range\n",
        "      filter_data = filter_data[(filter_data['work_year'] >= start_year) & (filter_data['work_year'] <= end_year)]\n",
        "      column_name = f'{agg_func}_salary_{start_year}_{end_year}'\n",
        "\n",
        "    # Apply specific year filter if provided\n",
        "    elif specific_year is not None:\n",
        "        dfilter_dataf = filter_data[filter_data['work_year'] == specific_year]\n",
        "        column_name = f'{agg_func}_salary_{specific_year}'\n",
        "    else:\n",
        "        column_name = f'{agg_func}_salary_all_years'\n",
        "\n",
        "\n",
        "    return (\n",
        "        filter_data.groupby('job_title')\n",
        "        .agg(**{column_name:('salary_in_usd', agg_func)}).round(2)\n",
        "        .reset_index()\n",
        "        # .sort_values(by=column_name, ascending=False)\n",
        "    )\n"
      ],
      "metadata": {
        "id": "MiiNyAttRGfw"
      },
      "execution_count": null,
      "outputs": []
    },
    {
      "cell_type": "markdown",
      "source": [
        "#### Top 10 data science job titles with the highest average pay in 2024?"
      ],
      "metadata": {
        "id": "Pd0ZGYM7wIgu"
      }
    },
    {
      "cell_type": "code",
      "source": [
        "top_10_highest_average_pay_in_2024 = job_title_average_salary(df,specific_year=2024,agg_func='mean').sort_values(by='mean_salary_2024',ascending=False).head(10)\n",
        "top_10_highest_average_pay_in_2024"
      ],
      "metadata": {
        "id": "x700rBw-mSeZ"
      },
      "execution_count": null,
      "outputs": []
    },
    {
      "cell_type": "markdown",
      "source": [
        "Conclusion:\n",
        "In 2024, Machine Learning Scientist roles commanded the highest average salary at $282,916.67, followed by Managing Director of Data Science and AI Architect roles. These findings indicate that positions at the intersection of machine learning, leadership, and AI architecture are the most financially rewarding. The top 10 job titles highlight the growing demand and value for advanced AI and ML expertise in the industry."
      ],
      "metadata": {
        "id": "CNzEYZ-LxwSx"
      }
    },
    {
      "cell_type": "markdown",
      "source": [
        "#### Top 10 data science job titles with the lowest average pay in 2024?"
      ],
      "metadata": {
        "id": "j1CMnDBA3wyD"
      }
    },
    {
      "cell_type": "code",
      "source": [
        "top_10_lowest_average_pay_in_2024 = job_title_average_salary(df,specific_year=2024,agg_func='mean').sort_values(by='mean_salary_2024').head(10)\n",
        "top_10_lowest_average_pay_in_2024"
      ],
      "metadata": {
        "id": "97wZGSUH3zgE"
      },
      "execution_count": null,
      "outputs": []
    },
    {
      "cell_type": "markdown",
      "source": [
        "Conclusion:\n",
        "In 2024, the Data Quality Analyst role had the lowest average salary at $71,750, followed closely by Data Specialist and ETL Developer roles. The lowest-paying positions are generally centered around data maintenance, integration, and support functions, indicating a comparatively lower market valuation for roles not directly tied to advanced analytics or machine learning."
      ],
      "metadata": {
        "id": "mWMhLWrS4MLX"
      }
    },
    {
      "cell_type": "markdown",
      "source": [
        "#### Top 10 data science job titles with the highets  pay in 2024?"
      ],
      "metadata": {
        "id": "wKze_QYF4NEx"
      }
    },
    {
      "cell_type": "code",
      "source": [
        "top_10_highest_pay_job_in_2024 = job_title_average_salary(df,specific_year=2024,agg_func='max').sort_values(by='max_salary_2024',ascending=False).head(10)\n",
        "top_10_highest_pay_job_in_2024"
      ],
      "metadata": {
        "id": "9VJT-79w4Xrm"
      },
      "execution_count": null,
      "outputs": []
    },
    {
      "cell_type": "markdown",
      "source": [
        "🔝 Top 10 Highest Paying Job Titles in 2024 (Based on Max Salary)\n",
        "\n",
        "- **Machine Learning Scientist** earned the highest salary of **$750,000**, followed by **Research Scientist** and **Research Engineer**, both up to **$720,000**.\n",
        "- **ML Engineer**, **Applied Scientist**, and **Data Scientist** also secured strong max pay, ranging from **$357K to $414K**.\n",
        "- Roles like **Data Engineer**, **Data Architect**, and general **Data Science** highlight consistent high-value compensation.\n",
        "- This shows that AI/ML research, engineering, and data architecture remain the most financially rewarding domains.\n"
      ],
      "metadata": {
        "id": "leymHNI45Uj7"
      }
    },
    {
      "cell_type": "markdown",
      "source": [
        "#### Top 10 data science job titles with the lowest  pay in 2024?"
      ],
      "metadata": {
        "id": "wTfvYmgH5d-F"
      }
    },
    {
      "cell_type": "code",
      "source": [
        "top_10_lowest_pay_job_in_2024 = job_title_average_salary(df,specific_year=2024,agg_func='min').sort_values(by='min_salary_2024').head(10)\n",
        "top_10_lowest_pay_job_in_2024"
      ],
      "metadata": {
        "id": "V8Gaaf8S58aE"
      },
      "execution_count": null,
      "outputs": []
    },
    {
      "cell_type": "markdown",
      "source": [
        "🔻 Top 10 Lowest Paying Job Titles in 2024 (Based on Min Salary)\n",
        "\n",
        "- **Data Science** had the lowest recorded salary at **$16,666**, followed by **Data Engineer** at **$30,000**.\n",
        "- Other roles like **Data Analyst**, **Data Developer**, and **ETL Developer** had minimum salaries below **$55,000**.\n",
        "- Even high-profile jobs like **Data Scientist** and **Research Engineer** saw minimums under **$62,000**.\n",
        "- This wide range suggests significant salary disparities within the same job titles, possibly due to factors like region, experience, or company size.\n"
      ],
      "metadata": {
        "id": "YPy56qJ56Z5s"
      }
    },
    {
      "cell_type": "markdown",
      "source": [
        "##### visualization\n"
      ],
      "metadata": {
        "id": "hMVCCCk76keb"
      }
    },
    {
      "cell_type": "code",
      "source": [
        "\n",
        "# for clean visual style\n",
        "sns.set(style=\"whitegrid\")\n",
        "\n",
        "fig, axes = plt.subplots(ncols=2, nrows=2, figsize=(18, 12))\n",
        "axes = axes.flatten()\n",
        "\n",
        "# Configurations for each subplot\n",
        "plot_data = [\n",
        "    (top_10_highest_average_pay_in_2024, 'mean_salary_2024', 'Top 10 Highest Avg Paying Roles – 2024'),\n",
        "    (top_10_lowest_average_pay_in_2024, 'mean_salary_2024', 'Top 10 Lowest Avg Paying Roles – 2024'),\n",
        "    (top_10_highest_pay_job_in_2024, 'max_salary_2024', 'Top 10 Max Salary Roles – 2024'),\n",
        "    (top_10_lowest_pay_job_in_2024, 'min_salary_2024', 'Top 10 Min Salary Roles – 2024')\n",
        "]\n",
        "\n",
        "for ax, (data, salary_col, title) in zip(axes, plot_data):\n",
        "    sns.barplot(\n",
        "        data=data,\n",
        "        x=salary_col,\n",
        "        y='job_title',\n",
        "        hue='job_title',\n",
        "        palette='cool',\n",
        "        ax=ax,\n",
        "        dodge=False\n",
        "    )\n",
        "\n",
        "    # Plot detaling\n",
        "    ax.set_title(title, fontsize=14, fontweight='bold', color='navy')\n",
        "    ax.set_xlabel('Salary in USD', fontsize=12)\n",
        "    ax.set_ylabel('')  # Remove y-axis title\n",
        "    ax.legend().remove()\n",
        "    sns.despine(ax=ax, left=True, bottom=True)\n",
        "\n",
        "    # Annotate bar values\n",
        "    for i, v in enumerate(data[salary_col]):\n",
        "        ax.text(v + 1000, i, f\"${v:,.0f}\", va='center', fontsize=9, color='black')\n",
        "\n",
        "plt.tight_layout(h_pad=2)\n",
        "plt.suptitle(\"Data Science Salary Insights – 2024\", fontsize=16, fontweight='bold', color='darkgreen', y=1.02)\n",
        "plt.show()\n"
      ],
      "metadata": {
        "id": "B4AYrA5UAJ9T"
      },
      "execution_count": null,
      "outputs": []
    },
    {
      "cell_type": "markdown",
      "source": [
        "💼 2024 Data Science Salary Insights – Overall Conclusion\n",
        "\n",
        " 🔻 Lowest Paying Job Titles (Based on Minimum Salary)\n",
        "\n",
        "- **Data Science** recorded the **lowest minimum salary** at **$16,666**, followed by **Data Engineer** at **$30,000**.\n",
        "- Other roles such as **Data Analyst**, **Data Developer**, and **ETL Developer** reported minimum salaries under **$55,000**.\n",
        "- Even high-profile titles like **Data Scientist** and **Research Engineer** had minimum salaries **below $62,000**.\n",
        "- ➤ **Key Insight**: The large variance in minimum salaries suggests significant disparities within the same roles, likely influenced by **region**, **experience**, or **company size**.\n",
        "\n",
        "---\n",
        "\n",
        " 🔺 Highest Paying Job Titles (Based on Maximum Salary)\n",
        "\n",
        "- **Machine Learning Scientist** topped the chart with a staggering **$750,000**.\n",
        "- **Research Scientist** and **Research Engineer** followed closely, each reaching **up to $720,000**.\n",
        "- Other strong contenders included **ML Engineer**, **Applied Scientist**, and **Data Scientist** with maximum pay ranging between **$357K and $414K**.\n",
        "- ➤ **Key Insight**: Roles in **AI/ML research**, **engineering**, and **data architecture** dominate the highest salary brackets, reflecting industry emphasis on innovation and advanced intelligence systems.\n",
        "\n",
        "---\n",
        "\n",
        " 📉 Lowest Average Salary Roles (2024)\n",
        "\n",
        "- **Data Quality Analyst** had the **lowest average salary** at **$71,750**, followed by **Data Specialist** and **ETL Developer**.\n",
        "- These roles typically involve **data maintenance**, **support**, and **integration** tasks.\n",
        "- ➤ **Key Insight**: Positions not directly tied to **machine learning** or **advanced analytics** tend to command **lower average salaries**, highlighting a market preference for more technical or strategic roles.\n",
        "\n",
        "---\n",
        "\n",
        " 📈 Highest Average Salary Roles (2024)\n",
        "\n",
        "- **Machine Learning Scientist** once again led with the **highest average salary** at **$282,916.67**.\n",
        "- Followed by **Managing Director of Data Science** and **AI Architect**.\n",
        "- ➤ **Key Insight**: The most financially rewarding roles combine **technical AI/ML expertise** with **leadership** and **strategic oversight** — a reflection of where businesses are investing for long-term AI growth.\n",
        "\n",
        "---\n",
        "\n",
        " 🧠 Final Takeaway\n",
        "\n",
        "In 2024, **the salary landscape in data science clearly favors roles that blend cutting-edge AI/ML expertise with leadership and innovation.**  \n",
        "On the flip side, **supporting roles in data infrastructure and quality control remain vital but are valued comparatively lower.**  \n",
        "Understanding these trends can guide both professionals and HR teams in making **informed career and compensation decisions**.\n"
      ],
      "metadata": {
        "id": "alBcG7mFCsmL"
      }
    },
    {
      "cell_type": "markdown",
      "source": [
        "### Which experience level has the highest average salary?"
      ],
      "metadata": {
        "id": "5OLY11y9D4nq"
      }
    },
    {
      "cell_type": "code",
      "source": [
        "pivot_table_df = df.groupby(['work_year', 'experience_level']) \\\n",
        "             .agg(avg_salary=('salary_in_usd', 'mean')) \\\n",
        "             .reset_index() \\\n",
        "             .pivot(index='work_year', columns='experience_level', values='avg_salary').reset_index()\n",
        "plt.figure(figsize=(10, 5))\n",
        "sns.heatmap(pivot_table_df,annot= True,fmt=\".0f\", cmap=\"cool\", linewidths=0.5)\n",
        "plt.title(\"Average Salary by Experience Level and Year\")\n",
        "plt.xlabel(\"Experience Level\")\n",
        "plt.ylabel(\"Work Year\")\n",
        "plt.tight_layout()\n",
        "plt.show()\n",
        "\n"
      ],
      "metadata": {
        "id": "W8Ogbu3IQmN4"
      },
      "execution_count": null,
      "outputs": []
    },
    {
      "cell_type": "code",
      "source": [
        "\n",
        "data_df = df.groupby(['work_year','experience_level'])\\\n",
        "             .agg(avg_salary=('salary_in_usd','mean'))\\\n",
        "             .reset_index()\n",
        "\n",
        "# Create Plot\n",
        "plt.figure(figsize=(12, 6))\n",
        "ax = sns.barplot(data=data_df,\n",
        "                 x='work_year',\n",
        "                 y='avg_salary',\n",
        "                 hue='experience_level',\n",
        "                 palette='cool')\n",
        "\n",
        "\n",
        "\n",
        "# Labels and title\n",
        "plt.title(\"Average Salary per Experience Level by Year\")\n",
        "plt.ylabel(\"Average Salary (USD)\")\n",
        "plt.xlabel(\"Work Year\")\n",
        "plt.xticks(rotation=0)\n",
        "plt.legend(title=\"Experience Level\", bbox_to_anchor=(1.05, 1), loc='upper left')\n",
        "plt.tight_layout()\n",
        "plt.show()\n"
      ],
      "metadata": {
        "id": "-rrJSIGrEOT0"
      },
      "execution_count": null,
      "outputs": []
    },
    {
      "cell_type": "markdown",
      "source": [
        "📌 Conclusion: Highest Maximum Salary by Experience Level (2020–2024)\n",
        "\n",
        "- **Executive-level** roles had the highest maximum salaries from **2020 to 2022**.\n",
        "- In **2023 and 2024**, the **Mid-level** and **Senior-level** positions reached the peak with **$750,000** salaries.\n",
        "- This shift indicates increasing demand and compensation for experienced technical roles.\n",
        "- **Entry-level** positions consistently had the lowest maximum salaries, emphasizing the value of experience in data roles.\n"
      ],
      "metadata": {
        "id": "ivWk8lAgRCbE"
      }
    },
    {
      "cell_type": "markdown",
      "source": [
        "#### he differences in salary distributions (mean, median, range, and variability) across different work models — Hybrid, On-site, and Remote?"
      ],
      "metadata": {
        "id": "CrSpRqOQ1pNb"
      }
    },
    {
      "cell_type": "code",
      "source": [
        "df.groupby('work_models')['salary_in_usd'].describe().reset_index()"
      ],
      "metadata": {
        "id": "gKTNrmLPT5KR"
      },
      "execution_count": null,
      "outputs": []
    },
    {
      "cell_type": "code",
      "source": [
        "\n",
        "\n",
        "plt.figure(figsize=(10, 6))\n",
        "sns.boxplot(data=df, x='work_models', y='salary_in_usd', palette='cool')\n",
        "\n",
        "plt.title(\"Salary Distribution by Work Model\")\n",
        "plt.xlabel(\"Work Model\")\n",
        "plt.ylabel(\"Salary (USD)\")\n",
        "plt.tight_layout()\n",
        "plt.show()\n"
      ],
      "metadata": {
        "id": "PqyvKRSl4fYX"
      },
      "execution_count": null,
      "outputs": []
    },
    {
      "cell_type": "markdown",
      "source": [
        "📌 Conclusion: Salary Comparison by Work Model (2024)\n",
        "\n",
        "- 💼 **On-site employees** have the highest **average salary** of around **$152,600**, with a wide spread (max: $750,000), indicating high-paying roles are more common.\n",
        "- 🏠 **Remote workers** follow with an average salary of approximately **$140,550**, and a strong upper range (max: $700,000), showing growing compensation for remote positions.\n",
        "- 🌀 **Hybrid workers** earn the **lowest average salary** (~$83,293), with a much **lower median and quartile range**, suggesting fewer high-paying roles.\n",
        "- 📊 The **standard deviation** is highest for on-site workers, implying more variability in salary compared to other work models.\n",
        "- 🎯 Overall, **on-site roles dominate** in both quantity and salary levels, but **remote work still commands competitive pay** across the board.\n"
      ],
      "metadata": {
        "id": "H5QFq9EN7WzS"
      }
    },
    {
      "cell_type": "markdown",
      "source": [
        "\n",
        " #### Average, Max, Min Salary by Company Size Over the Years?"
      ],
      "metadata": {
        "id": "GJjg_Xjo9NcM"
      }
    },
    {
      "cell_type": "code",
      "source": [
        "average_salary_on_company_size = df.groupby(['work_year', 'company_size'])['salary_in_usd'].mean().reset_index()\n",
        "\n",
        "max_salary_on_company_size = df.groupby(['work_year', 'company_size'])['salary_in_usd']\\\n",
        "                                   .max().reset_index()\n",
        "\n",
        "min_salary_on_company_size = df.groupby(['work_year', 'company_size'])['salary_in_usd']\\\n",
        "                                   .min().reset_index()\\\n",
        "\n",
        "\n",
        "T = df.groupby(['work_year', 'company_size'])['salary_in_usd']\\\n",
        "                                   .min().reset_index()\\\n",
        "                                   .pivot_table(index='company_size',columns='work_year',values='salary_in_usd',aggfunc=(['mean','max','min']),fill_value=0)\\\n",
        "                                   .reset_index()\n",
        "T"
      ],
      "metadata": {
        "id": "mKVDkJvfF2RC"
      },
      "execution_count": null,
      "outputs": []
    },
    {
      "cell_type": "code",
      "source": [
        "# Convert 'work_year' to string\n",
        "average_salary_on_company_size['work_year'] = average_salary_on_company_size['work_year'].astype(str)\n",
        "max_salary_on_company_size['work_year'] = max_salary_on_company_size['work_year'].astype(str)\n",
        "min_salary_on_company_size['work_year'] = min_salary_on_company_size['work_year'].astype(str)\n",
        "\n",
        "# Plot setup\n",
        "sns.set(style='whitegrid')\n",
        "fig, axes = plt.subplots(1, 3, figsize=(20, 6))\n",
        "axes = axes.flatten()\n",
        "\n",
        "# Plot 1: Average Salary\n",
        "avg_plot = sns.barplot(\n",
        "    data=average_salary_on_company_size,\n",
        "    x='work_year',\n",
        "    y='salary_in_usd',\n",
        "    hue='company_size',\n",
        "    palette='cool',\n",
        "    ax=axes[0]\n",
        ")\n",
        "axes[0].set_title('Average Salary', fontweight='bold', color='r')\n",
        "\n",
        "for container in avg_plot.containers:\n",
        "    avg_plot.bar_label(container, label_type='edge', fontsize=9, rotation=85)\n",
        "\n",
        "# Save handles and labels before removing legends\n",
        "handles, labels = axes[0].get_legend_handles_labels()\n",
        "\n",
        "# Plot 2: Maximum Salary\n",
        "max_plot = sns.barplot(\n",
        "    data=max_salary_on_company_size,\n",
        "    x='work_year',\n",
        "    y='salary_in_usd',\n",
        "    hue='company_size',\n",
        "    palette='cool',\n",
        "    ax=axes[1]\n",
        ")\n",
        "axes[1].set_title('Maximum Salary', fontweight='bold', color='r')\n",
        "\n",
        "for container in max_plot.containers:\n",
        "    max_plot.bar_label(container, label_type='edge', fontsize=9, rotation=45)\n",
        "\n",
        "# Plot 3: Minimum Salary\n",
        "min_plot = sns.barplot(\n",
        "    data=min_salary_on_company_size,\n",
        "    x='work_year',\n",
        "    y='salary_in_usd',\n",
        "    hue='company_size',\n",
        "    palette='cool',\n",
        "    ax=axes[2]\n",
        ")\n",
        "axes[2].set_title('Minimum Salary', fontweight='bold', color='r')\n",
        "\n",
        "for container in min_plot.containers:\n",
        "    min_plot.bar_label(container, label_type='edge', fontsize=9, rotation=85)\n",
        "\n",
        "# Remove legends from all axes\n",
        "for ax in axes:\n",
        "    ax.get_legend().remove()\n",
        "\n",
        "# Add shared legend to the figure\n",
        "fig.legend(\n",
        "    handles=handles,\n",
        "    labels=labels,\n",
        "    title='Company Size',\n",
        "    loc='upper center',\n",
        "    bbox_to_anchor=(0.5, 1.15),\n",
        "    ncol=3\n",
        ")\n",
        "\n",
        "# Final layout\n",
        "plt.suptitle('Company Size-wise Salary Trends (Mean, Max, Min) [2020–2024]', fontsize=15, fontweight='bold')\n",
        "plt.tight_layout(rect=[0, 0, 1, 0.93])\n",
        "plt.show()\n"
      ],
      "metadata": {
        "id": "B37EzQQTJObK"
      },
      "execution_count": null,
      "outputs": []
    },
    {
      "cell_type": "markdown",
      "source": [
        " 💼 Conclusion: Average, Max, and Min Salary by Company Size Over the Years\n",
        "\n",
        "- 🏢 **Large companies** consistently paid the highest salaries from 2020 to 2024, with a noticeable increase in 2024 reaching **$167,008**, showing strong compensation growth over time.\n",
        "- 🏛️ **Medium-sized companies** also showed significant improvement in salary levels, especially in 2023 and 2024, peaking around **$152,826**, nearly closing the gap with large companies.\n",
        "- 🧩 **Small companies** offered the lowest salaries across all years, and in **2024, they recorded no data**, indicating limited or missing representation.\n",
        "- 📈 The salary trends reveal that **both large and medium companies have improved pay scales** over time, especially post-2021.\n",
        "- ⚠️ Small companies appear stagnant in salary growth, possibly lacking high-paying roles or facing data collection gaps.\n"
      ],
      "metadata": {
        "id": "dZonfCDJI6E2"
      }
    },
    {
      "cell_type": "markdown",
      "source": [
        "\n",
        " #### Which top 10 countries have the highest number of  data science roles based on company location"
      ],
      "metadata": {
        "id": "4pJ42aaGa4xa"
      }
    },
    {
      "cell_type": "markdown",
      "source": [],
      "metadata": {
        "id": "ybZeaUIGiTmW"
      }
    },
    {
      "cell_type": "code",
      "source": [
        "\n",
        "company = df.groupby('company_location')['salary_in_usd'].sum().reset_index().sort_values(by='salary_in_usd',ascending=False)['company_location'].head(10).to_list()\n",
        "final_df = df[df['company_location'].isin(company)].groupby(['company_location','experience_level'])['job_title'].count().reset_index(name='total_no_job').sort_values(by='total_no_job',ascending=False)\n",
        "data_temp = final_df.pivot_table(index='company_location',columns='experience_level',values='total_no_job',fill_value=0).reset_index()\n",
        "\n",
        "\n",
        "data_temp"
      ],
      "metadata": {
        "id": "bwfgLPVMDCrY"
      },
      "execution_count": null,
      "outputs": []
    },
    {
      "cell_type": "code",
      "source": [
        "# visualisation\n",
        "fig,axis = plt.subplots(5,2,figsize=(22,18))\n",
        "axis = axis.flatten()\n",
        "\n",
        "\n",
        "\n",
        "\n",
        "for index,country in enumerate(final_df['company_location'].unique()):\n",
        "  country_data = final_df[final_df['company_location']==country]\n",
        "\n",
        "  sns.barplot(data=country_data,x='experience_level',y='total_no_job',palette='cool',ax = axis[index])\n",
        "  axis[index].set_title(f'{country}',fontsize=20)\n",
        "  for i,row in enumerate(country_data['total_no_job']):\n",
        "    axis[index].text(x=i,y=row,s=row)\n",
        "\n",
        "\n",
        "\n",
        "plt.suptitle('Job Count by Experience Level in Top 10 Countries', fontsize=20, fontweight='bold',color='b')\n",
        "# plt.tight_layout(rect=[0, 0, 1, 0.96])\n",
        "plt.tight_layout()\n",
        "plt.show()\n",
        "\n"
      ],
      "metadata": {
        "id": "9vdBKespuQt_"
      },
      "execution_count": null,
      "outputs": []
    },
    {
      "cell_type": "markdown",
      "source": [
        "Conclusion on Job Distribution by Experience Level and Company Location (2024)\n",
        "\n",
        "- **United States**:\n",
        "  - 🧠 **Senior-level roles**: 3,574 positions\n",
        "  - ⚙️ **Mid-level roles**: 1,186 positions\n",
        "  - 👶 **Entry-level roles**: 376 positions\n",
        "  - 🧑‍💼 **Executive-level roles**: 218 positions\n",
        "  - > 🇺🇸 The U.S. is clearly the leader in data-related job opportunities across all experience levels.\n",
        "\n",
        "- **United Kingdom**:\n",
        "  - ⚙️ Mid-level: 200\n",
        "  - 🧠 Senior-level: 145\n",
        "  - 👶 Entry-level: 46\n",
        "  - 🧑‍💼 Executive-level: 17\n",
        "\n",
        "- **Canada**:\n",
        "  - 🧠 Senior-level: 172\n",
        "  - ⚙️ Mid-level: 52\n",
        "  - 👶 Entry-level: 15\n",
        "  - 🧑‍💼 Executive-level: 4\n",
        "\n",
        "- **Spain**:\n",
        "  - 🧠 Senior-level: 30\n",
        "  - ⚙️ Mid-level: 24\n",
        "  - 👶 Entry-level: 7\n",
        "  - 🧑‍💼 Executive-level: 2\n",
        "\n",
        "- **Germany**:\n",
        "  - 🧠 Senior-level: 29\n",
        "  - ⚙️ Mid-level: 23\n",
        "  - 👶 Entry-level: 24\n",
        "  - 🧑‍💼 Executive-level: 2\n",
        "\n",
        "- **India**:\n",
        "  - ⚙️ Mid-level: 24\n",
        "  - 🧠 Senior-level: 17\n",
        "  - 👶 Entry-level: 16\n",
        "  - 🧑‍💼 Executive-level: 1\n",
        "\n",
        "- **France**:\n",
        "  - ⚙️ Mid-level: 22\n",
        "  - 🧠 Senior-level: 17\n",
        "  - 👶 Entry-level: 10\n",
        "  - 🧑‍💼 Executive-level: 0\n",
        "\n",
        "- **Portugal**:\n",
        "  - 🧠 Senior-level: 12\n",
        "  - ⚙️ Mid-level: 9\n",
        "  - 👶 Entry-level: 5\n",
        "  - 🧑‍💼 Executive-level: 0\n",
        "\n",
        "- **Netherlands**:\n",
        "  - ⚙️ Mid-level: 9\n",
        "  - 👶 Entry-level: 6\n",
        "  - 🧠 Senior-level: 4\n",
        "  - 🧑‍💼 Executive-level: 2\n",
        "\n",
        "- **Australia**:\n",
        "  - ⚙️ Mid-level: 18\n",
        "  - 🧠 Senior-level: 6\n",
        "  - 👶 Entry-level: 8\n",
        "  - 🧑‍💼 Executive-level: 0\n",
        "\n",
        "---\n",
        "\n",
        "💡 Key Insight\n",
        "\n",
        "> The **United States** is the central hub for data-related careers at all experience levels, particularly **senior** and **executive** positions. Other countries like the **United Kingdom** and **Canada** also have strong markets, while nations such as **Portugal**, **France**, and **India** offer more opportunities in **entry** and **mid-level** positions. This indicates both the **maturity** of the data science market and regional **demand for skilled professionals**.\n"
      ],
      "metadata": {
        "id": "Zy8uRzeguHws"
      }
    },
    {
      "cell_type": "markdown",
      "source": [
        "#### Which job roles experienced the highest salary increase from 2023 to 2024"
      ],
      "metadata": {
        "id": "DTY2W7uHCgKL"
      }
    },
    {
      "cell_type": "code",
      "source": [
        "job_title_df = df[df['work_year'].isin([2023, 2024])].groupby([\"work_year\", \"job_title\"])[\"salary_in_usd\"].mean().unstack().T\n",
        "job_title_df[\"increase\"] = (job_title_df[2024] - job_title_df[2023]).round(2)\n",
        "job_title_df[\"percent_of_increase\"] = (((job_title_df[2024] - job_title_df[2023]) / job_title_df[2023]) * 100).round(2)\n",
        "max_df = job_title_df.sort_values(\"percent_of_increase\", ascending=False).head(10)\n",
        "final_df = max_df.reset_index()\n",
        "final_df\n"
      ],
      "metadata": {
        "id": "uf6raVBh9aZd"
      },
      "execution_count": null,
      "outputs": []
    },
    {
      "cell_type": "code",
      "source": [
        "# visualisation\n",
        "final_df\n",
        "\n",
        "\n",
        "fig,axis=plt.subplots(1,2,figsize=(20,6),sharey=True)\n",
        "axis = axis.flatten()\n",
        "\n",
        "\n",
        "sns.barplot(data=final_df,y='job_title',x='increase',palette='cool',ax=axis[0])\n",
        "for i,v in enumerate(final_df['increase']):\n",
        "  axis[0].text(v,i,f'${v}')\n",
        "axis[0].set_title('Top 10 Roles with Highest Absolute Salary Increase\\n(from 2023 to 2024)', fontsize=13, fontweight='bold')\n",
        "\n",
        "\n",
        "sns.barplot(data=final_df,y='job_title',x='percent_of_increase',palette='cool',ax=axis[1])\n",
        "for i,v in enumerate(final_df['percent_of_increase']):\n",
        "  axis[1].text(v,i,f'{v}%')\n",
        "axis[1].set_title('Top 10 Roles with Highest Percentage Salary Growth\\n(from 2023 to 2024)', fontsize=13, fontweight='bold')\n",
        "\n",
        "\n",
        "plt.suptitle('Job Roles with the Highest Salary Growth Between 2023 and 2024', fontsize=16, fontweight='bold')\n",
        "\n",
        "plt.tight_layout(rect=[0, 0, 1, 0.95])\n",
        "plt.show()"
      ],
      "metadata": {
        "id": "qJLk9kCvmdkM"
      },
      "execution_count": null,
      "outputs": []
    },
    {
      "cell_type": "markdown",
      "source": [
        " Salary Growth Analysis (2023 vs. 2024)\n",
        "\n",
        "This analysis highlights the job titles in the data industry that experienced the highest increase in average salary from 2023 to 2024.\n",
        "\n",
        " 🔝 Top Gainers (Based on Percentage Increase):\n",
        "\n",
        "1. **Research Analyst**\n",
        "   - 💰 2023: $94,232 → 2024: $146,875\n",
        "   - 📈 Increase: $52,642.71 (🔺 **55.86%**)\n",
        "   - > This is the highest salary jump, suggesting a significant rise in demand for analytical research capabilities.\n",
        "\n",
        "2. **Machine Learning Scientist**\n",
        "   - 💰 2023: $197,701 → 2024: $282,917\n",
        "   - 📈 Increase: $85,214.83 (🔺 **43.10%**)\n",
        "   - > Consistent with growing investments in machine learning research and innovation.\n",
        "\n",
        "3. **Data Product Manager**\n",
        "   - 💰 2023: $164,350 → 2024: $213,150\n",
        "   - 📈 Increase: $48,800 (🔺 **29.69%**)\n",
        "\n",
        "4. **Research Engineer**\n",
        "   - 💰 2023: $176,599 → 2024: $227,897\n",
        "   - 📈 Increase: $51,297 (🔺 **29.05%**)\n",
        "\n",
        "5. **Data Science Engineer**\n",
        "   - 💰 2023: $154,706 → 2024: $190,000\n",
        "   - 📈 Increase: $35,294 (🔺 **22.81%**)\n",
        "\n",
        " Modest Increases:\n",
        "\n",
        "- **ML Engineer** and **MLOps Engineer** saw salary increases of only **7.31%** and **8.56%** respectively, possibly indicating stabilization in their market value.\n",
        "- **Data Visualization Specialist** observed a **9.66%** increase, showing modest but steady growth.\n",
        "\n",
        "---\n",
        "\n",
        "💡 Key Insight\n",
        "\n",
        "> The largest growth is seen in **research-focused** and **product-oriented** roles, highlighting the increasing industry value placed on **data-driven innovation**, **strategic insights**, and **machine learning advancements**. While roles like ML Engineer and MLOps Engineer continue to be high-paying, their slower growth suggests market maturity in these areas.\n"
      ],
      "metadata": {
        "id": "v8tigfheFhK3"
      }
    },
    {
      "cell_type": "markdown",
      "source": [
        "#### Which experience level has the widest salary range?"
      ],
      "metadata": {
        "id": "HtST868LsHN9"
      }
    },
    {
      "cell_type": "code",
      "source": [
        "\n",
        "\n",
        "full_df = df.pivot_table(index='company_location',columns='experience_level',values='salary_in_usd',fill_value=0).reset_index()\n",
        "full_df.update(full_df.select_dtypes(include='number').round(2))\n",
        "\n",
        "# high average paying country for Entry-level job\n",
        "full_df.sort_values(by='Entry-level',ascending=False).head(10)[['company_location','Entry-level']]"
      ],
      "metadata": {
        "id": "gFcTogiRRnwm"
      },
      "execution_count": null,
      "outputs": []
    },
    {
      "cell_type": "code",
      "source": [
        "# high average paying country for Executive-level job\n",
        "full_df.sort_values(by='Executive-level',ascending=False).head(10)[['company_location','Executive-level']]"
      ],
      "metadata": {
        "id": "GuJT1zZqSThT"
      },
      "execution_count": null,
      "outputs": []
    },
    {
      "cell_type": "code",
      "source": [
        "# # high average paying country for Mid-level job\n",
        "full_df.sort_values(by='Mid-level',ascending=False).head(10)[['company_location','Mid-level']]"
      ],
      "metadata": {
        "id": "0sK8kSwLSiQl"
      },
      "execution_count": null,
      "outputs": []
    },
    {
      "cell_type": "code",
      "source": [
        "# # high average paying country for Senior-level job\n",
        "full_df.sort_values(by='Senior-level',ascending=False).head(10)[['company_location','Senior-level']]"
      ],
      "metadata": {
        "id": "RSiQ6QPZStcc"
      },
      "execution_count": null,
      "outputs": []
    },
    {
      "cell_type": "code",
      "source": [
        "\n",
        "\n",
        "full_df = df.pivot_table(index='company_location',columns='experience_level',values='salary_in_usd',fill_value=0).reset_index()\n",
        "full_df.update(full_df.select_dtypes(include='number').round(2))\n",
        "\n",
        "level = full_df.select_dtypes(include='number').columns.to_list()\n",
        "titles = [\n",
        "    'Top 15 High Average Paying Countries for Entry-level Roles',\n",
        "    'Top 15 High Average Paying Countries for Executive-level Roles',\n",
        "    'Top 15 High Average Paying Countries for Mid-level Roles',\n",
        "    'Top 15 High Average Paying Countries for Senior-level Roles']\n",
        "\n",
        "fig,axis = plt.subplots(2,2,figsize=(18,10))\n",
        "axis = axis.flatten()\n",
        "\n",
        "for i,level in enumerate(level):\n",
        "  top_countries = full_df.sort_values(by=level,ascending=False).head(15)\n",
        "\n",
        "  sns.barplot(\n",
        "              data=top_countries,\n",
        "              x=level,\n",
        "              y='company_location',\n",
        "              palette='crest',\n",
        "              ax=axis[i])\n",
        "  axis[i].set_title(titles[i],fontweight='bold')\n",
        "\n",
        "  for index,value in enumerate(top_countries[level]):\n",
        "    axis[i].text(value,index,f'${value}',va='center',fontsize=10)\n",
        "\n",
        "plt.suptitle('Top 15 High Paying Countries by Job Experience Level (USD)', fontweight='bold', color='darkblue', fontsize=20)\n",
        "plt.tight_layout(rect=[0, 0, 1, 0.96])\n",
        "plt.show()\n"
      ],
      "metadata": {
        "id": "GdusFt_4uKC1"
      },
      "execution_count": null,
      "outputs": []
    },
    {
      "cell_type": "markdown",
      "source": [
        " 🌐 Insights on Highest Paying Countries for Data Science Roles by Experience Level\n",
        "\n",
        "An in-depth analysis of salary data for various experience levels across different countries reveals some fascinating trends in global compensation for data professionals.\n",
        "\n",
        "---\n",
        "\n",
        " Entry-Level Positions\n",
        "\n",
        "For entry-level roles, **Bosnia and Herzegovina** surprisingly takes the lead with an average salary of **$120,000**, followed by **Sweden** at **$105,000**. The **United States** holds a strong position at third with **$100,539**, while other countries such as **Iraq**, **China**, **Iran**, and **Mauritius** also report unusually high salaries of **$100,000**. This may reflect specialized hiring, expat incentives, or data anomalies.\n",
        "\n",
        "**Key Takeaway**: Despite being early in their careers, data professionals in select regions are securing high compensation, likely due to niche demands or limited talent pools.\n",
        "\n",
        "---\n",
        "\n",
        " 👑 Executive-Level Positions\n",
        "\n",
        "Unsurprisingly, the **United States** tops the chart for executive-level roles, offering nearly **$198,000** on average. **The United Kingdom**, **Poland**, and **Russia** follow, showcasing strong leadership roles in mature markets. **Germany**, **Brazil**, and **Canada** also provide six-figure salaries to experienced executives.\n",
        "\n",
        "**Key Takeaway**: Mature tech economies and innovation-driven regions continue to dominate in rewarding top leadership roles, particularly in North America and Europe.\n",
        "\n",
        "---\n",
        " Mid-Level Roles\n",
        "\n",
        "In a stunning highlight, **Qatar** leads mid-level salary averages with a whopping **$300,000**, which is significantly higher than any other country. This figure likely represents unique high-stakes roles in government-backed or foreign-funded projects. The **United States**, **Saudi Arabia**, **Australia**, and **Israel** also demonstrate strong pay at this level.\n",
        "\n",
        "**Key Takeaway**: The Middle East is becoming a hotspot for lucrative mid-level roles, possibly due to strategic investments in AI and data infrastructure.\n",
        "\n",
        "---\n",
        "\n",
        " Senior-Level Roles\n",
        "\n",
        "For senior roles, **Israel** takes the crown with an average of over **$266,000**, reflecting its deep investment in data-driven innovation and cybersecurity. **Japan** and the **United States** follow, while **Puerto Rico**, **Canada**, and **Germany** round out the top high-paying regions.\n",
        "\n",
        "**Key Takeaway**: Countries with strong R&D ecosystems and tech innovation consistently lead in rewarding experienced professionals.\n",
        "\n",
        "---\n",
        "\n",
        "  Final Summary\n",
        "\n",
        "- The **United States** remains the most consistent high-paying country across all roles.\n",
        "- Emerging markets such as **Qatar**, **Bosnia**, and **Israel** offer surprisingly high salaries in specific tiers.\n",
        "- Executive and senior-level roles are most lucrative in Western nations, while mid-level roles see disruption from the Middle East.\n",
        "- Entry-level salaries are inconsistent globally, with some countries offering unexpectedly high pay—possibly due to specific projects, industries, or talent shortages.\n",
        "\n",
        "💼 These insights are crucial for HR professionals and job seekers alike to understand global compensation trends and identify potential relocation or recruitment strategies.\n"
      ],
      "metadata": {
        "id": "kOENiKrjTlZT"
      }
    },
    {
      "cell_type": "markdown",
      "source": [
        "#### Identify roles 2024 where remote jobs pay more than in-office."
      ],
      "metadata": {
        "id": "o4v5MnvKUjD_"
      }
    },
    {
      "cell_type": "code",
      "source": [
        "\n",
        "temp_df = df[df['work_year']==2024].pivot_table(index='job_title',columns='work_models',values='salary_in_usd',fill_value=0).reset_index()\n",
        "temp_df[temp_df['Remote'] > temp_df['On-site']][['job_title']]\n"
      ],
      "metadata": {
        "id": "2BQ822vsUj_a"
      },
      "execution_count": null,
      "outputs": []
    },
    {
      "cell_type": "markdown",
      "source": [
        "🌍 Remote Roles Outearn Office Positions in 2024\n",
        "\n",
        "The salary landscape in 2024 shows a remarkable shift—**remote jobs are now paying more than in-office roles across several high-demand data and AI positions**.\n",
        "\n",
        "This trend highlights how companies are increasingly willing to invest in talent regardless of location. As long as the output is exceptional, the workplace can be anywhere—from a quiet mountain cabin to a bustling co-working space overseas.\n",
        "\n",
        "💡 Key Insights\n",
        "\n",
        "- Remote roles are now **financially more attractive** than on-site roles in several specialized areas of data science and AI.\n",
        "- The compensation gap in favor of remote work suggests that **remote efficiency, global hiring, and work-life balance** are driving forces behind this shift.\n",
        "- This reflects a broader transformation in work culture—**flexibility is no longer a perk, it's part of the value proposition.**\n",
        "\n",
        "🔍 Final Thought\n",
        "\n",
        "For professionals in tech and data, this shift reinforces one truth: **location is becoming irrelevant—skills are not**. Remote work isn’t just a lifestyle choice anymore; it’s a career advantage.\n"
      ],
      "metadata": {
        "id": "zeVWhZq4ZWAn"
      }
    },
    {
      "cell_type": "markdown",
      "source": [
        "#### Which job title has the widest salary range (max - min)\n"
      ],
      "metadata": {
        "id": "4jITkel4ZfxG"
      }
    },
    {
      "cell_type": "code",
      "source": [
        "df_top_range = df.groupby(\"job_title\")[\"salary_in_usd\"].agg(lambda x: x.max() - x.min()).sort_values(ascending=False).reset_index().head(10)\n",
        "df_top_range"
      ],
      "metadata": {
        "id": "jKGlwugJaznl"
      },
      "execution_count": null,
      "outputs": []
    },
    {
      "cell_type": "code",
      "source": [
        "\n",
        "\n",
        "\n",
        "# Plot\n",
        "plt.figure(figsize=(12, 6))\n",
        "barplot = sns.barplot(\n",
        "    data=df_top_range,\n",
        "    x='salary_in_usd',\n",
        "    y='job_title',\n",
        "    palette='crest'\n",
        ")\n",
        "\n",
        "# Title and labels\n",
        "plt.title('Top 10 Job Titles with Highest Salary Range (Max - Min)', fontsize=16, fontweight='bold')\n",
        "plt.xlabel('Salary Range (USD)', fontsize=12)\n",
        "plt.ylabel('Job Title', fontsize=12)\n",
        "\n",
        "# Annotate each bar\n",
        "for i, v in enumerate(df_top_range['salary_in_usd']):\n",
        "    plt.text(v + 5000, i, f\"${v:,}\", color='black', va='center', fontsize=10)\n",
        "\n",
        "# Style\n",
        "sns.despine(left=True, bottom=True)\n",
        "plt.grid(axis='x', linestyle='--', alpha=0.5)\n",
        "plt.tight_layout()\n",
        "plt.show()"
      ],
      "metadata": {
        "id": "Fzu0yaD2Zukm"
      },
      "execution_count": null,
      "outputs": []
    },
    {
      "cell_type": "markdown",
      "source": [
        " Widest Salary Range in 2024\n",
        "\n",
        "Among top-paying roles in 2024, **Data Scientist** had the **widest salary range**, reaching a maximum of **$734,000 USD**.\n",
        "\n",
        "This wide range suggests significant variability in how the role is compensated, likely driven by factors such as:\n",
        "\n",
        "- Industry (e.g., tech vs healthcare)\n",
        "- Location and cost of living\n",
        "- Experience level\n",
        "- Company size and funding stage\n",
        "\n"
      ],
      "metadata": {
        "id": "SYe_6X9MbZR_"
      }
    },
    {
      "cell_type": "markdown",
      "source": [
        "#### Identify countries with remote salary above global average."
      ],
      "metadata": {
        "id": "hDvJgSIZcI6L"
      }
    },
    {
      "cell_type": "code",
      "source": [
        "global_avg = df[\"salary_in_usd\"].mean()\n",
        "temp_df = df[df[\"work_models\"] == \"Remote\"].groupby(\"company_location\")[\"salary_in_usd\"].mean()\n",
        "temp_df_above = temp_df[temp_df > global_avg]\n",
        "temp_df_above= temp_df_above.reset_index()\n",
        "temp_df_above['salary_in_usd']= temp_df_above['salary_in_usd'].round(2)\n",
        "temp_df_above"
      ],
      "metadata": {
        "id": "Ea4Cyo2zcKDp"
      },
      "execution_count": null,
      "outputs": []
    },
    {
      "cell_type": "code",
      "source": [
        "# Plot\n",
        "plt.figure(figsize=(10, 6))\n",
        "sns.barplot(\n",
        "    data=temp_df_above,\n",
        "    y='company_location',\n",
        "    x='salary_in_usd',\n",
        "    palette='viridis'\n",
        ")\n",
        "\n",
        "# Add annotations\n",
        "for index, row in enumerate(temp_df_above['salary_in_usd']):\n",
        "    plt.text(row, index, f\"${row:,.0f}\", va='center')\n",
        "\n",
        "# Titles and labels\n",
        "plt.title('Average Salary by Country', fontsize=16, fontweight='bold')\n",
        "plt.xlabel('Average Salary (USD)', fontsize=12)\n",
        "plt.ylabel('Country', fontsize=12)\n",
        "plt.grid(axis='x', linestyle='--', alpha=0.5)\n",
        "plt.tight_layout()\n",
        "plt.show()"
      ],
      "metadata": {
        "id": "y4jdP8-GkTRy"
      },
      "execution_count": null,
      "outputs": []
    },
    {
      "cell_type": "markdown",
      "metadata": {
        "id": "gCX9965dhzqZ"
      },
      "source": [
        "# **Conclusion**"
      ]
    },
    {
      "cell_type": "markdown",
      "metadata": {
        "id": "Fjb1IsQkh3yE"
      },
      "source": [
        "# 📊 Final Conclusion: Data Science Salary Trends in 2024\n",
        "\n",
        "## 🌍 Global Compensation Landscape\n",
        "\n",
        "The 2024 data science job market revealed **sharp salary variations** across roles, experience levels, work models, and geographical regions. These patterns underscore a growing maturity and segmentation in the data-driven economy.\n",
        "\n",
        "---\n",
        "\n",
        "## 💼 By Job Title\n",
        "\n",
        "- **Highest Paid Roles:** Positions such as *Machine Learning Scientist*, *Research Engineer*, and *AI Architect* topped the salary charts, with some reaching above **$750,000**.\n",
        "- **Lowest Paid Roles:** Entry-level roles like *Data Science* and *ETL Developer* reported minimum salaries as low as **$16,666**, emphasizing the need for skill growth and specialization.\n",
        "- **Widest Salary Range:** *Data Scientist* showed the **greatest salary spread**, indicating variable pay across industries, companies, and countries.\n",
        "\n",
        "---\n",
        "\n",
        "## 📈 Year-over-Year Growth\n",
        "\n",
        "Roles such as *Research Analyst*, *Machine Learning Scientist*, and *Data Product Manager* saw **over 25–55% salary increases** from 2023 to 2024. This reflects:\n",
        "- Rising demand for advanced AI/ML talent\n",
        "- Competitive pressure across sectors to retain data-driven leaders\n",
        "\n",
        "---\n",
        "\n",
        "## 🏢 By Company Size\n",
        "\n",
        "- **Large Companies** consistently offered **higher mean salaries** over time, particularly in 2024.\n",
        "- **Small Companies** reported a drop in average salaries in 2024, possibly due to economic constraints or shifting hiring strategies.\n",
        "\n",
        "---\n",
        "\n",
        "## 🌐 By Location\n",
        "\n",
        "- **United States, Switzerland, and Israel** were top payers across most experience levels.\n",
        "- Countries like **Bosnia & Herzegovina and Sweden** surprisingly offered high entry-level pay.\n",
        "- **India, Portugal, and France** offered modest compensation for senior roles, reflecting market maturity and local demand.\n",
        "\n",
        "---\n",
        "\n",
        "## 🧑‍💼 By Experience Level\n",
        "\n",
        "- **Executive-level** roles had the highest global pay, with the U.S. averaging nearly **$198K**.\n",
        "- **Mid-level** professionals saw dramatic boosts in regions like *Qatar* and *Saudi Arabia*.\n",
        "- **Entry-level** roles paid best in select emerging markets, hinting at niche talent shortages.\n",
        "\n",
        "---\n",
        "\n",
        "## 🏠 Remote vs On-Site\n",
        "\n",
        "Several roles—including *AI Engineer*, *Data Scientist*, and *Machine Learning Engineer*—earned **higher average salaries when working remotely**, emphasizing:\n",
        "- The premium companies are willing to pay for distributed AI/ML talent\n",
        "- A potential shift in long-term work culture favoring remote expertise\n",
        "\n",
        "---\n",
        "\n"
      ]
    }
  ],
  "metadata": {
    "colab": {
      "collapsed_sections": [
        "FJNUwmbgGyua",
        "PoPl-ycgm1ru",
        "CrSpRqOQ1pNb",
        "GF8Ens_Soomf",
        "K5QZ13OEpz2H",
        "lQ7QKXXCp7Bj",
        "448CDAPjqfQr",
        "KSlN3yHqYklG",
        "t6dVpIINYklI",
        "ijmpgYnKYklI",
        "-JiQyfWJYklI",
        "EM7whBJCYoAo",
        "fge-S5ZAYoAp",
        "85gYPyotYoAp",
        "RoGjAbkUYoAp",
        "4Of9eVA-YrdM",
        "iky9q4vBYrdO",
        "F6T5p64dYrdO",
        "y-Ehk30pYrdP",
        "bamQiAODYuh1",
        "QHF8YVU7Yuh3",
        "GwzvFGzlYuh3",
        "qYpmQ266Yuh3",
        "OH-pJp9IphqM",
        "bbFf2-_FphqN",
        "_ouA3fa0phqN",
        "Seke61FWphqN",
        "PIIx-8_IphqN",
        "t27r6nlMphqO",
        "r2jJGEOYphqO",
        "b0JNsNcRphqO",
        "BZR9WyysphqO",
        "jj7wYXLtphqO",
        "eZrbJ2SmphqO",
        "rFu4xreNphqO",
        "YJ55k-q6phqO",
        "gCFgpxoyphqP",
        "OVtJsKN_phqQ",
        "lssrdh5qphqQ",
        "U2RJ9gkRphqQ",
        "1M8mcRywphqQ",
        "tgIPom80phqQ",
        "JMzcOPDDphqR",
        "x-EpHcCOp1ci",
        "X_VqEhTip1ck",
        "8zGJKyg5p1ck",
        "PVzmfK_Ep1ck",
        "n3dbpmDWp1ck",
        "ylSl6qgtp1ck",
        "ZWILFDl5p1ck",
        "M7G43BXep1ck",
        "Ag9LCva-p1cl",
        "E6MkPsBcp1cl",
        "2cELzS2fp1cl",
        "3MPXvC8up1cl",
        "NC_X3p0fY2L0",
        "UV0SzAkaZNRQ",
        "YPEH6qLeZNRQ",
        "q29F0dvdveiT",
        "EXh0U9oCveiU",
        "22aHeOlLveiV",
        "g-ATYxFrGrvw",
        "Yfr_Vlr8HBkt",
        "8yEUt7NnHlrM",
        "tEA2Xm5dHt1r",
        "I79__PHVH19G",
        "Ou-I18pAyIpj",
        "fF3858GYyt-u",
        "4_0_7-oCpUZd",
        "hwyV_J3ipUZe",
        "3yB-zSqbpUZe",
        "dEUvejAfpUZe",
        "Fd15vwWVpUZf",
        "bn_IUdTipZyH",
        "49K5P_iCpZyH",
        "Nff-vKELpZyI",
        "kLW572S8pZyI",
        "dWbDXHzopZyI",
        "yLjJCtPM0KBk",
        "xiyOF9F70UgQ",
        "7wuGOrhz0itI",
        "id1riN9m0vUs",
        "578E2V7j08f6",
        "89xtkJwZ18nB",
        "67NQN5KX2AMe",
        "Iwf50b-R2tYG",
        "GMQiZwjn3iu7",
        "WVIkgGqN3qsr",
        "XkPnILGE3zoT",
        "Hlsf0x5436Go",
        "mT9DMSJo4nBL",
        "c49ITxTc407N",
        "OeJFEK0N496M",
        "9ExmJH0g5HBk",
        "cJNqERVU536h",
        "k5UmGsbsOxih",
        "T0VqWOYE6DLQ",
        "qBMux9mC6MCf",
        "-oLEiFgy-5Pf",
        "C74aWNz2AliB",
        "2DejudWSA-a0",
        "pEMng2IbBLp7",
        "rAdphbQ9Bhjc",
        "TNVZ9zx19K6k",
        "nqoHp30x9hH9",
        "rMDnDkt2B6du",
        "yiiVWRdJDDil",
        "1UUpS68QDMuG",
        "kexQrXU-DjzY",
        "T5CmagL3EC8N",
        "BhH2vgX9EjGr",
        "qjKvONjwE8ra",
        "P1XJ9OREExlT",
        "VFOzZv6IFROw",
        "TIqpNgepFxVj",
        "VfCC591jGiD4",
        "OB4l2ZhMeS1U",
        "ArJBuiUVfxKd",
        "4qY1EAkEfxKe",
        "PiV4Ypx8fxKe",
        "TfvqoZmBfxKf",
        "dJ2tPlVmpsJ0",
        "JWYfwnehpsJ1",
        "-jK_YjpMpsJ2",
        "HAih1iBOpsJ2",
        "zVGeBEFhpsJ2",
        "bmKjuQ-FpsJ3",
        "Fze-IPXLpx6K",
        "7AN1z2sKpx6M",
        "9PIHJqyupx6M",
        "_-qAgymDpx6N",
        "Z-hykwinpx6N",
        "h_CCil-SKHpo",
        "cBFFvTBNJzUa",
        "HvGl1hHyA_VK",
        "EyNgTHvd2WFk",
        "KH5McJBi2d8v",
        "iW_Lq9qf2h6X",
        "-Kee-DAl2viO",
        "gCX9965dhzqZ",
        "gIfDvo9L0UH2"
      ],
      "private_outputs": true,
      "provenance": [],
      "include_colab_link": true
    },
    "kernelspec": {
      "display_name": "Python 3",
      "name": "python3"
    },
    "language_info": {
      "codemirror_mode": {
        "name": "ipython",
        "version": 3
      },
      "file_extension": ".py",
      "mimetype": "text/x-python",
      "name": "python",
      "nbconvert_exporter": "python",
      "pygments_lexer": "ipython3",
      "version": "3.13.0"
    }
  },
  "nbformat": 4,
  "nbformat_minor": 0
}