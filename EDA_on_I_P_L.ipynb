{
  "nbformat": 4,
  "nbformat_minor": 0,
  "metadata": {
    "colab": {
      "private_outputs": true,
      "provenance": [],
      "collapsed_sections": [
        "vncDsAP0Gaoa",
        "FJNUwmbgGyua",
        "w6K7xa23Elo4",
        "QyfHH5IOemSg",
        "NV_1DJAMvd27",
        "_unnTUlsnFB3",
        "SZY0kORjq6qy",
        "MSa1f5Uengrz",
        "K5QZ13OEpz2H",
        "lQ7QKXXCp7Bj",
        "448CDAPjqfQr",
        "KSlN3yHqYklG",
        "t6dVpIINYklI",
        "ijmpgYnKYklI",
        "-JiQyfWJYklI",
        "EM7whBJCYoAo",
        "fge-S5ZAYoAp",
        "85gYPyotYoAp",
        "RoGjAbkUYoAp",
        "4Of9eVA-YrdM",
        "iky9q4vBYrdO",
        "F6T5p64dYrdO",
        "y-Ehk30pYrdP",
        "bamQiAODYuh1",
        "QHF8YVU7Yuh3",
        "GwzvFGzlYuh3",
        "qYpmQ266Yuh3",
        "OH-pJp9IphqM",
        "bbFf2-_FphqN",
        "_ouA3fa0phqN",
        "Seke61FWphqN",
        "PIIx-8_IphqN",
        "t27r6nlMphqO",
        "r2jJGEOYphqO",
        "b0JNsNcRphqO",
        "BZR9WyysphqO",
        "jj7wYXLtphqO",
        "eZrbJ2SmphqO",
        "rFu4xreNphqO",
        "YJ55k-q6phqO",
        "gCFgpxoyphqP",
        "OVtJsKN_phqQ",
        "lssrdh5qphqQ",
        "U2RJ9gkRphqQ",
        "1M8mcRywphqQ",
        "tgIPom80phqQ",
        "JMzcOPDDphqR",
        "x-EpHcCOp1ci",
        "X_VqEhTip1ck",
        "8zGJKyg5p1ck",
        "PVzmfK_Ep1ck",
        "n3dbpmDWp1ck",
        "ylSl6qgtp1ck",
        "ZWILFDl5p1ck",
        "M7G43BXep1ck",
        "Ag9LCva-p1cl",
        "E6MkPsBcp1cl",
        "2cELzS2fp1cl",
        "3MPXvC8up1cl",
        "NC_X3p0fY2L0",
        "UV0SzAkaZNRQ",
        "YPEH6qLeZNRQ",
        "q29F0dvdveiT",
        "EXh0U9oCveiU",
        "22aHeOlLveiV",
        "g-ATYxFrGrvw",
        "Yfr_Vlr8HBkt",
        "8yEUt7NnHlrM",
        "tEA2Xm5dHt1r",
        "I79__PHVH19G",
        "Ou-I18pAyIpj",
        "fF3858GYyt-u",
        "4_0_7-oCpUZd",
        "hwyV_J3ipUZe",
        "3yB-zSqbpUZe",
        "dEUvejAfpUZe",
        "Fd15vwWVpUZf",
        "bn_IUdTipZyH",
        "49K5P_iCpZyH",
        "Nff-vKELpZyI",
        "kLW572S8pZyI",
        "dWbDXHzopZyI",
        "yLjJCtPM0KBk",
        "xiyOF9F70UgQ",
        "7wuGOrhz0itI",
        "id1riN9m0vUs",
        "578E2V7j08f6",
        "89xtkJwZ18nB",
        "67NQN5KX2AMe",
        "Iwf50b-R2tYG",
        "GMQiZwjn3iu7",
        "WVIkgGqN3qsr",
        "XkPnILGE3zoT",
        "Hlsf0x5436Go",
        "mT9DMSJo4nBL",
        "c49ITxTc407N",
        "OeJFEK0N496M",
        "9ExmJH0g5HBk",
        "cJNqERVU536h",
        "k5UmGsbsOxih",
        "T0VqWOYE6DLQ",
        "qBMux9mC6MCf",
        "-oLEiFgy-5Pf",
        "C74aWNz2AliB",
        "2DejudWSA-a0",
        "pEMng2IbBLp7",
        "rAdphbQ9Bhjc",
        "TNVZ9zx19K6k",
        "nqoHp30x9hH9",
        "rMDnDkt2B6du",
        "yiiVWRdJDDil",
        "1UUpS68QDMuG",
        "kexQrXU-DjzY",
        "T5CmagL3EC8N",
        "BhH2vgX9EjGr",
        "qjKvONjwE8ra",
        "P1XJ9OREExlT",
        "VFOzZv6IFROw",
        "TIqpNgepFxVj",
        "VfCC591jGiD4",
        "OB4l2ZhMeS1U",
        "ArJBuiUVfxKd",
        "4qY1EAkEfxKe",
        "PiV4Ypx8fxKe",
        "TfvqoZmBfxKf",
        "dJ2tPlVmpsJ0",
        "JWYfwnehpsJ1",
        "-jK_YjpMpsJ2",
        "HAih1iBOpsJ2",
        "zVGeBEFhpsJ2",
        "bmKjuQ-FpsJ3",
        "Fze-IPXLpx6K",
        "7AN1z2sKpx6M",
        "9PIHJqyupx6M",
        "_-qAgymDpx6N",
        "Z-hykwinpx6N",
        "h_CCil-SKHpo",
        "cBFFvTBNJzUa",
        "HvGl1hHyA_VK",
        "EyNgTHvd2WFk",
        "KH5McJBi2d8v",
        "iW_Lq9qf2h6X",
        "-Kee-DAl2viO",
        "gCX9965dhzqZ",
        "gIfDvo9L0UH2"
      ]
    },
    "kernelspec": {
      "name": "python3",
      "display_name": "Python 3"
    },
    "language_info": {
      "name": "python"
    }
  },
  "cells": [
    {
      "cell_type": "markdown",
      "source": [
        "# **Cricket Data Chronicles – A deep dive into IPL statistics.**    -\n",
        "\n"
      ],
      "metadata": {
        "id": "vncDsAP0Gaoa"
      }
    },
    {
      "cell_type": "markdown",
      "source": [
        "##### **Project Type**    - EDA\n",
        "##### **Contribution**    - Nikesh singh\n"
      ],
      "metadata": {
        "id": "beRrZCGUAJYm"
      }
    },
    {
      "cell_type": "markdown",
      "source": [
        "# **Project Summary -**"
      ],
      "metadata": {
        "id": "FJNUwmbgGyua"
      }
    },
    {
      "cell_type": "markdown",
      "source": [
        "## **IPL Dataset Analysis – Project Summary**\n",
        "\n",
        "This project focuses on analyzing IPL match data to extract meaningful insights about player performances, team trends, and bowling efficiency across different seasons. The goal is to transform raw data into visual insights that highlight patterns in batting, bowling, and overall team strategies.\n",
        "\n",
        "### **Project Objectives**\n",
        "- **Batting Analysis** – Evaluating top run-scorers, strike rates, and batting performance in different phases of the game (powerplay vs. death overs).\n",
        "- **Bowling Performance** – Analyzing team economy rates to assess bowling efficiency over multiple seasons.\n",
        "- **Seasonal Team Trends** – Understanding how different teams have performed over the years.\n",
        "\n",
        "### **Data Cleaning & Processing**\n",
        "The dataset underwent preprocessing steps such as handling missing values, standardizing player and team names, and ensuring accuracy in match statistics. Duplicate player entries were managed so that each instance was visualized separately for detailed analysis.\n",
        "\n",
        "### **Key Visualizations & Insights**\n",
        "- **Strike Rate vs. Total Runs** – Scatter plots revealed the most aggressive batsmen in different game phases.\n",
        "- **Economy Rates Over Seasons** – Line charts highlighted bowling teams’ ability to control runs across years.\n",
        "- **Subplots for Team-Wise Bowling Performance** – Separate visualizations provided clearer team comparisons.\n",
        "\n",
        "### **Challenges & Solutions**\n",
        "- **Duplicate Entries** – Managed by treating each occurrence separately in visualizations.\n",
        "- **Team Comparisons** – Used subplots and unique color schemes for better readability.\n",
        "\n",
        "### **Future Scope**\n",
        "- **Predictive Modeling** – Using machine learning to forecast player performances.\n",
        "- **Advanced Statistical Analysis** – Conducting deeper tests to measure consistency and impact.\n",
        "- **Interactive Dashboards** – Creating dynamic, user-friendly dashboards with Power BI or Tableau.\n",
        "\n",
        "### **Conclusion**\n",
        "This project effectively translates IPL data into actionable insights, providing a deeper understanding of team strategies, player impact, and seasonal trends. The analysis benefits cricket enthusiasts, analysts, and strategists by offering data-driven perspectives on IPL performance.\n"
      ],
      "metadata": {
        "id": "F6v_1wHtG2nS"
      }
    },
    {
      "cell_type": "markdown",
      "source": [
        "# **GitHub Link -**"
      ],
      "metadata": {
        "id": "w6K7xa23Elo4"
      }
    },
    {
      "cell_type": "markdown",
      "source": [
        "Provide your GitHub Link here."
      ],
      "metadata": {
        "id": "h1o69JH3Eqqn"
      }
    },
    {
      "cell_type": "markdown",
      "source": [
        "# **Problem Statement**\n"
      ],
      "metadata": {
        "id": "yQaldy8SH6Dl"
      }
    },
    {
      "cell_type": "markdown",
      "source": [
        "**The Indian Premier League (IPL) generates a vast amount of match data every season, including player performances, team statistics, and game dynamics. However, deriving meaningful insights from this raw data remains a challenge due to its volume and complexity. Traditional scorecards and reports provide only basic summaries, making it difficult to assess long-term trends, player efficiency, and team strategies.\n",
        "\n",
        "This project aims to bridge this gap by conducting a detailed exploratory data analysis (EDA) on IPL match data. The focus is on identifying patterns in batting and bowling performances, evaluating strike rates and economy rates across different seasons, and visualizing key metrics to enhance cricket analytics. By leveraging data visualization techniques, this project provides a structured, data-driven approach to understanding team dynamics, player contributions, and seasonal trends, which can be beneficial for analysts, franchises, and fans.**"
      ],
      "metadata": {
        "id": "DpeJGUA3kjGy"
      }
    },
    {
      "cell_type": "markdown",
      "source": [
        "# ***Let's Begin !***"
      ],
      "metadata": {
        "id": "O_i_v8NEhb9l"
      }
    },
    {
      "cell_type": "markdown",
      "source": [
        "## ***1. Know Your Data***"
      ],
      "metadata": {
        "id": "HhfV-JJviCcP"
      }
    },
    {
      "cell_type": "markdown",
      "source": [
        "### Import Libraries"
      ],
      "metadata": {
        "id": "Y3lxredqlCYt"
      }
    },
    {
      "cell_type": "code",
      "source": [
        "# Import Libraries\n",
        "\n",
        "import pandas as pd\n",
        "import numpy as np\n",
        "import matplotlib.pyplot as plt\n",
        "import seaborn as sns\n",
        "pd.set_option('display.max_columns', None)\n",
        "import warnings\n",
        "warnings.simplefilter(\"ignore\", UserWarning)\n",
        "import warnings\n",
        "warnings.simplefilter(action='ignore', category=FutureWarning)\n"
      ],
      "metadata": {
        "id": "M8Vqi-pPk-HR"
      },
      "execution_count": null,
      "outputs": []
    },
    {
      "cell_type": "markdown",
      "source": [
        "### Dataset Loading"
      ],
      "metadata": {
        "id": "3RnN4peoiCZX"
      }
    },
    {
      "cell_type": "code",
      "source": [
        "from google.colab import drive\n",
        "drive.mount('/content/drive')\n",
        "\n",
        "\n",
        "# Load Dataset\n",
        "deliveries_df  = pd.read_csv('/content/drive/MyDrive/almabetter project/deliveries.csv')\n",
        "match_df  = pd.read_csv('/content/drive/MyDrive/almabetter project/matches (1).csv')\n",
        "# merging dataset\n",
        "ipl = deliveries_df.merge(match_df,how='left',left_on='match_id',right_on='id')"
      ],
      "metadata": {
        "id": "3Bh37NB3bAYP"
      },
      "execution_count": null,
      "outputs": []
    },
    {
      "cell_type": "code",
      "source": [],
      "metadata": {
        "id": "4CkvbW_SlZ_R"
      },
      "execution_count": null,
      "outputs": []
    },
    {
      "cell_type": "markdown",
      "source": [
        "### Dataset First View"
      ],
      "metadata": {
        "id": "x71ZqKXriCWQ"
      }
    },
    {
      "cell_type": "code",
      "source": [
        "# Dataset First Look\n",
        "ipl.head(5)"
      ],
      "metadata": {
        "id": "uoZ47P85-z15"
      },
      "execution_count": null,
      "outputs": []
    },
    {
      "cell_type": "code",
      "source": [
        "# Dataset First Look\n",
        "\n",
        "# ipl.groupby('season')['match_id'].nunique().to_frame().T\n",
        "\n",
        "\n",
        "# ipl.pivot_table(index='season',columns='winner',aggfunc='size',fill_value=0,values='nunique')\n",
        "# ipl.pivot_table(index='season', columns='winner', aggfunc={'winner': 'nunique'}, fill_value=0)\n"
      ],
      "metadata": {
        "id": "LWNFOSvLl09H"
      },
      "execution_count": null,
      "outputs": []
    },
    {
      "cell_type": "markdown",
      "source": [
        "### Dataset Rows & Columns count"
      ],
      "metadata": {
        "id": "7hBIi_osiCS2"
      }
    },
    {
      "cell_type": "code",
      "source": [
        "# Dataset Rows & Columns count\n",
        "ipl.shape"
      ],
      "metadata": {
        "id": "Kllu7SJgmLij"
      },
      "execution_count": null,
      "outputs": []
    },
    {
      "cell_type": "markdown",
      "source": [
        "### Dataset Information"
      ],
      "metadata": {
        "id": "JlHwYmJAmNHm"
      }
    },
    {
      "cell_type": "code",
      "source": [
        "# Dataset Info\n",
        "ipl.info()"
      ],
      "metadata": {
        "id": "e9hRXRi6meOf"
      },
      "execution_count": null,
      "outputs": []
    },
    {
      "cell_type": "markdown",
      "source": [
        "#### Duplicate Values"
      ],
      "metadata": {
        "id": "35m5QtbWiB9F"
      }
    },
    {
      "cell_type": "code",
      "source": [
        "# Dataset Duplicate Value Count\n",
        "ipl.duplicated().sum()"
      ],
      "metadata": {
        "id": "1sLdpKYkmox0"
      },
      "execution_count": null,
      "outputs": []
    },
    {
      "cell_type": "code",
      "source": [
        "# ipl.T.duplicated().sum()"
      ],
      "metadata": {
        "id": "ZNg9nh-v7Wei"
      },
      "execution_count": null,
      "outputs": []
    },
    {
      "cell_type": "markdown",
      "source": [
        "#### Missing Values/Null Values"
      ],
      "metadata": {
        "id": "PoPl-ycgm1ru"
      }
    },
    {
      "cell_type": "code",
      "source": [
        "# Missing Values/Null Values Count\n",
        "ipl.isna().sum()"
      ],
      "metadata": {
        "id": "GgHWkxvamxVg"
      },
      "execution_count": null,
      "outputs": []
    },
    {
      "cell_type": "code",
      "source": [
        "# Visualizing the missing values\n",
        "sns.heatmap(ipl.isnull(), cmap=\"summer\") #cbar=False, yticklabels=False)"
      ],
      "metadata": {
        "id": "3q5wnI3om9sJ"
      },
      "execution_count": null,
      "outputs": []
    },
    {
      "cell_type": "markdown",
      "source": [
        "### What did you know about your dataset?\n"
      ],
      "metadata": {
        "id": "H0kj-8xxnORC"
      }
    },
    {
      "cell_type": "markdown",
      "source": [
        "extras_type - 246,795 missing values (Likely missing when no extras are given in a ball)\n",
        "\n",
        "player_dismissed - 247,970 missing values (Expected since most balls don't result in a dismissal)\n",
        "\n",
        "dismissal_kind - 247,970 missing values (Missing for non-wicket deliveries)\n",
        "\n",
        "fielder - 251,566 missing values (Likely missing when no fielder is involved in the play)\n",
        "\n",
        "city - 12,397 missing values (Could be due to missing data or neutral venues)\n",
        "\n",
        "player_of_match - 490 missing values (May be missing for abandoned or incomplete matches)\n",
        "\n",
        "winner - 490 missing values (Likely missing for matches without a winner, such as no result)\n",
        "\n",
        "result_margin - 4,124 missing values (Could be missing for matches that ended in a tie or no result)\n",
        "\n",
        "target_runs - 309 missing values (Likely missing for first innings matches)\n",
        "\n",
        "target_overs - 309 missing values (Likely missing for first innings matches)\n",
        "\n",
        "method - 257,274 missing values (Likely missing when no DLS method was applied)\n",
        "\n",
        "All other columns have 0 missing values."
      ],
      "metadata": {
        "id": "gfoNAAC-nUe_"
      }
    },
    {
      "cell_type": "markdown",
      "source": [
        "## ***2. Understanding Your Variables***"
      ],
      "metadata": {
        "id": "nA9Y7ga8ng1Z"
      }
    },
    {
      "cell_type": "code",
      "source": [
        "# Dataset Columns\n",
        "ipl.columns\n"
      ],
      "metadata": {
        "id": "j7xfkqrt5Ag5"
      },
      "execution_count": null,
      "outputs": []
    },
    {
      "cell_type": "code",
      "source": [
        "# column data types\n",
        "ipl.info()"
      ],
      "metadata": {
        "id": "fh-EkUBgB20E"
      },
      "execution_count": null,
      "outputs": []
    },
    {
      "cell_type": "code",
      "source": [
        "# Dataset Describe\n",
        "ipl.describe()"
      ],
      "metadata": {
        "id": "DnOaZdaE5Q5t"
      },
      "execution_count": null,
      "outputs": []
    },
    {
      "cell_type": "markdown",
      "source": [
        "### Variables Description"
      ],
      "metadata": {
        "id": "PBTbrJXOngz2"
      }
    },
    {
      "cell_type": "markdown",
      "source": [
        "match_id – Unique identifier for each match.\n",
        "\n",
        "inning – Inning number (1st or 2nd).\n",
        "\n",
        "batting_team – Name of the team currently batting.\n",
        "\n",
        "bowling_team – Name of the team currently bowling.\n",
        "\n",
        "over – The over number in the match (1-20 in T20 cricket).\n",
        "\n",
        "ball – Ball number within the over (1-6, or more if extra balls are bowled).\n",
        "\n",
        "batter – Name of the batsman facing the delivery.\n",
        "\n",
        "bowler – Name of the bowler delivering the ball.\n",
        "\n",
        "non_striker – Name of the non-striker batsman.\n",
        "\n",
        "batsman_runs – Runs scored by the batsman from this delivery.\n",
        "\n",
        "extra_runs – Additional runs awarded due to extras (wide, no-ball, byes, leg-byes).\n",
        "\n",
        "total_runs – Total runs scored from the delivery (batsman runs + extras).\n",
        "\n",
        "extras_type – Type of extra run given (wide, no-ball, etc.).\n",
        "\n",
        "is_wicket – Indicates if a wicket fell on this ball (1 if wicket, 0 otherwise).\n",
        "\n",
        "player_dismissed – Name of the dismissed player (if a wicket fell).\n",
        "\n",
        "dismissal_kind – Mode of dismissal (bowled, caught, LBW, run-out, etc.).\n",
        "\n",
        "fielder – Name of the fielder involved in the dismissal (if applicable).\n",
        "\n",
        "season – Year in which the match took place.\n",
        "\n",
        "city – City where the match was played.\n",
        "\n",
        "date – Date of the match.\n",
        "\n",
        "match_type – Format of the match (e.g., T20).\n",
        "\n",
        "player_of_match – Player awarded \"Man of the Match\".\n",
        "\n",
        "venue – Name of the stadium where the match was played.\n",
        "\n",
        "team1 – Name of the first team in the match.\n",
        "\n",
        "team2 – Name of the second team in the match.\n",
        "\n",
        "toss_winner – Team that won the toss.\n",
        "\n",
        "toss_decision – Decision made by the toss winner (batting or bowling).\n",
        "\n",
        "winner – Team that won the match.\n",
        "\n",
        "result – Outcome of the match (win, tie, no result).\n",
        "\n",
        "result_margin – Margin of victory (runs or wickets).\n",
        "\n",
        "target_runs – Target runs for the chasing team (in 2nd innings).\n",
        "\n",
        "target_overs – Target overs (if the match was shortened).\n",
        "\n",
        "super_over – Indicates if a Super Over was played (1 if yes, 0 otherwise).\n",
        "\n",
        "method – Method used to determine result (e.g., DLS method in rain-affected matches).\n",
        "\n",
        "umpire1 – Name of the first on-field umpire.\n",
        "\n",
        "umpire2 – Name of the second on-field umpire.Answer Here"
      ],
      "metadata": {
        "id": "aJV4KIxSnxay"
      }
    },
    {
      "cell_type": "markdown",
      "source": [
        "### **Summary of Data Types in the Dataset**  \n",
        "\n",
        "The dataset consists of **37 columns** with the following data types:  \n",
        "\n",
        "## **1. Integer Columns (int64) [9 Columns]**  \n",
        "These columns contain numerical values without decimals, primarily related to match structure and runs:  \n",
        "- match_id, inning , over, ball, batsman_runs, extra_runs, total_runs, is_wicket, id`  \n",
        "\n",
        "## **2. Float Columns (float64) [3 Columns]**  \n",
        "These columns contain numerical values with decimals, likely related to match results and targets:  \n",
        "- result_margin, target_runs, target_overs  \n",
        "\n",
        "## **3. Categorical (Object) Columns [25 Columns]**  \n",
        "These columns contain textual or categorical information about teams, players, matches, and locations:  \n",
        "\n",
        "### **Teams & Players:**  \n",
        "- batting_team, bowling_team, batter, bowler, non_striker, `player_dismissed`, fielder, player_of_match, winner  \n",
        "\n",
        "### **Match Details:**  \n",
        "- season, city, date, match_type, venue, team1, team2, toss_winner, toss_decision, result, super_over, method, umpire1, umpire2  \n",
        "\n",
        "### **Extras & Dismissals:**  \n",
        "- extras_type, dismissal_kind  \n",
        "\n",
        "---\n"
      ],
      "metadata": {
        "id": "-0wAJ3bmFbF5"
      }
    },
    {
      "cell_type": "markdown",
      "source": [
        "## 3. ***Data Wrangling***"
      ],
      "metadata": {
        "id": "dauF4eBmngu3"
      }
    },
    {
      "cell_type": "markdown",
      "source": [
        "### Data Wrangling Code"
      ],
      "metadata": {
        "id": "bKJF3rekwFvQ"
      }
    },
    {
      "cell_type": "code",
      "source": [
        "# Convert the 'date' column to datetime format for easier analysis\n",
        "ipl['date'] = pd.to_datetime(ipl['date'])\n",
        "\n",
        "# Dictionary to standardize team names, ensuring consistency across records\n",
        "replacement1 = {\n",
        "    \"Mumbai Indians\": \"Mumbai Indians\",\n",
        "    \"Chennai Super Kings\": \"Chennai Super Kings\",\n",
        "    \"Kolkata Knight Riders\": \"Kolkata Knight Riders\",\n",
        "    \"Royal Challengers Bangalore\": \"Royal Challengers Bangalore\",\n",
        "    \"Royal Challengers Bengaluru\": \"Royal Challengers Bangalore\",  # Standardizing name variations\n",
        "    \"Rajasthan Royals\": \"Rajasthan Royals\",\n",
        "    \"Kings XI Punjab\": \"Kings XI Punjab\",\n",
        "    \"Punjab Kings\": \"Kings XI Punjab\",  # Unifying old and new team names\n",
        "    \"Sunrisers Hyderabad\": \"Sunrisers Hyderabad\",\n",
        "    \"Deccan Chargers\": \"Sunrisers Hyderabad\",  # Deccan Chargers rebranded as Sunrisers Hyderabad\n",
        "    \"Delhi Capitals\": \"Delhi Capitals\",\n",
        "    \"Delhi Daredevils\": \"Delhi Capitals\",  # Standardizing Delhi team name\n",
        "    \"Gujarat Titans\": \"Gujarat Titans\",\n",
        "    \"Gujarat Lions\": \"Gujarat Titans\",  # Merging Gujarat teams\n",
        "    \"Lucknow Super Giants\": \"Lucknow Super Giants\",\n",
        "    \"Pune Warriors\": \"Pune Warriors\",\n",
        "    \"Rising Pune Supergiant\": \"Pune Warriors\",  # Standardizing Pune team names\n",
        "    \"Rising Pune Supergiants\": \"Pune Warriors\",\n",
        "    \"Kochi Tuskers Kerala\": \"Kochi Tuskers Kerala\"\n",
        "}\n",
        "\n",
        "# Dictionary to standardize venue names, ensuring consistency in location data\n",
        "replacements = {\n",
        "    'Arun Jaitley Stadium': 'Arun Jaitley Stadium, Delhi',\n",
        "    'Feroz Shah Kotla': 'Arun Jaitley Stadium, Delhi',  # Former name of Arun Jaitley Stadium\n",
        "    'Brabourne Stadium': 'Brabourne Stadium, Mumbai',\n",
        "    'Dr DY Patil Sports Academy': 'Dr DY Patil Sports Academy, Mumbai',\n",
        "    'Dr. Y.S. Rajasekhara Reddy ACA-VDCA Cricket Stadium':\n",
        "        'Dr. Y.S. Rajasekhara Reddy ACA-VDCA Cricket Stadium, Visakhapatnam',\n",
        "    'Eden Gardens': 'Eden Gardens, Kolkata',\n",
        "    'Himachal Pradesh Cricket Association Stadium':\n",
        "        'Himachal Pradesh Cricket Association Stadium, Dharamsala',\n",
        "    'M Chinnaswamy Stadium': 'M Chinnaswamy Stadium, Bengaluru',\n",
        "    'M.Chinnaswamy Stadium': 'M Chinnaswamy Stadium, Bengaluru',  # Handling different spellings\n",
        "    'MA Chidambaram Stadium': 'MA Chidambaram Stadium, Chepauk, Chennai',\n",
        "    'MA Chidambaram Stadium, Chepauk': 'MA Chidambaram Stadium, Chepauk, Chennai',\n",
        "    'Maharashtra Cricket Association Stadium': 'Maharashtra Cricket Association Stadium, Pune',\n",
        "    'Sardar Patel Stadium, Motera': 'Narendra Modi Stadium, Ahmedabad',  # Renamed stadium\n",
        "    'Punjab Cricket Association IS Bindra Stadium':\n",
        "        'Punjab Cricket Association IS Bindra Stadium, Mohali, Chandigarh',\n",
        "    'Punjab Cricket Association IS Bindra Stadium, Mohali':\n",
        "        'Punjab Cricket Association IS Bindra Stadium, Mohali, Chandigarh',\n",
        "    'Punjab Cricket Association Stadium, Mohali':\n",
        "        'Punjab Cricket Association IS Bindra Stadium, Mohali, Chandigarh',\n",
        "    'Rajiv Gandhi International Stadium': 'Rajiv Gandhi International Stadium, Uppal, Hyderabad',\n",
        "    'Rajiv Gandhi International Stadium, Uppal': 'Rajiv Gandhi International Stadium, Uppal, Hyderabad',\n",
        "    'Sawai Mansingh Stadium': 'Sawai Mansingh Stadium, Jaipur',\n",
        "    'Wankhede Stadium': 'Wankhede Stadium, Mumbai'\n",
        "}\n",
        "\n",
        "# Replace venue names with standardized names\n",
        "ipl['venue'].replace(replacements, inplace=True)\n",
        "\n",
        "# Standardizing team names in different columns to maintain consistency\n",
        "ipl['team1'].replace(replacement1, inplace=True)\n",
        "ipl['team2'].replace(replacement1, inplace=True)\n",
        "ipl['toss_winner'].replace(replacement1, inplace=True)\n",
        "ipl['batting_team'].replace(replacement1, inplace=True)\n",
        "ipl['bowling_team'].replace(replacement1, inplace=True)\n",
        "\n",
        "# Standardizing season format: Converting multi-year seasons to single year\n",
        "ipl.replace({'season': {'2007/08': '2008', '2009/10': '2010', '2020/21': '2020'}}, inplace=True)\n",
        "# Convert the 'season' column to integer type\n",
        "ipl['season'] = ipl['season'].astype(int)\n"
      ],
      "metadata": {
        "id": "wk-9a2fpoLcV"
      },
      "execution_count": null,
      "outputs": []
    },
    {
      "cell_type": "markdown",
      "source": [
        "Converted 'date' to datetime format → Enables time-based analysis and sorting.\n",
        "\n",
        "Standardized team names → Merges variations and old names for consistency.\n",
        "\n",
        "Standardized venue names → Unifies different spellings and renamed stadiums.\n",
        "\n",
        "Applied standard names across relevant columns → Ensures uniformity across datasets.\n",
        "\n",
        "Converted multi-year 'season' values to single year → Simplifies grouping and analysis.\n",
        "\n",
        "Changed 'season' column data type to integer → Optimizes storage and numerical operations."
      ],
      "metadata": {
        "id": "EHCabUJbMc4P"
      }
    },
    {
      "cell_type": "markdown",
      "source": [
        "## Total Matches in the Dataset"
      ],
      "metadata": {
        "id": "wTAedhdmBF0z"
      }
    },
    {
      "cell_type": "code",
      "source": [
        "print(f\"There are total {ipl['match_id'].nunique()} matches played in entire season\")"
      ],
      "metadata": {
        "id": "T6eUGy1tBHs2"
      },
      "execution_count": null,
      "outputs": []
    },
    {
      "cell_type": "code",
      "source": [
        "ipl.groupby(['season'])['match_id'].nunique().reset_index(name='Total_match').T"
      ],
      "metadata": {
        "id": "-d-8EwNRKl9-"
      },
      "execution_count": null,
      "outputs": []
    },
    {
      "cell_type": "markdown",
      "source": [
        "observation :\n",
        "\n",
        "Observations on Total Matches per Season\n",
        "Increase in Matches (2008–2013)\n",
        "\n",
        "The number of matches grew from 58 in 2008 to 76 in 2013, showing league expansion.\n",
        "\n",
        "Stable Period (2014–2019)\n",
        "\n",
        "From 2014 to 2019, matches stayed around 60, meaning the league followed a fixed format.\n",
        "\n",
        "COVID-19 Effect (2020–2021)\n",
        "\n",
        "Even during the pandemic, 60 matches were played, showing the league managed well.\n",
        "\n",
        "More Matches in 2022\n",
        "\n",
        "Matches increased to 74 in 2022, likely because of new teams joining.\n",
        "\n",
        "Same Format (2022–2023)\n",
        "\n",
        "The league kept 74 matches in 2023, meaning no major changes.\n",
        "\n",
        "Small Drop in 2024\n",
        "\n",
        "Matches reduced to 71, possibly due to format or scheduling changes."
      ],
      "metadata": {
        "id": "KoMPo0syOT6s"
      }
    },
    {
      "cell_type": "markdown",
      "source": [
        "## venue where all match played from 2008 to 2024"
      ],
      "metadata": {
        "id": "bfrPZH22BMxa"
      }
    },
    {
      "cell_type": "code",
      "source": [
        "for i in ipl['venue'].unique():\n",
        "  print(i)"
      ],
      "metadata": {
        "id": "1YXglMCGBWff"
      },
      "execution_count": null,
      "outputs": []
    },
    {
      "cell_type": "markdown",
      "source": [
        "#### Observations on IPL Venues\n",
        "Diverse Hosting Locations\n",
        "\n",
        "IPL matches have been played across India and other countries.\n",
        "\n",
        "International Matches\n",
        "\n",
        "In 2009, IPL was hosted in South Africa (e.g., Newlands, Kingsmead).\n",
        "\n",
        "In 2014, 2020, and 2021, matches were played in the UAE (Sharjah, Dubai, Abu Dhabi).\n",
        "\n",
        "Most Used Venues\n",
        "\n",
        "Wankhede (Mumbai), Chinnaswamy (Bengaluru), Eden Gardens (Kolkata), and Chepauk (Chennai) are among the most frequently used stadiums.\n",
        "\n",
        "Newly Introduced Stadiums\n",
        "\n",
        "Mullanpur (Maharaja Yadavindra Singh) and Barsapara (Guwahati) are some of the latest venues.\n",
        "\n",
        "Less Frequent or Temporary Venues\n",
        "\n",
        "Some stadiums like Green Park (Kanpur) and Nehru Stadium have hosted limited matches.\n",
        "\n",
        "Alternative Grounds\n",
        "\n",
        "Dr DY Patil (Mumbai) and Brabourne (Mumbai) have been used when needed."
      ],
      "metadata": {
        "id": "vX7El5DDVfy3"
      }
    },
    {
      "cell_type": "markdown",
      "source": [
        "## Stadium with the highest average total score."
      ],
      "metadata": {
        "id": "dY7PZNWDEgOD"
      }
    },
    {
      "cell_type": "code",
      "source": [
        "\n",
        "\n",
        "def calculate_venue_run_statistics(ipl,start_year:int=None,end_year:int=None,inning:int=None):\n",
        "\n",
        "    \"\"\"\n",
        "    This function calculates total runs, total matches, and average runs per match for each venue.\n",
        "\n",
        "    Parameters:\n",
        "        ipl (pd.DataFrame): The IPL dataset containing 'venue', 'batsman_runs', 'total_runs', and 'match_id' columns.\n",
        "\n",
        "    Returns:\n",
        "        pd.DataFrame: A DataFrame with venue-wise total runs, total matches, and average runs per match.\n",
        "    \"\"\"\n",
        "    # Filter out deliveries where no runs were scored\n",
        "    filter_data = ipl[ipl['batsman_runs'] != 0]\n",
        "    # filter data based on years\n",
        "\n",
        "    if start_year is not None:\n",
        "      filter_data = filter_data[filter_data['season']>= start_year]\n",
        "\n",
        "    if end_year is not None:\n",
        "      filter_data = filter_data[filter_data['season'] <= end_year]\n",
        "\n",
        "    # filter on inning\n",
        "    if inning in ([1,2]):\n",
        "      filter_data = filter_data[filter_data['inning']==inning]\n",
        "\n",
        "\n",
        "\n",
        "    # Calculate total runs per venue\n",
        "    venue_total_runs = filter_data.groupby('venue')['total_runs'].sum().reset_index()\n",
        "\n",
        "    # Calculate the number of unique matches played at each venue\n",
        "    venue_total_match_count = filter_data.groupby('venue')['match_id'].nunique().reset_index()\n",
        "\n",
        "    # Merge both DataFrames on venue\n",
        "    venue_total_runs_match = pd.merge(venue_total_runs, venue_total_match_count, on='venue')\n",
        "\n",
        "    # Rename columns for clarity\n",
        "    venue_total_runs_match.rename(columns={'match_id': 'total_match'}, inplace=True)\n",
        "\n",
        "    # Calculate average runs per match at each venue\n",
        "    venue_total_runs_match['average_runs'] = (venue_total_runs_match['total_runs'] /\n",
        "                                              venue_total_runs_match['total_match']).round(2)\n",
        "\n",
        "\n",
        "    return venue_total_runs_match\n",
        "\n",
        "\n",
        "calculate_venue_run_statistics(ipl,2008,2024,)"
      ],
      "metadata": {
        "id": "EzcN-st0U0Px",
        "collapsed": true
      },
      "execution_count": null,
      "outputs": []
    },
    {
      "cell_type": "markdown",
      "source": [
        "# average score including all season and all inning"
      ],
      "metadata": {
        "id": "qTTZATj_cvJH"
      }
    },
    {
      "cell_type": "code",
      "source": [
        "calculate_venue_run_statistics(ipl,2008,2024)"
      ],
      "metadata": {
        "id": "8XDy9kpbc4LS"
      },
      "execution_count": null,
      "outputs": []
    },
    {
      "cell_type": "markdown",
      "source": [
        "#### CONCLUSION\n",
        "\n",
        "The average score varies across IPL venues, with Barsapara (326.67), Brabourne (324.89), and Saurashtra (320.20) being the highest-scoring grounds.\n",
        "- Wankhede (313.58), Chinnaswamy (309.90), and Eden Gardens (303.40) also consistently produce high totals, favoring batters.\n",
        "\n",
        "- In contrast, Newlands (240.71) and OUTsurance Oval (245.50) have the lowest averages, indicating bowler-friendly conditions. These trends highlight the impact of pitch conditions and venue factors on scoring patterns in the IPL."
      ],
      "metadata": {
        "id": "eRie-FudeKFm"
      }
    },
    {
      "cell_type": "markdown",
      "source": [
        "# average score including all season and 1st inning"
      ],
      "metadata": {
        "id": "HY-_6v7ffP8P"
      }
    },
    {
      "cell_type": "code",
      "source": [
        "calculate_venue_run_statistics(ipl,start_year=2008,end_year=2024,inning=1).sort_values(by='average_runs',ascending=False)"
      ],
      "metadata": {
        "id": "ksMcPesRfYyv"
      },
      "execution_count": null,
      "outputs": []
    },
    {
      "cell_type": "markdown",
      "source": [
        "#### CONCLUSION\n",
        "\n",
        "The average first-inning scores vary across IPL venues. Barsapara (174.00), Himachal Pradesh (174.92), and Brabourne (168.67) have the highest averages, suggesting they are batting-friendly grounds.\n",
        "- Wankhede (161.53), Chinnaswamy (164.80), and Narendra Modi Stadium (164.33) also see competitive first-inning scores.\n",
        "\n",
        "- On the other hand, OUTsurance Oval (126.00) and Newlands (132.00) have the lowest averages, indicating bowler-friendly conditions. This data highlights how pitch and venue factors influence first-inning totals in the IPL."
      ],
      "metadata": {
        "id": "nW39_zY5iq3y"
      }
    },
    {
      "cell_type": "markdown",
      "source": [
        "# average score including all season and 2ND inning"
      ],
      "metadata": {
        "id": "EoJsprw_jJ6w"
      }
    },
    {
      "cell_type": "code",
      "source": [
        "calculate_venue_run_statistics(ipl,start_year=2008,end_year=2024,inning=2).sort_values(by='average_runs',ascending=False)"
      ],
      "metadata": {
        "id": "m9_yE2NhjQ63"
      },
      "execution_count": null,
      "outputs": []
    },
    {
      "cell_type": "markdown",
      "source": [
        "#### CONCLUSION\n",
        "\n",
        "High-scoring venues (above 150 avg.): Grounds like Maharaja Yadavindra Singh (159.40), Brabourne (156.22), and Green Park (155.75) allow teams to chase well, making them favorable for batters.\n",
        "\n",
        "Balanced venues (140-150 avg.): Popular stadiums like Wankhede (151.91), Eden Gardens (145.41), and M. Chinnaswamy (146.39) provide a fair contest between bat and ball in the second innings.\n",
        "\n",
        "Low-scoring venues (below 140 avg.): Grounds such as Sheikh Zayed (139.34), Buffalo Park (112.00), and Newlands (104.14) suggest tough batting conditions, favoring bowlers in the second innings."
      ],
      "metadata": {
        "id": "x2m43aFJjRbz"
      }
    },
    {
      "cell_type": "markdown",
      "source": [
        "# average score IN 2024 and all inning"
      ],
      "metadata": {
        "id": "vLSV06pJle94"
      }
    },
    {
      "cell_type": "code",
      "source": [
        "calculate_venue_run_statistics(ipl,start_year=2024,end_year=2024,).sort_values(by='average_runs',ascending=False)"
      ],
      "metadata": {
        "id": "FBnEn4YwmAaH"
      },
      "execution_count": null,
      "outputs": []
    },
    {
      "cell_type": "markdown",
      "source": [
        "#### CONCLUSION\n",
        "\n",
        "Conclusion on 2024 Average Scores (All Innings):\n",
        "High-scoring venues (Above 370 avg.): Arun Jaitley Stadium (430.40), Rajiv Gandhi International Stadium (381.50), and Dr. Y.S. Rajasekhara Reddy Stadium (370.50) indicate excellent batting conditions, making them ideal for high totals.\n",
        "\n",
        "Moderate-scoring venues (350-370 avg.): Eden Gardens (370.29), M. Chinnaswamy Stadium (356.86), and Sawai Mansingh Stadium (354.60) offer a balance between bat and ball but still favor batters.\n",
        "\n",
        "Competitive-scoring venues (300-350 avg.): Wankhede (344.57), Bharat Ratna Shri Atal Bihari Vajpayee Stadium (328.71), and Narendra Modi Stadium (327.38) show good scoring potential but with some challenges.\n",
        "\n",
        "Low-scoring venues (Below 300 avg.): Maharaja Yadavindra Singh Stadium (319.00), MA Chidambaram Stadium (304.22), and Barsapara Cricket Stadium (286.00) suggest tougher conditions for batters."
      ],
      "metadata": {
        "id": "zNxUWccxm89S"
      }
    },
    {
      "cell_type": "markdown",
      "source": [
        "# average score IN 2024 and 1ST inning"
      ],
      "metadata": {
        "id": "b_JPgTetnpKr"
      }
    },
    {
      "cell_type": "code",
      "source": [
        "calculate_venue_run_statistics(ipl,start_year=2024,end_year=2024,inning=1).sort_values(by='average_runs',ascending=False)"
      ],
      "metadata": {
        "id": "2Z3NVESbn0Qy"
      },
      "execution_count": null,
      "outputs": []
    },
    {
      "cell_type": "markdown",
      "source": [
        "#### CONCLUSION\n",
        "\n",
        "Conclusion on 2024 Average Scores (1st Inning):\n",
        "High-scoring venues (Above 200 avg.):\n",
        "\n",
        "Arun Jaitley Stadium (230.00) and Dr. Y.S. Rajasekhara Reddy Stadium (216.00) are the most batting-friendly for first innings, indicating good pitch conditions for setting high totals.\n",
        "\n",
        "Moderate-scoring venues (170-200 avg.):\n",
        "\n",
        "Himachal Pradesh Stadium (197.50), Rajiv Gandhi International Stadium (196.50), M. Chinnaswamy Stadium (188.00), and Eden Gardens (185.43) still provide decent batting conditions but may have some challenges like pitch wear or stronger bowling attacks.\n",
        "\n",
        "Competitive-scoring venues (150-170 avg.):\n",
        "\n",
        "Sawai Mansingh Stadium (178.60), Wankhede (178.43), Bharat Ratna Shri Atal Bihari Vajpayee Stadium (174.00), and Narendra Modi Stadium (164.75) show balanced conditions where both batters and bowlers can make an impact.\n",
        "\n",
        "Low-scoring venues (Below 160 avg.):\n",
        "\n",
        "MA Chidambaram Stadium (160.22), Maharaja Yadavindra Singh Stadium (159.60), and Barsapara Cricket Stadium (142.00) suggest tougher batting conditions, possibly due to slower pitches or stronger bowling performances."
      ],
      "metadata": {
        "id": "Wo6bSvw_pLa3"
      }
    },
    {
      "cell_type": "markdown",
      "source": [
        "# average score IN 2024 in 2nd inning"
      ],
      "metadata": {
        "id": "hHilOELXpoSf"
      }
    },
    {
      "cell_type": "code",
      "source": [
        "calculate_venue_run_statistics(ipl,start_year=2024,end_year=2024,inning=2).sort_values(by='average_runs',ascending=False)"
      ],
      "metadata": {
        "id": "g0SqGMWIqFbW"
      },
      "execution_count": null,
      "outputs": []
    },
    {
      "cell_type": "markdown",
      "source": [
        "#### conclusion\n",
        "\n",
        "Conclusion on 2024 Average Scores (2nd Inning):\n",
        "High-scoring venues (Above 180 avg.):\n",
        "\n",
        "Arun Jaitley Stadium (200.40) is the most batting-friendly in the second innings, suggesting easier chases.\n",
        "\n",
        "Rajiv Gandhi International Stadium (185.00) and Eden Gardens (184.86) also provide good batting conditions for chasing teams.\n",
        "\n",
        "Competitive-scoring venues (160-180 avg.):\n",
        "\n",
        "Sawai Mansingh Stadium (176.00), M. Chinnaswamy Stadium (168.86), and Wankhede Stadium (166.14) indicate balanced conditions where both batters and bowlers can impact the game.\n",
        "\n",
        "Moderate-scoring venues (140-160 avg.):\n",
        "\n",
        "Narendra Modi Stadium (162.62), Maharaja Yadavindra Singh Stadium (159.40), Bharat Ratna Shri Atal Bihari Vajpayee Stadium (154.71), Dr. Y.S. Rajasekhara Reddy Stadium (154.50), and Himachal Pradesh Stadium (152.50) suggest that chases can be tricky, but not impossible.\n",
        "\n",
        "Low-scoring venues (Below 150 avg.):\n",
        "\n",
        "Barsapara Stadium (144.00) and MA Chidambaram Stadium (144.00) have the lowest averages, indicating tougher conditions for chasing teams, possibly due to pitch slowdowns or strong bowling performances."
      ],
      "metadata": {
        "id": "MTwohpH-qto9"
      }
    },
    {
      "cell_type": "markdown",
      "source": [
        "# Venue with the highest number of sixes and fours"
      ],
      "metadata": {
        "id": "l5KTvvzUs8Lt"
      }
    },
    {
      "cell_type": "code",
      "source": [
        "sixes = ipl[ipl['total_runs'] == 6].groupby(ipl['venue']).size().reset_index(name='sixes')\n",
        "fours = ipl[ipl['total_runs'] == 4].groupby(ipl['venue']).size().reset_index(name='fours')\n",
        "total_match = ipl.groupby('venue')['match_id'].nunique().reset_index(name='total_match')\n",
        "venue_six_four = total_match.merge(sixes,on='venue',how='left').merge(fours,on='venue',how='left')\n",
        "venue_six_four"
      ],
      "metadata": {
        "id": "GMEumRPos9_S"
      },
      "execution_count": null,
      "outputs": []
    },
    {
      "cell_type": "markdown",
      "source": [
        "#### Most wickets taken at a single venue."
      ],
      "metadata": {
        "id": "WgEx9PzDKXai"
      }
    },
    {
      "cell_type": "code",
      "source": [
        "ipl.loc[ipl['is_wicket'] == 1,'venue'].value_counts().reset_index()"
      ],
      "metadata": {
        "id": "I3IhafNeMhrK"
      },
      "execution_count": null,
      "outputs": []
    },
    {
      "cell_type": "code",
      "source": [
        "ipl.groupby('venue').agg(wicket=('is_wicket','sum'),total_match=('match_id','nunique')).reset_index()"
      ],
      "metadata": {
        "id": "GHvtZuO2Kdsl"
      },
      "execution_count": null,
      "outputs": []
    },
    {
      "cell_type": "markdown",
      "source": [
        "# Venue with the highest win percentage for teams batting first."
      ],
      "metadata": {
        "id": "LPWs1nb8RCCI"
      }
    },
    {
      "cell_type": "code",
      "source": [
        "\n",
        "total_bat_win = ipl[(ipl['winner']== ipl['team1']) & (ipl['inning']==1)].groupby('venue')['match_id'].nunique().reset_index(name='batting_won_total')\n",
        "total_win_venue = ipl.groupby('venue')['match_id'].nunique().reset_index(name='total_won')\n",
        "\n",
        "winning_per_venue = pd.merge(total_bat_win,total_win_venue,on='venue',how='right')\n",
        "winning_per_venue['first_bat_win_percent'] = ((winning_per_venue['batting_won_total']/winning_per_venue['total_won']) * 100).round(2)\n",
        "winning_per_venue['second_bat_win_percent'] = 100 - winning_per_venue['first_bat_win_percent']\n",
        "winning_per_venue.sort_values(by='first_bat_win_percent',ascending=False)"
      ],
      "metadata": {
        "id": "WDsw-vcmRBqi"
      },
      "execution_count": null,
      "outputs": []
    },
    {
      "cell_type": "markdown",
      "source": [
        "#### Player with the most runs at a single venue."
      ],
      "metadata": {
        "id": "QyfHH5IOemSg"
      }
    },
    {
      "cell_type": "code",
      "source": [
        "# venue_batsman_total_run = ipl[ipl['date'].dt.year == 2024].groupby(['venue','batter'])['batsman_runs'].sum().reset_index().sort_values(by='batsman_runs',ascending=False).head(30)\n",
        "venue_batsman_total_run = (\n",
        "    ipl[ipl['date'].dt.year == 2024]\n",
        "    .groupby(['venue', 'batter'])\n",
        "    .agg({\n",
        "        'batsman_runs': 'sum',\n",
        "        'match_id': 'nunique'  # Count unique matches played\n",
        "    })\n",
        "    .rename(columns={'batsman_runs': 'total_runs', 'match_id': 'total_match_played'})  # Rename columns\n",
        "    .reset_index()\n",
        "    .sort_values(by='total_runs', ascending=False)\n",
        ")\n",
        "venue_batsman_total_run"
      ],
      "metadata": {
        "id": "cqLPmqwMRBmu"
      },
      "execution_count": null,
      "outputs": []
    },
    {
      "cell_type": "markdown",
      "source": [
        "#### Player with the most runs at all venue."
      ],
      "metadata": {
        "id": "NV_1DJAMvd27"
      }
    },
    {
      "cell_type": "code",
      "source": [
        "import pandas as pd\n",
        "from IPython.display import display\n",
        "import ipywidgets as widgets\n",
        "\n",
        "def get_batsman_runs_by_venue(ipl_df, start_year, end_year, batter_name=None):\n",
        "    \"\"\"\n",
        "    Filters and retrieves the total runs scored by a specified batsman across all venues\n",
        "    for a given range of years from the IPL dataset.\n",
        "\n",
        "    Parameters:\n",
        "    -----------\n",
        "    ipl_df : pandas.DataFrame\n",
        "        The IPL dataset containing match details.\n",
        "    start_year : int\n",
        "        The starting year for the analysis.\n",
        "    end_year : int\n",
        "        The ending year for the analysis.\n",
        "    batter_name : str (optional)\n",
        "        The name of the batsman whose runs are to be filtered. If None, the user will be prompted to select.\n",
        "\n",
        "    Returns:\n",
        "    --------\n",
        "    pandas.DataFrame\n",
        "        A DataFrame containing venue-wise total runs scored by the specified batsman\n",
        "        in the given year range, sorted in descending order of runs.\n",
        "    \"\"\"\n",
        "\n",
        "    # Get unique batters from the dataset\n",
        "    unique_batters = ipl_df['batter'].unique()\n",
        "\n",
        "    # If batter_name is not provided, let the user select one\n",
        "    if batter_name is None:\n",
        "        batter_dropdown = widgets.Dropdown(\n",
        "            options=sorted(unique_batters),\n",
        "            description=\"Select Batsman:\",\n",
        "            style={'description_width': 'initial'}\n",
        "        )\n",
        "        display(batter_dropdown)\n",
        "\n",
        "        def on_value_change(change):\n",
        "            display(get_batsman_runs_by_venue(ipl_df, start_year, end_year, change['new']))\n",
        "\n",
        "        batter_dropdown.observe(on_value_change, names='value')\n",
        "        return\n",
        "\n",
        "    # Filter data based on the provided conditions\n",
        "    filter_data = ipl_df[\n",
        "        (ipl_df['date'].dt.year >= start_year) &\n",
        "        (ipl_df['date'].dt.year <= end_year) &\n",
        "        (ipl_df['batter'] == batter_name)\n",
        "    ]\n",
        "\n",
        "    # Calculate total runs\n",
        "    total_runs = filter_data.groupby(['venue', 'batter'])['batsman_runs'].sum().reset_index()\n",
        "\n",
        "    # Calculate matches played\n",
        "    match_played = filter_data.groupby(['venue', 'batter'])['match_id'].nunique().reset_index()\n",
        "\n",
        "    # Merge both dataframes\n",
        "    final_data = pd.merge(total_runs, match_played, on=['venue', 'batter'], how='left')\n",
        "\n",
        "    # Rename columns for clarity\n",
        "    final_data.rename(columns={'match_id': 'match_played', 'batsman_runs': 'total_runs'}, inplace=True)\n",
        "\n",
        "\n",
        "\n",
        "    # Sort by total runs\n",
        "    final_data.sort_values(by='total_runs', ascending=False, inplace=True)\n",
        "\n",
        "    return final_data[['venue', 'total_runs', 'match_played']]\n",
        "\n",
        "# Example usage:\n",
        "\n",
        "get_batsman_runs_by_venue(ipl, 2024, 2024)\n"
      ],
      "metadata": {
        "id": "OsclZrkz1Y7H"
      },
      "execution_count": null,
      "outputs": []
    },
    {
      "cell_type": "code",
      "source": [
        "def get_batsman_runs_by_venue(ipl_df, start_year,end_year, batter_name=None):\n",
        "  \"\"\"\n",
        "    Filters and retrieves the total runs scored by a specified batsman across all venues\n",
        "    for a given year from the IPL dataset.\n",
        "\n",
        "    Parameters:\n",
        "    -----------\n",
        "    ipl_df : pandas.DataFrame\n",
        "        The IPL dataset containing match details.\n",
        "    year : int\n",
        "        The year for which the batsman's performance needs to be analyzed.\n",
        "    batter_name : str\n",
        "\n",
        "\n",
        "    Returns:\n",
        "    --------\n",
        "    pandas.DataFrame\n",
        "        A DataFrame containing venue-wise total runs scored by the specified batsman\n",
        "        in the given year, sorted in descending order of runs.\n",
        "\n",
        "    Example:\n",
        "    --------\n",
        "    >>> get_batsman_runs_by_venue(ipl, 2020, 2024, 'Shubman Gill')\n",
        "    \"\"\"\n",
        "\n",
        "  unique_venue = ipl['venue'].unique()\n",
        "\n",
        "  filter_data = ipl[(ipl['date'].dt.year >= start_year) & (ipl['date'].dt.year <=end_year) & (ipl['batter']==batter_name)]\n",
        "  total_runs = filter_data.groupby(['venue','batter'])['batsman_runs'].sum().reset_index()#.sort_values(by='batsman_runs',ascending=False)\n",
        "\n",
        "  match_played = filter_data.groupby(['venue','batter'])['match_id'].nunique().reset_index()\n",
        "\n",
        "  final_data = pd.merge(total_runs,match_played,on=['venue','batter'],how='left')\n",
        "\n",
        "  # final_data = filter_data[filter_data['venue'].isin(unique_venue)]\n",
        "\n",
        "  final_data.rename(columns={'match_id':'match_played','batsman_runs':'total_runs'},inplace=True)\n",
        "\n",
        "\n",
        "  final_data.sort_values(by='total_runs',ascending=False,inplace=True)\n",
        "  return final_data[['venue','total_runs','match_played']]\n",
        "\n",
        "get_batsman_runs_by_venue(ipl,2024,2024,'MS Dhoni')\n",
        "\n",
        "\n",
        "\n"
      ],
      "metadata": {
        "id": "w4y3WkYFRBja",
        "collapsed": true
      },
      "execution_count": null,
      "outputs": []
    },
    {
      "cell_type": "code",
      "source": [
        "def get_batsman_run_by_venue(data,start_year,end_year,batter_name):\n",
        "  '''\n",
        "  Parameters:\n",
        "    -----------\n",
        "    ipl_df : pandas.DataFrame\n",
        "        The IPL dataset containing match details.\n",
        "        Required columns: ['date', 'batter', 'batsman_runs', 'match_id', 'venue']\n",
        "\n",
        "    start_year : int\n",
        "        The starting year for filtering match data.\n",
        "\n",
        "    end_year : int\n",
        "        The ending year for filtering match data.\n",
        "\n",
        "    batter_name : str\n",
        "        The name of the batsman whose performance needs to be analyzed.\n",
        "'''\n",
        "\n",
        "\n",
        "  filter_data = ipl[(ipl['date'].dt.year >= start_year) & (ipl['date'].dt.year <= end_year) & (ipl['batter'] == batter_name)]\n",
        "\n",
        "  final_data = filter_data.groupby(['venue','batter']).agg(\n",
        "      total_runs=('batsman_runs','sum'),\n",
        "      match_played = ('match_id','nunique')\n",
        "  ).reset_index()\n",
        "\n",
        "  final_data.sort_values(by='total_runs',ascending=False,inplace=True)\n",
        "  return final_data\n",
        "\n"
      ],
      "metadata": {
        "id": "qxmTGJDDRBgj",
        "collapsed": true
      },
      "execution_count": null,
      "outputs": []
    },
    {
      "cell_type": "markdown",
      "source": [
        "#### Bowler with the most wickets at a single venue."
      ],
      "metadata": {
        "id": "_unnTUlsnFB3"
      }
    },
    {
      "cell_type": "code",
      "source": [
        "ipl[(ipl['is_wicket']==1)&(ipl['bowler']=='SP Narine')].groupby(['venue','bowler']).agg(\n",
        "    total_wicket = ('is_wicket','sum'),\n",
        "    match_played = ('match_id','nunique')\n",
        ").reset_index().sort_values(by='total_wicket',ascending=False).head(50)\n",
        "\n"
      ],
      "metadata": {
        "id": "Q1rn-M7pRBa9",
        "collapsed": true
      },
      "execution_count": null,
      "outputs": []
    },
    {
      "cell_type": "code",
      "source": [
        "def get_top_wicket_taker_by_venue(data: pd.DataFrame, bowler: str, start_year: int = 2023, end_year: int = 2023, top_n: int = 10) -> pd.DataFrame:\n",
        "    \"\"\"\n",
        "    Returns the top venues where the given bowler has taken the most wickets within a specified time range.\n",
        "\n",
        "    Parameters:\n",
        "    data (pd.DataFrame): The IPL dataset.\n",
        "    bowler (str): Name of the bowler.\n",
        "    start_year (int): Start year for filtering (default: 2023).\n",
        "    end_year (int): End year for filtering (default: 2023).\n",
        "    top_n (int): Number of top venues to return (default: 10).\n",
        "    suggested Bowler name:\n",
        "    dl chahar\n",
        "\n",
        "\n",
        "\n",
        "    Returns:\n",
        "    pd.DataFrame: A DataFrame with venue, total wickets, and total matches played.\n",
        "    \"\"\"\n",
        "\n",
        "    # Correct filtering condition\n",
        "    filter_data = data[\n",
        "        (data['is_wicket'] == 1) &\n",
        "        (data['bowler'].str.lower() == bowler) &\n",
        "        (data['date'].dt.year >= start_year) &\n",
        "        (data['date'].dt.year <= end_year)\n",
        "    ]\n",
        "\n",
        "    # Print bowler's performance info\n",
        "    print(f\"-------- {bowler} performance by venue from {start_year} to {end_year} ---------\")\n",
        "\n",
        "    # Group by venue and bowler, then aggregate\n",
        "    result = filter_data.groupby(['venue', 'bowler']).agg(\n",
        "        total_wicket=('is_wicket', 'sum'),\n",
        "        total_match=('match_id', 'nunique')\n",
        "    ).reset_index().sort_values(by='total_wicket', ascending=False).head(top_n)\n",
        "\n",
        "    # Return only the necessary columns\n",
        "    return result[['venue', 'total_wicket', 'total_match']]\n",
        "\n",
        "\n",
        "get_top_wicket_taker_by_venue(ipl,'jj bumrah', 2022, 2022,top_n=50)\n"
      ],
      "metadata": {
        "id": "oUgWV7MuBTt_"
      },
      "execution_count": null,
      "outputs": []
    },
    {
      "cell_type": "code",
      "source": [],
      "metadata": {
        "id": "evSWQmdSFiPC"
      },
      "execution_count": null,
      "outputs": []
    },
    {
      "cell_type": "markdown",
      "source": [
        "# Find the top 10 highest individual scores by a batsman in an inning."
      ],
      "metadata": {
        "id": "c2qcykSNmUco"
      }
    },
    {
      "cell_type": "code",
      "source": [
        "def highest_score_each_batsman(data):\n",
        "  \"\"\"\n",
        "  \"\"\"\n",
        "\n",
        "  filter_data = ipl[['match_id','batter','batsman_runs']]\n",
        "\n",
        "  highest_scores = filter_data.groupby(['match_id', 'batter'])['batsman_runs'].sum().reset_index()\n",
        "  top_10_scores = highest_scores.sort_values(by='batsman_runs', ascending=False).copy()\n",
        "  return top_10_scores[['batter','batsman_runs']]\n",
        "\n",
        "highest_score_each_batsman(ipl).head(10)"
      ],
      "metadata": {
        "id": "4-sHNDu_RBVM"
      },
      "execution_count": null,
      "outputs": []
    },
    {
      "cell_type": "code",
      "source": [
        "def top_scorer_batsman_by_years(data,year: int=2024)-> pd.DataFrame:\n",
        "  \"\"\" Get the top-scoring batsmen for a given year based on the highest individual match scores.\n",
        "\n",
        "    Parameters:\n",
        "    -----------\n",
        "    data : pd.DataFrame\n",
        "        The IPL dataset containing match details.\n",
        "    year : int, optional (default=2024)\n",
        "        The year for which the top-scoring batsmen should be retrieved.\n",
        "\n",
        "    Returns:\n",
        "    --------\n",
        "    pd.DataFrame\n",
        "        A DataFrame containing the highest individual match scores for each batsman in the specified year,\n",
        "        sorted in descending order.\n",
        "\n",
        "  \"\"\"\n",
        "  filter_data= ipl[(ipl['date'].dt.year== year) ]\n",
        "  s = filter_data.groupby(['match_id','batter']).agg(best_score=('batsman_runs','sum')).reset_index().sort_values(by='best_score',ascending=False)\n",
        "  return s[['batter','best_score']]\n",
        "top_scorer_batsman_by_years(ipl,2024).head(15)\n"
      ],
      "metadata": {
        "id": "IBMjZSrbh95F"
      },
      "execution_count": null,
      "outputs": []
    },
    {
      "cell_type": "markdown",
      "source": [
        "#### CONCLUSION\n",
        "\n",
        "Conclusion on Top Scorer Batsmen in IPL 2024\n",
        "  - MP Stoinis recorded the highest individual match score of 124 runs, making him the top individual match scorer in IPL 2024.\n",
        "\n",
        "  - V Kohli (113 runs) and SP Narine (109 runs) followed closely, showcasing their consistency and ability to play big innings.\n",
        "\n",
        "  - RD Gaikwad and JM Bairstow both scored 108 runs in a single match, indicating their impact in the season.\n",
        "\n",
        "  - JC Buttler appeared twice in the top 15 list, with scores of 107 and 100, showing his reliability as a high-impact batsman.\n",
        "\n",
        "  - Shubman Gill, B Sai Sudharsan, and YBK Jaiswal also made it into the century club, reinforcing their importance to their respective teams.\n",
        "\n",
        "The presence of multiple centurions suggests that IPL 2024 has been a high-scoring season, with batsmen dominating the tournament."
      ],
      "metadata": {
        "id": "l5o-Ncgh-Sih"
      }
    },
    {
      "cell_type": "markdown",
      "source": [
        "# bowlers who have taken the most wickets in  each sesaon"
      ],
      "metadata": {
        "id": "jwbicU56NU-7"
      }
    },
    {
      "cell_type": "code",
      "source": [
        "\n",
        "def top_wicket_takers_by_season(ipl,start_year:int=None,end_year:int=None)->pd.DataFrame:\n",
        "\n",
        "  \"\"\"\n",
        "    Function: top_wicket_takers_by_season\n",
        "    Author: Nikesh singh\n",
        "    Date: March 25, 2025\n",
        "\n",
        "\n",
        "    Parameters:\n",
        "    - ipl (DataFrame): The IPL match dataset.\n",
        "    - start_year (int): The starting season year (default = 2024).\n",
        "    - end_year (int): The ending season year (default = 2024).\n",
        "\n",
        "    Returns:\n",
        "    - DataFrame: A sorted table with columns ['bowler', 'total_wickets', 'total_matches'].\n",
        "    \"\"\"\n",
        "  filtered_data = ipl[(ipl['dismissal_kind']!='run out') &\n",
        "                      (ipl['date'].dt.year >=start_year) &\n",
        "                      (ipl['date'].dt.year <= end_year)]\n",
        "\n",
        "\n",
        "\n",
        "  return filtered_data.groupby(['season','bowler']).agg(\n",
        "      total_wicket = ('is_wicket','sum'),\n",
        "      total_match = ('match_id','nunique')\n",
        "  ).reset_index().iloc[:,1:].sort_values(by='total_wicket',ascending=False)\n",
        "\n",
        "\n",
        "top_wicket_takers_by_season(ipl,2024,2024).head(15)"
      ],
      "metadata": {
        "id": "sQhydFfP9MRD"
      },
      "execution_count": null,
      "outputs": []
    },
    {
      "cell_type": "markdown",
      "source": [
        "#### CONCLUSION\n",
        "\n",
        "Conclusion on Top Wicket-Takers in IPL 2024\n",
        "  -HV Patel emerged as the highest wicket-taker in IPL 2024, claiming 24 wickets in 14 matches, showcasing his exceptional bowling skills.\n",
        "\n",
        "  - CV Varun (21 wickets in 14 matches) and Avesh Khan (20 wickets in 15 matches) followed closely, proving their consistency in taking crucial wickets.\n",
        "\n",
        "  - JJ Bumrah and Harshit Rana also picked up 20 and 19 wickets, respectively, with Bumrah achieving his tally in just 13 matches, highlighting his efficiency.\n",
        "\n",
        "  - Arshdeep Singh, AD Russell, and T Natarajan all took 19 wickets each, demonstrating their ability to break partnerships.\n",
        "\n",
        "  - YS Chahal and PJ Cummins, with 18 wickets, remained impactful contributors to their teams.\n",
        "\n",
        "  - Spin and pace were equally dominant, with bowlers like SP Narine and CV Varun (spinners) alongside pacers HV Patel, Avesh Khan, and Bumrah featuring in the top list.\n",
        "\n",
        "  - Mukesh Kumar (17 wickets in 10 matches) had an impressive strike rate, making a strong impact in fewer games."
      ],
      "metadata": {
        "id": "VN8nlh3A_ep6"
      }
    },
    {
      "cell_type": "markdown",
      "source": [
        "#### bowlers who have taken the most wickets in death overs (16-20)"
      ],
      "metadata": {
        "id": "HkHtrXg-TOdL"
      }
    },
    {
      "cell_type": "code",
      "source": [
        "top_wicket_takers_by_season(ipl,2024,2024,).head(15)"
      ],
      "metadata": {
        "id": "tHat3Z46C7wX"
      },
      "execution_count": null,
      "outputs": []
    },
    {
      "cell_type": "markdown",
      "source": [
        "# Who has taken the most wickets in IPL matches between overs X and Y from YEAR1 to YEAR2, excluding run-outs"
      ],
      "metadata": {
        "id": "QT7j40DvLxw-"
      }
    },
    {
      "cell_type": "code",
      "source": [
        "def most_wicket_taker_range_of_over(ipl,start_year:int=2024,end_year:int=2024,start_over:int=0,end_over:int=19)->pd.DataFrame:\n",
        "  \"\"\"\n",
        "    Function: most_wicket_taker_range_of_over\n",
        "    Author: Nikesh\n",
        "    Date: March 25, 2025\n",
        "\n",
        "    Parameters:\n",
        "    - ipl (DataFrame): The IPL match dataset.\n",
        "    - start_year (int): The starting season year (default = 2024).\n",
        "    - end_year (int): The ending season year (default = 2024).\n",
        "    - start_over (int): The starting over number (default = 0).\n",
        "    - end_over (int): The ending over number (default = 19).\n",
        "\n",
        "    Returns:\n",
        "    - DataFrame: A sorted table with columns ['season', 'bowler', 'total_wickets', 'total_matches'],\n",
        "      sorted by season and total wickets in descending order.\n",
        "    \"\"\"\n",
        "  filter_data = ipl[(ipl['is_wicket']==1) & (ipl['dismissal_kind']!='run out') &\n",
        "                    (ipl['date'].dt.year >= start_year) &\n",
        "                    (ipl['date'].dt.year <= end_year) &\n",
        "                    (ipl['over']>=start_over) &\n",
        "                    (ipl['over'] <= end_over)]\n",
        "\n",
        "  result = filter_data.groupby(['season','bowler']).agg(\n",
        "\n",
        "                                               total_wicket = ('is_wicket','sum'),\n",
        "                                               total_match = ('match_id','nunique')).reset_index()\n",
        "  return result.sort_values([ 'total_wicket'], ascending=[ False])[['bowler','total_wicket','total_match']]\n",
        "\n",
        "most_wicket_taker_range_of_over(ipl,2024,2024,15,19)"
      ],
      "metadata": {
        "id": "SjjBfwKW7ElL"
      },
      "execution_count": null,
      "outputs": []
    },
    {
      "cell_type": "markdown",
      "source": [
        "#### CONCLUSION\n",
        "\n",
        "Conclusion on Most Wicket-Takers in Death Overs (16-20) in IPL 2024\n",
        "  - HV Patel dominated the death overs, picking up 16 wickets in just 8 matches, making him the most lethal bowler in the final overs.\n",
        "\n",
        "  - JJ Bumrah and T Natarajan followed closely, with 11 wickets each, showcasing their effectiveness in pressure situations.\n",
        "\n",
        "  - TU Deshpande and Arshdeep Singh both secured 10 wickets, proving their consistency in the closing stages of the game.\n",
        "\n",
        "  - Avesh Khan, Mukesh Kumar, and Yash Dayal, all with 9 wickets, played crucial roles for their teams in the final overs.\n",
        "\n",
        "  - Death overs specialists like Mustafizur Rahman, Rashid Khan, and Kagiso Rabada were also among the key contributors, highlighting the importance of experienced bowlers.\n",
        "\n",
        "  - Varied bowling styles performed well—pace bowlers like Bumrah, T Natarajan, and HV Patel dominated, while spinners like Rashid Khan and YS Chahal also played significant roles.\n",
        "\n",
        "Economy and consistency in the death overs are key, as bowlers with fewer matches ( Bumrah - 5 matches, Mustafizur - 4 matches) still made a significant impact.\n",
        "\n",
        "Overall, the death overs (15-19) remained crucial in IPL 2024, with bowlers like HV Patel, Bumrah, and T Natarajan excelling in restricting runs and taking wickets when it mattered the most"
      ],
      "metadata": {
        "id": "yKympYruAasx"
      }
    },
    {
      "cell_type": "markdown",
      "source": [
        "# bowlers who have taken the most wickets in power play overs (1-6)"
      ],
      "metadata": {
        "id": "5rHOcENFA3x8"
      }
    },
    {
      "cell_type": "code",
      "source": [
        "most_wicket_taker_range_of_over(ipl,2024,2024,0,5).head(15)"
      ],
      "metadata": {
        "id": "vK4v5g1ZvIqg"
      },
      "execution_count": null,
      "outputs": []
    },
    {
      "cell_type": "markdown",
      "source": [
        "### CONCLUSION\n",
        "\n",
        "Conclusion on Most Wicket-Takers in Powerplay Overs (1-6) in IPL 2024\n",
        "  - Trent Boult (12 wickets in 7 matches) dominated the powerplay, consistently providing early breakthroughs for his team.\n",
        "\n",
        "  - Mitchell Starc (11 wickets in 7 matches) proved his value as a strike bowler, showing his ability to dismantle top orders.\n",
        "\n",
        "  - Bhuvneshwar Kumar (10 wickets in 7 matches) reaffirmed his reputation as a powerplay specialist, using swing effectively.\n",
        "\n",
        "  - Vaibhav Arora (9 wickets in 7 matches) emerged as a rising star, surprising teams with his control and movement in the early overs.\n",
        "\n",
        "  - Khaleel Ahmed (8 wickets in 5 matches) had a strong impact despite playing fewer matches, highlighting his efficiency.\n",
        "\n",
        "  - Arshdeep Singh and Ishant Sharma (7 wickets each) showed their adaptability, combining pace and swing to trouble batsmen.\n",
        "\n",
        "  - Jasprit Bumrah (6 wickets in 5 matches) was effective in the powerplay, despite usually excelling in the death overs.\n",
        "\n",
        "  - Sandeep Warrier, Nuwan Thushara, and Tushar Deshpande (6 wickets each) provided their teams with key breakthroughs.\n",
        "\n",
        "  - Mohammed Siraj, Pat Cummins, and Deepak Chahar (5 wickets each) rounded out the top 15 bowlers, showing their ability to strike early."
      ],
      "metadata": {
        "id": "m36TsMIeCT1e"
      }
    },
    {
      "cell_type": "markdown",
      "source": [
        "#### bowlers who have taken the most wickets in  2024 1ST Inning"
      ],
      "metadata": {
        "id": "OdTCDA-LD2Rq"
      }
    },
    {
      "cell_type": "code",
      "source": [
        "# most_wicket_taker_range_of_over(ipl,2024,2024,0,5,).head(15)"
      ],
      "metadata": {
        "id": "1_QtqCD-D3Z0"
      },
      "execution_count": null,
      "outputs": []
    },
    {
      "cell_type": "markdown",
      "source": [
        "#  highest run-scorer in the IPL 2024 season"
      ],
      "metadata": {
        "id": "mknHnp0cM-6n"
      }
    },
    {
      "cell_type": "code",
      "source": [
        "def best_scoreer_batsman_between_range_of_over(ipl,start_year:int=2008,end_year:int=2024,first_over:int=0,last_over:int=19)->pd.DataFrame:\n",
        "  \"\"\"\n",
        "    Function: best_scorer_batsman_between_range_of_overs\n",
        "    Author: Nikesh\n",
        "    Date: March 25, 2025\n",
        "\n",
        "\n",
        "    Parameters:\n",
        "    - ipl (DataFrame): The IPL dataset containing match details.\n",
        "    - start_year (int): The starting season year (default = 2008).\n",
        "    - end_year (int): The ending season year (default = 2024).\n",
        "    - first_over (int): The starting over number (default = 0).\n",
        "    - last_over (int): The ending over number (default = 19).\n",
        "\n",
        "    Returns:\n",
        "    - DataFrame: A table with columns ['batter', 'total_runs', 'total_match_played'],\n",
        "      sorted by total runs in descending order.\n",
        "    \"\"\"\n",
        "  filter_data = ipl[(ipl['date'].dt.year >= start_year) &\n",
        "                    (ipl['date'].dt.year <= end_year) &\n",
        "                    (ipl['over'] >= first_over) &\n",
        "                    (ipl['over'] <= last_over)]\n",
        "\n",
        "\n",
        "  result  = filter_data.groupby(['season','batter']).agg(\n",
        "      total_runs=('batsman_runs','sum'),\n",
        "      total_match_played = ('match_id','nunique')\n",
        "      ).reset_index()\n",
        "\n",
        "\n",
        "  return result.sort_values(by='total_runs',ascending=False)[['batter','total_runs','total_match_played']]\n",
        "\n",
        "best_scoreer_batsman_between_range_of_over(ipl,2024,2024,0,19).head(20)\n"
      ],
      "metadata": {
        "id": "Os1wdL04vInp"
      },
      "execution_count": null,
      "outputs": []
    },
    {
      "cell_type": "markdown",
      "source": [
        "#### conclusion\n",
        "\n",
        "\n",
        "Conclusion on Highest Run-Scorers in IPL 2024\n",
        "  - Virat Kohli (741 runs in 15 matches) dominated the season, reaffirming his consistency as one of the greatest IPL batters.\n",
        "\n",
        "  - Ruturaj Gaikwad (583 runs in 14 matches) and Riyan Parag (573 runs in 14 matches) showcased their ability to anchor innings while accelerating when needed.\n",
        "\n",
        "  - Travis Head (567 runs in 15 matches) brought his explosive batting style, making significant contributions at the top order.\n",
        "\n",
        "  - Sanju Samson (531 runs in 15 matches) led from the front, proving his value as a dependable middle-order batsman.\n",
        "\n",
        "  - Sai Sudharsan (527 runs in 12 matches) and KL Rahul (520 runs in 14 matches) were key performers, ensuring stability for their teams.\n",
        "\n",
        "  - Nicholas Pooran (499 runs in 14 matches) and Sunil Narine (488 runs in 14 matches) stood out as aggressive finishers, playing impactful cameos.\n",
        "\n",
        "  - Abhishek Sharma (484 runs in 16 matches) and Heinrich Klaasen (479 runs in 15 matches) provided firepower in the middle order.\n",
        "\n",
        "  - Rishabh Pant (446 runs in 13 matches) had an impressive comeback season, delivering match-winning knocks.\n",
        "\n",
        "  - Faf du Plessis, Yashasvi Jaiswal, and Phil Salt (435+ runs each) were consistent top-order performers.\n",
        "\n",
        "  - Shubman Gill (426 runs in 12 matches) and Rohit Sharma (417 runs in 14 matches) contributed with crucial knocks for their teams.\n",
        "\n",
        "  - Tilak Varma (416 runs in 13 matches) and Shivam Dube (396 runs in 14 matches) were valuable middle-order enforcers.\n",
        "\n",
        "  - Rajat Patidar (395 runs in 13 matches) displayed his potential as a strong domestic performer.\n",
        "\n",
        "IMPORTABT POINTS\n",
        "    \n",
        "    Virat Kohli dominated the season, maintaining his elite form.\n",
        "\n",
        "    Several young Indian batters (Parag, Sudharsan, Jaiswal, Abhishek Sharma, Patidar) emerged as top performers.\n",
        "\n",
        "    Explosive overseas players like Travis Head, Nicholas Pooran, and Phil Salt played key roles.\n",
        "\n",
        "    Middle-order contributions from players like Samson, Klaasen, and Dube were crucial."
      ],
      "metadata": {
        "id": "XFFmdu4nG_Ua"
      }
    },
    {
      "cell_type": "markdown",
      "source": [
        "# Most run scored batsman in in power play 2024"
      ],
      "metadata": {
        "id": "w4iCYlqoH08r"
      }
    },
    {
      "cell_type": "code",
      "source": [
        "best_scoreer_batsman_between_range_of_over(ipl,2024,2024,0,5).head(20)"
      ],
      "metadata": {
        "id": "XRtb3fN_IH1v"
      },
      "execution_count": null,
      "outputs": []
    },
    {
      "cell_type": "markdown",
      "source": [
        "#### conclusion\n",
        "Conclusion on Most Runs Scored in Powerplay (Overs 1-6) - IPL 2024\n",
        "  - Travis Head (402 runs in 15 matches) dominated the powerplay with an aggressive approach, making him the most explosive top-order batter.\n",
        "\n",
        "  - Virat Kohli (373 runs in 15 matches) showcased his adaptability, mixing strike rotation with calculated aggression.\n",
        "\n",
        "  - Abhishek Sharma (343 runs in 16 matches) was a revelation, providing quick starts for his team consistently.\n",
        "\n",
        "  - Faf du Plessis (309 runs in 15 matches) and Phil Salt (296 runs in 12 matches) were crucial in setting up strong foundations.\n",
        "\n",
        "  - Yashasvi Jaiswal (282 runs in 15 matches) and Sunil Narine (281 runs in 14 matches) played fearless cricket, maintaining high strike rates.\n",
        "\n",
        "  - KL Rahul (273 runs in 14 matches) and Rohit Sharma (269 runs in 14 matches) were steady anchors, balancing aggression with stability.\n",
        "\n",
        "  - Jake Fraser-McGurk (266 runs in just 9 matches) made an immediate impact, scoring at a rapid pace.\n",
        "\n",
        "  - Ruturaj Gaikwad (261 runs in 14 matches) continued his consistent performances in the top order.\n",
        "\n",
        "  - Ishan Kishan (239 runs in 13 matches) and Prabhsimran Singh (236 runs in 13 matches) provided quick-fire starts for their teams.\n",
        "\n",
        "  - Jos Buttler, Shubman Gill, and Jonny Bairstow (194+ runs each) were key powerplay performers.\n",
        "\n",
        "  - Rachin Ravindra (169 runs in 10 matches) played well in limited opportunities.\n",
        "\n",
        "  - Sai Sudharsan, Ajinkya Rahane, and Sanju Samson (145+ runs each) added value at the top."
      ],
      "metadata": {
        "id": "F1TTvp_mJVB5"
      }
    },
    {
      "cell_type": "markdown",
      "source": [
        "# top high scorer in last 6 over in 2024"
      ],
      "metadata": {
        "id": "irM3G0eQJ5L6"
      }
    },
    {
      "cell_type": "code",
      "source": [
        "best_scoreer_batsman_between_range_of_over(ipl,2024,2024,14,19).head(20)"
      ],
      "metadata": {
        "id": "lAH2CPZWJ8kw"
      },
      "execution_count": null,
      "outputs": []
    },
    {
      "cell_type": "markdown",
      "source": [
        "## **Conclusion on Top Run Scorers in the Last 6 Overs (Overs 15-20) - IPL 2024**\n",
        "\n",
        "- **Nicholas Pooran (273 runs in 11 matches) and Tristan Stubbs (273 runs in 10 matches)** were the most dominant finishers, excelling at death overs with aggressive hitting.  \n",
        "- **Dinesh Karthik (256 runs in 12 matches)** continued his reputation as a reliable finisher, making impactful contributions in crucial moments.  \n",
        "- **Heinrich Klaasen (240 runs in 9 matches)** showcased his power-hitting ability, often taking his team to strong finishes.  \n",
        "- **Tim David (220 runs in 10 matches) and Shivam Dube (208 runs in 8 matches)** proved to be consistent match-winners with their explosive batting.  \n",
        "- **Riyan Parag (202 runs in 10 matches)** demonstrated his improved finishing skills, delivering in pressure situations.  \n",
        "- **All-rounders Ravindra Jadeja (179 runs in 9 matches) and Rahul Tewatia (167 runs in 8 matches)** played vital roles as late-order hitters.  \n",
        "- **Andre Russell (169 runs in 8 matches)** maintained his reputation as one of the most dangerous hitters in the death overs.  \n",
        "- **MS Dhoni (161 runs in 11 matches)** proved that age is just a number, finishing matches with his signature sixes.  \n",
        "- **Ayush Badoni (157 runs in 9 matches) and Shahbaz Ahmed (153 runs in 10 matches)** contributed crucial lower-order runs.  \n",
        "- **Rishabh Pant (150 runs in 7 matches) and Shashank Singh (148 runs in 9 matches)** displayed their aggressive batting at the death.  \n",
        "- **Shreyas Iyer (140 runs in 8 matches) and Ashutosh Sharma (140 runs in 7 matches)** provided solid finishing touches.  \n",
        "- **Sanju Samson (135 runs in 7 matches), Abdul Samad (132 runs in 9 matches), and Dhruv Jurel (130 runs in 8 matches)** showcased their ability to score quickly in the final overs.  \n",
        "\n",
        "---\n",
        "\n",
        "## **IMPORTANT**\n",
        "- **Nicholas Pooran and Tristan Stubbs were the most effective finishers**, both scoring 273 runs in the last six overs.  \n",
        "- **Experienced finishers like Karthik, Klaasen, and Tim David maintained high strike rates under pressure.**  \n",
        "- **Indian youngsters like Riyan Parag, Badoni, and Shashank Singh emerged as promising finishers.**  \n",
        "- **All-rounders like Jadeja, Russell, and Tewatia played crucial roles in death overs.**  \n",
        "- **MS Dhoni continued to be a fan-favorite, finishing games in his classic style.**  \n",
        "\n",
        "\n"
      ],
      "metadata": {
        "id": "CI5syZRRKxWm"
      }
    },
    {
      "cell_type": "markdown",
      "source": [
        "# Find the batsman with the highest strike rate in power play (minimum 60 balls faced(10 over))"
      ],
      "metadata": {
        "id": "ps1p9KLQe-Ql"
      }
    },
    {
      "cell_type": "code",
      "source": [
        "def batsman_with_the_highest_strike_rate(ipl,start_year:int=2024,\n",
        "                                         end_year:int=2024,\n",
        "                                         start_over:int=0,\n",
        "                                         end_over:int=19,\n",
        "                                         min_balls:int=60)->pd.DataFrame:\n",
        "  \"\"\"\n",
        "    Function: top_strike_rate_batsmen\n",
        "    Author: Nikesh\n",
        "    Date: March 25, 2025\n",
        "\n",
        "    Parameters:\n",
        "    - ipl (DataFrame): The IPL dataset containing match details.\n",
        "    - start_year (int): The starting season year (default = 2024).\n",
        "    - end_year (int): The ending season year (default = 2024).\n",
        "    - start_over (int): The starting over number (default = 0).\n",
        "    - end_over (int): The ending over number (default = 19).\n",
        "    - min_balls (int): Minimum number of balls faced to be considered (default = 60).\n",
        "\n",
        "    Returns:\n",
        "    - DataFrame: A table with ['batter', 'total_runs', 'balls_faced', 'strike_rate'], sorted by strike rate.\n",
        "    \"\"\"\n",
        "  filter_data = ipl[(ipl['date'].dt.year>=start_year) &\n",
        "                    (ipl['date'].dt.year <= end_year) &\n",
        "                    (ipl['over']>= start_over) &\n",
        "                    (ipl['over'] <= end_over)]\n",
        "\n",
        "\n",
        "  batsman_stats = filter_data.groupby(['batter']).agg(\n",
        "\n",
        "                                                      total_runs=('batsman_runs','sum'),\n",
        "                                                      total_ball_faced=('batsman_runs','count')\n",
        "  ).reset_index()\n",
        "\n",
        "  batsman_stats['strike_rate'] = ((batsman_stats['total_runs']/batsman_stats['total_ball_faced'])*100).round(2)\n",
        "  qualified_batsmen = batsman_stats[batsman_stats['total_ball_faced']>=min_balls]\n",
        "  return qualified_batsmen.sort_values(by='strike_rate',ascending=False)\n",
        "\n",
        "batsman_with_the_highest_strike_rate(ipl,2024,2024,0,5,60).head(20)"
      ],
      "metadata": {
        "id": "95HUuAsavIkm"
      },
      "execution_count": null,
      "outputs": []
    },
    {
      "cell_type": "markdown",
      "source": [
        "## **Batsman with the Highest Strike Rate (Minimum 60 Balls Faced) - IPL 2024**"
      ],
      "metadata": {
        "id": "DYynkPYY83dB"
      }
    },
    {
      "cell_type": "markdown",
      "source": [
        "**Batsman with the Highest Strike Rate (Minimum 60 Balls Faced) - IPL 2024**\n",
        "\n",
        "### **Top Performers**\n",
        "- **🥇 Jake Fraser-McGurk** - **Strike Rate:** `241.82` (266 runs off 110 balls)\n",
        "- **🥈 Travis Head** - **Strike Rate:** `195.73` (321 runs off 164 balls)\n",
        "- **🥉 Abhishek Sharma** - **Strike Rate:** `185.26` (289 runs off 156 balls)\n",
        "- **🔥 Phil Salt** - **Strike Rate:** `174.00` (261 runs off 150 balls)\n",
        "- **⚡ Sunil Narine** - **Strike Rate:** `161.27` (229 runs off 142 balls)\n",
        "\n",
        "### **Important points**\n",
        "- **Jake Fraser-McGurk** dominated the season with an **explosive** strike rate of **241.82**, making him the most destructive batsman.\n",
        "- **Travis Head** and **Abhishek Sharma** followed with aggressive batting styles, maintaining strike rates above **185**.\n",
        "- **Power hitters like Phil Salt and Sunil Narine** contributed significantly with quickfire innings.\n",
        "\n",
        "This analysis highlights **Fraser-McGurk's incredible hitting ability** in IPL 2024, making him a standout performer! 🚀🔥\n"
      ],
      "metadata": {
        "id": "H7p1A_1GL_0O"
      }
    },
    {
      "cell_type": "markdown",
      "source": [
        "# batsman with the highest strike rate in last 6 over (minimum 60 balls faced(10 over))"
      ],
      "metadata": {
        "id": "FxpqOaPlMYD1"
      }
    },
    {
      "cell_type": "code",
      "source": [
        "batsman_with_the_highest_strike_rate(ipl,2024,2024,14,19,60).head(20)"
      ],
      "metadata": {
        "id": "GxF5Xq_oMf-K"
      },
      "execution_count": null,
      "outputs": []
    },
    {
      "cell_type": "markdown",
      "source": [
        "**Batsman with the Highest Strike Rate in the Last 6 Overs (Overs 15-20) - IPL 2024**\n",
        "### *(Minimum 60 Balls Faced)*\n",
        "\n",
        "### **Top Performers**\n",
        "- **🥇 Tristan Stubbs** - **Strike Rate:** `220.16` (273 runs off 124 balls)\n",
        "- **🥈 Rishabh Pant** - **Strike Rate:** `197.37` (150 runs off 76 balls)\n",
        "- **🥉 MS Dhoni** - **Strike Rate:** `196.34` (161 runs off 82 balls)\n",
        "- **🔥 Heinrich Klaasen** - **Strike Rate:** `192.00` (240 runs off 125 balls)\n",
        "- **⚡ Abdul Samad** - **Strike Rate:** `183.33` (132 runs off 72 balls)\n",
        "\n",
        "### **Important points**\n",
        "- **Tristan Stubbs** emerged as the **most explosive** finisher with a staggering **strike rate of 220.16**, leading the death-over hitting charts.\n",
        "- **Rishabh Pant & MS Dhoni** displayed their **finishing prowess**, maintaining strike rates close to **200**.\n",
        "- **Heinrich Klaasen** and **Abdul Samad** also proved to be dangerous in the final overs with their aggressive approach.\n",
        "- **Power hitters like Riyan Parag, Tilak Varma, and Shashank Singh** showcased their ability to accelerate in crucial moments.\n",
        "\n",
        "This highlights **Tristan Stubbs’ dominance as the most lethal finisher** of IPL 2024! 🔥💥\n"
      ],
      "metadata": {
        "id": "bfokiGtuN38E"
      }
    },
    {
      "cell_type": "markdown",
      "source": [
        "# Batsman with the Highest Strike Rate in - IPL 2024"
      ],
      "metadata": {
        "id": "KvzhT1WROJEt"
      }
    },
    {
      "cell_type": "code",
      "source": [
        "batsman_with_the_highest_strike_rate(ipl,2024,2024,0,19,90).head(30)"
      ],
      "metadata": {
        "id": "5kULGh2DOc8E"
      },
      "execution_count": null,
      "outputs": []
    },
    {
      "cell_type": "markdown",
      "source": [
        "**Batsman with the Highest Strike Rate - IPL 2024**  \n",
        "*(Minimum 90 Balls Faced)*  \n",
        "\n",
        "### **Top Performers**  \n",
        "🥇 **Jake Fraser-McGurk** - Strike Rate: **241.82** (266 runs off 110 balls)  \n",
        "🥈 **Travis Head** - Strike Rate: **195.73** (321 runs off 164 balls)  \n",
        "🥉 **Abhishek Sharma** - Strike Rate: **185.26** (289 runs off 156 balls)  \n",
        "🔥 **Phil Salt** - Strike Rate: **174.00** (261 runs off 150 balls)  \n",
        "⚡ **Sunil Narine** - Strike Rate: **161.27** (229 runs off 142 balls)  \n",
        "\n",
        "### **Important Points**  \n",
        "- **Jake Fraser-McGurk** dominated IPL 2024 with an **unbelievable strike rate of 241.82**, making him the most explosive batter of the season! 🚀🔥  \n",
        "- **Travis Head & Abhishek Sharma** displayed fearless batting, consistently scoring at a strike rate above **185**.  \n",
        "- **Phil Salt and Sunil Narine** also played vital attacking roles, boosting their teams' run rates.  \n",
        "- **Virat Kohli, Faf du Plessis, and Ishan Kishan** balanced strike rate with consistency, ensuring stability at the crease.  \n",
        "- **Young talents like YBK Jaiswal, Abishek Porel, and Prithvi Shaw** showcased their aggressive approach in IPL 2024.  \n",
        "\n",
        "This highlights **Jake Fraser-McGurk’s dominance** as the most lethal batter of IPL 2024! 🔥💥  \n"
      ],
      "metadata": {
        "id": "BmRGNY0vPBUs"
      }
    },
    {
      "cell_type": "markdown",
      "source": [
        "# This function calculates the most economical bowler (minimum 200 balls bowled) based on various factors such as start year, end year, start over, end over, and minimum balls bowled."
      ],
      "metadata": {
        "id": "M4D8pWxfpqI2"
      }
    },
    {
      "cell_type": "code",
      "source": [
        "def  most_economical_bowler(data,start_year:int=2024,\n",
        "                            end_year:int=2024,\n",
        "                            start_over:int=0,\n",
        "                            end_over:int=19,\n",
        "                            min_ball:int=60,\n",
        "                            inning :int=None)->pd.DataFrame:\n",
        "  '''\n",
        "   Function: most_economical_bowler\n",
        "    Author: Nikesh\n",
        "    Date: March 28, 2025\n",
        "\n",
        "    Description:\n",
        "    This function calculates the most economical bowlers in IPL based on a given\n",
        "    timeframe, overs range, and minimum balls bowled.\n",
        "\n",
        "    Parameters:\n",
        "    - data (DataFrame): The IPL dataset containing match details, including bowling performance.\n",
        "    - start_year (int): The starting season year (default = 2024).\n",
        "    - end_year (int): The ending season year (default = 2024).\n",
        "    - start_over (int): The starting over number (default = 0).\n",
        "    - end_over (int): The ending over number (default = 19).\n",
        "    - min_ball (int): The minimum number of balls a bowler must have bowled to be considered (default = 60).\n",
        "\n",
        "    Returns:\n",
        "    - DataFrame: A table with columns ['bowler', 'total_ball', 'total_runs', 'economy'],\n",
        "      sorted by economy rate in ascending order.\n",
        "\n",
        "  '''\n",
        "  filter_data = ipl[(ipl['date'].dt.year >= start_year) &\n",
        "                    (ipl['date'].dt.year <= end_year) &\n",
        "                    (ipl['over']>= start_over) &\n",
        "                    (ipl['over']<= end_over)]\n",
        "  if inning in([1,2]):\n",
        "    filter_data = filter_data[filter_data['inning']== inning]\n",
        "\n",
        "  bowler_stats = filter_data.groupby(['bowler']).agg(\n",
        "    total_ball = ('bowler','count'),\n",
        "    total_runs = ('total_runs','sum')).reset_index()\n",
        "\n",
        "  result = bowler_stats[bowler_stats['total_ball'] >=min_ball]\n",
        "\n",
        "\n",
        "  result['economy'] = (result['total_runs']/result['total_ball']) *6\n",
        "  return result.sort_values(by='economy')\n",
        "\n"
      ],
      "metadata": {
        "id": "BuNODxcQvIhV"
      },
      "execution_count": null,
      "outputs": []
    },
    {
      "cell_type": "markdown",
      "source": [
        "# most_economical_bowler in power play (1 to 6) over in 2024"
      ],
      "metadata": {
        "id": "joluilpJCHwc"
      }
    },
    {
      "cell_type": "code",
      "source": [
        "most_economical_bowler(ipl,2024,2024,0,5,60).sort_values(by='economy',ascending=True)"
      ],
      "metadata": {
        "id": "ryfEcY1-CJSP"
      },
      "execution_count": null,
      "outputs": []
    },
    {
      "cell_type": "markdown",
      "source": [
        "### **Most Economical Bowlers in Powerplay (Overs 1-6) – IPL 2024**  \n",
        "*(Minimum 60 Balls Bowled)*  \n",
        "\n",
        "## **Top Performers**  \n",
        "🥇 **Jasprit Bumrah** – Economy: **5.73** (128 runs conceded off 134 balls)  \n",
        "🥈 **Trent Boult** – Economy: **6.95** (271 runs off 234 balls)  \n",
        "🥉 **Sandeep Sharma** – Economy: **7.65** (116 runs off 91 balls)  \n",
        "🔥 **Vaibhav Arora** – Economy: **8.02** (218 runs off 163 balls)  \n",
        "⚡ **Deepak Chahar** – Economy: **8.05** (169 runs off 126 balls)  \n",
        "\n",
        "## **Important Points**  \n",
        "- **Jasprit Bumrah** emerged as the most economical bowler in the powerplay, conceding just **5.73 runs per over**, making him the toughest bowler to score against in the early overs. 🎯🔥  \n",
        "- **Trent Boult and Sandeep Sharma** maintained tight control in the powerplay, restricting runs and picking up crucial wickets.  \n",
        "- **Deepak Chahar and Vaibhav Arora** were among the few bowlers who consistently troubled batters with disciplined line and length.  \n",
        "- **Experienced pacers like Kagiso Rabada, Bhuvneshwar Kumar, and Arshdeep Singh** had moderate economy rates but played key roles in early breakthroughs.  \n",
        "- **Naveen-ul-Haq and Avesh Khan** were among the most expensive bowlers in the powerplay, conceding runs at over **10 per over**.  \n",
        "\n",
        "This analysis highlights **Jasprit Bumrah’s exceptional control and impact** as the best powerplay bowler of IPL 2024! 🔥🎯\n"
      ],
      "metadata": {
        "id": "hLctnhHJEnnS"
      }
    },
    {
      "cell_type": "markdown",
      "source": [
        "# most_economical_bowler in death over (15 to 20) over in 2024"
      ],
      "metadata": {
        "id": "hhVPdxM0E4ei"
      }
    },
    {
      "cell_type": "code",
      "source": [
        "most_economical_bowler(ipl,2024,2024,14,19,60).sort_values(by='economy',ascending=True)"
      ],
      "metadata": {
        "id": "rg7VHQe5E5Ls"
      },
      "execution_count": null,
      "outputs": []
    },
    {
      "cell_type": "markdown",
      "source": [
        "## **Most Economical Bowlers in Death Overs (Overs 15-20) – IPL 2024**  \n",
        "*(Minimum 60 Balls Bowled)*  \n",
        "\n",
        "## **Top Performers**  \n",
        "🥇 **Jasprit Bumrah** – Economy: **7.07** (145 runs conceded off 123 balls)  \n",
        "🥈 **Harshit Rana** – Economy: **7.61** (137 runs off 108 balls)  \n",
        "🥉 **Mohammed Siraj** – Economy: **7.91** (211 runs off 160 balls)  \n",
        "🔥 **Matheesha Pathirana** – Economy: **8.30** (112 runs off 81 balls)  \n",
        "⚡ **Avesh Khan** – Economy: **8.46** (227 runs off 161 balls)  \n",
        "\n",
        "## **Important Points**  \n",
        "- **Jasprit Bumrah** once again proved his mastery in the death overs, maintaining a sensational economy rate of **7.07**, making him the toughest bowler to score against in crunch situations. 🎯🔥  \n",
        "- **Harshit Rana & Mohammed Siraj** were impressive under pressure, conceding less than **8 runs per over** in the most challenging phase of the game.  \n",
        "- **Matheesha Pathirana & Avesh Khan** delivered crucial spells at the death, preventing explosive finishes from batters.  \n",
        "- **Trent Boult, T Natarajan, and Mustafizur Rahman** were consistent performers, maintaining economy rates below **9.50**.  \n",
        "- **Yash Dayal, Naveen-ul-Haq, and Sam Curran** had mixed performances, occasionally leaking runs but also taking wickets.  \n",
        "- **Anrich Nortje had the worst economy rate (16.10),** struggling to contain runs in the death overs.  \n",
        "\n",
        "This analysis highlights **Jasprit Bumrah’s brilliance** as the best death-over bowler of IPL 2024! 🔥🎯\n"
      ],
      "metadata": {
        "id": "N59i4nNUFqNQ"
      }
    },
    {
      "cell_type": "markdown",
      "source": [
        "# most economical bowler in 2nd inning 2024"
      ],
      "metadata": {
        "id": "O-V06hGrICgS"
      }
    },
    {
      "cell_type": "code",
      "source": [
        "most_economical_bowler(ipl,2024,2024,0,19,90,2).sort_values(by='economy',ascending=True)"
      ],
      "metadata": {
        "id": "VOrTrfhHIE0y"
      },
      "execution_count": null,
      "outputs": []
    },
    {
      "cell_type": "markdown",
      "source": [
        "## **Most Economical Bowlers in 2nd Innings – IPL 2024**  \n",
        "*(Minimum 90 Balls Bowled)*  \n",
        "\n",
        "## **Top Performers**  \n",
        "🥇 **Jasprit Bumrah** – Economy: **5.77** (124 runs conceded off 129 balls)  \n",
        "🥈 **Sunil Narine** – Economy: **6.59** (235 runs off 214 balls)  \n",
        "🥉 **Cameron Green** – Economy: **7.21** (155 runs off 129 balls)  \n",
        "🔥 **Matheesha Pathirana** – Economy: **7.21** (143 runs off 119 balls)  \n",
        "⚡ **Ravindra Jadeja** – Economy: **7.41** (195 runs off 158 balls)  \n",
        "\n",
        "## **Important points**  \n",
        "- **Jasprit Bumrah was the most economical bowler in the second innings**, conceding just **5.77 runs per over**, making him the toughest bowler to score against in IPL 2024.  \n",
        "- **Sunil Narine & Ravindra Jadeja** dominated the spin department with economy rates below **7.50**, restricting batsmen in the middle and death overs.  \n",
        "- **Cameron Green & Matheesha Pathirana** were highly effective, maintaining economy rates close to **7.21**, proving crucial in crucial match phases.  \n",
        "- **T Natarajan, Kuldeep Yadav, and Axar Patel** kept things tight, maintaining economy rates around **8.00**, while **Mohammed Siraj, Rashid Khan, and Mustafizur Rahman** had slightly higher economy rates (~9.00).  \n",
        "- **Mitchell Starc (11.03) and Shahbaz Ahmed (11.09)** were among the most expensive bowlers in the second innings, struggling to control the run flow.  \n",
        "\n",
        "This analysis confirms **Jasprit Bumrah’s dominance** as the best second-innings bowler, delivering consistent, match-winning performances in IPL 2024! 🎯🔥  \n"
      ],
      "metadata": {
        "id": "Snf0m3AuIeBG"
      }
    },
    {
      "cell_type": "markdown",
      "source": [
        "# most economical bowler in 2nd inning 2024 in death over"
      ],
      "metadata": {
        "id": "L-8df_UTGXXI"
      }
    },
    {
      "cell_type": "code",
      "source": [
        "most_economical_bowler(ipl,2024,2024,14,19,36,2).sort_values(by='economy',ascending=True)"
      ],
      "metadata": {
        "id": "6E8oSB4SGlxo"
      },
      "execution_count": null,
      "outputs": []
    },
    {
      "cell_type": "markdown",
      "source": [
        "## **Most Economical Bowlers in 2nd Innings – Death Overs (15-20) – IPL 2024**  \n",
        "*(Minimum 35 Balls Bowled)*  \n",
        "\n",
        "## **Top Performers**  \n",
        "🥇 **Tushar Deshpande** – Economy: **6.77** (44 runs conceded off 39 balls)  \n",
        "🥈 **Jasprit Bumrah** – Economy: **6.95** (44 runs off 38 balls)  \n",
        "🥉 **Mohammed Siraj** – Economy: **7.06** (120 runs off 102 balls)  \n",
        "🔥 **Yash Dayal** – Economy: **7.53** (59 runs off 47 balls)  \n",
        "⚡ **Shardul Thakur** – Economy: **7.62** (47 runs off 37 balls)  \n",
        "\n",
        "## **Key Insights**  \n",
        "- **Tushar Deshpande & Jasprit Bumrah** were the most economical bowlers in the second innings during the death overs, conceding less than **7 runs per over**, making them the most difficult to score against.  \n",
        "- **Mohammed Siraj & Yash Dayal** consistently restricted runs, maintaining economy rates below **7.60** in high-pressure situations.  \n",
        "- **T Natarajan & Matheesha Pathirana** continued their strong death-over performances, conceding under **8.10** runs per over.  \n",
        "- **Harshal Patel, Avesh Khan, and Cameron Green** also provided stability at the end, keeping their economy rates below **8.60**.  \n",
        "- **Mustafizur Rahman, Mukesh Kumar, and Rashid Khan** struggled, conceding over **10 runs per over**, while **Andre Russell & Jaydev Unadkat** had the worst economy rate (12.00+).  \n",
        "\n",
        "This analysis highlights **Tushar Deshpande’s efficiency** in the second innings and **Jasprit Bumrah’s consistency** as a top death-over specialist in IPL 2024! 🔥🎯\n"
      ],
      "metadata": {
        "id": "9ceHXliTH0U5"
      }
    },
    {
      "cell_type": "markdown",
      "source": [
        "# Find the bowler with the most maiden overs."
      ],
      "metadata": {
        "id": "hAHlgD4GSVKE"
      }
    },
    {
      "cell_type": "code",
      "source": [
        "md = ipl.groupby(['match_id','bowler','over'])['total_runs'].sum().reset_index()\n",
        "md[md['total_runs']==0].groupby('bowler').size().reset_index(name='maiden_over').sort_values(by='maiden_over',ascending=False)"
      ],
      "metadata": {
        "id": "wx31Z_wiSWou"
      },
      "execution_count": null,
      "outputs": []
    },
    {
      "cell_type": "markdown",
      "source": [
        "# This functon find the batsman who hit most six or four based on different type of filters such as start season end season start over last over 1st inning 2nd inning"
      ],
      "metadata": {
        "id": "PU9i-c4BvuP3"
      }
    },
    {
      "cell_type": "code",
      "source": [
        "def top_boundary_hitters(ipl: pd.DataFrame,\n",
        "                         boundary_type: int = None,\n",
        "                         start_year: int = 2024,\n",
        "                         end_year: int = 2024,\n",
        "                         start_over: int = 0,\n",
        "                         end_over: int = 19,\n",
        "                         innings: int = None) -> pd.DataFrame:\n",
        "    \"\"\"\n",
        "    Function: top_boundary_hitters\n",
        "    Author: Nikesh\n",
        "    Date: March 25, 2025\n",
        "\n",
        "    Parameters:\n",
        "    - ipl (DataFrame): The IPL dataset containing match details.\n",
        "    - boundary_type (int, optional): Type of boundary to count (4 for fours, 6 for sixes).\n",
        "    - start_year (int, optional): The starting season year (default = 2024).\n",
        "    - end_year (int, optional): The ending season year (default = 2024).\n",
        "    - start_over (int, optional): The starting over number (default = 0).\n",
        "    - end_over (int, optional): The ending over number (default = 19).\n",
        "    - innings (int, optional): The inning to filter (1 or 2).\n",
        "\n",
        "    Returns:\n",
        "    - DataFrame: A table with ['batter', 'boundary_count'], sorted in descending order.\n",
        "    \"\"\"\n",
        "\n",
        "    # Base filter for years and overs\n",
        "    filter_data = ipl[\n",
        "        (ipl['date'].dt.year >= start_year) &\n",
        "        (ipl['date'].dt.year <= end_year) &\n",
        "        (ipl['over'] >= start_over) &\n",
        "        (ipl['over'] <= end_over)\n",
        "    ]\n",
        "\n",
        "    # Apply boundary type filter if specified\n",
        "    if boundary_type is not None:\n",
        "        filter_data = filter_data[filter_data['total_runs'] == boundary_type]\n",
        "    else:\n",
        "        filter_data = filter_data[filter_data['total_runs'].isin([4, 6])]\n",
        "\n",
        "    # Apply innings filter if specified\n",
        "    if innings in [1, 2]:\n",
        "        filter_data = filter_data[filter_data['inning'] == innings]\n",
        "\n",
        "    # Define column name based on boundary type and innings\n",
        "    if boundary_type is None:\n",
        "        column_name = \"total_6_4\"\n",
        "    elif innings == 1:\n",
        "        column_name = 'No of Sixes in 1st Inning' if boundary_type == 6 else \"No of Fours in 1st Inning\"\n",
        "    elif innings == 2:\n",
        "        column_name = 'No of Sixes in 2nd Inning' if boundary_type == 6 else 'No of Fours in 2nd Inning'\n",
        "    else:\n",
        "        column_name = 'No of Sixes' if boundary_type == 6 else 'No of Fours'\n",
        "\n",
        "    # Group by batter and count occurrences\n",
        "    result = (\n",
        "        filter_data.groupby('batter')\n",
        "        .size()\n",
        "        .reset_index(name=column_name)\n",
        "        .sort_values(by=column_name, ascending=False)\n",
        "    )\n",
        "\n",
        "    return result\n",
        "\n",
        "\n",
        "\n"
      ],
      "metadata": {
        "id": "7zVXowu4NVhS"
      },
      "execution_count": null,
      "outputs": []
    },
    {
      "cell_type": "markdown",
      "source": [
        "# Top Boundary Hitters Batsman – IPL 2024"
      ],
      "metadata": {
        "id": "RD5rdeqri2LV"
      }
    },
    {
      "cell_type": "code",
      "source": [
        "top_boundary_hitters(ipl, start_year=2024, end_year=2024).head(30)"
      ],
      "metadata": {
        "id": "YFnvJkivvIec"
      },
      "execution_count": null,
      "outputs": []
    },
    {
      "cell_type": "markdown",
      "source": [
        "## **Top Boundary Hitters – IPL 2024**  \n",
        "\n",
        "## **Top Performers**  \n",
        "🥇 **Virat Kohli** – **100 boundaries (4s & 6s)**  \n",
        "🥈 **Travis Head** – **95 boundaries**  \n",
        "🥉 **Sunil Narine** – **88 boundaries**  \n",
        "🔥 **Abhishek Sharma** – **78 boundaries**  \n",
        "⚡ **Philip Salt & Ruturaj Gaikwad** – **75 boundaries each**  \n",
        "\n",
        "## **Key Insights**  \n",
        "- **Virat Kohli emerged as the top boundary scorer** in IPL 2024, smashing **100 boundaries**, proving his consistency and adaptability across formats.  \n",
        "- **Travis Head (95) and Sunil Narine (88)** showcased their aggressive batting approach, excelling as top-order power hitters.  \n",
        "- **Young talents like Abhishek Sharma (78), Riyan Parag (73), and Yashasvi Jaiswal (70)** played key roles in their teams’ batting success.  \n",
        "- **Middle-order powerhouses like Nicholas Pooran (71), Shivam Dube (58), and Heinrich Klaasen (57)** provided crucial finishes, turning games around.  \n",
        "- **The presence of experienced players like Rohit Sharma (68), Faf du Plessis (69), and Jos Buttler (48)** highlights the impact of seasoned campaigners in high-pressure situations.  \n",
        "\n",
        "This analysis reaffirms that **boundary-hitting remains a crucial skill in modern T20 cricket**, with a blend of experienced players and young superstars excelling in IPL 2024! 🔥🏏\n"
      ],
      "metadata": {
        "id": "NOJ6xHyZKPhS"
      }
    },
    {
      "cell_type": "markdown",
      "source": [
        "# Top Boundary Hitters Batsman in 2nd inning – IPL 2024"
      ],
      "metadata": {
        "id": "yIuJGUxJkIEx"
      }
    },
    {
      "cell_type": "code",
      "source": [
        "top_boundary_hitters(ipl, start_year=2024, end_year=2024,innings=2).head(30)"
      ],
      "metadata": {
        "id": "0y7BzAsiKRO7"
      },
      "execution_count": null,
      "outputs": []
    },
    {
      "cell_type": "markdown",
      "source": [
        "## **Top Boundary Hitters in 2nd Innings – IPL 2024**  \n",
        "\n",
        "## **Top Performers**  \n",
        "🥇 **Yashasvi Jaiswal** – **55 boundaries (4s & 6s)**  \n",
        "🥈 **Rohit Sharma** – **52 boundaries**  \n",
        "🥉 **Sanju Samson** – **48 boundaries**  \n",
        "🔥 **Shashank Singh** – **45 boundaries**  \n",
        "⚡ **Abhishek Sharma, Jos Buttler & Jonny Bairstow** – **44 boundaries each**  \n",
        "\n",
        "## **Key Insights**  \n",
        "- **Yashasvi Jaiswal led the charts** with **55 boundaries in the second innings**, proving his ability to chase under pressure.  \n",
        "- **Rohit Sharma (52) and Sanju Samson (48)** showcased their finishing ability, anchoring successful chases.  \n",
        "- **Explosive hitters like Shashank Singh (45), Abhishek Sharma (44), and Jos Buttler (44)** played match-winning knocks for their teams.  \n",
        "- **Young talents such as Tilak Varma (38), Riyan Parag (38), and Prabhsimran Singh (32)** made significant contributions in crunch moments.  \n",
        "- **Experienced players like Faf du Plessis (33), KL Rahul (29), and Dinesh Karthik (24)** provided stability in the second innings.  \n",
        "\n",
        "This analysis highlights **Yashasvi Jaiswal’s dominance in run chases**, alongside the brilliance of experienced campaigners and emerging young talents in IPL 2024! 🔥🏏  \n"
      ],
      "metadata": {
        "id": "fpPZK5xSkzqd"
      }
    },
    {
      "cell_type": "markdown",
      "source": [
        "# Top six Hitters Batsman in  – IPL 2024"
      ],
      "metadata": {
        "id": "VyP5ucy1k-F1"
      }
    },
    {
      "cell_type": "code",
      "source": [
        "top_boundary_hitters(ipl,boundary_type=6, start_year=2024, end_year=2024).head(30)"
      ],
      "metadata": {
        "id": "-HTnCaXflERh"
      },
      "execution_count": null,
      "outputs": []
    },
    {
      "cell_type": "markdown",
      "source": [
        "## **Top Six Hitters – IPL 2024**  \n",
        "\n",
        "## **Top Performers**  \n",
        "🥇 **Abhishek Sharma** – **41 sixes**  \n",
        "🥈 **Heinrich Klaasen & Virat Kohli** – **38 sixes each**  \n",
        "🥉 **Nicholas Pooran** – **36 sixes**  \n",
        "🔥 **Rajat Patidar, Riyan Parag & Sunil Narine** – **33 sixes each**  \n",
        "⚡ **Travis Head** – **32 sixes**  \n",
        "\n",
        "## **Key Insights**  \n",
        "- **Abhishek Sharma was the leading six-hitter**, smashing **41 sixes** throughout the tournament.  \n",
        "- **Heinrich Klaasen and Virat Kohli** followed closely with **38 sixes each**, displaying power-hitting and consistency.  \n",
        "- **Nicholas Pooran (36), Rajat Patidar (33), and Riyan Parag (33)** dominated the middle overs with aggressive stroke play.  \n",
        "- **Explosive openers like Travis Head (32) and Shivam Dube (28)** played match-defining knocks.  \n",
        "- **Andre Russell (16 sixes) and Marcus Stoinis (16 sixes)** proved their finishing ability in high-pressure situations.  \n",
        "\n",
        "This list showcases a mix of **experienced power-hitters and young talents**, making IPL 2024 a season filled with breathtaking six-hitting action! 🔥🏏💥  \n"
      ],
      "metadata": {
        "id": "N3CWs53dlfSC"
      }
    },
    {
      "cell_type": "markdown",
      "source": [
        "# Top six Hitters Batsman in 2nd inning – IPL 2024"
      ],
      "metadata": {
        "id": "vWFegZ6plmhb"
      }
    },
    {
      "cell_type": "code",
      "source": [
        "top_boundary_hitters(ipl,boundary_type=6, start_year=2024, end_year=2024,innings=2).head(30)"
      ],
      "metadata": {
        "id": "v82zD-t3lpL9"
      },
      "execution_count": null,
      "outputs": []
    },
    {
      "cell_type": "markdown",
      "source": [
        "## **Top Six Hitters in 2nd Innings – IPL 2024**  \n",
        "\n",
        "## **Top Performers**  \n",
        "🥇 **Abhishek Sharma** – **20 sixes**  \n",
        "🥈 **Shashank Singh** – **19 sixes**  \n",
        "🥉 **Rohit Sharma** – **17 sixes**  \n",
        "🔥 **Riyan Parag, Sanju Samson & Jake Fraser-McGurk** – **16 sixes each**  \n",
        "⚡ **Tristan Stubbs, Virat Kohli, Will Jacks, Suryakumar Yadav & Yashasvi Jaiswal** – **14 sixes each**  \n",
        "\n",
        "## **Key Insights**  \n",
        "- **Abhishek Sharma dominated the second innings**, leading with **20 sixes**, showcasing his power-hitting ability.  \n",
        "- **Shashank Singh emerged as a surprise big-hitter**, smashing **19 sixes** and making a significant impact.  \n",
        "- **Rohit Sharma (17) and a group of aggressive middle-order batsmen (16 sixes each)** played crucial finishing roles.  \n",
        "- **Virat Kohli (14) and Suryakumar Yadav (14)** demonstrated their classic stroke play and adaptability under pressure.  \n",
        "- **Explosive finishers like Nicholas Pooran, Tristan Stubbs, and Tilak Varma (12 sixes each)** contributed significantly in crunch moments.  \n",
        "\n",
        "This list highlights a **blend of experienced superstars and emerging talents**, making the **second innings an exciting spectacle of six-hitting brilliance in IPL 2024!** 🔥🏏💥  \n"
      ],
      "metadata": {
        "id": "osGpyFL6mA3W"
      }
    },
    {
      "cell_type": "markdown",
      "source": [
        "# Top four Hitters Batsman in 2nd inning – IPL 2024"
      ],
      "metadata": {
        "id": "EXNFEI4smJOy"
      }
    },
    {
      "cell_type": "code",
      "source": [
        "top_boundary_hitters(ipl,boundary_type=4, start_year=2024, end_year=2024,innings=2).head(30)"
      ],
      "metadata": {
        "id": "msaT70IQmMIA"
      },
      "execution_count": null,
      "outputs": []
    },
    {
      "cell_type": "markdown",
      "source": [
        "## **Top Four Hitters in 2nd Innings – IPL 2024**  \n",
        "\n",
        "## **Top Performers**  \n",
        "🥇 **Yashasvi Jaiswal** – **41 fours**  \n",
        "🥈 **Rohit Sharma** – **35 fours**  \n",
        "🥉 **Jos Buttler & Sanju Samson** – **32 fours each**  \n",
        "🔥 **Jonny Bairstow (30) & Virat Kohli (28)** showcased their elite stroke play.  \n",
        "\n",
        "## **Key Insights**  \n",
        "- **Yashasvi Jaiswal led the charts with 41 boundaries**, showing his aggressive intent at the top order.  \n",
        "- **Rohit Sharma (35) & Jos Buttler (32) consistently found gaps**, accelerating their teams' innings.  \n",
        "- **Virat Kohli (28) and Ishan Kishan (28) played anchor roles**, balancing aggression with stability.  \n",
        "- **Shashank Singh & Tilak Varma (26 each) emerged as key contributors in the middle order.**  \n",
        "- **Aggressive hitters like Marcus Stoinis, Abhishek Sharma, and B Sai Sudharsan (24 each)** provided strong finishing touches.  \n",
        "\n",
        "The second innings in IPL 2024 saw a **blend of experienced top-order players and dynamic middle-order hitters**, making it a thrilling battle for boundary dominance! 🔥🏏💥  \n"
      ],
      "metadata": {
        "id": "s4foIu9hmcX4"
      }
    },
    {
      "cell_type": "markdown",
      "source": [
        "# Top four Hitters Batsman in  – IPL 2024"
      ],
      "metadata": {
        "id": "X2g0gR5Fmdes"
      }
    },
    {
      "cell_type": "code",
      "source": [
        "top_boundary_hitters(ipl,boundary_type=4, start_year=2024, end_year=2024).head(30)"
      ],
      "metadata": {
        "id": "Zq8j5Ie1mqIm"
      },
      "execution_count": null,
      "outputs": []
    },
    {
      "cell_type": "markdown",
      "source": [
        "## **Top Four Hitters – IPL 2024**  \n",
        "\n",
        "## **Top Performers**  \n",
        "🥇 **Travis Head** – **63 fours**  \n",
        "🥈 **Virat Kohli** – **62 fours**  \n",
        "🥉 **Ruturaj Gaikwad** – **57 fours**  \n",
        "🔥 **Sunil Narine (55) & Yashasvi Jaiswal (54)** followed closely behind.  \n",
        "\n",
        "## **Key Insights**  \n",
        "- **Travis Head led the tournament with 63 boundaries**, displaying his aggressive batting approach.  \n",
        "- **Virat Kohli (62) was the backbone of RCB’s batting**, maintaining consistency throughout IPL 2024.  \n",
        "- **Ruturaj Gaikwad (57) & Sunil Narine (55) played key roles at the top of the order**, providing their teams with strong starts.  \n",
        "- **Dynamic middle-order players like Sanju Samson, Faf du Plessis, and Sai Sudharsan (48 each) contributed significantly** to their team's totals.  \n",
        "- **Jos Buttler, Shubman Gill, and Rishabh Pant showcased their class**, maintaining high boundary counts despite different batting roles.  \n",
        "\n",
        "IPL 2024 featured **a mix of aggressive openers and composed middle-order batsmen**, making the race for boundary-hitting an exciting contest! 🔥🏏💥  \n"
      ],
      "metadata": {
        "id": "HDtjPu1Jm5_f"
      }
    },
    {
      "cell_type": "markdown",
      "source": [
        "# Batting Analysis"
      ],
      "metadata": {
        "id": "3CUGkiuGSB58"
      }
    },
    {
      "cell_type": "markdown",
      "source": [
        "# Highest individual scores by a batsman for each season or a specific inning, or including all innings ans season"
      ],
      "metadata": {
        "id": "axcVzB19Up-Z"
      }
    },
    {
      "cell_type": "code",
      "source": [
        "def total_score_by_batsman(data,start_season:int=None,end_season:int=None,inning: int = None)->pd.DataFrame:\n",
        "  '''\n",
        "  Function: total_score_by_batsman\n",
        "    Author: Nikesh\n",
        "    Date: March 25, 2025\n",
        "\n",
        "\n",
        "\n",
        "    Parameters:\n",
        "    - data (DataFrame): The IPL dataset containing match details.\n",
        "    - start_season (int): The starting season year (default = 2008).\n",
        "    - end_season (int): The ending season year (default = 2024).\n",
        "    - inning (int, optional): The inning number (1 or 2). If None, considers both innings.\n",
        "\n",
        "    Returns:\n",
        "    - DataFrame: A table with ['season', 'batter', 'batsman_runs'], sorted in descending order.\n",
        "\n",
        "  '''\n",
        "  filter_data = ipl[(ipl['date'].dt.year >= start_season) &\n",
        "                    (ipl['date'].dt.year <= end_season)]\n",
        "\n",
        "  if inning in [1,2]:\n",
        "    filter_data = filter_data[filter_data['inning']==inning]\n",
        "\n",
        "\n",
        "  return filter_data.groupby(['batter',])['batsman_runs'].sum().reset_index().sort_values(by='batsman_runs',ascending=False)\n",
        "\n",
        "\n",
        "total_score_by_batsman(ipl,start_season=2024,end_season = 2024).head(30)"
      ],
      "metadata": {
        "id": "Tu4KK7uAvIb5"
      },
      "execution_count": null,
      "outputs": []
    },
    {
      "cell_type": "markdown",
      "source": [
        "# **Top Run-Scorers – IPL 2024**"
      ],
      "metadata": {
        "id": "cbUQRgYapkRd"
      }
    },
    {
      "cell_type": "code",
      "source": [
        "total_score_by_batsman(ipl,start_season=2024,end_season = 2024).head(30)"
      ],
      "metadata": {
        "id": "XgKtWbzNpuX3"
      },
      "execution_count": null,
      "outputs": []
    },
    {
      "cell_type": "markdown",
      "source": [
        "## **Top Run-Scorers – IPL 2024**  \n",
        "\n",
        "## **Top Performers**  \n",
        "🥇 **Virat Kohli** – **741 runs**  \n",
        "🥈 **Ruturaj Gaikwad** – **583 runs**  \n",
        "🥉 **Riyan Parag** – **573 runs**  \n",
        "🔥 **Travis Head (567) & Sanju Samson (531)** completed the top five.  \n",
        "\n",
        "## **Key Insights**  \n",
        "- **Virat Kohli dominated IPL 2024**, scoring **741 runs**, proving his consistency and class yet again.  \n",
        "- **Ruturaj Gaikwad (583) & Riyan Parag (573) were crucial for their teams**, delivering impactful performances.  \n",
        "- **Travis Head (567) & Sanju Samson (531) maintained aggressive strike rates**, helping their teams with explosive starts and match-winning innings.  \n",
        "- **B Sai Sudharsan (527), KL Rahul (520), and Nicholas Pooran (499) provided stability**, anchoring innings under pressure.  \n",
        "- **Aggressive finishers like Heinrich Klaasen (479) & Abhishek Sharma (484) added firepower** in the middle and death overs.  \n",
        "- **Veterans like Rohit Sharma (417) & Faf du Plessis (438) showed their experience**, guiding their teams in crucial matches.  \n",
        "\n",
        "This season saw **a mix of experienced stalwarts and emerging stars** making their mark, making IPL 2024 one of the most competitive editions ever! 🔥🏏💯  \n"
      ],
      "metadata": {
        "id": "TuLhPqXXqAHp"
      }
    },
    {
      "cell_type": "markdown",
      "source": [
        "# **Top Run-Scorers In 1st Inning – IPL 2024**"
      ],
      "metadata": {
        "id": "FxADUIO9qIrJ"
      }
    },
    {
      "cell_type": "code",
      "source": [
        "total_score_by_batsman(ipl,start_season=2024,end_season = 2024,inning=1).head(30)"
      ],
      "metadata": {
        "id": "RT5nE5kXqNjC"
      },
      "execution_count": null,
      "outputs": []
    },
    {
      "cell_type": "markdown",
      "source": [
        "## **Top Run-Scorers in 1st Inning – IPL 2024**  \n",
        "\n",
        "## **Top Performers**  \n",
        "🥇 **Virat Kohli** – **470 runs**  \n",
        "🥈 **Ruturaj Gaikwad** – **458 runs**  \n",
        "🥉 **Travis Head** – **433 runs**  \n",
        "🔥 **Sunil Narine (393) & Heinrich Klaasen (337)** completed the top five.  \n",
        "\n",
        "## **Key Insights**  \n",
        "- **Virat Kohli (470) & Ruturaj Gaikwad (458) dominated in the first innings**, setting up strong platforms for their teams.  \n",
        "- **Travis Head (433) was among the most explosive openers**, providing quick starts.  \n",
        "- **Sunil Narine (393) played an aggressive role at the top**, consistently putting pressure on the bowlers.  \n",
        "- **Heinrich Klaasen (337) was crucial in finishing innings with power hitting.**  \n",
        "- **KL Rahul (306) & Riyan Parag (298) maintained stability**, anchoring crucial partnerships.  \n",
        "- **Nicholas Pooran (293) & Rajat Patidar (285) provided middle-order strength.**  \n",
        "- **Young talents like Abhishek Sharma (228) & Nitish Kumar Reddy (224) impressed with their performances.**  \n",
        "\n",
        "These stats highlight **the key contributors in the first innings**, setting the tone for IPL 2024 matches! 🔥🏏  \n"
      ],
      "metadata": {
        "id": "2br_-QSrqljP"
      }
    },
    {
      "cell_type": "markdown",
      "source": [
        "# **Top Run-Scorers In 2nd Inning – IPL 2024**"
      ],
      "metadata": {
        "id": "ncRqO2B0qnd7"
      }
    },
    {
      "cell_type": "code",
      "source": [
        "total_score_by_batsman(ipl,start_season=2024,end_season = 2024,inning=2).head(30)"
      ],
      "metadata": {
        "id": "TE3TVXUzqzOh"
      },
      "execution_count": null,
      "outputs": []
    },
    {
      "cell_type": "markdown",
      "source": [
        "## **Top Run-Scorers in 2nd Inning – IPL 2024**  \n",
        "\n",
        "## **Top Performers**  \n",
        "🥇 **Yashasvi Jaiswal** – **354 runs**  \n",
        "🥈 **Sanju Samson** – **333 runs**  \n",
        "🥉 **Rohit Sharma** – **322 runs**  \n",
        "🔥 **Shashank Singh (314) & Jos Buttler (308)** rounded out the top five.  \n",
        "\n",
        "## **Key Insights**  \n",
        "- **Yashasvi Jaiswal (354) was the most dominant second-innings batter**, showing consistency under pressure.  \n",
        "- **Sanju Samson (333) & Rohit Sharma (322) played crucial roles in run chases**, ensuring stability at the top.  \n",
        "- **Shashank Singh (314) emerged as a surprise star, delivering impactful innings in key matches.**  \n",
        "- **Jos Buttler (308) & Jonny Bairstow (275) were key middle-order anchors**, maintaining high strike rates.  \n",
        "- **Tilak Varma (272) & Rajat Patidar (238) provided much-needed acceleration in chases.**  \n",
        "- **Virat Kohli (271) continued his consistency across both innings, proving his adaptability.**  \n",
        "- **Abhishek Sharma (256) & Suryakumar Yadav (247) played vital roles in finishing games.**  \n",
        "\n",
        "These statistics highlight **the best chasers and impact players in IPL 2024**, showcasing their ability to perform under pressure! 🔥🏏  \n"
      ],
      "metadata": {
        "id": "fpWx-QOrrkzL"
      }
    },
    {
      "cell_type": "markdown",
      "source": [
        "## **Overall Conclusion – IPL 2024 Batting Analysis**  \n",
        "\n",
        "### **1st Inning Performers vs. 2nd Inning Performers**  \n",
        "- **Virat Kohli (741 runs)** dominated across both innings, proving his consistency as a reliable run-getter.  \n",
        "- **Ruturaj Gaikwad (583) and Travis Head (567)** were standout first-inning batters, playing aggressive knocks at the top.  \n",
        "- **Yashasvi Jaiswal (354) and Sanju Samson (333) thrived in 2nd innings**, particularly in chases.  \n",
        "- **Shashank Singh (314) emerged as a surprise performer**, proving his finishing abilities in 2nd innings.  \n",
        "\n",
        "### **Key Takeaways**  \n",
        "✅ **1st Innings Domination:** Kohli, Gaikwad, and Head showed the ability to set up strong totals.  \n",
        "✅ **2nd Innings Specialists:** Jaiswal, Samson, and Rohit Sharma were crucial chasers, handling pressure well.  \n",
        "✅ **Middle-Order Impact:** Players like Shashank Singh, Jos Buttler, and Tilak Varma provided balance.  \n",
        "✅ **Power-Hitters in Both Innings:** Players like Klaasen, Pooran, and Abhishek Sharma contributed across innings.  \n",
        "\n",
        "### **Final Thoughts**  \n",
        "- **Batters like Kohli and Samson adapted to both innings**, showing remarkable consistency.  \n",
        "- **Rising stars like Jaiswal and Shashank Singh played crucial match-winning knocks.**  \n",
        "- **The balance between openers, middle-order stabilizers, and finishers determined IPL 2024's top scorers.**  \n",
        "\n",
        "This season highlighted **a mix of experienced and young talents**, with batters showcasing adaptability under different game conditions. 🏏🔥\n"
      ],
      "metadata": {
        "id": "TUHnUl3XsUc0"
      }
    },
    {
      "cell_type": "markdown",
      "source": [
        "# Team with the highest  total while batting first."
      ],
      "metadata": {
        "id": "W1wFyUXlcARz"
      }
    },
    {
      "cell_type": "code",
      "source": [
        "def  highest_team_scores(ipl,season:int=None,inning:int=None)->pd.DataFrame:\n",
        "  '''\n",
        "   Function: highest_team_scores\n",
        "    Author: Nikesh\n",
        "    Date: March 25, 2025\n",
        "\n",
        "    Parameters:\n",
        "    - ipl (DataFrame): The IPL dataset containing match details, with columns including\n",
        "      'date', 'season', 'match_id', 'batting_team', 'inning', and 'total_runs'.\n",
        "    - season (int, optional): The specific season year to filter the data (e.g., 2024).\n",
        "      If None, the function includes all seasons.\n",
        "    - inning (int, optional): The inning number (1 or 2) to filter the data.\n",
        "      If None, the function includes both innings.\n",
        "\n",
        "    Returns:\n",
        "    - DataFrame: A table with columns ['batting_team', 'max_score'], showing\n",
        "      the highest match score for each team in descending order.\n",
        "\n",
        "  '''\n",
        "  # if there is no condition\n",
        "  filter_ipl = ipl.copy()\n",
        "  # if year is give\n",
        "  if season is not None:\n",
        "    filter_ipl = ipl[ipl['date'].dt.year==season]\n",
        "  # if inning is given\n",
        "  if inning in [1,2]:\n",
        "    filter_ipl = filter_ipl[filter_ipl['inning']==inning]\n",
        "\n",
        "\n",
        "  match_score = filter_ipl.groupby(['match_id','batting_team'])['total_runs'].sum()\\\n",
        "                          .reset_index()\\\n",
        "                          .groupby(['batting_team'])\\\n",
        "                          .max().reset_index()\n",
        "\n",
        "  match_score.rename(columns={'total_runs': 'max_score'}, inplace=True)\n",
        "  return match_score.sort_values(by='max_score',ascending=False)[['batting_team','max_score']]\n",
        "\n",
        "\n",
        "\n",
        "\n",
        "highest_team_scores(ipl,2024,2)\n"
      ],
      "metadata": {
        "id": "JAf_ynwAvIZE"
      },
      "execution_count": null,
      "outputs": []
    },
    {
      "cell_type": "markdown",
      "source": [
        "# **Top best - Score each team in – IPL 2024**"
      ],
      "metadata": {
        "id": "rcELanrntWpt"
      }
    },
    {
      "cell_type": "code",
      "source": [
        "highest_team_scores(ipl,2024)"
      ],
      "metadata": {
        "id": "eooxzQNwtj9U"
      },
      "execution_count": null,
      "outputs": []
    },
    {
      "cell_type": "markdown",
      "source": [
        "## **🏏 IPL 2024 – Top Team Scores Analysis**\n",
        "\n",
        "## **📌 High-Scoring Teams**\n",
        "- **🔥 Sunrisers Hyderabad (287)** – The highest team score of the season, showcasing an explosive batting lineup.\n",
        "- **⚡ Kolkata Knight Riders (272) & Royal Challengers Bangalore (262)** – Dominated with aggressive batting performances.\n",
        "- **💥 Kings XI Punjab (262) & Delhi Capitals (257)** – Strong and consistent run-scoring teams.\n",
        "\n",
        "## **📊 Mid-Tier Performers**\n",
        "- **🔵 Mumbai Indians (247)** – Competitively high score but did not breach the 260+ mark.\n",
        "- **🟡 Gujarat Titans (231) & Rajasthan Royals (224)** – Fell short of the 240+ range, indicating struggles in batting depth.\n",
        "\n",
        "## **🚨 Lower-End Scores**\n",
        "- **🔴 Lucknow Super Giants (214) & Chennai Super Kings (212)** – The lowest high scores, reflecting inconsistency in power-hitting.\n",
        "\n",
        "## **🏆 Key Takeaways**\n",
        "✅ **Sunrisers Hyderabad dominated with the highest total (287).**  \n",
        "✅ **KKR, RCB, and PBKS impressed with scores above 260.**  \n",
        "✅ **CSK and LSG struggled to produce big totals.**  \n",
        "\n",
        "💡 *IPL 2024 was a high-scoring season, with several teams surpassing 250+, emphasizing the role of power-hitters and aggressive strategies!* 🚀🏏\n"
      ],
      "metadata": {
        "id": "_5nc-95HtynY"
      }
    },
    {
      "cell_type": "markdown",
      "source": [
        "# **Top best - Score each team in 2nd inning – IPL 2024**"
      ],
      "metadata": {
        "id": "ynDVWmisuL6t"
      }
    },
    {
      "cell_type": "code",
      "source": [
        "highest_team_scores(ipl,2024,2)"
      ],
      "metadata": {
        "id": "-ass7O2wuSv8"
      },
      "execution_count": null,
      "outputs": []
    },
    {
      "cell_type": "markdown",
      "source": [
        "## **🏏 IPL 2024 – Top Team Scores in 2nd Innings**\n",
        "\n",
        "## **📌 High-Scoring Teams in 2nd Innings**\n",
        "- **🔥 Royal Challengers Bangalore (262) & Kings XI Punjab (262)** – Delivered exceptional chases, proving their ability to dominate under pressure.\n",
        "- **⚡ Mumbai Indians (247)** – A strong second-innings batting performance.\n",
        "- **💥 Rajasthan Royals (224) & Gujarat Titans (220)** – Demonstrated resilience while chasing.\n",
        "\n",
        "## **📊 Mid-Tier Performers**\n",
        "- **🟠 Sunrisers Hyderabad (215) & Lucknow Super Giants (213)** – Respectable scores but below the top chasers.\n",
        "- **🔵 Delhi Capitals (205)** – Crossed the 200 mark but struggled to breach 220.\n",
        "\n",
        "## **🚨 Lower-End Scores**\n",
        "- **🟡 Chennai Super Kings (196) & Kolkata Knight Riders (186)** – Found it difficult to put up big runs in the second innings.\n",
        "\n",
        "## **🏆 Key Takeaways**\n",
        "✅ **RCB & PBKS set the benchmark for successful chases (262).**  \n",
        "✅ **MI, RR, and GT also performed well in high-pressure chases.**  \n",
        "✅ **KKR and CSK struggled to chase big targets.**  \n",
        "\n",
        "💡 *IPL 2024 witnessed aggressive batting in the second innings, with multiple teams surpassing 250, proving that chasing big totals is now a crucial skill!* 🚀🏏\n"
      ],
      "metadata": {
        "id": "89XP78QBusal"
      }
    },
    {
      "cell_type": "markdown",
      "source": [
        "#  Most runs conceded by a team in a match."
      ],
      "metadata": {
        "id": "PL0rpzHGOrU8"
      }
    },
    {
      "cell_type": "code",
      "source": [
        "def highest_runs_conceded_by_bowling_team(ipl,year:int=None,inning:int=None)->pd.DataFrame:\n",
        "  '''\n",
        "Function: highest_runs_conceded_by_bowling_team\n",
        "    Author: Nikesh\n",
        "    Date: March 25, 2025\n",
        "\n",
        "    Parameters:\n",
        "    - ipl (DataFrame): The IPL dataset containing match details, with columns including\n",
        "      'date', 'season', 'match_id', 'bowling_team', 'inning', and 'total_runs'.\n",
        "    - year (int, optional): The specific season year to filter the data (e.g., 2024).\n",
        "      If None, the function includes all seasons.\n",
        "    - inning (int, optional): The inning number (1 or 2) to filter the data.\n",
        "      If None, the function includes both innings.\n",
        "\n",
        "    Returns:\n",
        "    - DataFrame: A table with columns ['season', 'bowling_team', 'max_runs'], showing\n",
        "      the highest runs conceded by each bowling team in descending order.\n",
        "  '''\n",
        "  filter_data = ipl.copy()\n",
        "\n",
        "  if year is not None:\n",
        "    filter_data = ipl[ipl['date'].dt.year==year]\n",
        "\n",
        "  if inning in [1,2]:\n",
        "    filter_data = filter_data[filter_data['inning']==inning]\n",
        "\n",
        "  match_score = filter_data.groupby(['match_id','bowling_team'])['total_runs'].sum().reset_index()\n",
        "\n",
        "\n",
        "  result = match_score.groupby(['bowling_team']).agg(max_runs=('total_runs','max')).reset_index()\n",
        "\n",
        "  return result.sort_values(by='max_runs',ascending=False)[['bowling_team','max_runs']]\n",
        "\n",
        "\n",
        "highest_runs_conceded_by_bowling_team(ipl,2024)\n"
      ],
      "metadata": {
        "id": "4c8RdN1PvIWJ"
      },
      "execution_count": null,
      "outputs": []
    },
    {
      "cell_type": "markdown",
      "source": [
        "# **Most runs conceded by a team in a match in 2024**"
      ],
      "metadata": {
        "id": "XVroC5vKw1zv"
      }
    },
    {
      "cell_type": "code",
      "source": [
        "highest_runs_conceded_by_bowling_team(ipl,2024)"
      ],
      "metadata": {
        "id": "-YlB7Qf7xCTp"
      },
      "execution_count": null,
      "outputs": []
    },
    {
      "cell_type": "markdown",
      "source": [
        "## **🏏 Most Runs Conceded by Teams in IPL 2024**  \n",
        "\n",
        "## **Top Bowling Struggles**  \n",
        "🥇 **Royal Challengers Bangalore** – **287 runs conceded**  \n",
        "🥈 **Mumbai Indians** – **277 runs conceded**  \n",
        "🥉 **Delhi Capitals** – **272 runs conceded**  \n",
        "🔥 **Kolkata Knight Riders (262) & Sunrisers Hyderabad (262) also faced tough bowling challenges.**  \n",
        "\n",
        "## **Key Insights**  \n",
        "- **Royal Challengers Bangalore (287) conceded the highest runs in a single match**, highlighting struggles in their bowling attack.  \n",
        "- **Mumbai Indians (277) and Delhi Capitals (272) also faced challenges in restricting opposition batters.**  \n",
        "- **KKR & SRH (262 each) leaked runs heavily, making them vulnerable in high-scoring games.**  \n",
        "- **Punjab Kings (261) and Lucknow Super Giants (235) also had games where they struggled to contain the opposition.**  \n",
        "- **Even Chennai Super Kings (231) and Gujarat Titans (224), known for their strong bowling, had off days.**  \n",
        "- **Rajasthan Royals (223) had the lowest high-run concession but still crossed the 220+ mark.**  \n",
        "\n",
        "🔍 **IPL 2024 saw multiple high-scoring games, exposing the weaknesses of bowling attacks.**  \n",
        "🔥 **With teams consistently scoring 250+, death-over bowling became a key factor in determining match outcomes.** 🏏\n"
      ],
      "metadata": {
        "id": "plchKJyVx_XG"
      }
    },
    {
      "cell_type": "markdown",
      "source": [
        "#  Team with the best economy rate in a season."
      ],
      "metadata": {
        "id": "GGgpS_b_eM0S"
      }
    },
    {
      "cell_type": "code",
      "source": [
        "\n",
        "def team_economy_rate_per_season(ipl, start_year: int = None, end_year: int = None) -> pd.DataFrame:\n",
        "    '''\n",
        "    Function: team_economy_rate_per_season\n",
        "    Author: Nikesh\n",
        "    Date: March 28, 2025\n",
        "\n",
        "    Description:\n",
        "    This function calculates the economy rate (runs conceded per over) of each bowling team per season.\n",
        "\n",
        "    Parameters:\n",
        "    - ipl (DataFrame): The IPL dataset containing match details.\n",
        "    - start_year (int, optional): The starting year for filtering data.\n",
        "    - end_year (int, optional): The ending year for filtering data.\n",
        "\n",
        "    Returns:\n",
        "    - DataFrame: A table with columns ['season', 'bowling_team', 'total_runs', 'total_ball', 'economy'],\n",
        "                 showing the economy rate of each bowling team per season.\n",
        "    '''\n",
        "    # Make a copy of the dataset to avoid modifying the original\n",
        "    filter_data = ipl.copy()\n",
        "\n",
        "    # Filter based on year\n",
        "    if start_year is not None:\n",
        "        filter_data = filter_data[filter_data['season'] >= start_year]\n",
        "    if end_year is not None:\n",
        "        filter_data = filter_data[filter_data['season'] <= end_year]\n",
        "\n",
        "    # Aggregate total runs and total balls bowled by each team per season\n",
        "    filter_data = (\n",
        "        filter_data.groupby(['season', 'bowling_team'])\n",
        "        .agg(total_runs=('total_runs', 'sum'), total_ball=('match_id', 'count'))\n",
        "        .reset_index()\n",
        "    )\n",
        "\n",
        "    # Calculate economy rate (runs conceded per over)\n",
        "    filter_data['economy'] = ((filter_data['total_runs'] / filter_data['total_ball']) * 6).round(2)\n",
        "\n",
        "    return filter_data\n",
        "\n",
        "\n",
        "team_economy_rate_per_season(ipl, start_year=2024, end_year=2024).sort_values(by='economy')\n"
      ],
      "metadata": {
        "id": "ZyLCJb8WvITV"
      },
      "execution_count": null,
      "outputs": []
    },
    {
      "cell_type": "markdown",
      "source": [
        "# **Team with the best economy rate in a season 2024**"
      ],
      "metadata": {
        "id": "jVCZU413zpo4"
      }
    },
    {
      "cell_type": "code",
      "source": [
        "team_economy_rate_per_season(ipl, start_year=2024, end_year=2024).sort_values(by='economy')"
      ],
      "metadata": {
        "id": "8ezqyplyz2N3"
      },
      "execution_count": null,
      "outputs": []
    },
    {
      "cell_type": "markdown",
      "source": [
        "## **🏏 Best Economy Rate by Teams in IPL 2024**  \n",
        "\n",
        "## **Top Bowling Economies**  \n",
        "🥇 **Chennai Super Kings** – **8.40 economy rate**  \n",
        "🥈 **Rajasthan Royals** – **8.56 economy rate**  \n",
        "🥉 **Kolkata Knight Riders** – **8.75 economy rate**  \n",
        "🔥 **Punjab Kings (9.01) & Lucknow Super Giants (9.21) round out the top five.**  \n",
        "\n",
        "## **Key Insights**  \n",
        "- **Chennai Super Kings (8.40) had the most disciplined bowling attack**, maintaining the best economy rate.  \n",
        "- **Rajasthan Royals (8.56) and KKR (8.75) also displayed strong control over opposition scoring.**  \n",
        "- **Punjab Kings (9.01) managed to stay under the 9.00 mark, showcasing a balanced bowling unit.**  \n",
        "- **Lucknow Super Giants (9.21) and Gujarat Titans (9.34) struggled slightly but remained competitive.**  \n",
        "- **Mumbai Indians (9.36) & RCB (9.39) had similar economy rates, indicating high-scoring encounters.**  \n",
        "- **Delhi Capitals (9.54) & Sunrisers Hyderabad (9.58) had the most expensive bowling attacks, conceding runs freely.**  \n",
        "\n",
        "🔍 **CSK's disciplined bowling made them the toughest team to score against.**  \n",
        "🔥 **Teams with economy rates above 9.50 struggled to contain the aggressive batters in IPL 2024.** 🏏\n"
      ],
      "metadata": {
        "id": "_kACPuph0QPy"
      }
    },
    {
      "cell_type": "code",
      "source": [],
      "metadata": {
        "id": "e-dZm1imnwJk"
      },
      "execution_count": null,
      "outputs": []
    },
    {
      "cell_type": "code",
      "source": [
        "import matplotlib.pyplot as plt\n",
        "import seaborn as sns\n",
        "import math\n",
        "\n",
        "# Aggregate total runs conceded and total balls bowled by each bowling team per season\n",
        "filter_data = ipl.groupby(['season', 'bowling_team']).agg(\n",
        "    total_runs=('total_runs', 'sum'),\n",
        "    total_ball=('match_id', 'count')  # Counting deliveries bowled\n",
        ").reset_index()\n",
        "\n",
        "# Calculate the economy rate for each team\n",
        "filter_data['economy'] = ((filter_data['total_runs'] / filter_data['total_ball']) * 6).round(2)\n",
        "\n",
        "# Get unique teams dynamically\n",
        "teams = filter_data['bowling_team'].unique()\n",
        "num_teams = len(teams)\n",
        "\n",
        "\n",
        "# Create subplots\n",
        "fig, axes = plt.subplots(nrows=4, ncols=3, figsize=(18, 4 * 4))\n",
        "axes = axes.flatten()  # Flatten for easy iteration\n",
        "\n",
        "# Plot each team's economy rate in its own subplot\n",
        "for i, team in enumerate(teams):\n",
        "    team_df = filter_data[filter_data['bowling_team'] == team]\n",
        "\n",
        "    sns.lineplot(data=team_df, x='season', y='economy', marker='o', ax=axes[i], palette='cool')\n",
        "\n",
        "    axes[i].set_title(f\"{team} - Economy Rate\", fontsize=12, fontweight='bold')\n",
        "    axes[i].set_xlabel(\"Season\", fontsize=10)\n",
        "    axes[i].set_ylabel(\"Economy Rate\", fontsize=10)\n",
        "    axes[i].grid(True, linestyle=\"--\", alpha=0.5)\n",
        "    axes[i].set_xticks(team_df['season'].unique())\n",
        "    axes[i].set_xticklabels(team_df['season'].unique(), rotation=45)\n",
        "\n",
        "\n",
        "\n",
        "plt.tight_layout()\n",
        "plt.show()\n"
      ],
      "metadata": {
        "id": "DdtPLdq1lpmK"
      },
      "execution_count": null,
      "outputs": []
    },
    {
      "cell_type": "code",
      "source": [
        "\n",
        "\n",
        "# Aggregate total runs conceded and total balls bowled by each bowling team per season\n",
        "filter_data = ipl.groupby(['season', 'bowling_team']).agg(\n",
        "    total_runs=('total_runs', 'sum'),\n",
        "    total_ball=('match_id', 'count')  # Counting deliveries bowled\n",
        ").reset_index()\n",
        "\n",
        "# Calculate the economy rate\n",
        "filter_data['economy'] = ((filter_data['total_runs'] / filter_data['total_ball']) * 6).round(2)\n",
        "\n",
        "# Select 5 teams for visualization\n",
        "selected_teams = ['Chennai Super Kings', 'Mumbai Indians', 'Royal Challengers Bangalore',\n",
        "                  'Kolkata Knight Riders', 'Delhi Capitals']\n",
        "filtered_df = filter_data[filter_data['bowling_team'].isin(selected_teams)]\n",
        "\n",
        "# Plot line chart for selected teams\n",
        "plt.figure(figsize=(10, 4))\n",
        "sns.lineplot(data=filtered_df, x='season', y='economy', hue='bowling_team', marker='o')\n",
        "\n",
        "# Customize the plot\n",
        "plt.title(\"Economy Rate of Selected Bowling Teams Over Seasons\", fontsize=14)\n",
        "plt.xlabel(\"Season\", fontsize=12)\n",
        "plt.ylabel(\"Economy Rate\", fontsize=12)\n",
        "plt.xticks(rotation=45)\n",
        "plt.legend(title=\"Bowling Team\", bbox_to_anchor=(1.05, 1), loc='upper left')\n",
        "plt.grid(True)\n",
        "plt.show()\n"
      ],
      "metadata": {
        "id": "fNiozj_fvIQb"
      },
      "execution_count": null,
      "outputs": []
    },
    {
      "cell_type": "code",
      "source": [],
      "metadata": {
        "id": "QoZBXETnvIMQ"
      },
      "execution_count": null,
      "outputs": []
    },
    {
      "cell_type": "code",
      "source": [
        "xk  =ipl[(ipl['batter'].isin(['AM Rahane','F du Plessis','V Kohli','RG Sharma']))].groupby(['season', 'batter'])['batsman_runs'].sum().reset_index()\n",
        "xk\n",
        "plt.figure(figsize=(12,4))\n",
        "sns.lineplot(data=xk,x='season',y='batsman_runs',hue='batter',marker='o',)\n",
        "plt.grid(True)\n",
        "plt.show()"
      ],
      "metadata": {
        "id": "hGieSPOyukP4"
      },
      "execution_count": null,
      "outputs": []
    },
    {
      "cell_type": "code",
      "source": [
        "\n"
      ],
      "metadata": {
        "id": "7CPKEeWOukNZ"
      },
      "execution_count": null,
      "outputs": []
    },
    {
      "cell_type": "code",
      "source": [
        "dismissal_counts = ipl['dismissal_kind'].value_counts()\n",
        "dismissal_counts\n"
      ],
      "metadata": {
        "id": "cG571u4NukKs"
      },
      "execution_count": null,
      "outputs": []
    },
    {
      "cell_type": "markdown",
      "source": [
        "# Wicket Types & Dismissal Patterns"
      ],
      "metadata": {
        "id": "oQs1muNU73V8"
      }
    },
    {
      "cell_type": "markdown",
      "source": [],
      "metadata": {
        "id": "rEJPDXSi754F"
      }
    },
    {
      "cell_type": "code",
      "source": [],
      "metadata": {
        "id": "NrODHo0y9FJO"
      },
      "execution_count": null,
      "outputs": []
    },
    {
      "cell_type": "code",
      "source": [],
      "metadata": {
        "id": "SVQHLWyEukGf"
      },
      "execution_count": null,
      "outputs": []
    },
    {
      "cell_type": "code",
      "source": [],
      "metadata": {
        "id": "FB19NozgukDC",
        "collapsed": true
      },
      "execution_count": null,
      "outputs": []
    },
    {
      "cell_type": "markdown",
      "source": [
        "# This function calculate the economy rate of each team based on year and overs\n"
      ],
      "metadata": {
        "id": "qzLmRSGn2ttW"
      }
    },
    {
      "cell_type": "code",
      "source": [
        "\n",
        "def bowling_economy_stats(ipl, start_year: int = None,\n",
        "                          end_year: int = None,\n",
        "                          start_over: int = 1,\n",
        "                          end_over: int = 6) -> pd.DataFrame:\n",
        "    '''\n",
        "    Function: bowling_economy_stats\n",
        "    Author: Nikesh\n",
        "    Date: March 28, 2025\n",
        "\n",
        "    Description:\n",
        "    This function calculates the economy rate (runs conceded per over) of each bowling team\n",
        "    within a specified range of overs.\n",
        "\n",
        "    Parameters:\n",
        "    - ipl (DataFrame): The IPL dataset containing match details.\n",
        "    - start_year (int, optional): The starting year for filtering data.\n",
        "    - end_year (int, optional): The ending year for filtering data.\n",
        "    - start_over (int, optional): The starting over for analysis (default is 1).\n",
        "    - end_over (int, optional): The ending over for analysis (default is 6).\n",
        "\n",
        "    Returns:\n",
        "    - DataFrame: A table with columns ['bowling_team', 'total_runs', 'balls_bowled', 'economy'],\n",
        "                 showing the economy rate of each team, sorted in ascending order.\n",
        "    '''\n",
        "    # Make a copy of the dataset to avoid modifying the original\n",
        "    filter_data = ipl.copy()\n",
        "\n",
        "    # Filter based on season\n",
        "    if start_year is not None:\n",
        "        filter_data = filter_data[filter_data['season'] >= start_year]\n",
        "    if end_year is not None:\n",
        "        filter_data = filter_data[filter_data['season'] <= end_year]\n",
        "\n",
        "    # Filter based on over range\n",
        "    over_data = filter_data[(filter_data['over'] >= start_over) & (filter_data['over'] <= end_over)]\n",
        "\n",
        "    # Aggregate total runs conceded by each bowling team\n",
        "    total_runs_df = over_data.groupby('bowling_team')['total_runs'].sum().reset_index()\n",
        "\n",
        "    # Count the number of balls bowled by each team\n",
        "    total_balls_df = over_data.groupby('bowling_team').size().reset_index(name='balls_bowled')\n",
        "\n",
        "    # Merge both DataFrames\n",
        "    bowling_stats = pd.merge(total_runs_df, total_balls_df, on='bowling_team')\n",
        "\n",
        "    # Calculate economy rate (runs conceded per over)\n",
        "    bowling_stats['economy'] = ((bowling_stats['total_runs'] / bowling_stats['balls_bowled']) * 6).round(2)\n",
        "\n",
        "    # Sort teams by best economy rate (ascending order)\n",
        "    best_bowling_team = bowling_stats.sort_values(by='economy', ascending=True)\n",
        "\n",
        "    return best_bowling_team\n",
        "\n",
        "\n",
        "\n"
      ],
      "metadata": {
        "id": "y4lqo40Huj_w"
      },
      "execution_count": null,
      "outputs": []
    },
    {
      "cell_type": "markdown",
      "source": [
        "# **Team best economy rate in power play in season 2024**"
      ],
      "metadata": {
        "id": "q-pUApCC3DDm"
      }
    },
    {
      "cell_type": "code",
      "source": [
        "bowling_economy_stats(ipl, start_year=2024, end_year=2024, start_over=0, end_over=5)"
      ],
      "metadata": {
        "id": "bfXfpu9AKKzz"
      },
      "execution_count": null,
      "outputs": []
    },
    {
      "cell_type": "markdown",
      "source": [
        "## **🏏 Best Economy Rate in Power Play – IPL 2024**  \n",
        "\n",
        "## **Top Bowling Economies in Power Play**  \n",
        "🥇 **Rajasthan Royals** – **8.30 economy rate**  \n",
        "🥈 **Chennai Super Kings** – **8.54 economy rate**  \n",
        "🥉 **Mumbai Indians** – **8.66 economy rate**  \n",
        "🔥 **Punjab Kings (8.74) & Sunrisers Hyderabad (9.18) rounded out the top five.**  \n",
        "\n",
        "## **Key Insights**  \n",
        "- **Rajasthan Royals (8.30) had the most economical bowling attack in the powerplay, restricting opposition batters early.**  \n",
        "- **Chennai Super Kings (8.54) and Mumbai Indians (8.66) maintained control with disciplined bowling in the first six overs.**  \n",
        "- **Punjab Kings (8.74) kept things tight, while Sunrisers Hyderabad (9.18) struggled slightly but stayed competitive.**  \n",
        "- **Gujarat Titans (9.23) & KKR (9.29) had moderate control but leaked runs under pressure.**  \n",
        "- **Lucknow Super Giants (9.44) & Royal Challengers Bangalore (9.45) found it challenging to contain openers.**  \n",
        "- **Delhi Capitals (10.09) had the worst economy rate, conceding the most runs in the powerplay.**  \n",
        "\n",
        "🔍 **A strong powerplay economy is crucial for early dominance.**  \n",
        "🔥 **RR & CSK excelled in restricting opposition in the first six overs, giving them an edge!** 🏏\n",
        "\n"
      ],
      "metadata": {
        "id": "2XEtGhtPTiIa"
      }
    },
    {
      "cell_type": "markdown",
      "source": [
        "# **Team best economy rate in Death over in season 2024**"
      ],
      "metadata": {
        "id": "XvhDVhyoTC44"
      }
    },
    {
      "cell_type": "code",
      "source": [
        "bowling_economy_stats(ipl, start_year=2024, end_year=2024, start_over=14, end_over=19)"
      ],
      "metadata": {
        "id": "CqR8NDKwTHbO"
      },
      "execution_count": null,
      "outputs": []
    },
    {
      "cell_type": "markdown",
      "source": [
        "## **🔥 Best Economy Rate in Death Overs – IPL 2024**  \n",
        "\n",
        "## **Top Bowling Economies in Death Overs**  \n",
        "🥇 **Chennai Super Kings** – **9.06 economy rate**  \n",
        "🥈 **Kolkata Knight Riders** – **9.30 economy rate**  \n",
        "🥉 **Royal Challengers Bangalore** – **9.59 economy rate**  \n",
        "🔥 **Rajasthan Royals (9.66) & Mumbai Indians (10.34) completed the top five.**  \n",
        "\n",
        "## **Key Insights**  \n",
        "- **Chennai Super Kings (9.06) had the most disciplined bowling attack in death overs, restricting big hits effectively.**  \n",
        "- **Kolkata Knight Riders (9.30) also displayed strong death-over control, preventing late-game run explosions.**  \n",
        "- **Royal Challengers Bangalore (9.59) & Rajasthan Royals (9.66) maintained respectable economy rates in the final overs.**  \n",
        "- **Mumbai Indians (10.34) & Punjab Kings (10.37) leaked runs but stayed competitive.**  \n",
        "- **Sunrisers Hyderabad (10.41) & Lucknow Super Giants (10.49) struggled under pressure.**  \n",
        "- **Gujarat Titans (11.07) & Delhi Capitals (11.14) conceded the most runs in the death overs, highlighting their bowling weakness.**  \n",
        "\n",
        "📊 **Death-over economy is crucial for closing out games.**  \n",
        "🔥 **CSK & KKR mastered this phase, giving them a tactical advantage!** 🏏\n"
      ],
      "metadata": {
        "id": "p1-pb2rnTcdV"
      }
    },
    {
      "cell_type": "markdown",
      "source": [
        "#  Venue-based Insights"
      ],
      "metadata": {
        "id": "BlZq4bsoGbvG"
      }
    },
    {
      "cell_type": "markdown",
      "source": [
        "# this function calculate the average run of a venue based on year and inning\n"
      ],
      "metadata": {
        "id": "d0YGbHfwGdSK"
      }
    },
    {
      "cell_type": "code",
      "source": [
        "def avg_run_by_venue(ipl: pd.DataFrame, start_year: int = None, end_year: int = None, inning: int = None) -> pd.DataFrame:\n",
        "    \"\"\"\n",
        "    Calculates the average runs per match at each venue, with a dynamically named column.\n",
        "\n",
        "    Parameters:\n",
        "    - ipl (DataFrame): The IPL dataset.\n",
        "    - start_year (int, optional): Filter for matches from this year onward.\n",
        "    - end_year (int, optional): Filter for matches up to this year.\n",
        "    - inning (int, optional): Filter for a specific inning (1 or 2).\n",
        "\n",
        "    Returns:\n",
        "    - DataFrame with venue-wise average runs, with a dynamically named column.\n",
        "    \"\"\"\n",
        "\n",
        "    filter_data = ipl.copy()\n",
        "\n",
        "    if start_year is not None:\n",
        "        filter_data = filter_data[filter_data['date'].dt.year >= start_year]\n",
        "    if end_year is not None:\n",
        "        filter_data = filter_data[filter_data['date'].dt.year <= end_year]\n",
        "    if inning is not None:\n",
        "        filter_data = filter_data[filter_data['inning'] == inning]\n",
        "\n",
        "    # Create a dynamic column name\n",
        "    avg_col_name = \"avg_runs\"\n",
        "    if start_year and end_year and start_year == end_year:\n",
        "        avg_col_name += f\"_{start_year}\"\n",
        "    if inning:\n",
        "        avg_col_name += f\"_in_{inning}{'st' if inning == 1 else 'nd'}\"\n",
        "\n",
        "    result = filter_data.groupby(['venue']).agg(\n",
        "        total_runs=('total_runs', 'sum'),\n",
        "        total_match=('match_id', 'nunique')\n",
        "    ).reset_index()\n",
        "\n",
        "    # Compute the dynamically named column\n",
        "    result[avg_col_name] = result['total_runs'] / result['total_match']\n",
        "\n",
        "    return result  # Drop intermediate columns\n",
        "\n",
        "\n",
        "avg_run_by_venue(ipl,start_year=2024,end_year=2024,inning=1)\n"
      ],
      "metadata": {
        "id": "YAMbIEnXBJZW"
      },
      "execution_count": null,
      "outputs": []
    },
    {
      "cell_type": "markdown",
      "source": [
        "\n",
        "# **Average run of each venue in– IPL 2024**"
      ],
      "metadata": {
        "id": "9fYQvFKEeo7P"
      }
    },
    {
      "cell_type": "code",
      "source": [
        "avg_run_by_venue(ipl,start_year=2024,end_year=2024)"
      ],
      "metadata": {
        "id": "DZbm-AvUe2J-"
      },
      "execution_count": null,
      "outputs": []
    },
    {
      "cell_type": "markdown",
      "source": [
        "## **🏏 Average Runs at Each IPL 2024 Venue**  \n",
        "\n",
        "## **Top High-Scoring Venues**  \n",
        "🥇 **Arun Jaitley Stadium, Delhi** – **446.4 average runs**  \n",
        "🥈 **Rajiv Gandhi International Stadium, Hyderabad** – **398.8 average runs**  \n",
        "🥉 **Eden Gardens, Kolkata** – **393.4 average runs**  \n",
        "🔥 **Dr. Y.S. Rajasekhara Reddy ACA-VDCA Stadium (400) & M. Chinnaswamy Stadium (377.1) completed the top five.**  \n",
        "\n",
        "## **Key Insights**  \n",
        "- **Delhi's Arun Jaitley Stadium (446.4) was the highest-scoring venue, favoring batters heavily.**  \n",
        "- **Hyderabad (398.8) & Kolkata (393.4) also witnessed high-scoring games, indicating batting-friendly pitches.**  \n",
        "- **Visakhapatnam (400) provided a balanced contest but remained a venue for big runs.**  \n",
        "- **Bengaluru (377.1) & Jaipur (370.6) continued their trend of being high-scoring grounds.**  \n",
        "- **Mumbai’s Wankhede Stadium (364.1) & Dharamshala (364.0) remained reliable batting venues.**  \n",
        "- **Ahmedabad (342.7) & Lucknow (345.6) had slightly lower average scores, suggesting some bowling assistance.**  \n",
        "- **Chepauk (321.8) had the lowest average among major venues, indicating tougher conditions for batters.**  \n",
        "\n",
        "📊 **The IPL 2024 season saw record-breaking totals at multiple venues, highlighting the dominance of batters across different grounds!** 💥🏏  \n"
      ],
      "metadata": {
        "id": "my5WdNivffJ7"
      }
    },
    {
      "cell_type": "markdown",
      "source": [
        "# **average run in each venue in 1st inning 2024**\n",
        "\n"
      ],
      "metadata": {
        "id": "VpYIs3vqfhOB"
      }
    },
    {
      "cell_type": "code",
      "source": [
        "avg_run_by_venue(ipl,start_year=2024,end_year=2024,inning=1)"
      ],
      "metadata": {
        "id": "7IGrljpHfqlu"
      },
      "execution_count": null,
      "outputs": []
    },
    {
      "cell_type": "markdown",
      "source": [
        "\n",
        "# **Average run of each venue in 2nd – IPL 2024**"
      ],
      "metadata": {
        "id": "4bKjBq6LNWGU"
      }
    },
    {
      "cell_type": "code",
      "source": [
        "avg_run_by_venue(ipl,start_year=2024,end_year=2024,inning=2)"
      ],
      "metadata": {
        "id": "Irj-xHgfNaJX"
      },
      "execution_count": null,
      "outputs": []
    },
    {
      "cell_type": "markdown",
      "source": [
        "## **🏟️ Venue-Wise 2nd Innings Average Runs – IPL 2024**  \n",
        "\n",
        "### **📊 Key Takeaways**  \n",
        "- **🏏 Arun Jaitley Stadium, Delhi (211 runs)** had the highest 2nd innings average, indicating a strong batting-friendly surface for chases.  \n",
        "- **⚠️ Barsapara Cricket Stadium, Guwahati (145 runs)** recorded the lowest average, suggesting tough conditions for chasing.  \n",
        "- **🔥 Eden Gardens (196), Rajiv Gandhi International Stadium (194), and Sawai Mansingh Stadium (183)** proved to be favorable for 2nd innings batting.  \n",
        "- **🛑 MA Chidambaram Stadium, Chennai (152 runs)** had the lowest chasing average among major venues, reinforcing its reputation for favoring bowlers in the second innings.  \n",
        "- **📉 Most venues had an average 2nd innings score between 160-200**, suggesting competitive yet challenging chases.  \n",
        "\n",
        "🔹 These stats highlight **the best and toughest grounds for chasing in IPL 2024**, impacting team strategies and match results! 🏏🔥\n"
      ],
      "metadata": {
        "id": "VTJCOLsgN54B"
      }
    },
    {
      "cell_type": "markdown",
      "source": [],
      "metadata": {
        "id": "6NJxdZMwDEDQ"
      }
    },
    {
      "cell_type": "code",
      "source": [],
      "metadata": {
        "id": "r7YsCvwDo0jw"
      },
      "execution_count": null,
      "outputs": []
    },
    {
      "cell_type": "markdown",
      "source": [
        "# Venue with the highest number of sixes."
      ],
      "metadata": {
        "id": "2zjuzjcFGkvJ"
      }
    },
    {
      "cell_type": "code",
      "source": [
        "def count_boundaries_by_venue(ipl: pd.DataFrame,\n",
        "                              start_year: int = None,\n",
        "                              end_year: int = None,\n",
        "                              inning: int = None,\n",
        "                              boundary_type: int = None) -> pd.DataFrame:\n",
        "    '''\n",
        "Function: count_boundaries_by_venue\n",
        "    Author: Nikesh\n",
        "    Date: March 25, 2025\n",
        "\n",
        "    Parameters:\n",
        "    - ipl (DataFrame): The IPL dataset containing match details, with columns including\n",
        "      'date', 'venue', 'total_runs', and 'match_id'.\n",
        "    - start_year (int, optional): The starting year to filter the data.\n",
        "      If None, the function includes all years.\n",
        "    - end_year (int, optional): The ending year to filter the data.\n",
        "      If None, the function includes all years.\n",
        "    - inning (int, optional): The specific inning (1 or 2) to filter the data.\n",
        "      If None, the function includes both innings.\n",
        "    - boundary_type (int, optional): The type of boundary (4 for fours, 6 for sixes).\n",
        "      If None, the function includes both fours and sixes.\n",
        "\n",
        "    Returns:\n",
        "    - DataFrame: A table with columns ['venue', 'total_matches', 'total_boundaries_<dynamic>'],\n",
        "      showing the total number of boundaries hit per venue, considering all filters.\n",
        "      The 'total_boundaries' column name dynamically adjusts based on the applied filters.\n",
        "    '''\n",
        "\n",
        "    # Apply boundary filtering\n",
        "    filter_data = ipl.copy()\n",
        "\n",
        "    if boundary_type is not None:\n",
        "        if boundary_type in [4, 6]:\n",
        "            filter_data = filter_data[filter_data['total_runs'] == boundary_type]\n",
        "    else:\n",
        "        filter_data = filter_data[(filter_data['total_runs'] == 4) | (filter_data['total_runs'] == 6)]\n",
        "\n",
        "    # Apply year filtering\n",
        "    if start_year is not None:\n",
        "        filter_data = filter_data[filter_data['date'].dt.year >= start_year]\n",
        "    if end_year is not None:\n",
        "        filter_data = filter_data[filter_data['date'].dt.year <= end_year]\n",
        "\n",
        "    # Apply inning filtering\n",
        "    if inning in [1, 2]:\n",
        "        filter_data = filter_data[filter_data['inning'] == inning]\n",
        "\n",
        "    # Create dynamic column names\n",
        "    boundary_label = f\"_{boundary_type}\" if boundary_type else \"_all\"\n",
        "    year_label = f\"_{start_year}\" if start_year == end_year and start_year else \"_all_years\"\n",
        "    inning_label = f\"_in_{inning}{'st' if inning == 1 else 'nd'}\" if inning else \"\"\n",
        "\n",
        "    boundary_col_name = f\"total_boundaries{boundary_label}{year_label}{inning_label}\"\n",
        "\n",
        "    # Group by venue and calculate total boundaries\n",
        "    result = filter_data.groupby('venue').agg(\n",
        "        total_matches=('match_id', 'nunique'),\n",
        "        **{boundary_col_name: ('match_id', 'count')}\n",
        "    ).reset_index()\n",
        "\n",
        "    return result\n",
        "count_boundaries_by_venue(ipl,2024,2024)"
      ],
      "metadata": {
        "id": "_SDoEWb2D2Sk"
      },
      "execution_count": null,
      "outputs": []
    },
    {
      "cell_type": "markdown",
      "source": [
        "\n",
        "# **Total number of boundaries in each venue including 4 and 6 – IPL 2024**"
      ],
      "metadata": {
        "id": "9K2xkKOJO4em"
      }
    },
    {
      "cell_type": "code",
      "source": [
        "count_boundaries_by_venue(ipl,2024,2024)"
      ],
      "metadata": {
        "id": "Azs5iGtlPHxy"
      },
      "execution_count": null,
      "outputs": []
    },
    {
      "cell_type": "markdown",
      "source": [
        "## **🏟️ Venue-Wise Total Boundaries – IPL 2024**  \n",
        "\n",
        "### **📊 Key Insights**  \n",
        "- **🔥 Eden Gardens, Kolkata (396 boundaries)** recorded the most boundaries, indicating a high-scoring venue.  \n",
        "- **🏏 Arun Jaitley Stadium, Delhi (329) and M Chinnaswamy Stadium, Bengaluru (355)** were also boundary-heavy grounds, favoring aggressive batting.  \n",
        "- **⚡ Narendra Modi Stadium, Ahmedabad (357) & MA Chidambaram Stadium, Chennai (351)** provided balanced scoring opportunities.  \n",
        "- **📉 Barsapara Cricket Stadium, Guwahati (39 boundaries)** had the least, likely due to fewer matches played.  \n",
        "- **🌍 Most venues had 300+ boundaries, suggesting an exciting and attacking brand of cricket in IPL 2024.**  \n",
        "\n",
        "🔹 These stats highlight **which stadiums provided the most entertainment with fours and sixes**, influencing team strategies and batting approaches! 🏏🔥  \n"
      ],
      "metadata": {
        "id": "47JUR6kmPrOQ"
      }
    },
    {
      "cell_type": "markdown",
      "source": [
        "\n",
        "# **Total number of boundaries in each venue including 4 and 6 in 2nd inning– IPL 2024**"
      ],
      "metadata": {
        "id": "mqQsmtuLPwpM"
      }
    },
    {
      "cell_type": "code",
      "source": [
        "count_boundaries_by_venue(ipl,start_year=2024,end_year=2024,inning=2)"
      ],
      "metadata": {
        "id": "cjDAzg97P_Fd"
      },
      "execution_count": null,
      "outputs": []
    },
    {
      "cell_type": "markdown",
      "source": [
        "## **🏟️ Venue-Wise Total Boundaries in 2nd Innings – IPL 2024**  \n",
        "\n",
        "### **📊 Key Insights**  \n",
        "- **🔥 Eden Gardens, Kolkata (198 boundaries)** recorded the most boundaries in 2nd innings, making it a favorable chasing venue.  \n",
        "- **🏏 Narendra Modi Stadium, Ahmedabad (192) & M Chinnaswamy Stadium, Bengaluru (172)** also witnessed high boundary counts in run chases.  \n",
        "- **⚡ Wankhede Stadium, Mumbai (180) & MA Chidambaram Stadium, Chennai (167)** remained strong batting venues in 2nd innings.  \n",
        "- **📉 Barsapara Cricket Stadium, Guwahati (19 boundaries)** had the least, influenced by fewer matches.  \n",
        "- **🔄 Overall, boundaries in 2nd innings were lower compared to the 1st, highlighting possible pitch slowdowns or effective bowling strategies.**  \n",
        "\n",
        "🔹 These stats **showcase how venues influenced chasing teams**, impacting match strategies and batting approaches in IPL 2024! 🏏🔥  \n"
      ],
      "metadata": {
        "id": "-N0-rixPRPv6"
      }
    },
    {
      "cell_type": "markdown",
      "source": [
        "# **Total number of boundaries in each venue including 4 and 6 in 1st inning– IPL 2024**"
      ],
      "metadata": {
        "id": "fNup9G2kQueg"
      }
    },
    {
      "cell_type": "code",
      "source": [
        "count_boundaries_by_venue(ipl,start_year=2024,end_year=2024,inning=1)"
      ],
      "metadata": {
        "id": "oJttP3TnQ27X"
      },
      "execution_count": null,
      "outputs": []
    },
    {
      "cell_type": "markdown",
      "source": [
        "## **🏟️ Venue-Wise Total Boundaries in 1st Innings – IPL 2024**  \n",
        "\n",
        "### **📊 Key Insights**  \n",
        "- **🔥 Eden Gardens, Kolkata (198 boundaries)** led the charts for most boundaries in 1st innings, making it a high-scoring venue.  \n",
        "- **🏏 M Chinnaswamy Stadium, Bengaluru (183) & MA Chidambaram Stadium, Chennai (184)** provided great batting conditions upfront.  \n",
        "- **⚡ Narendra Modi Stadium, Ahmedabad (165) & Wankhede Stadium, Mumbai (170)** also saw consistent boundary hitting.  \n",
        "- **📉 Barsapara Cricket Stadium, Guwahati (20 boundaries)** recorded the lowest, likely due to fewer matches played.  \n",
        "- **🔄 Boundaries in 1st innings were generally higher than 2nd innings, indicating better pitch conditions early on.**  \n",
        "\n",
        "🔹 These statistics **highlight the best batting-friendly venues in IPL 2024**, helping teams plan their first-innings strategies! 🏏🔥  \n"
      ],
      "metadata": {
        "id": "4DItTYwORnvb"
      }
    },
    {
      "cell_type": "markdown",
      "source": [
        "# **🔝 Total Sixes Hit at Each IPL 2024 Venue**"
      ],
      "metadata": {
        "id": "SgPMORp2RsUh"
      }
    },
    {
      "cell_type": "code",
      "source": [
        "count_boundaries_by_venue(ipl,start_year=2024,end_year=2024,boundary_type=6)"
      ],
      "metadata": {
        "id": "LZl0UNL4R7gk"
      },
      "execution_count": null,
      "outputs": []
    },
    {
      "cell_type": "markdown",
      "source": [
        "## **Total Sixes Hit at Each IPL 2024 Venue**  \n",
        "\n",
        "### **🏏 Key Highlights**  \n",
        "- **🔥 Eden Gardens, Kolkata (153 sixes) & M Chinnaswamy Stadium, Bengaluru (151 sixes)** saw the most six-hitting action, reaffirming their reputation as batting paradises.  \n",
        "- **🚀 Rajiv Gandhi International Stadium, Hyderabad (134 sixes) & Arun Jaitley Stadium, Delhi (133 sixes)** also witnessed power-packed performances.  \n",
        "- **💥 Narendra Modi Stadium, Ahmedabad (123 sixes) & Wankhede Stadium, Mumbai (125 sixes)** proved to be friendly for power-hitters.  \n",
        "- **📉 Barsapara Cricket Stadium, Guwahati (8 sixes)** recorded the lowest, primarily due to fewer matches played.  \n",
        "- **🛑 MA Chidambaram Stadium, Chennai (112 sixes)** had relatively fewer sixes, possibly due to its spin-friendly conditions.  \n",
        "\n",
        "🔹 These numbers highlight **the most explosive venues for six-hitting in IPL 2024**, influencing game strategies for teams and batters alike! 🚀🏏  \n"
      ],
      "metadata": {
        "id": "MtS_C3fvSav1"
      }
    },
    {
      "cell_type": "markdown",
      "source": [
        "## **Total fours  at Each IPL 2024 Venue**"
      ],
      "metadata": {
        "id": "x7brnSSHShkO"
      }
    },
    {
      "cell_type": "code",
      "source": [
        "count_boundaries_by_venue(ipl,start_year=2024,end_year=2024,boundary_type=4)"
      ],
      "metadata": {
        "id": "5irmJj9gSllJ"
      },
      "execution_count": null,
      "outputs": []
    },
    {
      "cell_type": "markdown",
      "source": [
        "## **🏏 Total Fours Hit at Each IPL 2024 Venue**  \n",
        "\n",
        "### **🔍 Key Observations**  \n",
        "- **🔥 Eden Gardens, Kolkata (243 fours)** recorded the highest number of fours, highlighting its batting-friendly conditions.  \n",
        "- **🚀 MA Chidambaram Stadium, Chennai (239 fours)** and **Narendra Modi Stadium, Ahmedabad (234 fours)** followed closely, showing consistent stroke play.  \n",
        "- **💥 Wankhede Stadium, Mumbai (225 fours) & Arun Jaitley Stadium, Delhi (196 fours)** provided good value for shots along the ground.  \n",
        "- **📉 Barsapara Cricket Stadium, Guwahati (31 fours)** had the least boundaries due to fewer matches played.  \n",
        "- **🛑 Spin-friendly venues like Rajiv Gandhi International Stadium, Hyderabad (183 fours) & Sawai Mansingh Stadium, Jaipur (152 fours)** saw relatively fewer boundaries.  \n",
        "\n",
        "🔹 These stats emphasize **which venues offered the best batting conditions for stroke-makers in IPL 2024!** 🚀🏏  \n"
      ],
      "metadata": {
        "id": "rwocFWIcTB-r"
      }
    },
    {
      "cell_type": "markdown",
      "source": [
        "# **Total number of six and four in 1st and 2nd inning**"
      ],
      "metadata": {
        "id": "Z2buAyG6Wb3i"
      }
    },
    {
      "cell_type": "code",
      "source": [
        "\n",
        "\n",
        "# Count boundaries in each venue for different innings and boundary types\n",
        "four_1 = count_boundaries_by_venue(ipl, start_year=2024, end_year=2024, boundary_type=4, inning=1)\n",
        "six_1 = count_boundaries_by_venue(ipl, start_year=2024, end_year=2024, boundary_type=6, inning=1)\n",
        "four_2 = count_boundaries_by_venue(ipl, start_year=2024, end_year=2024, boundary_type=4, inning=2)\n",
        "six_2 = count_boundaries_by_venue(ipl, start_year=2024, end_year=2024, boundary_type=6, inning=2)\n",
        "\n",
        "# Rename columns to avoid conflicts\n",
        "four_1.rename(columns={\"total_matches\": \"total_matches_1st\", \"total_boundaries\": \"total_fours_1st\"}, inplace=True)\n",
        "six_1.rename(columns={\"total_matches\": \"total_matches_1st\", \"total_boundaries\": \"total_sixes_1st\"}, inplace=True)\n",
        "four_2.rename(columns={\"total_matches\": \"total_matches_2nd\", \"total_boundaries\": \"total_fours_2nd\"}, inplace=True)\n",
        "six_2.rename(columns={\"total_matches\": \"total_matches_2nd\", \"total_boundaries\": \"total_sixes_2nd\"}, inplace=True)\n",
        "\n",
        "# Merge DataFrames on 'venue'\n",
        "all_inning_six_four = (\n",
        "    four_1\n",
        "    .merge(six_1, on=['venue', 'total_matches_1st'], how='left')\n",
        "    .merge(four_2, on='venue', how='left')\n",
        "    .merge(six_2, on='venue', how='left')\n",
        ")\n",
        "\n",
        "# Fill missing values with 0\n",
        "all_inning_six_four.fillna(0, inplace=True)\n",
        "\n",
        "# Display final DataFrame\n",
        "all_inning_six_four[['venue','total_matches_1st','total_boundaries_4_2024_in_1st','total_boundaries_4_2024_in_2nd','total_boundaries_6_2024_in_1st','total_boundaries_6_2024_in_2nd']]\n",
        "\n"
      ],
      "metadata": {
        "id": "LMHATLK0TFuW"
      },
      "execution_count": null,
      "outputs": []
    },
    {
      "cell_type": "markdown",
      "source": [
        "## 🏏 **IPL 2024 Boundary Analysis – First vs Second Inning**  \n",
        "\n",
        "This report provides a detailed analysis of the **number of fours and sixes** hit at each venue during the **1st and 2nd innings** in IPL 2024. Understanding these trends helps in assessing **pitch conditions, chasing advantages, and team strategies**.  \n",
        "\n",
        "---\n",
        "\n",
        "## **🔍 Key Observations**  \n",
        "\n",
        "### 📌 **1. High Boundary Scoring Venues**\n",
        "Some venues witnessed **higher boundary counts** due to **batting-friendly pitches, shorter boundaries, and dew factors** aiding the second innings:  \n",
        "- **Eden Gardens, Kolkata** recorded the highest number of **total sixes (153)** and had a fairly balanced distribution of fours and sixes across both innings.  \n",
        "- **M Chinnaswamy Stadium, Bengaluru**, known for its **short boundaries**, also had high six counts (151).  \n",
        "- **Narendra Modi Stadium, Ahmedabad** was another **boundary-heavy venue**, especially in the second innings.  \n",
        "\n",
        "---\n",
        "\n",
        "### 📌 **2. First Inning vs Second Inning Boundary Comparison**\n",
        "- Most venues showed a **balanced distribution** of fours between **1st and 2nd innings**.  \n",
        "- However, **six-hitting varied more**, possibly due to **dew effects, pressure handling, and pitch slow-downs**.  \n",
        "- Some venues favored **chasing teams**, where second-inning batters scored more boundaries, **indicating easier batting conditions**.\n",
        "\n",
        "#### **Venues with More Boundaries in the Second Inning**\n",
        "- **Narendra Modi Stadium, Ahmedabad** – **More sixes (69 in 2nd vs. 54 in 1st)**  \n",
        "- **Wankhede Stadium, Mumbai** – **Higher number of boundaries in the second inning (121 fours & 59 sixes)**  \n",
        "- **Sawai Mansingh Stadium, Jaipur** – **More boundaries in the second inning** (83 fours & 34 sixes)\n",
        "\n",
        "#### **Venues with More Boundaries in the First Inning**\n",
        "- **Dr. Y.S. Rajasekhara Reddy ACA-VDCA Cricket Stadium, Visakhapatnam** – **More sixes in 1st inning (27 vs. 18 in 2nd)**  \n",
        "- **Rajiv Gandhi International Stadium, Hyderabad** – **More fours in the first inning (98 vs. 85 in 2nd)**  \n",
        "\n",
        "These differences could be attributed to:  \n",
        "✔ **Dew factor** making it harder for bowlers in the second innings.  \n",
        "✔ **Pitch behavior** changing as the match progresses.  \n",
        "✔ **Pressure situations** affecting batting in chases.\n",
        "\n",
        "---\n",
        "\n",
        "### 📌 **3. Balanced Boundary Distribution at Some Venues**\n",
        "Certain venues had **almost equal** distribution of boundaries across both innings, indicating consistent pitch behavior:\n",
        "- **Arun Jaitley Stadium, Delhi** – 98 fours in both innings, **slight six drop in the second inning**.\n",
        "- **Bharat Ratna Shri Atal Bihari Vajpayee Ekana Cricket Stadium, Lucknow** – Almost equal boundary count for both fours and sixes.\n",
        "\n",
        "This suggests that **batting conditions remained similar throughout the match** at these venues.\n",
        "\n",
        "---\n",
        "\n",
        "### 📌 **4. Venues with Lower Boundary Counts**\n",
        "Some venues had **fewer boundaries**, possibly due to **slower pitches, larger boundaries, or difficult batting conditions**:  \n",
        "- **Barsapara Cricket Stadium, Guwahati** – The lowest boundary count (**only 18 fours & 2 sixes in 1st innings, 13 fours & 6 sixes in 2nd innings**).  \n",
        "- **Himachal Pradesh Cricket Association Stadium, Dharamshala** – Also had **fewer boundaries**, likely due to **altitude factors and a challenging pitch**.  \n",
        "\n",
        "---\n",
        "\n",
        "## **🏆 Conclusion & Strategic Takeaways**\n",
        "📍 **Batting-friendly venues** like **Eden Gardens, Chinnaswamy Stadium, and Wankhede** will likely continue to be **high-scoring grounds**. Teams may **prefer to chase** at these venues due to dew factors.  \n",
        "\n",
        "📍 **Bowler-friendly venues** like **Barsapara, Dharamshala, and Ekana Stadium** saw **fewer boundaries**, meaning teams need to **focus on accumulating runs rather than hitting big shots**.  \n",
        "\n",
        "📍 **Chasing advantage was evident** at certain grounds like **Narendra Modi Stadium & Wankhede Stadium**, where **teams hit more boundaries in the second inning**.  \n",
        "\n",
        "📍 **Consistent venues** like **Arun Jaitley Stadium & Rajiv Gandhi Stadium** showed **little difference between innings**, making them neutral venues for both batting and bowling strategies.\n",
        "\n",
        "Understanding these patterns can help teams **adjust their strategies**, such as:  \n",
        "✅ Choosing to **bowl first** at high-scoring venues to take advantage of dew.  \n",
        "✅ Focusing on **rotating strike** rather than hitting sixes on bowler-friendly pitches.  \n",
        "✅ Making **bowling changes** based on how pitches behave in different innings.  \n",
        "\n",
        "🔹 **IPL 2024 has showcased a variety of batting conditions across venues**, making boundary analysis **a crucial part of match strategies!** 🏏🔥\n"
      ],
      "metadata": {
        "id": "25v04CYHXgOU"
      }
    },
    {
      "cell_type": "code",
      "source": [],
      "metadata": {
        "id": "6m4NshyUvIH5",
        "collapsed": true
      },
      "execution_count": null,
      "outputs": []
    },
    {
      "cell_type": "markdown",
      "source": [
        "# Most wickets taken at a single venue."
      ],
      "metadata": {
        "id": "OJScavvNGszN"
      }
    },
    {
      "cell_type": "code",
      "source": [],
      "metadata": {
        "id": "bfFyQgBgGsTx"
      },
      "execution_count": null,
      "outputs": []
    },
    {
      "cell_type": "markdown",
      "source": [
        "# Which venue has the highest win percentage for teams batting first (1st inning) and teams chasing (2nd inning)"
      ],
      "metadata": {
        "id": "7Pho2Yw5G1Kv"
      }
    },
    {
      "cell_type": "code",
      "source": [
        "def win_percent_by_venue_by_inning(ipl,start_year:int=None,end_year:int=None,inning:int=1)->pd.DataFrame:\n",
        "  '''\n",
        "    Function: win_percentage_by_venue\n",
        "    Author: Nikesh\n",
        "    Date: March 25, 2025\n",
        "\n",
        "\n",
        "    Parameters:\n",
        "    - ipl (DataFrame): The IPL dataset containing match details, including columns such as\n",
        "      'date', 'venue', 'inning', 'batting_team', 'winner', and 'match_id'.\n",
        "    - start_year (int, optional): The starting year to filter the data.\n",
        "      If None, the function includes all years.\n",
        "    - end_year (int, optional): The ending year to filter the data.\n",
        "      If None, the function includes all years.\n",
        "    - inning (int, optional): The inning (1 or 2) for which to calculate the win percentage.\n",
        "      Default is 1.\n",
        "\n",
        "    Returns:\n",
        "    - DataFrame: A table with columns ['venue', 'total_match', 'total_match_won', 'win percent in <inning>'],\n",
        "      showing the win percentage of the batting team at each venue in descending order.\n",
        "      The column name dynamically adjusts based on the selected inning.\n",
        "  '''\n",
        "  # year_filter\n",
        "  filter_data = ipl.copy()\n",
        "  # filter based on year\n",
        "  if start_year is not None:\n",
        "    filter_data = filter_data[filter_data['date'].dt.year>=start_year]\n",
        "  if end_year is not None:\n",
        "    filter_data = filter_data[filter_data['date'].dt.year <= end_year]\n",
        "\n",
        "  # filter based on inning\n",
        "  if inning in ([1,2]):\n",
        "    filter_data = filter_data[filter_data['inning']==inning]\n",
        "\n",
        "  # calculating column name based on 1 and 2 inning\n",
        "\n",
        "    column_name = f'win percent in {inning}{\"st\"if inning==1 else\"nd\"}'\n",
        "\n",
        "\n",
        "\n",
        "\n",
        "  venue_total_match_df = filter_data.groupby('venue')['match_id'].nunique().reset_index()\n",
        "\n",
        "  venue_total_match_won = filter_data[filter_data['batting_team']==filter_data['winner']].groupby('venue')['match_id'].nunique().reset_index()\n",
        "\n",
        "  # rename column name match_id to total_match at each venue\n",
        "  venue_total_match_df.rename(columns={'match_id':'total_match'},inplace=True)\n",
        "  # rename column name match_id to total_match at each venue\n",
        "  venue_total_match_won.rename(columns={'match_id':'total_match_won'},inplace=True)\n",
        "\n",
        "  # merging into one dataframe\n",
        "  final_data = venue_total_match_df.merge(venue_total_match_won,on='venue',how='left').fillna(0)\n",
        "\n",
        "  # calculating winning percentage\n",
        "  final_data[column_name] = ((final_data['total_match_won']/final_data['total_match'])*100).round(2)\n",
        "\n",
        "  return final_data.sort_values(by=column_name,ascending=False)\n",
        "\n",
        "\n",
        "win_percent_by_venue_by_inning(ipl,2024,2024,1)"
      ],
      "metadata": {
        "id": "IODvwYbHGsP5"
      },
      "execution_count": null,
      "outputs": []
    },
    {
      "cell_type": "markdown",
      "source": [
        "# **win percentage of first batting team in each venue**"
      ],
      "metadata": {
        "id": "zpfjI9TCZCZA"
      }
    },
    {
      "cell_type": "code",
      "source": [
        "win_percent_by_venue_by_inning(ipl,2024,2024,1)"
      ],
      "metadata": {
        "id": "L1tkJAdTZLGW"
      },
      "execution_count": null,
      "outputs": []
    },
    {
      "cell_type": "markdown",
      "source": [
        "##  **Conclusion**\n",
        "\n",
        "The analysis of **win percentages for teams batting first in IPL 2024** highlights the **impact of venue conditions** on match outcomes.  \n",
        "\n",
        "- **Venues Favoring Batting First** 🏏  \n",
        "  - **Arun Jaitley Stadium (Delhi)** and **Dr. Y.S. Rajasekhara Reddy ACA-VDCA Stadium (Visakhapatnam)** had a **100% success rate**, making them ideal grounds for setting a target.  \n",
        "  - **Wankhede Stadium (Mumbai)** also provided a decent advantage for batting first teams with a **57.14% win rate**.  \n",
        "\n",
        "- **Venues Favoring Chasing** 🎯  \n",
        "  - **Barsapara Cricket Stadium (Guwahati)** had a **0% success rate for batting first teams**, indicating an overwhelming advantage for chasing teams.  \n",
        "  - **Narendra Modi Stadium (Ahmedabad), M Chinnaswamy Stadium (Bengaluru), and MA Chidambaram Stadium (Chennai)** also showed **low win rates for batting first teams**, favoring teams batting second.  \n",
        "\n",
        "### **Final Thoughts**\n",
        "The decision to **bat first or chase** should be carefully **venue-specific**, with certain grounds **clearly favoring one strategy over the other**. Teams and captains can leverage this data for **better match planning and strategy execution** in future IPL games.\n"
      ],
      "metadata": {
        "id": "U39c1StzbUg4"
      }
    },
    {
      "cell_type": "markdown",
      "source": [
        "# Venue with the lowest win percentage for teams batting first."
      ],
      "metadata": {
        "id": "qiJHmKBOHBNp"
      }
    },
    {
      "cell_type": "markdown",
      "source": [
        "# **win percentages for teams batting first in IPL 2024**"
      ],
      "metadata": {
        "id": "7YsAbLSpbgEZ"
      }
    },
    {
      "cell_type": "code",
      "source": [
        "win_percent_by_venue_by_inning(ipl,2024,2024,2)"
      ],
      "metadata": {
        "id": "V71K1TUWbhS1"
      },
      "execution_count": null,
      "outputs": []
    },
    {
      "cell_type": "markdown",
      "source": [
        "## 📊 **Conclusion: Win Percentage of Teams Batting Second in IPL 2024**\n",
        "\n",
        "The analysis of **win percentages for teams batting second** reveals significant **venue-specific trends** that influence match outcomes.\n",
        "\n",
        "### **🏆 Venues Favoring Chasing Teams**\n",
        "- **Sawai Mansingh Stadium (Jaipur)** had the **highest success rate (60.00%)** for teams chasing a target.\n",
        "- **Bharat Ratna Shri Atal Bihari Vajpayee Ekana Cricket Stadium (Lucknow)** and **MA Chidambaram Stadium (Chennai)** also showed **strong win percentages (57.14% and 55.56%)**, making them favorable for chasing.\n",
        "- **Rajiv Gandhi International Stadium (Hyderabad) and Narendra Modi Stadium (Ahmedabad)** had an **equal success rate for both innings (50.00%)**, indicating balanced conditions.\n",
        "\n",
        "### **📉 Venues Favoring Batting First**\n",
        "- **Arun Jaitley Stadium (Delhi), Himachal Pradesh Cricket Association Stadium (Dharamshala), and Dr. Y.S. Rajasekhara Reddy ACA-VDCA Stadium (Visakhapatnam)** had **0% win rate for chasing teams**, making them highly favorable for setting a target.\n",
        "- **M. Chinnaswamy Stadium (Bengaluru) had a low chasing success rate (14.29%)**, reinforcing its reputation as a high-scoring venue where scoreboard pressure plays a crucial role.\n",
        "\n",
        "### **🚀 Key Takeaways**\n",
        "- **Jaipur, Lucknow, and Chennai** are strong venues for **chasing teams**.\n",
        "- **Delhi, Dharamshala, and Visakhapatnam** favor teams **batting first**.\n",
        "- **Balanced venues** like **Ahmedabad and Hyderabad** provide **equal opportunities** for both strategies.\n",
        "\n",
        "### **🎯 Strategic Implications**\n",
        "Captains and teams can **adjust their approach based on the venue**, using data-driven decisions to **choose whether to bat first or chase**. This insight is crucial for **match-winning strategies** in IPL 2024!\n"
      ],
      "metadata": {
        "id": "dp-LCCQpcC7x"
      }
    },
    {
      "cell_type": "code",
      "source": [],
      "metadata": {
        "id": "KE57fZtVGsIC"
      },
      "execution_count": null,
      "outputs": []
    },
    {
      "cell_type": "markdown",
      "source": [
        "# Bowler with the most wickets at a single venue."
      ],
      "metadata": {
        "id": "ZYKz4QoQHRkU"
      }
    },
    {
      "cell_type": "code",
      "source": [
        "def most_wicket_taker(ipl, inning: int = None,\n",
        "                      start_year: int = None,\n",
        "                      end_year: int = None,\n",
        "                      start_over: int = None,\n",
        "                      end_over: int = None) -> pd.DataFrame:\n",
        "    '''\n",
        "    Function: most_wicket_taker\n",
        "    Author: Nikesh\n",
        "    Date: March 28, 2025\n",
        "\n",
        "\n",
        "    Parameters:\n",
        "    - ipl (DataFrame): The IPL dataset containing match details.\n",
        "    - inning (int, optional): The inning (1 or 2) for which to calculate the wickets.\n",
        "    - start_year (int, optional): The starting year to filter the data.\n",
        "    - end_year (int, optional): The ending year to filter the data.\n",
        "    - start_over (int, optional): The starting over for filtering (default is None).\n",
        "    - end_over (int, optional): The ending over for filtering (default is None).\n",
        "\n",
        "    Returns:\n",
        "    - DataFrame: A table with columns ['bowler', 'Total_wick_in_<inning>_between_<start_over>_and_<end_over>'],\n",
        "                  showing the total wickets taken by each bowler.\n",
        "    '''\n",
        "\n",
        "    # Copy the original dataset to avoid modifying it\n",
        "    filter_data = ipl.copy()\n",
        "\n",
        "    # Filter based on year range\n",
        "    if start_year is not None:\n",
        "        filter_data = filter_data[filter_data['date'].dt.year >= start_year]\n",
        "    if end_year is not None:\n",
        "        filter_data = filter_data[filter_data['date'].dt.year <= end_year]\n",
        "\n",
        "    # Filter based on inning\n",
        "    if inning in [1, 2]:\n",
        "        filter_data = filter_data[filter_data['inning'] == inning]\n",
        "\n",
        "    # Filter based on over range\n",
        "    if start_over is not None:\n",
        "        filter_data = filter_data[filter_data['over'] >= start_over]\n",
        "    if end_over is not None:\n",
        "        filter_data = filter_data[filter_data['over'] <= end_over]\n",
        "\n",
        "    # Column name for total wickets taken\n",
        "    column_name = f\"Total_wick_in_{inning}st\" if inning == 1 else f\"Total_wick_in_{inning}nd\" if inning == 2 else 'Total_wick'\n",
        "\n",
        "    # Add over range information to column name\n",
        "    if start_over is not None and end_over is not None:\n",
        "        column_name = f\"{column_name}_between_{start_over}_and_{end_over}\"\n",
        "    elif start_over is not None:\n",
        "        column_name = f\"{column_name}_after_{start_over}\"\n",
        "    elif end_over is not None:\n",
        "        column_name = f\"{column_name}_before_{end_over}\"\n",
        "\n",
        "    # Calculate total wickets taken by each bowler\n",
        "    total_wicket_df = filter_data.groupby('bowler')['is_wicket'].sum().reset_index(name=column_name)\n",
        "\n",
        "    # Sort by total wickets in descending order\n",
        "    total_wicket_df = total_wicket_df.sort_values(by=column_name, ascending=False)\n",
        "\n",
        "    return total_wicket_df\n",
        "\n"
      ],
      "metadata": {
        "id": "ewQwvwF5GsFW"
      },
      "execution_count": null,
      "outputs": []
    },
    {
      "cell_type": "markdown",
      "source": [
        "# **Most wicket taker bowler in 1st inning power play 2024 ipl**"
      ],
      "metadata": {
        "id": "kL8tuxiVejl7"
      }
    },
    {
      "cell_type": "code",
      "source": [
        "\n",
        "most_wicket_taker(ipl, start_year=2024, end_year=2024, start_over=0, end_over=6,inning=1).head(35)"
      ],
      "metadata": {
        "id": "thMQJX2Ge2QI"
      },
      "execution_count": null,
      "outputs": []
    },
    {
      "cell_type": "markdown",
      "source": [
        "## Conclusion: Most Wicket-Taker Bowler in the 1st Inning Power Play of the 2024 IPL\n",
        "\n",
        "- **TA Boult** emerged as the leading wicket-taker in the first inning powerplay of the 2024 IPL, with a total of **9 wickets**.\n",
        "- **MA Starc** followed closely with **7 wickets**, demonstrating consistent performance in the early stages of the game.\n",
        "- Other notable bowlers include **Sandeep Sharma**, **N Thushara**, and **Arshdeep Singh**, each taking **5 wickets**.\n",
        "- The overall distribution of wickets among bowlers indicates a variety of players contributing to the success in the powerplay overs, with several bowlers taking **3 to 4 wickets**.\n",
        "- The analysis of this dataset highlights the bowlers who thrived during the first six overs, showcasing their ability to take wickets and exert control early in the innings.\n",
        "\n",
        "This analysis provides insight into which bowlers had the most impact during the powerplay in the 2024 IPL, which could be crucial for strategizing future matches.\n"
      ],
      "metadata": {
        "id": "x_C7ZA7qfiJU"
      }
    },
    {
      "cell_type": "markdown",
      "source": [
        "# **Most wicket taker bowler in 2nd inning power play 2024 ipl**"
      ],
      "metadata": {
        "id": "4UetjObofurL"
      }
    },
    {
      "cell_type": "code",
      "source": [
        "most_wicket_taker(ipl, start_year=2024, end_year=2024, start_over=0, end_over=5,inning=2).head(35)"
      ],
      "metadata": {
        "id": "6MnP96mlfxPi"
      },
      "execution_count": null,
      "outputs": []
    },
    {
      "cell_type": "markdown",
      "source": [
        "## Conclusion: Most Wicket-Taker Bowler in the 2nd Inning Power Play of the 2024 IPL\n",
        "\n",
        "- **B Kumar** and **PJ Cummins** were the most successful bowlers in the second inning powerplay, each securing **6 wickets**.\n",
        "- **I Sharma**, **Yash Dayal**, **TU Deshpande**, and **KK Ahmed** followed closely with **5 wickets**, showing their effectiveness with the new ball.\n",
        "- **DL Chahar**, **MA Starc**, **VG Arora**, and **Swapnil Singh** contributed significantly with **4 wickets** each.\n",
        "- Several bowlers took **2 to 3 wickets**, highlighting a balanced distribution of wickets among multiple players.\n",
        "- The performance of these bowlers in the powerplay overs was crucial in restricting opponents and setting the momentum for the bowling team.\n",
        "\n",
        "This analysis showcases the impact bowlers had during the powerplay in the second innings of the 2024 IPL, helping teams control the game early on.\n"
      ],
      "metadata": {
        "id": "C60fbQmFgFWJ"
      }
    },
    {
      "cell_type": "markdown",
      "source": [
        "# **Most wicket taker bowler in 1st inning Death overs 2024 ipl**"
      ],
      "metadata": {
        "id": "nIG05JgGgRZ2"
      }
    },
    {
      "cell_type": "code",
      "source": [
        "most_wicket_taker(ipl, start_year=2024, end_year=2024, start_over=14, end_over=19,inning=1).head(35)"
      ],
      "metadata": {
        "id": "ehfV4jeQgeaf"
      },
      "execution_count": null,
      "outputs": []
    },
    {
      "cell_type": "markdown",
      "source": [
        "## Conclusion: Most Wicket-Taker Bowlers in the 1st Inning Death Overs of the 2024 IPL\n",
        "\n",
        "- **HV Patel** dominated the death overs in the first innings, taking an impressive **17 wickets**, making him the most lethal bowler in this phase.\n",
        "- **JJ Bumrah** followed with **11 wickets**, reaffirming his status as a premier death-over specialist.\n",
        "- **Avesh Khan (10 wickets)** and **Arshdeep Singh (9 wickets)** also proved to be key bowlers in the final overs.\n",
        "- **TU Deshpande, Sandeep Sharma, and MM Sharma** each took **8 wickets**, contributing significantly to their teams' finishing attacks.\n",
        "- Several bowlers, including **Mukesh Kumar, HH Pandya, and T Natarajan**, secured between **6 and 5 wickets**, showing their effectiveness in restricting runs and taking crucial breakthroughs.\n",
        "- The presence of **spinners like SP Narine, YS Chahal, and Ravi Bishnoi** in the list highlights the role of variation in death-over bowling.\n",
        "\n",
        "This analysis underscores the crucial role these bowlers played in closing out innings, preventing big finishes, and maintaining control in the final overs.\n"
      ],
      "metadata": {
        "id": "vNRQ-_Jag5kc"
      }
    },
    {
      "cell_type": "markdown",
      "source": [
        "# **Most wicket taker bowler in 2nd inning Death overs 2024 ipl**"
      ],
      "metadata": {
        "id": "fg4WPdiKgmCO"
      }
    },
    {
      "cell_type": "code",
      "source": [
        "most_wicket_taker(ipl, start_year=2024, end_year=2024, start_over=14, end_over=19,inning=2).head(35)"
      ],
      "metadata": {
        "id": "x81hFUrQgjK8"
      },
      "execution_count": null,
      "outputs": []
    },
    {
      "cell_type": "markdown",
      "source": [
        "## Conclusion: Most Wicket-Taker Bowlers in the 2nd Inning Death Overs of the 2024 IPL\n",
        "\n",
        "- **Mukesh Kumar** led the wicket-taking tally in the death overs of the second innings, securing **8 wickets**, making him the most impactful bowler in this phase.\n",
        "- **T Natarajan, Mohammed Siraj, and Harshit Rana** followed closely with **7 wickets each**, proving their effectiveness in closing out matches.\n",
        "- **G Coetzee, MA Starc, Yash Thakur, and Mustafizur Rahman** each took **6 wickets**, showcasing their ability to execute under pressure.\n",
        "- **Naveen-ul-Haq, HV Patel, M Pathirana, PJ Cummins, and Yash Dayal** all contributed significantly with **5 wickets** each, providing crucial breakthroughs for their teams.\n",
        "- A mix of pace and spin was effective in the death overs, with players like **SM Curran, Kuldeep Yadav, Rashid Khan, SP Narine, and YS Chahal** featuring in the list with multiple wickets.\n",
        "- The presence of **young and emerging bowlers like Rasikh Salam, Nithish Kumar Reddy, and UT Yadav** highlights the rise of new death-over specialists.\n",
        "\n",
        "This analysis highlights how teams relied on a combination of experienced and young bowlers to restrict opposition in the final overs of the chase.\n"
      ],
      "metadata": {
        "id": "sRe62-jXhOLb"
      }
    },
    {
      "cell_type": "markdown",
      "source": [
        "# Find the bowler who dismissed the same batsman the most times in IPL history."
      ],
      "metadata": {
        "id": "zfIAloc4LHQm"
      }
    },
    {
      "cell_type": "code",
      "source": [
        "\n",
        "def bower_who_dismissed_same_batsman(ipl,start_year:int=None,end_year:int=None)->pd.DataFrame:\n",
        "  '''\n",
        "  '''\n",
        "  filter_data= ipl[ipl['is_wicket']==1]\n",
        "\n",
        "  # filter based on year\n",
        "  if start_year is not None:\n",
        "    filter_data = filter_data[filter_data['date'].dt.year >= start_year]\n",
        "  if end_year is not None:\n",
        "    filter_data = filter_data[filter_data['date'].dt.year <= end_year]\n",
        "\n",
        "  filter_data = filter_data.groupby(['bowler','player_dismissed']).size().reset_index(name='total out')\n",
        "  filter_data.sort_values(by='total out',ascending=False,inplace=True)\n",
        "  return filter_data\n",
        "# bower_who_dismissed_same_batsman(ipl,2024,2024)\n",
        "\n",
        "\n",
        "bower_who_dismissed_same_batsman(ipl,2020,2024).head(30)\n"
      ],
      "metadata": {
        "id": "MWreUYV_jkQ8"
      },
      "execution_count": null,
      "outputs": []
    },
    {
      "cell_type": "markdown",
      "source": [
        "#**Bowler who out the same batsman multiple time from 2020 to 2024**"
      ],
      "metadata": {
        "id": "KE_i7-U7hygm"
      }
    },
    {
      "cell_type": "code",
      "source": [
        "bower_who_dismissed_same_batsman(ipl,2020,2024).head(30)"
      ],
      "metadata": {
        "id": "i_tNsI2Ah7Xz"
      },
      "execution_count": null,
      "outputs": []
    },
    {
      "cell_type": "markdown",
      "source": [
        "## Conclusion: Bowlers Who Dismissed the Same Batsman Multiple Times (2020-2024)\n",
        "\n",
        "- **YS Chahal** dominated this category, dismissing **MA Agarwal (5 times), KD Karthik (4 times), N Rana (4 times), and MK Lomror (3 times)**, proving his effectiveness against key batsmen.\n",
        "- **DL Chahar** troubled **Shubman Gill** the most, getting him out **5 times**.\n",
        "- **TA Boult and Mohammed Siraj** both dismissed **PP Shaw** **4 times**, showing their ability to exploit his weaknesses.\n",
        "- **Ravi Bishnoi** had multiple victims, dismissing **Ishan Kishan, SA Yadav, and RG Sharma 4 times each**, highlighting his impact against top-order batters.\n",
        "- **Rashid Khan** remained a threat to various players, taking down **S Dhawan, RG Sharma, DJ Hooda, and MM Ali** multiple times.\n",
        "- **K Rabada** showed his dominance, dismissing **KL Rahul, WP Saha, and N Pooran** multiple times.\n",
        "- **Harpreet Brar, CV Varun, and RD Chahar** also featured in the list, making crucial breakthroughs for their teams.\n",
        "\n",
        "This analysis showcases how specific bowlers consistently managed to dismiss particular batsmen, revealing key player matchups and rivalries in the IPL.\n"
      ],
      "metadata": {
        "id": "Z2FkxwkyiIeV"
      }
    },
    {
      "cell_type": "code",
      "source": [
        "\n",
        "def runs_conceded_by_bowler_to_batter(ipl, batter_name: str, start_year: int = None, end_year: int = None) -> pd.DataFrame:\n",
        "    '''\n",
        "    Function: runs_conceded_by_bowler_to_batter\n",
        "    Author: Nikesh\n",
        "    Date: March 28, 2025\n",
        "\n",
        "    Parameters:\n",
        "    - ipl (DataFrame): The IPL dataset containing match details.\n",
        "    - batter_name (str): The name of the batter for whom the data is required.\n",
        "    - start_year (int, optional): The starting year for filtering data.\n",
        "    - end_year (int, optional): The ending year for filtering data.\n",
        "\n",
        "    Returns:\n",
        "    - DataFrame: A sorted table with columns ['bowler', 'batter', 'batsman_runs'],\n",
        "                 showing how many runs each bowler has conceded to the given batter.\n",
        "    '''\n",
        "    # Make a copy of the dataset to avoid modifying the original\n",
        "    filter_data = ipl.copy()\n",
        "\n",
        "    # Filter based on year\n",
        "    if start_year is not None:\n",
        "        filter_data = filter_data[filter_data['date'].dt.year >= start_year]\n",
        "    if end_year is not None:\n",
        "        filter_data = filter_data[filter_data['date'].dt.year <= end_year]\n",
        "\n",
        "    # Group by bowler and batter, summing the runs scored\n",
        "    runs_data = (\n",
        "        filter_data.groupby(['bowler', 'batter'])['batsman_runs']\n",
        "        .sum()\n",
        "        .reset_index()\n",
        "        .sort_values(by='batsman_runs', ascending=False)\n",
        "    )\n",
        "\n",
        "    # Filter only for the given batter\n",
        "    return runs_data[runs_data['batter'] == batter_name]\n",
        "\n",
        "# Function call example\n",
        "runs_conceded_by_bowler_to_batter(ipl, batter_name='RD Gaikwad',start_year=2023,end_year=2024).head(10)\n"
      ],
      "metadata": {
        "id": "wj_M8L1w84w3"
      },
      "execution_count": null,
      "outputs": []
    },
    {
      "cell_type": "code",
      "source": [
        "xx= ipl[ipl['date'].dt.year==2024].groupby(['bowler','batter'])['batsman_runs'].sum().reset_index().sort_values(ascending=False,by='batsman_runs').head(40)\n",
        "xx"
      ],
      "metadata": {
        "id": "3zKNqVv4HpTZ"
      },
      "execution_count": null,
      "outputs": []
    },
    {
      "cell_type": "markdown",
      "source": [
        "#### Toss-winning team with the highest win percentage."
      ],
      "metadata": {
        "id": "55TXcP3SLKc0"
      }
    },
    {
      "cell_type": "code",
      "source": [],
      "metadata": {
        "id": "q8V7OBSILJ-_"
      },
      "execution_count": null,
      "outputs": []
    },
    {
      "cell_type": "markdown",
      "source": [
        "#### Most successful toss-winning decision (bat or field) in IPL history."
      ],
      "metadata": {
        "id": "qY4g1Qy2LRSx"
      }
    },
    {
      "cell_type": "code",
      "source": [
        "\n"
      ],
      "metadata": {
        "id": "eZpD--FoHpQK"
      },
      "execution_count": null,
      "outputs": []
    },
    {
      "cell_type": "markdown",
      "source": [
        "#### Impact of toss decision on winning percentage at different venues."
      ],
      "metadata": {
        "id": "-d3ykGSJMWia"
      }
    },
    {
      "cell_type": "code",
      "source": [],
      "metadata": {
        "id": "NdrOuyfMHpNU"
      },
      "execution_count": null,
      "outputs": []
    },
    {
      "cell_type": "code",
      "source": [],
      "metadata": {
        "id": "wiBeRPX3HpKP"
      },
      "execution_count": null,
      "outputs": []
    },
    {
      "cell_type": "code",
      "source": [],
      "metadata": {
        "id": "DcgGLRR7HpHS"
      },
      "execution_count": null,
      "outputs": []
    },
    {
      "cell_type": "code",
      "source": [],
      "metadata": {
        "id": "4AzP0MGqHpD7"
      },
      "execution_count": null,
      "outputs": []
    },
    {
      "cell_type": "code",
      "source": [],
      "metadata": {
        "id": "6z1TlSQRHpAu"
      },
      "execution_count": null,
      "outputs": []
    },
    {
      "cell_type": "code",
      "source": [],
      "metadata": {
        "id": "p6kFm_rsGsCS"
      },
      "execution_count": null,
      "outputs": []
    },
    {
      "cell_type": "code",
      "source": [],
      "metadata": {
        "id": "90amOs8RGr_j"
      },
      "execution_count": null,
      "outputs": []
    },
    {
      "cell_type": "code",
      "source": [],
      "metadata": {
        "id": "cs6obmvUGr8R"
      },
      "execution_count": null,
      "outputs": []
    },
    {
      "cell_type": "markdown",
      "source": [],
      "metadata": {
        "id": "ndddg4JsvH5S"
      }
    },
    {
      "cell_type": "markdown",
      "source": [
        "### What all manipulations have you done and insights you found?"
      ],
      "metadata": {
        "id": "MSa1f5Uengrz"
      }
    },
    {
      "cell_type": "markdown",
      "source": [
        "Answer Here."
      ],
      "metadata": {
        "id": "LbyXE7I1olp8"
      }
    },
    {
      "cell_type": "code",
      "source": [],
      "metadata": {
        "id": "jcnNfOPxRAnK"
      },
      "execution_count": null,
      "outputs": []
    },
    {
      "cell_type": "code",
      "source": [],
      "metadata": {
        "id": "MJ4ayiJpRAi4"
      },
      "execution_count": null,
      "outputs": []
    },
    {
      "cell_type": "code",
      "source": [],
      "metadata": {
        "id": "QDoO7qEERAfs"
      },
      "execution_count": null,
      "outputs": []
    },
    {
      "cell_type": "code",
      "source": [],
      "metadata": {
        "id": "4uXu96HyRAcc"
      },
      "execution_count": null,
      "outputs": []
    },
    {
      "cell_type": "markdown",
      "source": [
        "# ***4. Data Vizualization, Storytelling & Experimenting with charts : Understand the relationships between variables***"
      ],
      "metadata": {
        "id": "GF8Ens_Soomf"
      }
    },
    {
      "cell_type": "markdown",
      "source": [
        "#### Chart - 1"
      ],
      "metadata": {
        "id": "0wOQAZs5pc--"
      }
    },
    {
      "cell_type": "markdown",
      "source": [],
      "metadata": {
        "id": "DNqBGPFMXupT"
      }
    },
    {
      "cell_type": "markdown",
      "source": [
        "Total Matches in the Dataset"
      ],
      "metadata": {
        "id": "i70mysZL_0m1"
      }
    },
    {
      "cell_type": "code",
      "source": [
        "sixes = ipl[ipl['total_runs'] == 6].groupby(ipl['venue']).size().reset_index(name='sixes')\n",
        "fours = ipl[ipl['total_runs'] == 4].groupby(ipl['venue']).size().reset_index(name='fours')\n",
        "total_match = ipl.groupby('venue')['match_id'].nunique().reset_index(name='total_match')\n",
        "venue_six_four = total_match.merge(sixes,on='venue',how='left').merge(fours,on='venue',how='left')\n",
        "venue_six_four"
      ],
      "metadata": {
        "id": "yGuX8DUFDyCc"
      },
      "execution_count": null,
      "outputs": []
    },
    {
      "cell_type": "code",
      "source": [
        "\n",
        "\n",
        "# Function to get runs conceded by bowlers against a batsman\n",
        "def runs_conceded_by_bowler_to_batter(ipl, batter_name, start_year, end_year):\n",
        "    return (\n",
        "        ipl[(ipl['batter'] == batter_name) & (ipl['season'].between(start_year, end_year))]\n",
        "        .groupby(\"bowler\")[\"batsman_runs\"]\n",
        "        .sum()\n",
        "        .reset_index()\n",
        "        .sort_values(by=\"batsman_runs\", ascending=False)\n",
        "    )\n",
        "\n",
        "# Function to plot subplots for the top 20 batsmen\n",
        "def plot_top_batsmen_vs_bowlers(ipl, top_n=20):\n",
        "    # Get the top 20 batsmen dynamically based on total runs\n",
        "    top_batsmen = (\n",
        "        ipl[ipl['season'] == 2024]\n",
        "        .groupby('batter')['batsman_runs']\n",
        "        .sum()\n",
        "        .reset_index()\n",
        "        .sort_values(by='batsman_runs', ascending=False)\n",
        "        .head(top_n)['batter']\n",
        "        .tolist()\n",
        "    )\n",
        "\n",
        "    # Create subplots: 10 rows, 2 columns\n",
        "    fig, axes = plt.subplots(nrows=10, ncols=2, figsize=(15, 50))\n",
        "    axes = axes.flatten()  # Flatten axes to make it iterable\n",
        "\n",
        "    # Set theme\n",
        "    sns.set_theme(style=\"darkgrid\")\n",
        "\n",
        "    # Loop through each batsman and plot\n",
        "    for idx, batter in enumerate(top_batsmen):\n",
        "        ax = axes[idx]  # Get the current subplot\n",
        "        batter_data = runs_conceded_by_bowler_to_batter(ipl, batter, 2024, 2024).head(15)\n",
        "\n",
        "        # If no data, skip\n",
        "        if batter_data.empty:\n",
        "            continue\n",
        "\n",
        "        # Barplot with color gradient\n",
        "        colors = sns.color_palette(\"cool\", len(batter_data))\n",
        "        sns.barplot(data=batter_data, x=\"batsman_runs\", y=\"bowler\", palette=colors, ax=ax)\n",
        "\n",
        "        # Add labels to bars\n",
        "        for index, value in enumerate(batter_data[\"batsman_runs\"]):\n",
        "            ax.text(value + 1, index, str(value), va=\"center\", fontsize=10, color=\"black\")\n",
        "\n",
        "        # Rotate y-axis labels\n",
        "        ax.set_yticklabels(ax.get_yticklabels(), rotation=0, fontsize=10)\n",
        "        ax.set_xticklabels(ax.get_xticks(), fontsize=10)\n",
        "\n",
        "        # Set title\n",
        "        ax.set_title(f\"{batter} - Runs vs Bowlers\", fontsize=12, fontweight=\"bold\")\n",
        "\n",
        "    # Adjust layout\n",
        "    plt.tight_layout()\n",
        "    plt.show()\n",
        "\n",
        "# Call function to generate subplots\n",
        "plot_top_batsmen_vs_bowlers(ipl)\n"
      ],
      "metadata": {
        "id": "bhm5y4Y45kp4"
      },
      "execution_count": null,
      "outputs": []
    },
    {
      "cell_type": "code",
      "source": [],
      "metadata": {
        "id": "b7UDUxQvAYTl"
      },
      "execution_count": null,
      "outputs": []
    },
    {
      "cell_type": "code",
      "source": [],
      "metadata": {
        "id": "7v_ESjsspbW7"
      },
      "execution_count": null,
      "outputs": []
    },
    {
      "cell_type": "code",
      "source": [],
      "metadata": {
        "id": "1GhzorNllfFY"
      },
      "execution_count": null,
      "outputs": []
    },
    {
      "cell_type": "markdown",
      "source": [
        "##### 1. Why did you pick the specific chart?"
      ],
      "metadata": {
        "id": "K5QZ13OEpz2H"
      }
    },
    {
      "cell_type": "markdown",
      "source": [
        "Answer Here."
      ],
      "metadata": {
        "id": "XESiWehPqBRc"
      }
    },
    {
      "cell_type": "markdown",
      "source": [
        "##### 2. What is/are the insight(s) found from the chart?"
      ],
      "metadata": {
        "id": "lQ7QKXXCp7Bj"
      }
    },
    {
      "cell_type": "markdown",
      "source": [
        "Answer Here"
      ],
      "metadata": {
        "id": "C_j1G7yiqdRP"
      }
    },
    {
      "cell_type": "markdown",
      "source": [
        "##### 3. Will the gained insights help creating a positive business impact?\n",
        "Are there any insights that lead to negative growth? Justify with specific reason."
      ],
      "metadata": {
        "id": "448CDAPjqfQr"
      }
    },
    {
      "cell_type": "markdown",
      "source": [
        "Answer Here"
      ],
      "metadata": {
        "id": "3cspy4FjqxJW"
      }
    },
    {
      "cell_type": "markdown",
      "source": [
        "#### How do strike rates of batters in the powerplay (overs 0-5) compare to the death overs (overs 14-19) in IPL 2024, and what insights can be drawn from their total runs and balls faced\n",
        "\n",
        "This question aligns with your dual scatter plot visualization and encourages interpretation of the data trends."
      ],
      "metadata": {
        "id": "KSlN3yHqYklG"
      }
    },
    {
      "cell_type": "code",
      "source": [],
      "metadata": {
        "id": "pft6oXYZZ81w"
      },
      "execution_count": null,
      "outputs": []
    },
    {
      "cell_type": "code",
      "source": [
        "power_play = batsman_with_the_highest_strike_rate(ipl, 2024, 2024, 0, 5, 60).head(50)\n",
        "\n",
        "# Create subplots\n",
        "fig, axis = plt.subplots(ncols=1, nrows=2, figsize=(18, 15))  # Adjusted figure size\n",
        "\n",
        "# Scatter plot on axis[0]\n",
        "sns.scatterplot(\n",
        "    data=power_play,\n",
        "    x='total_runs',\n",
        "    y='strike_rate',\n",
        "    hue='total_ball_faced',\n",
        "    palette='cool',\n",
        "    size='total_ball_faced',\n",
        "    sizes=(20, 200),  # Scale marker size dynamically\n",
        "    ax=axis[0]\n",
        ")\n",
        "\n",
        "# Adding horizontal reference lines\n",
        "axis[0].axhline(150, color='red', linestyle=\"--\", linewidth=1.5)\n",
        "axis[0].axhline(200, color='red', linestyle=\"--\", linewidth=1.5)\n",
        "\n",
        "# Adding vertical reference lines\n",
        "for x in [200, 300, 350, 400]:\n",
        "    axis[0].axvline(x, color='red', linestyle=\"--\", linewidth=1.5)\n",
        "\n",
        "# Annotating batter names\n",
        "for i in range(len(power_play)):\n",
        "    axis[0].text(\n",
        "        power_play['total_runs'].iloc[i] + 5,  # Shift x slightly for better placement\n",
        "        power_play['strike_rate'].iloc[i] + 2,  # Shift y slightly\n",
        "        power_play['batter'].iloc[i],\n",
        "        fontsize=9,\n",
        "        color='black',\n",
        "\n",
        "    )\n",
        "\n",
        "# Set titles and labels\n",
        "axis[0].set_title(\"Best Batters with Highest Strike Rate in (Powerplay) - IPL 2024\", fontsize=14, fontweight='bold')\n",
        "axis[0].set_xlabel(\"Total Runs\", fontsize=12)\n",
        "axis[0].set_ylabel(\"Strike Rate\", fontsize=12)\n",
        "\n",
        "# Adding grid for better readability\n",
        "axis[0].grid(True, linestyle=\"--\", alpha=0.6)\n",
        "\n",
        "\n",
        "# -------------------------------------------------------------------------------------------\n",
        "\n",
        "death_over = batsman_with_the_highest_strike_rate(ipl, 2024, 2024, 14, 19, 60).head(50)\n",
        "\n",
        "\n",
        "\n",
        "# Scatter plot on axis[1]\n",
        "sns.scatterplot(\n",
        "    data=death_over,\n",
        "    x='total_runs',\n",
        "    y='strike_rate',\n",
        "    hue='total_ball_faced',\n",
        "    palette='cool',\n",
        "    size='total_ball_faced',\n",
        "    sizes=(20, 200),  # Scale marker size dynamically\n",
        "    ax=axis[1]\n",
        ")\n",
        "\n",
        "# Adding horizontal reference lines\n",
        "axis[1].axhline(150, color='red', linestyle=\"--\", linewidth=1.5)\n",
        "axis[1].axhline(180, color='red', linestyle=\"--\", linewidth=1.5)\n",
        "\n",
        "# Adding vertical reference lines\n",
        "for x in [100, 130, 150, 200]:\n",
        "    axis[1].axvline(x, color='red', linestyle=\"--\", linewidth=1.5)\n",
        "\n",
        "# Annotating batter names\n",
        "for i in range(len(death_over)):\n",
        "    axis[1].text(\n",
        "        death_over['total_runs'].iloc[i] +1,  # Shift x slightly for better placement\n",
        "        death_over['strike_rate'].iloc[i] +1,  # Shift y slightly\n",
        "        death_over['batter'].iloc[i],\n",
        "        fontsize=9,\n",
        "        color='black',\n",
        "\n",
        "    )\n",
        "\n",
        "# Set titles and labels\n",
        "axis[1].set_title(\"Best  Batters with Highest Strike Rate in (Death over) - IPL 2024\", fontsize=14, fontweight='bold')\n",
        "axis[1].set_xlabel(\"Total Runs\", fontsize=12)\n",
        "axis[1].set_ylabel(\"Strike Rate\", fontsize=12)\n",
        "\n",
        "# Adding grid for better readability\n",
        "axis[1].grid(True, linestyle=\"--\", alpha=0.6)\n"
      ],
      "metadata": {
        "id": "R4YgtaqtYklH"
      },
      "execution_count": null,
      "outputs": []
    },
    {
      "cell_type": "markdown",
      "source": [
        "##### 1. Why did you pick the specific chart?"
      ],
      "metadata": {
        "id": "t6dVpIINYklI"
      }
    },
    {
      "cell_type": "markdown",
      "source": [
        "Answer Here."
      ],
      "metadata": {
        "id": "5aaW0BYyYklI"
      }
    },
    {
      "cell_type": "markdown",
      "source": [
        "##### 2. What is/are the insight(s) found from the chart?"
      ],
      "metadata": {
        "id": "ijmpgYnKYklI"
      }
    },
    {
      "cell_type": "markdown",
      "source": [
        "Answer Here"
      ],
      "metadata": {
        "id": "PSx9atu2YklI"
      }
    },
    {
      "cell_type": "markdown",
      "source": [
        "##### 3. Will the gained insights help creating a positive business impact?\n",
        "Are there any insights that lead to negative growth? Justify with specific reason."
      ],
      "metadata": {
        "id": "-JiQyfWJYklI"
      }
    },
    {
      "cell_type": "markdown",
      "source": [
        "Answer Here"
      ],
      "metadata": {
        "id": "BcBbebzrYklV"
      }
    },
    {
      "cell_type": "markdown",
      "source": [
        "#### Which venue recorded the highest total and average runs in IPL 2024 across both innings?  how do first-inning and second-inning runs compare across venues, and which venues were more favorable for batting or chasing?"
      ],
      "metadata": {
        "id": "EM7whBJCYoAo"
      }
    },
    {
      "cell_type": "code",
      "source": [
        "# Chart - 3 visualization code\n",
        "data = calculate_venue_run_statistics(ipl,2024,2024)\n",
        "\n",
        "# 1st inning data\n",
        "first_inning_data = calculate_venue_run_statistics(ipl,2024,2024,1)\n",
        "first_inning_data.rename(columns={'total_runs':'1st inning total','average_runs':'1st inning avg'},inplace=True)\n",
        "\n",
        "\n",
        "# 2nd inning\n",
        "second_inning_data = calculate_venue_run_statistics(ipl,2024,2024,2)\n",
        "second_inning_data.rename(columns={'total_runs':'2nd inning total','average_runs':'2nd inning avg'},inplace=True)\n",
        "\n",
        "final_data = data.merge(first_inning_data,on='venue').merge(second_inning_data,on='venue')\n",
        "final_data['venue'] = final_data['venue'].str.split(',').str[0].str.split('Cricket').str[0]\n",
        "final_data.drop(columns=['total_match_x','total_match_y'],inplace=True)\n",
        "\n",
        "plt.style.use('default')\n",
        "\n",
        "\n",
        "fig,axes = plt.subplots(ncols=2,nrows=3,figsize=(18,12),sharey=True)\n",
        "axes = axes.flatten()\n",
        "\n",
        "plot_columns = [\n",
        "    ('total_runs', 'Total Runs in 2024'),\n",
        "    ('average_runs', 'Average Runs in 2024'),\n",
        "    ('1st inning total', 'Total Runs in 1st Inning (2024)'),\n",
        "    ('1st inning avg', 'Average Runs in 1st Inning (2024)'),\n",
        "    ('2nd inning total', 'Total Runs in 2nd Inning (2024)'),\n",
        "    ('2nd inning avg', 'Average Runs in 2nd Inning (2024)')\n",
        "]\n",
        "\n",
        "for index,(col,title) in enumerate(plot_columns):\n",
        "  sns.barplot(data=final_data,x=col,y='venue',palette='cool',ax=axes[index])\n",
        "\n",
        "  for i,v in enumerate(final_data[col]):\n",
        "    axes[index].text(v,i,str(v), va='center', fontsize=8, fontweight='bold')\n",
        "\n",
        "\n",
        "  axes[index].set_title(title,fontweight='bold')\n",
        "  axes[index].set_xlabel(None)\n",
        "plt.tight_layout()\n",
        "plt.grid(True)\n",
        "plt.show()\n",
        "\n"
      ],
      "metadata": {
        "id": "7-NNulOF2Tjp"
      },
      "execution_count": null,
      "outputs": []
    },
    {
      "cell_type": "code",
      "source": [],
      "metadata": {
        "id": "t6GMdE67YoAp"
      },
      "execution_count": null,
      "outputs": []
    },
    {
      "cell_type": "markdown",
      "source": [
        "##### 1. Why did you pick the specific chart?"
      ],
      "metadata": {
        "id": "fge-S5ZAYoAp"
      }
    },
    {
      "cell_type": "markdown",
      "source": [
        "Answer Here."
      ],
      "metadata": {
        "id": "5dBItgRVYoAp"
      }
    },
    {
      "cell_type": "markdown",
      "source": [
        "##### 2. What is/are the insight(s) found from the chart?"
      ],
      "metadata": {
        "id": "85gYPyotYoAp"
      }
    },
    {
      "cell_type": "markdown",
      "source": [
        "Answer Here"
      ],
      "metadata": {
        "id": "4jstXR6OYoAp"
      }
    },
    {
      "cell_type": "markdown",
      "source": [
        "##### 3. Will the gained insights help creating a positive business impact?\n",
        "Are there any insights that lead to negative growth? Justify with specific reason."
      ],
      "metadata": {
        "id": "RoGjAbkUYoAp"
      }
    },
    {
      "cell_type": "markdown",
      "source": [
        "Answer Here"
      ],
      "metadata": {
        "id": "zfJ8IqMcYoAp"
      }
    },
    {
      "cell_type": "markdown",
      "source": [
        "#### From IPL 2008 to 2024 venues witnessed the most sixes and fours?"
      ],
      "metadata": {
        "id": "4Of9eVA-YrdM"
      }
    },
    {
      "cell_type": "code",
      "source": [
        "# Chart - 4 visualization code\n",
        "sixes = ipl[ipl['total_runs'] == 6].groupby(ipl['venue']).size().reset_index(name='sixes')\n",
        "fours = ipl[ipl['total_runs'] == 4].groupby(ipl['venue']).size().reset_index(name='fours')\n",
        "total_match = ipl.groupby('venue')['match_id'].nunique().reset_index(name='total_match')\n",
        "venue_six_four = total_match.merge(sixes,on='venue',how='left').merge(fours,on='venue',how='left')\n",
        "venue_six_four\n",
        "\n",
        "fig,axis = plt.subplots(ncols=2,nrows=1,figsize=(15,6),sharey=True)\n",
        "axis= axis.flatten()\n",
        "\n",
        "\n",
        "sns.barplot(data=venue_six_four,y='venue',x='sixes',ax=axis[0],hue='venue')\n",
        "sns.barplot(data=venue_six_four,y='venue',x='fours',ax=axis[1],hue='venue')\n",
        "\n",
        "for i, v in enumerate(venue_six_four['fours']):\n",
        "  axis[1].text(v,i,str(v),va='center',fontsize=10, fontweight='bold')\n",
        "\n",
        "for i, v in enumerate(venue_six_four['sixes']):\n",
        "    axis[0].text(v, i, str(v), va='center', fontsize=10, fontweight='bold')\n",
        "\n",
        "axis[0].set_title(\"Total Sixes Hit at Each Venue in IPL 2024\", fontweight='bold')\n",
        "axis[1].set_title(\"Total Fours Hit at Each Venue in IPL 2024\", fontweight='bold')\n",
        "\n",
        "\n",
        "plt.tight_layout()\n",
        "plt.show()"
      ],
      "metadata": {
        "id": "irlUoxc8YrdO"
      },
      "execution_count": null,
      "outputs": []
    },
    {
      "cell_type": "markdown",
      "source": [
        "##### 1. Why did you pick the specific chart?"
      ],
      "metadata": {
        "id": "iky9q4vBYrdO"
      }
    },
    {
      "cell_type": "markdown",
      "source": [
        "Answer Here."
      ],
      "metadata": {
        "id": "aJRCwT6DYrdO"
      }
    },
    {
      "cell_type": "markdown",
      "source": [
        "##### 2. What is/are the insight(s) found from the chart?"
      ],
      "metadata": {
        "id": "F6T5p64dYrdO"
      }
    },
    {
      "cell_type": "markdown",
      "source": [
        "Answer Here"
      ],
      "metadata": {
        "id": "Xx8WAJvtYrdO"
      }
    },
    {
      "cell_type": "markdown",
      "source": [
        "##### 3. Will the gained insights help creating a positive business impact?\n",
        "Are there any insights that lead to negative growth? Justify with specific reason."
      ],
      "metadata": {
        "id": "y-Ehk30pYrdP"
      }
    },
    {
      "cell_type": "markdown",
      "source": [
        "Answer Here"
      ],
      "metadata": {
        "id": "jLNxxz7MYrdP"
      }
    },
    {
      "cell_type": "markdown",
      "source": [
        "#### Chart - 5"
      ],
      "metadata": {
        "id": "bamQiAODYuh1"
      }
    },
    {
      "cell_type": "code",
      "source": [
        "# Chart - 5 visualization code\n",
        "\n",
        "total_bat_win = ipl[(ipl['winner']== ipl['team1']) & (ipl['inning']==1)].groupby('venue')['match_id'].nunique().reset_index(name='batting_won_total')\n",
        "total_win_venue = ipl.groupby('venue')['match_id'].nunique().reset_index(name='total_won')\n",
        "\n",
        "winning_per_venue = pd.merge(total_bat_win,total_win_venue,on='venue',how='right')\n",
        "winning_per_venue['first_bat_win_percent'] = ((winning_per_venue['batting_won_total']/winning_per_venue['total_won']) * 100).round(2)\n",
        "winning_per_venue['second_bat_win_percent'] = 100 - winning_per_venue['first_bat_win_percent']\n",
        "winning_per_venue.sort_values(by='first_bat_win_percent',ascending=False,inplace=True)\n",
        "winning_per_venue\n",
        "fig,axis = plt.subplots(ncols=2,nrows=2,figsize=(15,15),sharey=True)\n",
        "axis=axis.flatten()\n",
        "\n",
        "sns.barplot(data=winning_per_venue.head(33),x='total_won',y='venue',palette='cool',ax=axis[0])\n",
        "sns.barplot(data=winning_per_venue.head(33),x='batting_won_total',y='venue',palette='cool',ax=axis[1])\n",
        "sns.barplot(data=winning_per_venue.head(33),x='first_bat_win_percent',y='venue',palette='cool',ax=axis[2])\n",
        "sns.barplot(data=winning_per_venue.head(33),x='second_bat_win_percent',y='venue',palette='cool',ax=axis[3])\n",
        "\n",
        "for i,v in enumerate(winning_per_venue['total_won'].head(33)):\n",
        "  axis[0].text(v,i,v,va='center',fontsize=10, fontweight='bold')\n",
        "\n",
        "for i,v in enumerate(winning_per_venue['batting_won_total'].head(33)):\n",
        "  axis[1].text(v,i,v,va='center',fontsize=10, fontweight='bold')\n",
        "\n",
        "for i,v in enumerate(winning_per_venue['first_bat_win_percent'].head(33)):\n",
        "  axis[2].text(v,i,v,va='center',fontsize=10, fontweight='bold')\n",
        "\n",
        "for i,v in enumerate(winning_per_venue['second_bat_win_percent'].head(33)):\n",
        "  axis[3].text(v,i,v,va='center',fontsize=10, fontweight='bold')\n",
        "\n",
        "for i in range(4):\n",
        "  axis[i].set_xlabel(None)\n",
        "\n",
        "for i,v in enumerate(['total won','1st batting team won','first bat win percentage','2nd bat win percentage']):\n",
        "  axis[i].set_title(v)\n",
        "\n",
        "plt.show()"
      ],
      "metadata": {
        "id": "TIJwrbroYuh3"
      },
      "execution_count": null,
      "outputs": []
    },
    {
      "cell_type": "markdown",
      "source": [
        "##### 1. Why did you pick the specific chart?"
      ],
      "metadata": {
        "id": "QHF8YVU7Yuh3"
      }
    },
    {
      "cell_type": "markdown",
      "source": [
        "Answer Here."
      ],
      "metadata": {
        "id": "dcxuIMRPYuh3"
      }
    },
    {
      "cell_type": "markdown",
      "source": [
        "##### 2. What is/are the insight(s) found from the chart?"
      ],
      "metadata": {
        "id": "GwzvFGzlYuh3"
      }
    },
    {
      "cell_type": "markdown",
      "source": [
        "Answer Here"
      ],
      "metadata": {
        "id": "uyqkiB8YYuh3"
      }
    },
    {
      "cell_type": "markdown",
      "source": [
        "##### 3. Will the gained insights help creating a positive business impact?\n",
        "Are there any insights that lead to negative growth? Justify with specific reason."
      ],
      "metadata": {
        "id": "qYpmQ266Yuh3"
      }
    },
    {
      "cell_type": "markdown",
      "source": [
        "Answer Here"
      ],
      "metadata": {
        "id": "_WtzZ_hCYuh4"
      }
    },
    {
      "cell_type": "markdown",
      "source": [
        "#### Chart - 6"
      ],
      "metadata": {
        "id": "OH-pJp9IphqM"
      }
    },
    {
      "cell_type": "code",
      "source": [
        "# Chart - 6 visualization code\n",
        "top_20_batter_name = top_scorer_batsman_by_years(ipl,2024).head(50)['batter'].unique()\n",
        "\n",
        "\n",
        "\n",
        "player_score =  top_scorer_batsman_by_years(ipl,2024)\n",
        "player_score = player_score[player_score['batter'].isin(top_20_batter_name)]\n",
        "\n",
        "# Plot Box Plot\n",
        "plt.figure(figsize=(15, 10))\n",
        "sns.boxplot(data=player_score, x='best_score', y='batter', palette='cool')\n",
        "\n",
        "plt.title(\"Score Distribution of Players in IPL 2024\", fontsize=14, fontweight='bold')\n",
        "plt.xlabel(\"Match Scores\", fontsize=12)\n",
        "plt.ylabel(\"Players\", fontsize=12)\n",
        "plt.grid(True, linestyle=\"--\", alpha=0.5)\n",
        "\n",
        "plt.show()\n"
      ],
      "metadata": {
        "id": "kuRf4wtuphqN"
      },
      "execution_count": null,
      "outputs": []
    },
    {
      "cell_type": "code",
      "source": [],
      "metadata": {
        "id": "kQC2MAEiQ00_"
      },
      "execution_count": null,
      "outputs": []
    },
    {
      "cell_type": "markdown",
      "source": [
        "##### 1. Why did you pick the specific chart?"
      ],
      "metadata": {
        "id": "bbFf2-_FphqN"
      }
    },
    {
      "cell_type": "markdown",
      "source": [
        "Answer Here."
      ],
      "metadata": {
        "id": "loh7H2nzphqN"
      }
    },
    {
      "cell_type": "markdown",
      "source": [
        "##### 2. What is/are the insight(s) found from the chart?"
      ],
      "metadata": {
        "id": "_ouA3fa0phqN"
      }
    },
    {
      "cell_type": "markdown",
      "source": [
        "Answer Here"
      ],
      "metadata": {
        "id": "VECbqPI7phqN"
      }
    },
    {
      "cell_type": "markdown",
      "source": [
        "##### 3. Will the gained insights help creating a positive business impact?\n",
        "Are there any insights that lead to negative growth? Justify with specific reason."
      ],
      "metadata": {
        "id": "Seke61FWphqN"
      }
    },
    {
      "cell_type": "markdown",
      "source": [
        "Answer Here"
      ],
      "metadata": {
        "id": "DW4_bGpfphqN"
      }
    },
    {
      "cell_type": "markdown",
      "source": [
        "#### Chart - 7"
      ],
      "metadata": {
        "id": "PIIx-8_IphqN"
      }
    },
    {
      "cell_type": "code",
      "source": [
        "\n",
        "# Get top batters' scores\n",
        "top_bat_score = top_scorer_batsman_by_years(ipl, 2024).head(20)\n",
        "\n",
        "# Create a unique identifier for duplicate names\n",
        "top_bat_score['unique_batter'] = top_bat_score['batter'] + ' - ' + top_bat_score.index.astype(str)\n",
        "\n",
        "# Set figure size\n",
        "plt.figure(figsize=(13, 6))\n",
        "\n",
        "# Create a bar plot\n",
        "sns.barplot(\n",
        "    data=top_bat_score,\n",
        "    x='best_score',\n",
        "    y='unique_batter',\n",
        "    palette='cool',  # More visually appealing color scheme\n",
        "    edgecolor='black',  # Adds contrast to bars\n",
        "    linewidth=1.5\n",
        ")\n",
        "\n",
        "# Add data labels on bars\n",
        "for i, v in enumerate(top_bat_score['best_score']):\n",
        "    plt.text(v + 1, i, str(v), va='center', fontsize=10, fontweight='bold', color='black')\n",
        "\n",
        "# Customize plot aesthetics\n",
        "plt.title(\"Top 20 Best Scores in IPL 2024\", fontsize=14, fontweight='bold')\n",
        "plt.xlabel(\"Best Score\", fontsize=12)\n",
        "plt.ylabel(\"Batter\", fontsize=12)\n",
        "plt.xticks(fontsize=10)\n",
        "plt.yticks(fontsize=10)\n",
        "plt.grid(axis=\"x\", linestyle=\"--\", alpha=0.7)  # Subtle grid for readability\n",
        "sns.despine(left=True, bottom=True)  # Removes unnecessary borders for a clean look\n",
        "\n",
        "# Adjust layout and show plot\n",
        "plt.tight_layout()\n",
        "plt.show()\n"
      ],
      "metadata": {
        "id": "lqAIGUfyphqO"
      },
      "execution_count": null,
      "outputs": []
    },
    {
      "cell_type": "code",
      "source": [],
      "metadata": {
        "id": "PIdkbikrINtI"
      },
      "execution_count": null,
      "outputs": []
    },
    {
      "cell_type": "markdown",
      "source": [
        "##### 1. Why did you pick the specific chart?"
      ],
      "metadata": {
        "id": "t27r6nlMphqO"
      }
    },
    {
      "cell_type": "markdown",
      "source": [
        "Answer Here."
      ],
      "metadata": {
        "id": "iv6ro40sphqO"
      }
    },
    {
      "cell_type": "markdown",
      "source": [
        "##### 2. What is/are the insight(s) found from the chart?"
      ],
      "metadata": {
        "id": "r2jJGEOYphqO"
      }
    },
    {
      "cell_type": "markdown",
      "source": [
        "Answer Here"
      ],
      "metadata": {
        "id": "Po6ZPi4hphqO"
      }
    },
    {
      "cell_type": "markdown",
      "source": [
        "##### 3. Will the gained insights help creating a positive business impact?\n",
        "Are there any insights that lead to negative growth? Justify with specific reason."
      ],
      "metadata": {
        "id": "b0JNsNcRphqO"
      }
    },
    {
      "cell_type": "markdown",
      "source": [
        "Answer Here"
      ],
      "metadata": {
        "id": "xvSq8iUTphqO"
      }
    },
    {
      "cell_type": "markdown",
      "source": [
        "#### Which batter showed the most improvement or decline in performance between 2020 and 2024"
      ],
      "metadata": {
        "id": "BZR9WyysphqO"
      }
    },
    {
      "cell_type": "code",
      "source": [
        "batter_data = (\n",
        "    ipl[ipl['season'].between(2020,2024)].groupby(['season','batter'])['batsman_runs'].sum().reset_index()\n",
        ")\n",
        "batter_data\n",
        "\n",
        "batter_name = (\n",
        "    ipl[ipl['season'].between(2020,2024)].groupby(['season','batter'])['batsman_runs'].sum().reset_index().sort_values(by='batsman_runs',ascending=False)['batter'].head(15)\n",
        ")\n",
        "batter_name\n",
        "\n",
        "final_data = batter_data[batter_data['batter'].isin(batter_name)]\n",
        "final_data['season'] = final_data['season'].astype('str')\n",
        "\n",
        "sns.relplot(data=final_data,x='season',y='batsman_runs',hue='batter',kind='line',aspect=2, marker=\"o\")\n",
        "plt.title(\"Top 10 Batters' Performance Over Seasons (2020-2024)\")\n",
        "plt.xlabel(\"Season\")\n",
        "plt.ylabel(\"Total Runs\")\n",
        "\n",
        "plt.grid(True)\n",
        "plt.show()"
      ],
      "metadata": {
        "id": "0-Y01gWFv-bP"
      },
      "execution_count": null,
      "outputs": []
    },
    {
      "cell_type": "code",
      "source": [],
      "metadata": {
        "id": "TdPTWpAVphqO"
      },
      "execution_count": null,
      "outputs": []
    },
    {
      "cell_type": "markdown",
      "source": [
        "##### 1. Why did you pick the specific chart?"
      ],
      "metadata": {
        "id": "jj7wYXLtphqO"
      }
    },
    {
      "cell_type": "markdown",
      "source": [
        "Answer Here."
      ],
      "metadata": {
        "id": "Ob8u6rCTphqO"
      }
    },
    {
      "cell_type": "markdown",
      "source": [
        "##### 2. What is/are the insight(s) found from the chart?"
      ],
      "metadata": {
        "id": "eZrbJ2SmphqO"
      }
    },
    {
      "cell_type": "markdown",
      "source": [
        "Answer Here"
      ],
      "metadata": {
        "id": "mZtgC_hjphqO"
      }
    },
    {
      "cell_type": "markdown",
      "source": [
        "##### 3. Will the gained insights help creating a positive business impact?\n",
        "Are there any insights that lead to negative growth? Justify with specific reason."
      ],
      "metadata": {
        "id": "rFu4xreNphqO"
      }
    },
    {
      "cell_type": "markdown",
      "source": [
        "Answer Here"
      ],
      "metadata": {
        "id": "ey_0qi68phqO"
      }
    },
    {
      "cell_type": "markdown",
      "source": [
        "#### How has the economy rate of each IPL team evolved across different seasons, and which teams have shown the most improvement or decline over time"
      ],
      "metadata": {
        "id": "YJ55k-q6phqO"
      }
    },
    {
      "cell_type": "code",
      "source": [
        "\n",
        "# Aggregate total runs conceded and total balls bowled by each bowling team per season\n",
        "filter_data = ipl.groupby(['season', 'bowling_team']).agg(\n",
        "    total_runs=('total_runs', 'sum'),\n",
        "    total_ball=('match_id', 'count')  # Counting deliveries bowled\n",
        ").reset_index()\n",
        "\n",
        "# Calculate the economy rate for each team\n",
        "filter_data['economy'] = ((filter_data['total_runs'] / filter_data['total_ball']) * 6).round(2)\n",
        "\n",
        "# Get unique teams dynamically\n",
        "teams = filter_data['bowling_team'].unique()\n",
        "num_teams = len(teams)\n",
        "\n",
        "\n",
        "# Generate a color palette with as many colors as there are teams\n",
        "colors = sns.color_palette(\"plasma\", num_teams)  # Using \"tab10\" for distinct colors\n",
        "\n",
        "# Create subplots\n",
        "fig, axes = plt.subplots(nrows=4, ncols=3, figsize=(18, 4 * 4))\n",
        "axes = axes.flatten()  # Flatten for easy iteration\n",
        "\n",
        "# Plot each team's economy rate in its own subplot\n",
        "for i, (team, color) in enumerate(zip(teams, colors)):\n",
        "    team_df = filter_data[filter_data['bowling_team'] == team]\n",
        "\n",
        "    sns.lineplot(data=team_df, x='season', y='economy', marker='o', ax=axes[i], color=color, linewidth=2)\n",
        "\n",
        "    axes[i].set_title(f\"{team} - Economy Rate\", fontsize=12, fontweight='bold', color=color)\n",
        "    axes[i].set_xlabel(\"Season\", fontsize=10)\n",
        "    axes[i].set_ylabel(\"Economy Rate\", fontsize=10)\n",
        "    axes[i].grid(True, linestyle=\"--\", alpha=0.5)\n",
        "    axes[i].set_xticks(team_df['season'].unique())\n",
        "    axes[i].set_xticklabels(team_df['season'].unique(), rotation=45)\n",
        "\n",
        "\n",
        "plt.tight_layout()\n",
        "plt.show()\n"
      ],
      "metadata": {
        "id": "B2aS4O1ophqO"
      },
      "execution_count": null,
      "outputs": []
    },
    {
      "cell_type": "markdown",
      "source": [
        "##### 1. Why did you pick the specific chart?"
      ],
      "metadata": {
        "id": "gCFgpxoyphqP"
      }
    },
    {
      "cell_type": "markdown",
      "source": [
        "Answer Here."
      ],
      "metadata": {
        "id": "TVxDimi2phqP"
      }
    },
    {
      "cell_type": "markdown",
      "source": [
        "##### 2. What is/are the insight(s) found from the chart?"
      ],
      "metadata": {
        "id": "OVtJsKN_phqQ"
      }
    },
    {
      "cell_type": "markdown",
      "source": [
        "Answer Here"
      ],
      "metadata": {
        "id": "ngGi97qjphqQ"
      }
    },
    {
      "cell_type": "markdown",
      "source": [
        "##### 3. Will the gained insights help creating a positive business impact?\n",
        "Are there any insights that lead to negative growth? Justify with specific reason."
      ],
      "metadata": {
        "id": "lssrdh5qphqQ"
      }
    },
    {
      "cell_type": "markdown",
      "source": [
        "Answer Here"
      ],
      "metadata": {
        "id": "tBpY5ekJphqQ"
      }
    },
    {
      "cell_type": "code",
      "source": [
        "# Chart - 10 visualization code"
      ],
      "metadata": {
        "id": "GM7a4YP4phqQ"
      },
      "execution_count": null,
      "outputs": []
    },
    {
      "cell_type": "markdown",
      "source": [
        "##### 1. Why did you pick the specific chart?"
      ],
      "metadata": {
        "id": "1M8mcRywphqQ"
      }
    },
    {
      "cell_type": "markdown",
      "source": [
        "Answer Here."
      ],
      "metadata": {
        "id": "8agQvks0phqQ"
      }
    },
    {
      "cell_type": "markdown",
      "source": [
        "##### 2. What is/are the insight(s) found from the chart?"
      ],
      "metadata": {
        "id": "tgIPom80phqQ"
      }
    },
    {
      "cell_type": "markdown",
      "source": [
        "Answer Here"
      ],
      "metadata": {
        "id": "Qp13pnNzphqQ"
      }
    },
    {
      "cell_type": "markdown",
      "source": [
        "##### 3. Will the gained insights help creating a positive business impact?\n",
        "Are there any insights that lead to negative growth? Justify with specific reason."
      ],
      "metadata": {
        "id": "JMzcOPDDphqR"
      }
    },
    {
      "cell_type": "markdown",
      "source": [
        "Answer Here"
      ],
      "metadata": {
        "id": "R4Ka1PC2phqR"
      }
    },
    {
      "cell_type": "code",
      "source": [
        "# Chart - 11 visualization code"
      ],
      "metadata": {
        "id": "mAQTIvtqp1cj"
      },
      "execution_count": null,
      "outputs": []
    },
    {
      "cell_type": "markdown",
      "source": [
        "##### 1. Why did you pick the specific chart?"
      ],
      "metadata": {
        "id": "X_VqEhTip1ck"
      }
    },
    {
      "cell_type": "markdown",
      "source": [
        "Answer Here."
      ],
      "metadata": {
        "id": "-vsMzt_np1ck"
      }
    },
    {
      "cell_type": "markdown",
      "source": [
        "##### 2. What is/are the insight(s) found from the chart?"
      ],
      "metadata": {
        "id": "8zGJKyg5p1ck"
      }
    },
    {
      "cell_type": "markdown",
      "source": [
        "Answer Here"
      ],
      "metadata": {
        "id": "ZYdMsrqVp1ck"
      }
    },
    {
      "cell_type": "markdown",
      "source": [
        "##### 3. Will the gained insights help creating a positive business impact?\n",
        "Are there any insights that lead to negative growth? Justify with specific reason."
      ],
      "metadata": {
        "id": "PVzmfK_Ep1ck"
      }
    },
    {
      "cell_type": "markdown",
      "source": [
        "Answer Here"
      ],
      "metadata": {
        "id": "druuKYZpp1ck"
      }
    },
    {
      "cell_type": "code",
      "source": [
        "# Chart - 12 visualization code"
      ],
      "metadata": {
        "id": "bwevp1tKp1ck"
      },
      "execution_count": null,
      "outputs": []
    },
    {
      "cell_type": "markdown",
      "source": [
        "##### 1. Why did you pick the specific chart?"
      ],
      "metadata": {
        "id": "ylSl6qgtp1ck"
      }
    },
    {
      "cell_type": "markdown",
      "source": [
        "Answer Here."
      ],
      "metadata": {
        "id": "m2xqNkiQp1ck"
      }
    },
    {
      "cell_type": "markdown",
      "source": [
        "##### 2. What is/are the insight(s) found from the chart?"
      ],
      "metadata": {
        "id": "ZWILFDl5p1ck"
      }
    },
    {
      "cell_type": "markdown",
      "source": [
        "Answer Here"
      ],
      "metadata": {
        "id": "x-lUsV2mp1ck"
      }
    },
    {
      "cell_type": "markdown",
      "source": [
        "##### 3. Will the gained insights help creating a positive business impact?\n",
        "Are there any insights that lead to negative growth? Justify with specific reason."
      ],
      "metadata": {
        "id": "M7G43BXep1ck"
      }
    },
    {
      "cell_type": "markdown",
      "source": [
        "Answer Here"
      ],
      "metadata": {
        "id": "5wwDJXsLp1cl"
      }
    },
    {
      "cell_type": "markdown",
      "source": [
        "# **Conclusion**"
      ],
      "metadata": {
        "id": "gCX9965dhzqZ"
      }
    },
    {
      "cell_type": "markdown",
      "source": [
        "# **🏏 Final Conclusion on IPL 2024 Bowling Performance 🏏**  \n",
        "\n",
        "This analysis highlights the **top-performing bowlers** across different match phases (Powerplay, Death Overs) and key rivalries between bowlers and batsmen. Additionally, it explores the impact of **venue conditions** on bowling effectiveness.  \n",
        "\n",
        "---\n",
        "\n",
        "## **1️⃣ Powerplay Bowling Analysis (Overs 0-6) 📊**  \n",
        "\n",
        "### **Most Effective Bowlers**  \n",
        "- **1st Inning:**  \n",
        "  - 🏆 **Trent Boult (9 wickets)** – Lethal swing bowler, consistently dismissed openers.  \n",
        "  - 🏆 **Mitchell Starc (7 wickets)** – Used early pace and movement to his advantage.  \n",
        "  - **Sandeep Sharma, N Thushara, and Arshdeep Singh (5 wickets each)** – Effective in picking wickets inside the powerplay.  \n",
        "\n",
        "- **2nd Inning:**  \n",
        "  - 🏆 **Bhuvneshwar Kumar & Pat Cummins (6 wickets each)** – Both highly skilled at controlling new-ball movement.  \n",
        "  - **Ishant Sharma & Yash Dayal (5 wickets each)** – Made crucial breakthroughs in run chases.  \n",
        "\n",
        "### **Venue Impact on Powerplay**  \n",
        "- **Wankhede & Chinnaswamy Stadiums**: High-scoring venues, bowlers with accurate line and length (Bhuvneshwar, Boult) succeeded.  \n",
        "- **Chepauk & Narendra Modi Stadiums**: Spinners like **Chahal & Bishnoi** controlled the powerplay with tight spells.  \n",
        "- **Eden Gardens**: Pacers benefitted from extra bounce, favoring aggressive bowlers like Starc & Harshit Rana.  \n",
        "\n",
        "🔹 **Insight:** Swing bowlers were highly effective in the first six overs, especially in venues with grass or moisture assisting movement.  \n",
        "\n",
        "---\n",
        "\n",
        "## **2️⃣ Death Overs Specialists (Overs 16-20) 🎯**  \n",
        "\n",
        "### **Best Wicket-Takers in the Final Overs**  \n",
        "- **1st Inning:**  \n",
        "  - 🏆 **Harshal Patel (17 wickets)** – Mastered slow deliveries and yorkers.  \n",
        "  - 🏆 **Jasprit Bumrah (11 wickets)** – Consistent death-over specialist.  \n",
        "  - **Avesh Khan (10 wickets), Arshdeep Singh (9 wickets), TU Deshpande & Sandeep Sharma (8 wickets each)**.  \n",
        "\n",
        "- **2nd Inning:**  \n",
        "  - 🏆 **Mukesh Kumar (8 wickets)** – Excelled under pressure while defending totals.  \n",
        "  - 🏆 **T Natarajan, Mohammed Siraj, & Harshit Rana (7 wickets each)** – Skilled at executing yorkers.  \n",
        "  - **G Coetzee, Mitchell Starc, & Yash Thakur (6 wickets each)** – Used pace variations effectively.  \n",
        "\n",
        "### **Venue Impact on Death Overs**  \n",
        "- **Chinnaswamy Stadium (Bangalore)**: Short boundaries resulted in high death-over economy; bowlers like Bumrah & T Natarajan relied on precise execution.  \n",
        "- **Chepauk Stadium (Chennai)**: Slower pitch favored spinners and cutters in the death overs.  \n",
        "- **Narendra Modi Stadium (Ahmedabad)**: Pace-friendly conditions helped Siraj and Natarajan with reverse swing.  \n",
        "\n",
        "🔹 **Insight:** Death-over specialists who mastered yorkers and slow deliveries proved to be the most effective across different conditions.  \n",
        "\n",
        "---\n",
        "\n",
        "## **3️⃣ Repeat Dismissals (Bowler vs. Batter Rivalries) 🔥**  \n",
        "\n",
        "### **Bowlers Who Dismissed the Same Batter Multiple Times (2020-2024)**  \n",
        "- 🏆 **Yuzvendra Chahal vs. Mayank Agarwal (5 dismissals)** – Chahal’s variations consistently troubled Agarwal.  \n",
        "- 🏆 **Deepak Chahar vs. Shubman Gill (5 dismissals)** – Used swing and seam to remove Gill multiple times.  \n",
        "- **Ravi Bishnoi vs. Ishan Kishan & Suryakumar Yadav (4 times each)** – Bishnoi’s googlies troubled Mumbai Indians batters.  \n",
        "- **Mohammed Siraj vs. Prithvi Shaw (4 times)** – Used pace and movement effectively.  \n",
        "- **Kagiso Rabada vs. KL Rahul (4 times)** – Express pace forced mistakes from Rahul.  \n",
        "- **Rashid Khan vs. Shikhar Dhawan (4 times)** – Leg-spin and variations led to multiple dismissals.  \n",
        "\n",
        "🔹 **Insight:** Certain bowlers have developed psychological advantages over key batsmen, using well-planned strategies to dismiss them repeatedly.  \n",
        "\n",
        "---\n",
        "\n",
        "## **4️⃣ Virat Kohli vs. Bowlers in IPL 2024 👑**  \n",
        "\n",
        "### **Bowlers Against Whom Kohli Scored the Most Runs**  \n",
        "- 🏆 **Avesh Khan (47 runs conceded)** – Kohli dominated him with aggressive stroke play.  \n",
        "- 🏆 **Sam Curran (42 runs conceded)** – Took advantage of Curran’s medium pace.  \n",
        "- **Mitchell Starc (40 runs), Noor Ahmad (37 runs), Arshdeep Singh (35 runs)** – Kohli handled top-quality pacers and spinners effectively.  \n",
        "\n",
        "### **Venue Impact on Kohli’s Performance**  \n",
        "- **Chinnaswamy Stadium (Bangalore):** His best performances came here, using short boundaries to score freely.  \n",
        "- **Eden Gardens (Kolkata):** Struggled against extra bounce from pacers.  \n",
        "- **Chepauk Stadium (Chennai):** Used sweep shots effectively against spinners.  \n",
        "\n",
        "🔹 **Insight:** Kohli adapted well to different conditions but was particularly dominant against medium pacers and left-arm spinners.  \n",
        "\n",
        "---\n",
        "\n",
        "## **📌 Final Takeaways & Strategic Recommendations**  \n",
        "\n",
        "✅ **Powerplay bowling success depended on swing-friendly conditions**, with Boult and Starc leading the charts.  \n",
        "✅ **Death-over specialists like Harshal Patel and Bumrah were game-changers**, executing yorkers and slower deliveries to perfection.  \n",
        "✅ **Spinners (Chahal, Bishnoi, Rashid Khan) played a key role in restricting runs & dismissing top-order batters.**  \n",
        "✅ **Some bowlers had a psychological edge over certain batsmen**, repeatedly dismissing them in crucial moments.  \n",
        "✅ **Virat Kohli performed best against medium pacers and left-arm spinners, adapting to various match situations.**  \n",
        "✅ **Venue conditions had a significant impact on bowling effectiveness**, with different pitches favoring swing, spin, or pace.  \n",
        "\n",
        "🔥 **For IPL 2025, teams must prioritize a balanced bowling attack with early powerplay wicket-takers, death-over specialists, and spinners who can control the middle overs.**  \n",
        "\n",
        "🏆 **Strong bowling strategies remain the key to IPL success!** 🏆\n"
      ],
      "metadata": {
        "id": "Fjb1IsQkh3yE"
      }
    }
  ]
}